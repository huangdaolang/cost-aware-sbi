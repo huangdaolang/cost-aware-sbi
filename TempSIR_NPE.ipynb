{
 "cells": [
  {
   "cell_type": "markdown",
   "id": "7dbb6902",
   "metadata": {},
   "source": [
    "# Temporal SIR"
   ]
  },
  {
   "cell_type": "code",
   "execution_count": 68,
   "id": "ed06cb3d",
   "metadata": {},
   "outputs": [
    {
     "name": "stdout",
     "output_type": "stream",
     "text": [
      "The autoreload extension is already loaded. To reload it, use:\n",
      "  %reload_ext autoreload\n"
     ]
    }
   ],
   "source": [
    "import time\n",
    "import numpy as np\n",
    "import torch\n",
    "\n",
    "from sbi import utils as utils\n",
    "from sbi import analysis as analysis\n",
    "from cost_aware_snpe_c import CostAwareSNPE_C\n",
    "from sbi.inference.snpe.snpe_c import SNPE_C\n",
    "from sbi.utils.torchutils import *\n",
    "from sbi.utils import process_prior\n",
    "from sbi.utils.user_input_checks import *\n",
    "from simulators import temporal_sir\n",
    "\n",
    "from hydra import compose, initialize\n",
    "import hydra\n",
    "\n",
    "import gpytorch\n",
    "from gpytorch.models import ExactGP\n",
    "from gpytorch.kernels import ScaleKernel, RBFKernel\n",
    "from gpytorch.means import ConstantMean\n",
    "from gpytorch.distributions import MultivariateNormal\n",
    "from gpytorch.mlls import ExactMarginalLogLikelihood\n",
    "\n",
    "import matplotlib.pyplot as plt\n",
    "import seaborn as sns\n",
    "\n",
    "hydra.core.global_hydra.GlobalHydra.instance().clear()\n",
    "initialize(config_path=\"configs\", version_base=None)\n",
    "cfg = compose(config_name=\"train\")\n",
    "\n",
    "%load_ext autoreload\n",
    "%autoreload 2"
   ]
  },
  {
   "cell_type": "code",
   "execution_count": 69,
   "id": "77dc6ef3",
   "metadata": {},
   "outputs": [],
   "source": [
    "import matplotlib\n",
    "import matplotlib.pyplot as plt\n",
    "matplotlib.rcParams.update({\n",
    "    'font.family' : 'times',\n",
    "    'font.size' : 14.0,\n",
    "    'lines.linewidth' : 2,\n",
    "    'lines.antialiased' : True,\n",
    "    'axes.facecolor': 'fdfdfd',\n",
    "    'axes.edgecolor': '777777',\n",
    "    'axes.linewidth' : 1,\n",
    "    'axes.titlesize' : 'medium',\n",
    "    'axes.labelsize' : 'medium',\n",
    "    'axes.axisbelow' : True,\n",
    "    'xtick.major.size'     : 0,      # major tick size in points\n",
    "    'xtick.minor.size'     : 0,      # minor tick size in points\n",
    "    'xtick.major.pad'      : 6,      # distance to major tick label in points\n",
    "    'xtick.minor.pad'      : 6,      # distance to the minor tick label in points\n",
    "    'xtick.color'          : '333333', # color of the tick labels\n",
    "    'xtick.labelsize'      : 'medium', # fontsize of the tick labels\n",
    "    'xtick.direction'      : 'in',     # direction: in or out\n",
    "    'ytick.major.size'     : 0,      # major tick size in points\n",
    "    'ytick.minor.size'     : 0,      # minor tick size in points\n",
    "    'ytick.major.pad'      : 6,      # distance to major tick label in points\n",
    "    'ytick.minor.pad'      : 6,      # distance to the minor tick label in points\n",
    "    'ytick.color'          : '333333', # color of the tick labels\n",
    "    'ytick.labelsize'      : 'medium', # fontsize of the tick labels\n",
    "    'ytick.direction'      : 'in',     # direction: in or out\n",
    "    'axes.grid' : False,\n",
    "    'grid.alpha' : 0.3,\n",
    "    'grid.linewidth' : 1,\n",
    "    'legend.fancybox' : True,\n",
    "    'legend.fontsize' : 'Small',\n",
    "    'figure.figsize' : (2.5, 2.5),\n",
    "    'figure.facecolor' : '1.0',\n",
    "    'figure.edgecolor' : '0.5',\n",
    "    'hatch.linewidth' : 0.1,\n",
    "    'text.usetex' : False\n",
    "    })\n",
    "\n",
    "color_map = {'green': '#009E60', 'orange': '#C04000',\n",
    "              'blue': '#00416A', 'black':'#3A3B3C',\n",
    "              'purple': '#843B62', 'red': '#C41E3A'}\n",
    "\n",
    "\n",
    "plt.rcParams['text.latex.preamble'] = r'\\usepackage{serif}'"
   ]
  },
  {
   "cell_type": "code",
   "execution_count": 70,
   "id": "5b9f2164",
   "metadata": {},
   "outputs": [],
   "source": [
    "def MMD_unweighted(x, y, lengthscale):\n",
    "    \"\"\" Approximates the squared MMD between samples x_i ~ P and y_i ~ Q\n",
    "    \"\"\"\n",
    "\n",
    "    m = x.shape[0]\n",
    "    n = y.shape[0]\n",
    "\n",
    "    z = torch.cat((x, y), dim=0)\n",
    "\n",
    "    K = kernel_matrix(z, z, lengthscale)\n",
    "\n",
    "    kxx = K[0:m, 0:m]\n",
    "    kyy = K[m:(m + n), m:(m + n)]\n",
    "    kxy = K[0:m, m:(m + n)]\n",
    "\n",
    "    return (1 / m ** 2) * torch.sum(kxx) - (2 / (m * n)) * torch.sum(kxy) + (1 / n ** 2) * torch.sum(kyy)\n",
    "\n",
    "\n",
    "def median_heuristic(y):\n",
    "    a = torch.cdist(y, y)**2\n",
    "    return torch.sqrt(torch.median(a / 2))\n",
    "\n",
    "\n",
    "def kernel_matrix(x, y, l):\n",
    "    d = torch.cdist(x, y)**2\n",
    "\n",
    "    kernel = torch.exp(-(1 / (2 * l ** 2)) * d)\n",
    "\n",
    "    return kernel"
   ]
  },
  {
   "cell_type": "code",
   "execution_count": 71,
   "id": "f456b12e",
   "metadata": {},
   "outputs": [],
   "source": [
    "def calc_acc_prob(gp, likelihood, theta, prior_start, k):\n",
    "\n",
    "    with torch.no_grad(), gpytorch.settings.fast_pred_var():\n",
    "        cost = likelihood(model(theta)).mean\n",
    "\n",
    "        lower_cost = likelihood(model(prior_start)).mean\n",
    "    return (lower_cost ** k) / (cost**k)\n",
    "\n",
    "class GP(ExactGP):\n",
    "    def __init__(self, train_x, train_y, likelihood):\n",
    "        super(GP, self).__init__(train_x, train_y, likelihood)\n",
    "        self.mean_module = ConstantMean()\n",
    "        self.covar_module = ScaleKernel(RBFKernel())\n",
    "\n",
    "    def forward(self, x):\n",
    "        mean_x = self.mean_module(x)\n",
    "        covar_x = self.covar_module(x)\n",
    "        return MultivariateNormal(mean_x, covar_x)"
   ]
  },
  {
   "cell_type": "code",
   "execution_count": 72,
   "id": "a008455c",
   "metadata": {},
   "outputs": [],
   "source": [
    "temp_sir = temporal_sir.TemporalSIR()"
   ]
  },
  {
   "cell_type": "markdown",
   "id": "168526c5",
   "metadata": {},
   "source": [
    "## data generation"
   ]
  },
  {
   "cell_type": "code",
   "execution_count": 73,
   "id": "d9af0cc6",
   "metadata": {},
   "outputs": [],
   "source": [
    "# DON'T NEED TO RUN\n",
    "N = 50000\n",
    "\n",
    "temp_sir_theta_npe_large = temp_sir.sample_theta([N]).reshape(-1, temp_sir.theta_dim)\n",
    "temp_sir_x_npe_large = torch.empty([N, temp_sir.x_dim])\n",
    "for i in range(N):\n",
    "    temp_sir_x_npe_large[i, :] = temp_sir(temp_sir_theta_npe_large[i])\n",
    "\n",
    "torch.save(temp_sir_x_npe_large, \"data/temp_sir_x_npe_large.pt\")\n",
    "torch.save(temp_sir_theta_npe_large, \"data/temp_sir_theta_npe_large.pt\")"
   ]
  },
  {
   "cell_type": "code",
   "execution_count": 182,
   "id": "f892d8e3",
   "metadata": {},
   "outputs": [
    {
     "data": {
      "text/plain": [
       "tensor([  2.0000,   2.0000,   3.0000,   0.0000,   0.0000,   0.0000,   0.0000,\n",
       "          1.0000,   2.0000,   5.0000,  15.0000, 116.4945])"
      ]
     },
     "execution_count": 182,
     "metadata": {},
     "output_type": "execute_result"
    }
   ],
   "source": [
    "# DON'T NEED TO RUN\n",
    "temp_sir_obs_theta = torch.tensor([0.5, 0.5])\n",
    "temp_sir_obs_x = temp_sir(temp_sir_obs_theta)\n",
    "temp_sir_obs_x"
   ]
  },
  {
   "cell_type": "code",
   "execution_count": 37,
   "id": "86633e3b",
   "metadata": {},
   "outputs": [],
   "source": [
    "# DON'T NEED TO RUN\n",
    "torch.save(temp_sir_obs_x, \"data/temp_sir_obs_x.pt\")\n",
    "torch.save(temp_sir_obs_theta, \"data/temp_sir_obs_theta.pt\")"
   ]
  },
  {
   "cell_type": "markdown",
   "id": "3025423c",
   "metadata": {},
   "source": [
    "## Load data"
   ]
  },
  {
   "cell_type": "code",
   "execution_count": 74,
   "id": "c2ec4400",
   "metadata": {},
   "outputs": [],
   "source": [
    "temp_sir_x_npe_large = torch.load(\"data/temp_sir_x_npe_large.pt\")\n",
    "temp_sir_theta_npe_large = torch.load(\"data/temp_sir_theta_npe_large.pt\")\n",
    "\n",
    "temp_sir_obs_x = torch.load(\"data/temp_sir_obs_x.pt\")\n",
    "temp_sir_obs_theta = torch.load(\"data/temp_sir_obs_theta.pt\")"
   ]
  },
  {
   "cell_type": "markdown",
   "id": "342c7fce",
   "metadata": {},
   "source": [
    "## Fit GP"
   ]
  },
  {
   "cell_type": "code",
   "execution_count": 78,
   "id": "a2275d8a",
   "metadata": {},
   "outputs": [],
   "source": [
    "# for gp\n",
    "n_train_pair = 200\n",
    "X = temp_sir_theta_npe_large[:n_train_pair]\n",
    "n_rep = 20\n",
    "\n",
    "times_train = torch.zeros(n_train_pair)\n",
    "\n",
    "for i in range(n_train_pair):\n",
    "    st = time.time()\n",
    "    for _ in range(n_rep):\n",
    "        result = temp_sir(temp_sir_theta_npe_large[i])\n",
    "    et = time.time()\n",
    "    times_train[i] = et - st"
   ]
  },
  {
   "cell_type": "code",
   "execution_count": 123,
   "id": "1c0d4fb8",
   "metadata": {},
   "outputs": [],
   "source": [
    "# save GP training samples\n",
    "torch.save(X, \"data/temp_sir_gp_x.pt\")\n",
    "torch.save(times_train, \"data/temp_sir_gp_y.pt\")"
   ]
  },
  {
   "cell_type": "code",
   "execution_count": 79,
   "id": "3f311377",
   "metadata": {
    "scrolled": true
   },
   "outputs": [
    {
     "name": "stdout",
     "output_type": "stream",
     "text": [
      "Iter 1/100 - Loss: 0.7927663922309875\n",
      "Iter 2/100 - Loss: 0.7572920322418213\n",
      "Iter 3/100 - Loss: 0.7212674617767334\n",
      "Iter 4/100 - Loss: 0.6845076084136963\n",
      "Iter 5/100 - Loss: 0.6471409797668457\n",
      "Iter 6/100 - Loss: 0.6093096733093262\n",
      "Iter 7/100 - Loss: 0.5711219906806946\n",
      "Iter 8/100 - Loss: 0.5325443148612976\n",
      "Iter 9/100 - Loss: 0.49345675110816956\n",
      "Iter 10/100 - Loss: 0.4538450539112091\n",
      "Iter 11/100 - Loss: 0.41375210881233215\n",
      "Iter 12/100 - Loss: 0.37314510345458984\n",
      "Iter 13/100 - Loss: 0.33197879791259766\n",
      "Iter 14/100 - Loss: 0.29035645723342896\n",
      "Iter 15/100 - Loss: 0.248462975025177\n",
      "Iter 16/100 - Loss: 0.20642486214637756\n",
      "Iter 17/100 - Loss: 0.16426323354244232\n",
      "Iter 18/100 - Loss: 0.1219952404499054\n",
      "Iter 19/100 - Loss: 0.07968887686729431\n",
      "Iter 20/100 - Loss: 0.03739463910460472\n",
      "Iter 21/100 - Loss: -0.004891510121524334\n",
      "Iter 22/100 - Loss: -0.04715270921587944\n",
      "Iter 23/100 - Loss: -0.08929107338190079\n",
      "Iter 24/100 - Loss: -0.13118186593055725\n",
      "Iter 25/100 - Loss: -0.17273834347724915\n",
      "Iter 26/100 - Loss: -0.21389953792095184\n",
      "Iter 27/100 - Loss: -0.254587858915329\n",
      "Iter 28/100 - Loss: -0.29473158717155457\n",
      "Iter 29/100 - Loss: -0.33430060744285583\n",
      "Iter 30/100 - Loss: -0.37326422333717346\n",
      "Iter 31/100 - Loss: -0.41151678562164307\n",
      "Iter 32/100 - Loss: -0.448912113904953\n",
      "Iter 33/100 - Loss: -0.4853687286376953\n",
      "Iter 34/100 - Loss: -0.5207424163818359\n",
      "Iter 35/100 - Loss: -0.5548409223556519\n",
      "Iter 36/100 - Loss: -0.5876270532608032\n",
      "Iter 37/100 - Loss: -0.6190078258514404\n",
      "Iter 38/100 - Loss: -0.6488893628120422\n",
      "Iter 39/100 - Loss: -0.677216112613678\n",
      "Iter 40/100 - Loss: -0.7038005590438843\n",
      "Iter 41/100 - Loss: -0.7285651564598083\n",
      "Iter 42/100 - Loss: -0.7513965368270874\n",
      "Iter 43/100 - Loss: -0.7722429633140564\n",
      "Iter 44/100 - Loss: -0.791126012802124\n",
      "Iter 45/100 - Loss: -0.8080043792724609\n",
      "Iter 46/100 - Loss: -0.8228952884674072\n",
      "Iter 47/100 - Loss: -0.8357502222061157\n",
      "Iter 48/100 - Loss: -0.8466190099716187\n",
      "Iter 49/100 - Loss: -0.8555707335472107\n",
      "Iter 50/100 - Loss: -0.8627346158027649\n",
      "Iter 51/100 - Loss: -0.8682096004486084\n",
      "Iter 52/100 - Loss: -0.872130811214447\n",
      "Iter 53/100 - Loss: -0.8746330738067627\n",
      "Iter 54/100 - Loss: -0.8759403228759766\n",
      "Iter 55/100 - Loss: -0.8762452006340027\n",
      "Iter 56/100 - Loss: -0.8757669925689697\n",
      "Iter 57/100 - Loss: -0.8746802806854248\n",
      "Iter 58/100 - Loss: -0.8731844425201416\n",
      "Iter 59/100 - Loss: -0.8714959025382996\n",
      "Iter 60/100 - Loss: -0.8697864413261414\n",
      "Iter 61/100 - Loss: -0.8681885600090027\n",
      "Iter 62/100 - Loss: -0.8668067455291748\n",
      "Iter 63/100 - Loss: -0.8657218217849731\n",
      "Iter 64/100 - Loss: -0.8649798035621643\n",
      "Iter 65/100 - Loss: -0.8646178245544434\n",
      "Iter 66/100 - Loss: -0.8646167516708374\n",
      "Iter 67/100 - Loss: -0.8649358153343201\n",
      "Iter 68/100 - Loss: -0.865526020526886\n",
      "Iter 69/100 - Loss: -0.8663512468338013\n",
      "Iter 70/100 - Loss: -0.8673455119132996\n",
      "Iter 71/100 - Loss: -0.8684305548667908\n",
      "Iter 72/100 - Loss: -0.8695540428161621\n",
      "Iter 73/100 - Loss: -0.8706720471382141\n",
      "Iter 74/100 - Loss: -0.8717373013496399\n",
      "Iter 75/100 - Loss: -0.8727185726165771\n",
      "Iter 76/100 - Loss: -0.8735861778259277\n",
      "Iter 77/100 - Loss: -0.8743306994438171\n",
      "Iter 78/100 - Loss: -0.8749442100524902\n",
      "Iter 79/100 - Loss: -0.875430703163147\n",
      "Iter 80/100 - Loss: -0.8757920265197754\n",
      "Iter 81/100 - Loss: -0.8760434985160828\n",
      "Iter 82/100 - Loss: -0.8761951327323914\n",
      "Iter 83/100 - Loss: -0.8762692809104919\n",
      "Iter 84/100 - Loss: -0.8762796521186829\n",
      "Iter 85/100 - Loss: -0.8762390613555908\n",
      "Iter 86/100 - Loss: -0.8761698007583618\n",
      "Iter 87/100 - Loss: -0.8760803937911987\n",
      "Iter 88/100 - Loss: -0.8759869933128357\n",
      "Iter 89/100 - Loss: -0.8758902549743652\n",
      "Iter 90/100 - Loss: -0.8758103251457214\n",
      "Iter 91/100 - Loss: -0.875739336013794\n",
      "Iter 92/100 - Loss: -0.8756911754608154\n",
      "Iter 93/100 - Loss: -0.8756623268127441\n",
      "Iter 94/100 - Loss: -0.8756517767906189\n",
      "Iter 95/100 - Loss: -0.8756606578826904\n",
      "Iter 96/100 - Loss: -0.8756862878799438\n",
      "Iter 97/100 - Loss: -0.8757265210151672\n",
      "Iter 98/100 - Loss: -0.8757776618003845\n",
      "Iter 99/100 - Loss: -0.875835657119751\n",
      "Iter 100/100 - Loss: -0.8758954405784607\n"
     ]
    }
   ],
   "source": [
    "likelihood = gpytorch.likelihoods.GaussianLikelihood()\n",
    "model = GP(X, times_train, likelihood)\n",
    "model.float()\n",
    "model.train()\n",
    "likelihood.train()\n",
    "\n",
    "optimizer = torch.optim.Adam(model.parameters(), lr=0.1)\n",
    "\n",
    "mll = ExactMarginalLogLikelihood(likelihood, model)\n",
    "\n",
    "training_iterations = 100\n",
    "for i in range(training_iterations):\n",
    "    optimizer.zero_grad()\n",
    "    output = model(X.float())\n",
    "    loss = -mll(output, times_train)\n",
    "    loss.backward()\n",
    "    optimizer.step()\n",
    "    print(f'Iter {i + 1}/{training_iterations} - Loss: {loss.item()}')\n",
    "\n",
    "\n",
    "torch.save({\n",
    "    'model_state_dict': model.state_dict(),\n",
    "    'likelihood_state_dict': likelihood.state_dict()\n",
    "}, 'data/temp_sir_gp.pth')\n"
   ]
  },
  {
   "cell_type": "code",
   "execution_count": 84,
   "id": "52d58f85",
   "metadata": {},
   "outputs": [],
   "source": [
    "model.eval()\n",
    "likelihood.eval()\n",
    "\n",
    "N = 100\n",
    "\n",
    "beta = torch.linspace(0.1, 1, N)\n",
    "beta_fixed = 1\n",
    "\n",
    "\n",
    "gamma_fixed = 0.1\n",
    "gamma = torch.linspace(0.1, 1, N)\n",
    "\n",
    "beta_fixed_combined = beta_fixed * torch.ones_like(gamma)\n",
    "combination_beta_fixed_gamma = torch.stack((beta_fixed_combined, gamma), dim=1)\n",
    "\n",
    "gamma_fixed_combined = gamma_fixed * torch.ones_like(beta)\n",
    "combination_beta_gamma_fixed = torch.stack((beta, gamma_fixed_combined), dim=1)"
   ]
  },
  {
   "cell_type": "code",
   "execution_count": 85,
   "id": "e1e191b6",
   "metadata": {},
   "outputs": [
    {
     "data": {
      "image/png": "[encoded data removed]",
      "text/plain": [
       "<Figure size 360x360 with 1 Axes>"
      ]
     },
     "metadata": {},
     "output_type": "display_data"
    }
   ],
   "source": [
    "times_vs_beta = torch.zeros(N)\n",
    "for i in range(N):\n",
    "    st = time.time()\n",
    "    for _ in range(n_rep):\n",
    "        result = temp_sir(combination_beta_gamma_fixed[i])\n",
    "    et = time.time()\n",
    "    times_vs_beta[i] = (et - st)\n",
    "\n",
    "with torch.no_grad(), gpytorch.settings.fast_pred_var():\n",
    "    observed_pred = likelihood(model(combination_beta_gamma_fixed)).mean\n",
    "\n",
    "plt.figure(figsize=[5,5])\n",
    "plt.scatter(beta, observed_pred, label=\"GP\")\n",
    "plt.scatter(beta, times_vs_beta, label=\"True\")\n",
    "plt.legend()\n",
    "plt.show()"
   ]
  },
  {
   "cell_type": "code",
   "execution_count": 86,
   "id": "09e0ae2f",
   "metadata": {},
   "outputs": [
    {
     "data": {
      "image/png": "[encoded data removed]",
      "text/plain": [
       "<Figure size 360x360 with 1 Axes>"
      ]
     },
     "metadata": {},
     "output_type": "display_data"
    }
   ],
   "source": [
    "times_vs_gamma = torch.zeros(N)\n",
    "for i in range(N):\n",
    "    st = time.time()\n",
    "    for _ in range(n_rep):\n",
    "        result = temp_sir(combination_beta_fixed_gamma[i])\n",
    "    et = time.time()\n",
    "    times_vs_gamma[i] = (et - st)\n",
    "\n",
    "with torch.no_grad(), gpytorch.settings.fast_pred_var():\n",
    "    observed_pred = likelihood(model(combination_beta_fixed_gamma)).mean\n",
    "\n",
    "plt.figure(figsize=[5,5])\n",
    "plt.scatter(gamma, observed_pred, label=\"GP\")\n",
    "plt.scatter(gamma, times_vs_gamma, label=\"True\")\n",
    "plt.legend()\n",
    "plt.show()"
   ]
  },
  {
   "cell_type": "code",
   "execution_count": 124,
   "id": "370c8db5",
   "metadata": {},
   "outputs": [],
   "source": [
    "state_dicts = torch.load('data/temp_sir_gp.pth')\n",
    "\n",
    "X = torch.load(\"data/temp_sir_gp_x.pt\")\n",
    "times_train = torch.load(\"data/temp_sir_gp_y.pt\")\n",
    "\n",
    "likelihood = gpytorch.likelihoods.GaussianLikelihood()\n",
    "model = GP(X, times_train, likelihood)\n",
    "\n",
    "model.load_state_dict(state_dicts['model_state_dict'])\n",
    "likelihood.load_state_dict(state_dicts['likelihood_state_dict'])\n",
    "\n",
    "model.eval()\n",
    "likelihood.eval()\n",
    "\n",
    "prior_start = torch.tensor([0.1, 1.0]).reshape(-1, 2)\n",
    "k = 1\n",
    "\n",
    "num_sim = 5000\n",
    "theta_tilde = torch.zeros([num_sim, 2])\n",
    "count = 0\n",
    "while count < num_sim:\n",
    "    theta = temp_sir.sample_theta([1]).reshape(-1, 2)\n",
    "    if calc_acc_prob(model, likelihood, theta, prior_start, k) > torch.rand(1):\n",
    "        theta_tilde[count] = theta.reshape(-1)\n",
    "        count += 1"
   ]
  },
  {
   "cell_type": "code",
   "execution_count": 125,
   "id": "19a50ce6",
   "metadata": {},
   "outputs": [],
   "source": [
    "w = likelihood(model(theta_tilde)).mean.detach() ** k"
   ]
  },
  {
   "cell_type": "code",
   "execution_count": 126,
   "id": "24318faa",
   "metadata": {},
   "outputs": [],
   "source": [
    "theta_prior = temp_sir.sample_theta([5000]).reshape(-1, 2)"
   ]
  },
  {
   "cell_type": "code",
   "execution_count": 127,
   "id": "affb5ee4",
   "metadata": {},
   "outputs": [
    {
     "data": {
      "image/png": "[encoded data removed]",
      "text/plain": [
       "<Figure size 180x180 with 1 Axes>"
      ]
     },
     "metadata": {},
     "output_type": "display_data"
    }
   ],
   "source": [
    "plt.hist(theta_prior.detach().numpy()[:, 0], bins=10)\n",
    "plt.hist(theta_tilde.detach().numpy()[:, 0], bins=10)\n",
    "plt.show()"
   ]
  },
  {
   "cell_type": "code",
   "execution_count": 128,
   "id": "5965afa7",
   "metadata": {},
   "outputs": [
    {
     "data": {
      "text/plain": [
       "tensor([0.0494], grad_fn=<ViewBackward0>)"
      ]
     },
     "execution_count": 128,
     "metadata": {},
     "output_type": "execute_result"
    }
   ],
   "source": [
    "likelihood(model(torch.tensor([0.1, 1.0]).reshape(1, 2))).mean"
   ]
  },
  {
   "cell_type": "code",
   "execution_count": 129,
   "id": "ee18629a",
   "metadata": {},
   "outputs": [
    {
     "data": {
      "text/plain": [
       "tensor([1.1662], grad_fn=<ViewBackward0>)"
      ]
     },
     "execution_count": 129,
     "metadata": {},
     "output_type": "execute_result"
    }
   ],
   "source": [
    "likelihood(model(torch.tensor([0.5, 0.1]).reshape(1, 2))).mean"
   ]
  },
  {
   "cell_type": "markdown",
   "id": "09f4a0b8",
   "metadata": {},
   "source": [
    "## Train"
   ]
  },
  {
   "cell_type": "code",
   "execution_count": 102,
   "id": "80fa4df8",
   "metadata": {},
   "outputs": [
    {
     "name": "stderr",
     "output_type": "stream",
     "text": [
      "/Users/huangd5/anaconda3/lib/python3.9/site-packages/sbi/utils/sbiutils.py:55: UserWarning: Z-scoring these simulation outputs resulted in {num_unique_z} unique\n",
      "                datapoints. Before z-scoring, it had been {num_unique}. This can occur \n",
      "                due to numerical inaccuracies when the data covers a large range of \n",
      "                values. Consider either setting `z_score_x=False` (but beware that this \n",
      "                can be problematic for training the NN) or exclude outliers from your \n",
      "                dataset. Note: if you have already set `z_score_x=False`, this warning\n",
      "                will still be displayed, but you can ignore it.\n",
      "  warnings.warn(\n"
     ]
    },
    {
     "name": "stdout",
     "output_type": "stream",
     "text": [
      " Neural network successfully converged after 78 epochs."
     ]
    }
   ],
   "source": [
    "# DON'T NEED TO RUN\n",
    "temp_sir_inference_npe_large = SNPE_C()\n",
    "temp_sir_nn_npe_large = temp_sir_inference_npe_large.append_simulations(\n",
    "    temp_sir_theta_npe_large, temp_sir_x_npe_large).train()"
   ]
  },
  {
   "cell_type": "code",
   "execution_count": 183,
   "id": "6df0255b",
   "metadata": {},
   "outputs": [
    {
     "name": "stderr",
     "output_type": "stream",
     "text": [
      "/Users/huangd5/anaconda3/lib/python3.9/site-packages/sbi/utils/user_input_checks.py:76: UserWarning: Prior was provided as a sequence of 2 priors. They will be\n",
      "            interpreted as independent of each other and matched in order to the\n",
      "            components of the parameter.\n",
      "  warnings.warn(\n",
      "/Users/huangd5/anaconda3/lib/python3.9/site-packages/sbi/utils/user_input_checks.py:209: UserWarning: Casting 1D Uniform prior to BoxUniform to match sbi batch requirements.\n",
      "  warnings.warn(\n"
     ]
    },
    {
     "data": {
      "application/vnd.jupyter.widget-view+json": {
       "model_id": "94106ebdab0540cfbe74e5eb2932094a",
       "version_major": 2,
       "version_minor": 0
      },
      "text/plain": [
       "Drawing 1000 posterior samples:   0%|          | 0/1000 [00:00<?, ?it/s]"
      ]
     },
     "metadata": {},
     "output_type": "display_data"
    }
   ],
   "source": [
    "# DON'T NEED TO RUN\n",
    "prior, *_ = process_prior(temp_sir.prior)\n",
    "\n",
    "temp_sir_post_npe_large = temp_sir_inference_npe_large.build_posterior(temp_sir_nn_npe_large, prior=prior)\n",
    "temp_sir_samples_npe_large = temp_sir_post_npe_large.sample((1000,), x=temp_sir_obs_x)"
   ]
  },
  {
   "cell_type": "code",
   "execution_count": 184,
   "id": "55f0d0f0",
   "metadata": {},
   "outputs": [],
   "source": [
    "# DON'T NEED TO RUN\n",
    "torch.save(temp_sir_samples_npe_large, \"data/temp_sir_post_reference.pt\")"
   ]
  },
  {
   "cell_type": "code",
   "execution_count": 185,
   "id": "e200220a",
   "metadata": {},
   "outputs": [],
   "source": [
    "temp_sir_post_reference = torch.load(\"data/temp_sir_post_reference.pt\")"
   ]
  },
  {
   "cell_type": "code",
   "execution_count": 188,
   "id": "b7a7881b",
   "metadata": {},
   "outputs": [
    {
     "name": "stdout",
     "output_type": "stream",
     "text": [
      "NPE MMD mean 0.02 (std 0.01)\n",
      "CA-NPE MMD mean 0.03 (std 0.01)\n",
      "NPE cost mean 537.92 (std 65.20)\n",
      "CA-NPE cost mean 342.77 (std 33.99)\n",
      "Cost saved: 0.36035996675491333(std 0.03769451379776001)\n"
     ]
    }
   ],
   "source": [
    "k = 0.5\n",
    "n_run = 50\n",
    "mmd_npe = torch.zeros([n_run])\n",
    "posterior_samples_npe = torch.zeros([n_run, 1000, 2])\n",
    "cost_npe = torch.zeros([n_run])\n",
    "mmd_canpe = torch.zeros([n_run])\n",
    "posterior_samples_canpe = torch.zeros([n_run, 1000, 2])\n",
    "cost_canpe = torch.zeros([n_run])\n",
    "\n",
    "cost_saved = torch.zeros([n_run])\n",
    "\n",
    "for i in range(n_run):\n",
    "    checkpoint_path = f\"sims/temp_sir/{k}/{i+1}/ckpt.tar\"\n",
    "    checkpoint = torch.load(checkpoint_path, map_location='cpu')\n",
    "\n",
    "    posterior_npe = checkpoint[\"posterior_npe\"]\n",
    "    posterior_canpe = checkpoint[\"posterior_canpe\"]\n",
    "    \n",
    "\n",
    "#     posterior_samples_npe[i] = checkpoint[\"posterior_samples_npe\"]\n",
    "#     posterior_samples_canpe[i] = checkpoint[\"posterior_samples_canpe\"]\n",
    "    \n",
    "    posterior_samples_npe[i] = posterior_npe.sample((1000,), x=temp_sir_obs_x, show_progress_bars=False)\n",
    "    posterior_samples_canpe[i] = posterior_canpe.sample((1000,), x=temp_sir_obs_x, show_progress_bars=False)\n",
    "    \n",
    "    mmd_npe[i] = MMD_unweighted(posterior_samples_npe[i], temp_sir_post_reference, lengthscale=median_heuristic(temp_sir_post_reference))\n",
    "    mmd_canpe[i] = MMD_unweighted(posterior_samples_canpe[i], temp_sir_post_reference, lengthscale=median_heuristic(temp_sir_post_reference))\n",
    "    cost_npe[i] = torch.tensor(checkpoint[\"cost_npe\"])\n",
    "    cost_canpe[i] = torch.tensor(checkpoint[\"cost_canpe\"])\n",
    "    \n",
    "    cost_saved[i] = 1 - cost_canpe[i] / cost_npe[i]\n",
    "    \n",
    "mmd_npe = mmd_npe.detach().numpy() \n",
    "mmd_npe_mean = np.mean(mmd_npe)\n",
    "mmd_npe_std = np.std(mmd_npe)\n",
    "\n",
    "mmd_canpe = mmd_canpe.detach().numpy() \n",
    "mmd_canpe_mean = np.mean(mmd_canpe)\n",
    "mmd_canpe_std = np.std(mmd_canpe)\n",
    "\n",
    "cost_npe = cost_npe.detach().numpy() \n",
    "cost_npe_mean = np.mean(cost_npe)\n",
    "cost_npe_std = np.std(cost_npe)\n",
    "\n",
    "cost_canpe = cost_canpe.detach().numpy() \n",
    "cost_canpe_mean = np.mean(cost_canpe)\n",
    "cost_canpe_std = np.std(cost_canpe)\n",
    "\n",
    "cost_saved = cost_saved.detach().numpy()\n",
    "cost_saved_mean = np.mean(cost_saved)\n",
    "cost_saved_std = np.std(cost_saved)\n",
    "\n",
    "print(f\"NPE MMD mean {mmd_npe_mean:.2f} (std {mmd_npe_std:.2f})\")\n",
    "print(f\"CA-NPE MMD mean {mmd_canpe_mean:.2f} (std {mmd_canpe_std:.2f})\")\n",
    "\n",
    "print(f\"NPE cost mean {cost_npe_mean:.2f} (std {cost_npe_std:.2f})\")\n",
    "print(f\"CA-NPE cost mean {cost_canpe_mean:.2f} (std {cost_canpe_std:.2f})\")\n",
    "\n",
    "print(f\"Cost saved: {cost_saved_mean}(std {cost_saved_std})\")"
   ]
  },
  {
   "cell_type": "code",
   "execution_count": 192,
   "id": "8c7fdb2c",
   "metadata": {},
   "outputs": [
    {
     "name": "stdout",
     "output_type": "stream",
     "text": [
      "NPE MMD mean 0.02 (std 0.01)\n",
      "CA-NPE MMD mean 0.05 (std 0.01)\n",
      "NPE cost mean 494.84 (std 96.63)\n",
      "CA-NPE cost mean 170.36 (std 28.13)\n",
      "Cost saved: 0.653033971786499(std 0.01951533369719982)\n"
     ]
    }
   ],
   "source": [
    "k = 1.0\n",
    "n_run = 50\n",
    "mmd_npe = torch.zeros([n_run])\n",
    "posterior_samples_npe = torch.zeros([n_run, 1000, 2])\n",
    "cost_npe = torch.zeros([n_run])\n",
    "mmd_canpe = torch.zeros([n_run])\n",
    "posterior_samples_canpe = torch.zeros([n_run, 1000, 2])\n",
    "cost_canpe = torch.zeros([n_run])\n",
    "\n",
    "cost_saved = torch.zeros([n_run])\n",
    "\n",
    "\n",
    "for i in range(n_run):\n",
    "    checkpoint_path = f\"sims/temp_sir/{k}/{i+1}/ckpt.tar\"\n",
    "    checkpoint = torch.load(checkpoint_path, map_location='cpu')\n",
    "\n",
    "    posterior_npe = checkpoint[\"posterior_npe\"]\n",
    "    posterior_canpe = checkpoint[\"posterior_canpe\"]\n",
    "    \n",
    "\n",
    "#     posterior_samples_npe[i] = checkpoint[\"posterior_samples_npe\"]\n",
    "#     posterior_samples_canpe[i] = checkpoint[\"posterior_samples_canpe\"]\n",
    "    \n",
    "    posterior_samples_npe[i] = posterior_npe.sample((1000,), x=temp_sir_obs_x, show_progress_bars=False)\n",
    "    posterior_samples_canpe[i] = posterior_canpe.sample((1000,), x=temp_sir_obs_x, show_progress_bars=False)\n",
    "    \n",
    "    mmd_npe[i] = MMD_unweighted(posterior_samples_npe[i], temp_sir_post_reference, lengthscale=median_heuristic(temp_sir_post_reference))\n",
    "    mmd_canpe[i] = MMD_unweighted(posterior_samples_canpe[i], temp_sir_post_reference, lengthscale=median_heuristic(temp_sir_post_reference))\n",
    "    cost_npe[i] = torch.tensor(checkpoint[\"cost_npe\"])\n",
    "    cost_canpe[i] = torch.tensor(checkpoint[\"cost_canpe\"])\n",
    "    \n",
    "    cost_saved[i] = 1 - cost_canpe[i] / cost_npe[i]\n",
    "    \n",
    "mmd_npe = mmd_npe.detach().numpy() \n",
    "mmd_npe_mean = np.mean(mmd_npe)\n",
    "mmd_npe_std = np.std(mmd_npe)\n",
    "\n",
    "mmd_canpe = mmd_canpe.detach().numpy() \n",
    "mmd_canpe_mean = np.mean(mmd_canpe)\n",
    "mmd_canpe_std = np.std(mmd_canpe)\n",
    "\n",
    "cost_npe = cost_npe.detach().numpy() \n",
    "cost_npe_mean = np.mean(cost_npe)\n",
    "cost_npe_std = np.std(cost_npe)\n",
    "\n",
    "cost_canpe = cost_canpe.detach().numpy() \n",
    "cost_canpe_mean = np.mean(cost_canpe)\n",
    "cost_canpe_std = np.std(cost_canpe)\n",
    "\n",
    "cost_saved = cost_saved.detach().numpy()\n",
    "cost_saved_mean = np.mean(cost_saved)\n",
    "cost_saved_std = np.std(cost_saved)\n",
    "\n",
    "print(f\"NPE MMD mean {mmd_npe_mean:.2f} (std {mmd_npe_std:.2f})\")\n",
    "print(f\"CA-NPE MMD mean {mmd_canpe_mean:.2f} (std {mmd_canpe_std:.2f})\")\n",
    "\n",
    "print(f\"NPE cost mean {cost_npe_mean:.2f} (std {cost_npe_std:.2f})\")\n",
    "print(f\"CA-NPE cost mean {cost_canpe_mean:.2f} (std {cost_canpe_std:.2f})\")\n",
    "\n",
    "print(f\"Cost saved: {cost_saved_mean}(std {cost_saved_std})\")"
   ]
  },
  {
   "cell_type": "code",
   "execution_count": 195,
   "id": "d1bed136",
   "metadata": {},
   "outputs": [
    {
     "name": "stdout",
     "output_type": "stream",
     "text": [
      "NPE MMD mean 0.02 (std 0.01)\n",
      "CA-NPE MMD mean 0.05 (std 0.02)\n",
      "NPE cost mean 446.10 (std 119.01)\n",
      "CA-NPE cost mean 65.36 (std 13.42)\n",
      "Cost saved: 0.8509341478347778(std 0.012751813046634197)\n"
     ]
    }
   ],
   "source": [
    "k = 2.0\n",
    "n_run = 100\n",
    "mmd_npe = torch.zeros([n_run])\n",
    "posterior_samples_npe = torch.zeros([n_run, 1000, 2])\n",
    "cost_npe = torch.zeros([n_run])\n",
    "mmd_canpe = torch.zeros([n_run])\n",
    "posterior_samples_canpe = torch.zeros([n_run, 1000, 2])\n",
    "cost_canpe = torch.zeros([n_run])\n",
    "\n",
    "cost_saved = torch.zeros([n_run])\n",
    "\n",
    "\n",
    "for i in range(n_run):\n",
    "    checkpoint_path = f\"sims/temp_sir/{k}/{i+1}/ckpt.tar\"\n",
    "    checkpoint = torch.load(checkpoint_path, map_location='cpu')\n",
    "\n",
    "    posterior_npe = checkpoint[\"posterior_npe\"]\n",
    "    posterior_canpe = checkpoint[\"posterior_canpe\"]\n",
    "    \n",
    "\n",
    "#     posterior_samples_npe[i] = checkpoint[\"posterior_samples_npe\"]\n",
    "#     posterior_samples_canpe[i] = checkpoint[\"posterior_samples_canpe\"]\n",
    "    \n",
    "    posterior_samples_npe[i] = posterior_npe.sample((1000,), x=temp_sir_obs_x, show_progress_bars=False)\n",
    "    posterior_samples_canpe[i] = posterior_canpe.sample((1000,), x=temp_sir_obs_x, show_progress_bars=False)\n",
    "    \n",
    "    mmd_npe[i] = MMD_unweighted(posterior_samples_npe[i], temp_sir_post_reference, lengthscale=median_heuristic(temp_sir_post_reference))\n",
    "    mmd_canpe[i] = MMD_unweighted(posterior_samples_canpe[i], temp_sir_post_reference, lengthscale=median_heuristic(temp_sir_post_reference))\n",
    "    cost_npe[i] = torch.tensor(checkpoint[\"cost_npe\"])\n",
    "    cost_canpe[i] = torch.tensor(checkpoint[\"cost_canpe\"])\n",
    "    \n",
    "    cost_saved[i] = 1 - cost_canpe[i] / cost_npe[i]\n",
    "    \n",
    "mmd_npe = mmd_npe.detach().numpy() \n",
    "mmd_npe_mean = np.mean(mmd_npe)\n",
    "mmd_npe_std = np.std(mmd_npe)\n",
    "\n",
    "mmd_canpe = mmd_canpe.detach().numpy() \n",
    "mmd_canpe_mean = np.mean(mmd_canpe)\n",
    "mmd_canpe_std = np.std(mmd_canpe)\n",
    "\n",
    "cost_npe = cost_npe.detach().numpy() \n",
    "cost_npe_mean = np.mean(cost_npe)\n",
    "cost_npe_std = np.std(cost_npe)\n",
    "\n",
    "cost_canpe = cost_canpe.detach().numpy() \n",
    "cost_canpe_mean = np.mean(cost_canpe)\n",
    "cost_canpe_std = np.std(cost_canpe)\n",
    "\n",
    "cost_saved = cost_saved.detach().numpy()\n",
    "cost_saved_mean = np.mean(cost_saved)\n",
    "cost_saved_std = np.std(cost_saved)\n",
    "\n",
    "print(f\"NPE MMD mean {mmd_npe_mean:.2f} (std {mmd_npe_std:.2f})\")\n",
    "print(f\"CA-NPE MMD mean {mmd_canpe_mean:.2f} (std {mmd_canpe_std:.2f})\")\n",
    "\n",
    "print(f\"NPE cost mean {cost_npe_mean:.2f} (std {cost_npe_std:.2f})\")\n",
    "print(f\"CA-NPE cost mean {cost_canpe_mean:.2f} (std {cost_canpe_std:.2f})\")\n",
    "\n",
    "print(f\"Cost saved: {cost_saved_mean}(std {cost_saved_std})\")"
   ]
  },
  {
   "cell_type": "code",
   "execution_count": 147,
   "id": "87f82ebc",
   "metadata": {},
   "outputs": [
    {
     "data": {
      "image/png": "[encoded data removed]",
      "text/plain": [
       "<Figure size 936x360 with 2 Axes>"
      ]
     },
     "metadata": {},
     "output_type": "display_data"
    }
   ],
   "source": [
    "seed = 4\n",
    "plt.figure(figsize=[13,5])\n",
    "plt.subplot(1, 2, 1)\n",
    "plt.xlim(0, 1)\n",
    "sns.kdeplot(temp_sir_post_reference[:,0], color = \"C1\", linewidth = 2, linestyle = \"solid\", label = \"NPE (reference)\")\n",
    "sns.kdeplot(posterior_samples_canpe[seed,:,0], color = \"C2\", linewidth = 2, linestyle = \"solid\", label = \"CA-NPE\")\n",
    "sns.kdeplot(posterior_samples_npe[seed,:,0], color = \"C4\", linewidth = 2, linestyle = \"solid\", label = \"NPE\")\n",
    "plt.axvline(x=temp_sir_obs_theta.detach().numpy()[0], color='r', linestyle='--', linewidth=2, label='$\\\\theta_{true}$')\n",
    "\n",
    "plt.xlabel(\"$\\\\beta$\", fontsize = 20)\n",
    "plt.ylabel(\"Density\", fontsize=20)\n",
    "# plt.title(f\"MMD:{mmd[seed]:.2f}\")\n",
    "\n",
    "plt.subplot(1, 2, 2)\n",
    "plt.xlim(0, 1)\n",
    "sns.kdeplot(temp_sir_post_reference[:,1], color = \"C1\", linewidth = 2, linestyle = \"solid\", label = \"NPE (reference)\")\n",
    "sns.kdeplot(posterior_samples_canpe[seed,:,0], color = \"C2\", linewidth = 2, linestyle = \"solid\", label = \"CA-NPE\")\n",
    "sns.kdeplot(posterior_samples_npe[seed,:,0], color = \"C4\", linewidth = 2, linestyle = \"solid\", label = \"NPE\")\n",
    "plt.axvline(x=temp_sir_obs_theta.detach().numpy()[1], color='r', linestyle='--', linewidth=2, label='$\\\\theta_{true}$')\n",
    "plt.legend(fontsize=18, loc=1)\n",
    "plt.xlabel(\"$\\\\gamma$\", fontsize = 20)\n",
    "plt.ylabel(\"Density\", fontsize=20)\n",
    "\n",
    "plt.show()"
   ]
  },
  {
   "cell_type": "code",
   "execution_count": 158,
   "id": "95f05e0e",
   "metadata": {},
   "outputs": [
    {
     "data": {
      "text/plain": [
       "torch.Size([12])"
      ]
     },
     "execution_count": 158,
     "metadata": {},
     "output_type": "execute_result"
    }
   ],
   "source": [
    "temp_sir_obs_x.shape"
   ]
  },
  {
   "cell_type": "code",
   "execution_count": 170,
   "id": "97ec5b46",
   "metadata": {},
   "outputs": [
    {
     "data": {
      "text/plain": [
       "tensor([3.5765, 4.6044])"
      ]
     },
     "execution_count": 170,
     "metadata": {},
     "output_type": "execute_result"
    }
   ],
   "source": [
    "temp_sir_post_npe_large.log_prob(theta=temp_sir_post_reference[1:3].reshape(2,2), x=temp_sir_obs_x.reshape(1, -1))"
   ]
  },
  {
   "cell_type": "markdown",
   "id": "2f9b3d3f",
   "metadata": {},
   "source": [
    "# Figure 1"
   ]
  },
  {
   "cell_type": "code",
   "execution_count": 178,
   "id": "10ffa338",
   "metadata": {},
   "outputs": [],
   "source": [
    "N = 20\n",
    "n_rep = 50\n",
    "\n",
    "beta_range = np.linspace(0, 1, N)\n",
    "gamma_range = np.linspace(0, 1, N)\n",
    "\n",
    "beta_grid, gamma_grid = np.meshgrid(beta_range, gamma_range)\n",
    "theta_grid = np.hstack((beta_grid.reshape(-1, 1), gamma_grid.reshape(-1, 1)))\n",
    "\n",
    "cost_real = np.zeros([N, N])"
   ]
  },
  {
   "cell_type": "code",
   "execution_count": 179,
   "id": "5a877a12",
   "metadata": {},
   "outputs": [
    {
     "name": "stdout",
     "output_type": "stream",
     "text": [
      "0\n",
      "1\n",
      "2\n",
      "3\n",
      "4\n",
      "5\n",
      "6\n",
      "7\n",
      "8\n",
      "9\n",
      "10\n",
      "11\n",
      "12\n",
      "13\n",
      "14\n",
      "15\n",
      "16\n",
      "17\n",
      "18\n",
      "19\n"
     ]
    }
   ],
   "source": [
    "for i in range(N):\n",
    "    for j in range(N):\n",
    "        st = time.time()\n",
    "        for _ in range(n_rep):\n",
    "            result = temp_sir(torch.tensor([beta_range[i], gamma_range[j]]))\n",
    "        et = time.time()\n",
    "        cost_real[i, j] = (et - st) / n_rep\n",
    "    print(i)"
   ]
  },
  {
   "cell_type": "code",
   "execution_count": 180,
   "id": "6f27c435",
   "metadata": {},
   "outputs": [],
   "source": [
    "np.save(\"cost.npy\", cost_real)"
   ]
  },
  {
   "cell_type": "code",
   "execution_count": 181,
   "id": "aefba890",
   "metadata": {},
   "outputs": [
    {
     "data": {
      "image/png": "[encoded data removed]",
      "text/plain": [
       "<Figure size 540x432 with 2 Axes>"
      ]
     },
     "metadata": {},
     "output_type": "display_data"
    }
   ],
   "source": [
    "beta_range = np.linspace(0, 1, N)\n",
    "gamma_range = np.linspace(0, 1, N)\n",
    "sns.set(style=\"white\")\n",
    "\n",
    "plt.figure(figsize=(7.5, 6))\n",
    "sns.heatmap(cost_real.T, xticklabels=np.round(beta_range, 1), yticklabels=np.round(gamma_range, 1), annot=False, fmt=\".2f\", cmap='Reds').invert_yaxis()\n",
    "# plt.title('Cost Heatmap by $\\\\beta$ and $\\\\gamma$', size=25)\n",
    "plt.xlabel('$\\\\theta_1$', size=20)\n",
    "plt.ylabel('$\\\\theta_2$', size=20)\n",
    "plt.xticks(fontsize=15)\n",
    "plt.yticks(fontsize=15)\n",
    "plt.show()"
   ]
  },
  {
   "cell_type": "code",
   "execution_count": null,
   "id": "dd0476ee",
   "metadata": {},
   "outputs": [],
   "source": []
  }
 ],
 "metadata": {
  "kernelspec": {
   "display_name": "Python 3 (ipykernel)",
   "language": "python",
   "name": "python3"
  },
  "language_info": {
   "codemirror_mode": {
    "name": "ipython",
    "version": 3
   },
   "file_extension": ".py",
   "mimetype": "text/x-python",
   "name": "python",
   "nbconvert_exporter": "python",
   "pygments_lexer": "ipython3",
   "version": "3.9.12"
  }
 },
 "nbformat": 4,
 "nbformat_minor": 5
}
