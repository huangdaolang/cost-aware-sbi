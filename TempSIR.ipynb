{
 "cells": [
  {
   "cell_type": "code",
   "execution_count": 1,
   "id": "ed06cb3d",
   "metadata": {},
   "outputs": [],
   "source": [
    "import time\n",
    "import numpy as np\n",
    "import torch\n",
    "\n",
    "from sbi import utils as utils\n",
    "from cost_aware_snpe_c import CostAwareSNPE_C\n",
    "from sbi.inference.snpe.snpe_c import SNPE_C\n",
    "from sbi.utils.torchutils import *\n",
    "from sbi.utils import process_prior\n",
    "from sbi.utils.user_input_checks import *\n",
    "from simulators import temporal_sir\n",
    "\n",
    "from hydra import compose, initialize\n",
    "import hydra\n",
    "\n",
    "import gpytorch\n",
    "from gpytorch.models import ExactGP\n",
    "from gpytorch.kernels import ScaleKernel, RBFKernel\n",
    "from gpytorch.means import ConstantMean\n",
    "from gpytorch.distributions import MultivariateNormal\n",
    "from gpytorch.mlls import ExactMarginalLogLikelihood\n",
    "\n",
    "from sklearn.model_selection import KFold, cross_val_score\n",
    "from sklearn.neural_network import MLPClassifier\n",
    "\n",
    "import matplotlib\n",
    "import matplotlib.pyplot as plt\n",
    "import seaborn as sns\n",
    "from scipy import stats\n",
    "\n",
    "hydra.core.global_hydra.GlobalHydra.instance().clear()\n",
    "initialize(config_path=\"configs\", version_base=None)\n",
    "cfg = compose(config_name=\"train\")\n",
    "\n",
    "%load_ext autoreload\n",
    "%autoreload 2\n",
    "\n",
    "import warnings\n",
    "warnings.filterwarnings('ignore')"
   ]
  },
  {
   "cell_type": "code",
   "execution_count": 2,
   "id": "5b9f2164",
   "metadata": {},
   "outputs": [],
   "source": [
    "def MMD_unweighted(x, y, lengthscale):\n",
    "    \"\"\" Approximates the squared MMD between samples x_i ~ P and y_i ~ Q\n",
    "    \"\"\"\n",
    "\n",
    "    m = x.shape[0]\n",
    "    n = y.shape[0]\n",
    "\n",
    "    z = torch.cat((x, y), dim=0)\n",
    "\n",
    "    K = kernel_matrix(z, z, lengthscale)\n",
    "\n",
    "    kxx = K[0:m, 0:m]\n",
    "    kyy = K[m:(m + n), m:(m + n)]\n",
    "    kxy = K[0:m, m:(m + n)]\n",
    "\n",
    "    return (1 / m ** 2) * torch.sum(kxx) - (2 / (m * n)) * torch.sum(kxy) + (1 / n ** 2) * torch.sum(kyy)\n",
    "\n",
    "\n",
    "def median_heuristic(y):\n",
    "    a = torch.cdist(y, y)**2\n",
    "    return torch.sqrt(torch.median(a / 2))\n",
    "\n",
    "\n",
    "def kernel_matrix(x, y, l):\n",
    "    d = torch.cdist(x, y)**2\n",
    "\n",
    "    kernel = torch.exp(-(1 / (2 * l ** 2)) * d)\n",
    "\n",
    "    return kernel"
   ]
  },
  {
   "cell_type": "code",
   "execution_count": 4,
   "id": "e08982ac-5f61-46b2-a084-c2d020fce456",
   "metadata": {},
   "outputs": [],
   "source": [
    "def c2st(\n",
    "    X: torch.Tensor,\n",
    "    Y: torch.Tensor,\n",
    "    seed: int = 1,\n",
    "    n_folds: int = 5,\n",
    "    scoring: str = \"accuracy\",\n",
    "    z_score: bool = True,\n",
    "    noise_scale: Optional[float] = None,\n",
    ") -> torch.Tensor:\n",
    "    \"\"\"Classifier-based 2-sample test returning accuracy\n",
    "\n",
    "    Trains classifiers with N-fold cross-validation [1]. Scikit learn MLPClassifier are\n",
    "    used, with 2 hidden layers of 10x dim each, where dim is the dimensionality of the\n",
    "    samples X and Y.\n",
    "\n",
    "    Args:\n",
    "        X: Sample 1\n",
    "        Y: Sample 2\n",
    "        seed: Seed for sklearn\n",
    "        n_folds: Number of folds\n",
    "        z_score: Z-scoring using X\n",
    "        noise_scale: If passed, will add Gaussian noise with std noise_scale to samples\n",
    "\n",
    "    References:\n",
    "        [1]: https://scikit-learn.org/stable/modules/cross_validation.html\n",
    "    \"\"\"\n",
    "    if z_score:\n",
    "        X_mean = torch.mean(X, dim=0)\n",
    "        X_std = torch.std(X, dim=0)\n",
    "        X = (X - X_mean) / X_std\n",
    "        Y = (Y - X_mean) / X_std\n",
    "\n",
    "    if noise_scale is not None:\n",
    "        X += noise_scale * torch.randn(X.shape)\n",
    "        Y += noise_scale * torch.randn(Y.shape)\n",
    "\n",
    "    X = X.cpu().numpy()\n",
    "    Y = Y.cpu().numpy()\n",
    "\n",
    "    ndim = X.shape[1]\n",
    "\n",
    "    clf = MLPClassifier(\n",
    "        activation=\"relu\",\n",
    "        hidden_layer_sizes=(10 * ndim, 10 * ndim),\n",
    "        max_iter=10000,\n",
    "        solver=\"adam\",\n",
    "        random_state=seed,\n",
    "    )\n",
    "\n",
    "    data = np.concatenate((X, Y))\n",
    "    target = np.concatenate(\n",
    "        (\n",
    "            np.zeros((X.shape[0],)),\n",
    "            np.ones((Y.shape[0],)),\n",
    "        )\n",
    "    )\n",
    "\n",
    "    shuffle = KFold(n_splits=n_folds, shuffle=True, random_state=seed)\n",
    "    scores = cross_val_score(clf, data, target, cv=shuffle, scoring=scoring)\n",
    "\n",
    "    scores = np.asarray(np.mean(scores)).astype(np.float32)\n",
    "    return torch.from_numpy(np.atleast_1d(scores))"
   ]
  },
  {
   "cell_type": "code",
   "execution_count": 5,
   "id": "8e7c1b92-30fb-4605-9fa4-1579445801da",
   "metadata": {},
   "outputs": [],
   "source": [
    "def compute_ks_scores(true_samples, estimated_samples):\n",
    "    \"\"\"\n",
    "    Compute KS test scores between true and estimated posterior samples.\n",
    "    \n",
    "    Parameters:\n",
    "    -----------\n",
    "    true_samples : numpy.ndarray\n",
    "        Samples from the true posterior, shape [n_samples, n_dim]\n",
    "    estimated_samples : numpy.ndarray\n",
    "        Samples from the estimated posterior, shape [n_samples, n_dim]\n",
    "        \n",
    "    Returns:\n",
    "    --------\n",
    "    list of floats\n",
    "        KS test statistic for each dimension\n",
    "    list of floats\n",
    "        p-values for each KS test (optional, can be ignored for SBI evaluation)\n",
    "    \"\"\"\n",
    "    \n",
    "    n_dims = true_samples.shape[1]\n",
    "    ks_stats = []\n",
    "    \n",
    "    # Compute KS test for each dimension\n",
    "    for dim in range(n_dims):\n",
    "        ks_stat, p_value = stats.ks_2samp(\n",
    "            true_samples[:, dim],\n",
    "            estimated_samples[:, dim]\n",
    "        )\n",
    "        ks_stats.append(ks_stat)\n",
    "\n",
    "    return np.array(ks_stats)"
   ]
  },
  {
   "cell_type": "code",
   "execution_count": 3,
   "id": "f456b12e",
   "metadata": {},
   "outputs": [],
   "source": [
    "def calc_acc_prob(gp, likelihood, theta, prior_start, k):\n",
    "\n",
    "    with torch.no_grad(), gpytorch.settings.fast_pred_var():\n",
    "        cost = likelihood(model(theta)).mean\n",
    "\n",
    "        lower_cost = likelihood(model(prior_start)).mean\n",
    "    return (lower_cost ** k) / (cost**k)\n",
    "\n",
    "class GP(ExactGP):\n",
    "    def __init__(self, train_x, train_y, likelihood):\n",
    "        super(GP, self).__init__(train_x, train_y, likelihood)\n",
    "        self.mean_module = ConstantMean()\n",
    "        self.covar_module = ScaleKernel(RBFKernel())\n",
    "\n",
    "    def forward(self, x):\n",
    "        mean_x = self.mean_module(x)\n",
    "        covar_x = self.covar_module(x)\n",
    "        return MultivariateNormal(mean_x, covar_x)"
   ]
  },
  {
   "cell_type": "markdown",
   "id": "a0cf3641-c0ee-451a-8cb9-4aa0667e103e",
   "metadata": {},
   "source": [
    "# Temporal SIR"
   ]
  },
  {
   "cell_type": "code",
   "execution_count": 6,
   "id": "a008455c",
   "metadata": {},
   "outputs": [],
   "source": [
    "temp_sir = temporal_sir.TemporalSIR()"
   ]
  },
  {
   "cell_type": "markdown",
   "id": "168526c5",
   "metadata": {},
   "source": [
    "## Data generation"
   ]
  },
  {
   "cell_type": "code",
   "execution_count": null,
   "id": "d9af0cc6",
   "metadata": {},
   "outputs": [],
   "source": [
    "# DON'T NEED TO RUN AGAIN IF YOU ALREADY GENERATED THE REFERENCE DATA\n",
    "N = 50000\n",
    "\n",
    "temp_sir_theta_npe_large = temp_sir.sample_theta([N]).reshape(-1, temp_sir.theta_dim)\n",
    "temp_sir_x_npe_large = torch.empty([N, temp_sir.x_dim])\n",
    "for i in range(N):\n",
    "    temp_sir_x_npe_large[i, :] = temp_sir(temp_sir_theta_npe_large[i])\n",
    "\n",
    "temp_sir_obs_theta = torch.tensor([0.5, 0.5])\n",
    "temp_sir_obs_x = temp_sir(temp_sir_obs_theta)\n",
    "\n",
    "torch.save(temp_sir_x_npe_large, \"data/temp_sir_x_npe_large.pt\")\n",
    "torch.save(temp_sir_theta_npe_large, \"data/temp_sir_theta_npe_large.pt\")\n",
    "torch.save(temp_sir_obs_x, \"data/temp_sir_obs_x.pt\")\n",
    "torch.save(temp_sir_obs_theta, \"data/temp_sir_obs_theta.pt\")"
   ]
  },
  {
   "cell_type": "markdown",
   "id": "3025423c",
   "metadata": {},
   "source": [
    "## Load data"
   ]
  },
  {
   "cell_type": "code",
   "execution_count": 7,
   "id": "c2ec4400",
   "metadata": {},
   "outputs": [],
   "source": [
    "temp_sir_x_npe_large = torch.load(\"data_/temp_sir_x_npe_large.pt\")\n",
    "temp_sir_theta_npe_large = torch.load(\"data_/temp_sir_theta_npe_large.pt\")\n",
    "\n",
    "temp_sir_obs_x = torch.load(\"data_/temp_sir_obs_x.pt\")\n",
    "temp_sir_obs_theta = torch.load(\"data_/temp_sir_obs_theta.pt\")"
   ]
  },
  {
   "cell_type": "markdown",
   "id": "342c7fce",
   "metadata": {},
   "source": [
    "## Fit GP"
   ]
  },
  {
   "cell_type": "code",
   "execution_count": 373,
   "id": "894b0c0e-0cc8-4137-af56-51c53359f91b",
   "metadata": {},
   "outputs": [],
   "source": [
    "n_train_pair = 200 # number of pairs used to fit GP\n",
    "n_rep = 50 # number of repeats to get the average cost"
   ]
  },
  {
   "cell_type": "code",
   "execution_count": 374,
   "id": "a2275d8a",
   "metadata": {},
   "outputs": [],
   "source": [
    "X = temp_sir_theta_npe_large[:n_train_pair]\n",
    "\n",
    "times_train = torch.zeros(n_train_pair)\n",
    "\n",
    "for i in range(n_train_pair):\n",
    "    st = time.time()\n",
    "    for _ in range(n_rep):\n",
    "        result = temp_sir(temp_sir_theta_npe_large[i])\n",
    "    et = time.time()\n",
    "    times_train[i] = (et - st) / n_rep\n",
    "\n",
    "# save GP training samples\n",
    "torch.save(X, \"data/temp_sir_gp_x.pt\")\n",
    "torch.save(times_train, \"data/temp_sir_gp_y.pt\")"
   ]
  },
  {
   "cell_type": "code",
   "execution_count": 13,
   "id": "1464caf7-6f2d-48a8-a292-3d7c7b65928a",
   "metadata": {},
   "outputs": [],
   "source": [
    "X = torch.load(\"data/temp_sir_gp_x_200.pt\")\n",
    "times_train = torch.load(\"data/temp_sir_gp_y_200.pt\")"
   ]
  },
  {
   "cell_type": "code",
   "execution_count": 427,
   "id": "3f311377",
   "metadata": {
    "scrolled": true
   },
   "outputs": [
    {
     "name": "stdout",
     "output_type": "stream",
     "text": [
      "Iter 1/500 - Loss: 0.7709760069847107\n",
      "Iter 2/500 - Loss: 0.7329142689704895\n",
      "Iter 3/500 - Loss: 0.6941967606544495\n",
      "Iter 4/500 - Loss: 0.6548470854759216\n",
      "Iter 5/500 - Loss: 0.6148707866668701\n",
      "Iter 6/500 - Loss: 0.574237048625946\n",
      "Iter 7/500 - Loss: 0.5329521894454956\n",
      "Iter 8/500 - Loss: 0.4910336434841156\n",
      "Iter 9/500 - Loss: 0.44848141074180603\n",
      "Iter 10/500 - Loss: 0.4052927792072296\n",
      "Iter 11/500 - Loss: 0.3614857494831085\n",
      "Iter 12/500 - Loss: 0.31708428263664246\n",
      "Iter 13/500 - Loss: 0.27210015058517456\n",
      "Iter 14/500 - Loss: 0.22654587030410767\n",
      "Iter 15/500 - Loss: 0.18045173585414886\n",
      "Iter 16/500 - Loss: 0.13384605944156647\n",
      "Iter 17/500 - Loss: 0.08674430847167969\n",
      "Iter 18/500 - Loss: 0.03917381167411804\n",
      "Iter 19/500 - Loss: -0.008829726837575436\n",
      "Iter 20/500 - Loss: -0.05724700912833214\n",
      "Iter 21/500 - Loss: -0.10605140775442123\n",
      "Iter 22/500 - Loss: -0.15520629286766052\n",
      "Iter 23/500 - Loss: -0.20469391345977783\n",
      "Iter 24/500 - Loss: -0.2544826567173004\n",
      "Iter 25/500 - Loss: -0.3045424520969391\n",
      "Iter 26/500 - Loss: -0.35485517978668213\n",
      "Iter 27/500 - Loss: -0.4053836762905121\n",
      "Iter 28/500 - Loss: -0.45611366629600525\n",
      "Iter 29/500 - Loss: -0.5070089101791382\n",
      "Iter 30/500 - Loss: -0.5580551624298096\n",
      "Iter 31/500 - Loss: -0.6092177629470825\n",
      "Iter 32/500 - Loss: -0.6604827046394348\n",
      "Iter 33/500 - Loss: -0.7118179798126221\n",
      "Iter 34/500 - Loss: -0.7632037997245789\n",
      "Iter 35/500 - Loss: -0.8146207332611084\n",
      "Iter 36/500 - Loss: -0.8660379648208618\n",
      "Iter 37/500 - Loss: -0.9174354076385498\n",
      "Iter 38/500 - Loss: -0.9687943458557129\n",
      "Iter 39/500 - Loss: -1.0200906991958618\n",
      "Iter 40/500 - Loss: -1.071298599243164\n",
      "Iter 41/500 - Loss: -1.12239408493042\n",
      "Iter 42/500 - Loss: -1.173352837562561\n",
      "Iter 43/500 - Loss: -1.2241435050964355\n",
      "Iter 44/500 - Loss: -1.2747528553009033\n",
      "Iter 45/500 - Loss: -1.3252041339874268\n",
      "Iter 46/500 - Loss: -1.3753998279571533\n",
      "Iter 47/500 - Loss: -1.4253277778625488\n",
      "Iter 48/500 - Loss: -1.4750311374664307\n",
      "Iter 49/500 - Loss: -1.5244003534317017\n",
      "Iter 50/500 - Loss: -1.573461651802063\n",
      "Iter 51/500 - Loss: -1.6222097873687744\n",
      "Iter 52/500 - Loss: -1.6705578565597534\n",
      "Iter 53/500 - Loss: -1.7185485363006592\n",
      "Iter 54/500 - Loss: -1.7661316394805908\n",
      "Iter 55/500 - Loss: -1.813254714012146\n",
      "Iter 56/500 - Loss: -1.8599450588226318\n",
      "Iter 57/500 - Loss: -1.9061245918273926\n",
      "Iter 58/500 - Loss: -1.951776146888733\n",
      "Iter 59/500 - Loss: -1.996890902519226\n",
      "Iter 60/500 - Loss: -2.0414044857025146\n",
      "Iter 61/500 - Loss: -2.0853323936462402\n",
      "Iter 62/500 - Loss: -2.128657817840576\n",
      "Iter 63/500 - Loss: -2.1714038848876953\n",
      "Iter 64/500 - Loss: -2.2136449813842773\n",
      "Iter 65/500 - Loss: -2.2554798126220703\n",
      "Iter 66/500 - Loss: -2.2971279621124268\n",
      "Iter 67/500 - Loss: -2.338844060897827\n",
      "Iter 68/500 - Loss: -2.380971908569336\n",
      "Iter 69/500 - Loss: -2.423752784729004\n",
      "Iter 70/500 - Loss: -2.467142343521118\n",
      "Iter 71/500 - Loss: -2.510603904724121\n",
      "Iter 72/500 - Loss: -2.55318021774292\n",
      "Iter 73/500 - Loss: -2.59383487701416\n",
      "Iter 74/500 - Loss: -2.6319730281829834\n",
      "Iter 75/500 - Loss: -2.6676247119903564\n",
      "Iter 76/500 - Loss: -2.701230525970459\n",
      "Iter 77/500 - Loss: -2.7333617210388184\n",
      "Iter 78/500 - Loss: -2.764552116394043\n",
      "Iter 79/500 - Loss: -2.7951760292053223\n",
      "Iter 80/500 - Loss: -2.825396776199341\n",
      "Iter 81/500 - Loss: -2.8551809787750244\n",
      "Iter 82/500 - Loss: -2.884350538253784\n",
      "Iter 83/500 - Loss: -2.912660598754883\n",
      "Iter 84/500 - Loss: -2.9398505687713623\n",
      "Iter 85/500 - Loss: -2.9657034873962402\n",
      "Iter 86/500 - Loss: -2.9900357723236084\n",
      "Iter 87/500 - Loss: -3.0127594470977783\n",
      "Iter 88/500 - Loss: -3.033884048461914\n",
      "Iter 89/500 - Loss: -3.0535237789154053\n",
      "Iter 90/500 - Loss: -3.0718741416931152\n",
      "Iter 91/500 - Loss: -3.089175224304199\n",
      "Iter 92/500 - Loss: -3.1056466102600098\n",
      "Iter 93/500 - Loss: -3.1214239597320557\n",
      "Iter 94/500 - Loss: -3.1365466117858887\n",
      "Iter 95/500 - Loss: -3.1509850025177\n",
      "Iter 96/500 - Loss: -3.164668321609497\n",
      "Iter 97/500 - Loss: -3.1775455474853516\n",
      "Iter 98/500 - Loss: -3.189603567123413\n",
      "Iter 99/500 - Loss: -3.2008190155029297\n",
      "Iter 100/500 - Loss: -3.211139440536499\n",
      "Iter 101/500 - Loss: -3.221557378768921\n",
      "Iter 102/500 - Loss: -3.231135606765747\n",
      "Iter 103/500 - Loss: -3.240466833114624\n",
      "Iter 104/500 - Loss: -3.2497873306274414\n",
      "Iter 105/500 - Loss: -3.258500337600708\n",
      "Iter 106/500 - Loss: -3.267505407333374\n",
      "Iter 107/500 - Loss: -3.2754621505737305\n",
      "Iter 108/500 - Loss: -3.2829501628875732\n",
      "Iter 109/500 - Loss: -3.28975772857666\n",
      "Iter 110/500 - Loss: -3.2959136962890625\n",
      "Iter 111/500 - Loss: -3.3026955127716064\n",
      "Iter 112/500 - Loss: -3.309796094894409\n",
      "Iter 113/500 - Loss: -3.316182851791382\n",
      "Iter 114/500 - Loss: -3.3216705322265625\n",
      "Iter 115/500 - Loss: -3.3269128799438477\n",
      "Iter 116/500 - Loss: -3.332260847091675\n",
      "Iter 117/500 - Loss: -3.336972951889038\n",
      "Iter 118/500 - Loss: -3.340935468673706\n",
      "Iter 119/500 - Loss: -3.344478130340576\n",
      "Iter 120/500 - Loss: -3.3494341373443604\n",
      "Iter 121/500 - Loss: -3.3544864654541016\n",
      "Iter 122/500 - Loss: -3.3567731380462646\n",
      "Iter 123/500 - Loss: -3.3580451011657715\n",
      "Iter 124/500 - Loss: -3.362278938293457\n",
      "Iter 125/500 - Loss: -3.3667685985565186\n",
      "Iter 126/500 - Loss: -3.3675222396850586\n",
      "Iter 127/500 - Loss: -3.3692290782928467\n",
      "Iter 128/500 - Loss: -3.3736989498138428\n",
      "Iter 129/500 - Loss: -3.3749566078186035\n",
      "Iter 130/500 - Loss: -3.375303030014038\n",
      "Iter 131/500 - Loss: -3.3791003227233887\n",
      "Iter 132/500 - Loss: -3.3812220096588135\n",
      "Iter 133/500 - Loss: -3.381288766860962\n",
      "Iter 134/500 - Loss: -3.38411808013916\n",
      "Iter 135/500 - Loss: -3.3862602710723877\n",
      "Iter 136/500 - Loss: -3.386517286300659\n",
      "Iter 137/500 - Loss: -3.3890883922576904\n",
      "Iter 138/500 - Loss: -3.3907034397125244\n",
      "Iter 139/500 - Loss: -3.3914642333984375\n",
      "Iter 140/500 - Loss: -3.393705129623413\n",
      "Iter 141/500 - Loss: -3.394347906112671\n",
      "Iter 142/500 - Loss: -3.3960342407226562\n",
      "Iter 143/500 - Loss: -3.397198438644409\n",
      "Iter 144/500 - Loss: -3.398300886154175\n",
      "Iter 145/500 - Loss: -3.399641513824463\n",
      "Iter 146/500 - Loss: -3.400416374206543\n",
      "Iter 147/500 - Loss: -3.4017367362976074\n",
      "Iter 148/500 - Loss: -3.4024481773376465\n",
      "Iter 149/500 - Loss: -3.4036831855773926\n",
      "Iter 150/500 - Loss: -3.4043610095977783\n",
      "Iter 151/500 - Loss: -3.4054503440856934\n",
      "Iter 152/500 - Loss: -3.4060988426208496\n",
      "Iter 153/500 - Loss: -3.4070959091186523\n",
      "Iter 154/500 - Loss: -3.4077517986297607\n",
      "Iter 155/500 - Loss: -3.408675193786621\n",
      "Iter 156/500 - Loss: -3.4093058109283447\n",
      "Iter 157/500 - Loss: -3.4101452827453613\n",
      "Iter 158/500 - Loss: -3.4107556343078613\n",
      "Iter 159/500 - Loss: -3.41154408454895\n",
      "Iter 160/500 - Loss: -3.412144660949707\n",
      "Iter 161/500 - Loss: -3.4128823280334473\n",
      "Iter 162/500 - Loss: -3.413452386856079\n",
      "Iter 163/500 - Loss: -3.4141364097595215\n",
      "Iter 164/500 - Loss: -3.414684772491455\n",
      "Iter 165/500 - Loss: -3.4153313636779785\n",
      "Iter 166/500 - Loss: -3.415860891342163\n",
      "Iter 167/500 - Loss: -3.4164621829986572\n",
      "Iter 168/500 - Loss: -3.416969060897827\n",
      "Iter 169/500 - Loss: -3.4175243377685547\n",
      "Iter 170/500 - Loss: -3.418023109436035\n",
      "Iter 171/500 - Loss: -3.418536901473999\n",
      "Iter 172/500 - Loss: -3.4190263748168945\n",
      "Iter 173/500 - Loss: -3.419496536254883\n",
      "Iter 174/500 - Loss: -3.4199752807617188\n",
      "Iter 175/500 - Loss: -3.4204134941101074\n",
      "Iter 176/500 - Loss: -3.4208779335021973\n",
      "Iter 177/500 - Loss: -3.421298027038574\n",
      "Iter 178/500 - Loss: -3.421736717224121\n",
      "Iter 179/500 - Loss: -3.422144889831543\n",
      "Iter 180/500 - Loss: -3.4225542545318604\n",
      "Iter 181/500 - Loss: -3.4229576587677\n",
      "Iter 182/500 - Loss: -3.423341989517212\n",
      "Iter 183/500 - Loss: -3.423733711242676\n",
      "Iter 184/500 - Loss: -3.424099922180176\n",
      "Iter 185/500 - Loss: -3.424473762512207\n",
      "Iter 186/500 - Loss: -3.4248297214508057\n",
      "Iter 187/500 - Loss: -3.4251840114593506\n",
      "Iter 188/500 - Loss: -3.425530433654785\n",
      "Iter 189/500 - Loss: -3.425865888595581\n",
      "Iter 190/500 - Loss: -3.426201581954956\n",
      "Iter 191/500 - Loss: -3.426522731781006\n",
      "Iter 192/500 - Loss: -3.426845073699951\n",
      "Iter 193/500 - Loss: -3.4271557331085205\n",
      "Iter 194/500 - Loss: -3.4274637699127197\n",
      "Iter 195/500 - Loss: -3.427764892578125\n",
      "Iter 196/500 - Loss: -3.4280588626861572\n",
      "Iter 197/500 - Loss: -3.428351402282715\n",
      "Iter 198/500 - Loss: -3.4286348819732666\n",
      "Iter 199/500 - Loss: -3.4289159774780273\n",
      "Iter 200/500 - Loss: -3.429189443588257\n",
      "Iter 201/500 - Loss: -3.4294607639312744\n",
      "Iter 202/500 - Loss: -3.4297266006469727\n",
      "Iter 203/500 - Loss: -3.429986000061035\n",
      "Iter 204/500 - Loss: -3.430243492126465\n",
      "Iter 205/500 - Loss: -3.4304943084716797\n",
      "Iter 206/500 - Loss: -3.4307427406311035\n",
      "Iter 207/500 - Loss: -3.4309866428375244\n",
      "Iter 208/500 - Loss: -3.431225299835205\n",
      "Iter 209/500 - Loss: -3.431461811065674\n",
      "Iter 210/500 - Loss: -3.4316930770874023\n",
      "Iter 211/500 - Loss: -3.4319210052490234\n",
      "Iter 212/500 - Loss: -3.432145357131958\n",
      "Iter 213/500 - Loss: -3.432366132736206\n",
      "Iter 214/500 - Loss: -3.4325833320617676\n",
      "Iter 215/500 - Loss: -3.4327969551086426\n",
      "Iter 216/500 - Loss: -3.4330077171325684\n",
      "Iter 217/500 - Loss: -3.4332146644592285\n",
      "Iter 218/500 - Loss: -3.4334185123443604\n",
      "Iter 219/500 - Loss: -3.433619976043701\n",
      "Iter 220/500 - Loss: -3.4338173866271973\n",
      "Iter 221/500 - Loss: -3.434011936187744\n",
      "Iter 222/500 - Loss: -3.434203863143921\n",
      "Iter 223/500 - Loss: -3.4343934059143066\n",
      "Iter 224/500 - Loss: -3.434579372406006\n",
      "Iter 225/500 - Loss: -3.434762477874756\n",
      "Iter 226/500 - Loss: -3.4349441528320312\n",
      "Iter 227/500 - Loss: -3.435122013092041\n",
      "Iter 228/500 - Loss: -3.4352974891662598\n",
      "Iter 229/500 - Loss: -3.4354708194732666\n",
      "Iter 230/500 - Loss: -3.4356415271759033\n",
      "Iter 231/500 - Loss: -3.435809850692749\n",
      "Iter 232/500 - Loss: -3.435976028442383\n",
      "Iter 233/500 - Loss: -3.4361395835876465\n",
      "Iter 234/500 - Loss: -3.4363009929656982\n",
      "Iter 235/500 - Loss: -3.436460256576538\n",
      "Iter 236/500 - Loss: -3.436617374420166\n",
      "Iter 237/500 - Loss: -3.436772108078003\n",
      "Iter 238/500 - Loss: -3.436924695968628\n",
      "Iter 239/500 - Loss: -3.4370758533477783\n",
      "Iter 240/500 - Loss: -3.4372241497039795\n",
      "Iter 241/500 - Loss: -3.437371253967285\n",
      "Iter 242/500 - Loss: -3.437516212463379\n",
      "Iter 243/500 - Loss: -3.43765926361084\n",
      "Iter 244/500 - Loss: -3.437800407409668\n",
      "Iter 245/500 - Loss: -3.4379396438598633\n",
      "Iter 246/500 - Loss: -3.438076972961426\n",
      "Iter 247/500 - Loss: -3.4382131099700928\n",
      "Iter 248/500 - Loss: -3.4383468627929688\n",
      "Iter 249/500 - Loss: -3.438478946685791\n",
      "Iter 250/500 - Loss: -3.4386098384857178\n",
      "Iter 251/500 - Loss: -3.4387388229370117\n",
      "Iter 252/500 - Loss: -3.438866376876831\n",
      "Iter 253/500 - Loss: -3.4389920234680176\n",
      "Iter 254/500 - Loss: -3.4391167163848877\n",
      "Iter 255/500 - Loss: -3.439239501953125\n",
      "Iter 256/500 - Loss: -3.4393606185913086\n",
      "Iter 257/500 - Loss: -3.4394803047180176\n",
      "Iter 258/500 - Loss: -3.439598798751831\n",
      "Iter 259/500 - Loss: -3.439716100692749\n",
      "Iter 260/500 - Loss: -3.439831495285034\n",
      "Iter 261/500 - Loss: -3.439945697784424\n",
      "Iter 262/500 - Loss: -3.440058946609497\n",
      "Iter 263/500 - Loss: -3.4401702880859375\n",
      "Iter 264/500 - Loss: -3.4402804374694824\n",
      "Iter 265/500 - Loss: -3.440389394760132\n",
      "Iter 266/500 - Loss: -3.440497398376465\n",
      "Iter 267/500 - Loss: -3.4406039714813232\n",
      "Iter 268/500 - Loss: -3.440709114074707\n",
      "Iter 269/500 - Loss: -3.4408135414123535\n",
      "Iter 270/500 - Loss: -3.440916061401367\n",
      "Iter 271/500 - Loss: -3.4410181045532227\n",
      "Iter 272/500 - Loss: -3.4411191940307617\n",
      "Iter 273/500 - Loss: -3.441218376159668\n",
      "Iter 274/500 - Loss: -3.441316604614258\n",
      "Iter 275/500 - Loss: -3.4414141178131104\n",
      "Iter 276/500 - Loss: -3.4415106773376465\n",
      "Iter 277/500 - Loss: -3.441605806350708\n",
      "Iter 278/500 - Loss: -3.4417002201080322\n",
      "Iter 279/500 - Loss: -3.441793441772461\n",
      "Iter 280/500 - Loss: -3.4418859481811523\n",
      "Iter 281/500 - Loss: -3.441976547241211\n",
      "Iter 282/500 - Loss: -3.4420666694641113\n",
      "Iter 283/500 - Loss: -3.4421558380126953\n",
      "Iter 284/500 - Loss: -3.4422435760498047\n",
      "Iter 285/500 - Loss: -3.4423317909240723\n",
      "Iter 286/500 - Loss: -3.442417860031128\n",
      "Iter 287/500 - Loss: -3.4425041675567627\n",
      "Iter 288/500 - Loss: -3.4425888061523438\n",
      "Iter 289/500 - Loss: -3.4426724910736084\n",
      "Iter 290/500 - Loss: -3.4427545070648193\n",
      "Iter 291/500 - Loss: -3.4428372383117676\n",
      "Iter 292/500 - Loss: -3.442918300628662\n",
      "Iter 293/500 - Loss: -3.4429996013641357\n",
      "Iter 294/500 - Loss: -3.4430785179138184\n",
      "Iter 295/500 - Loss: -3.44315767288208\n",
      "Iter 296/500 - Loss: -3.443235397338867\n",
      "Iter 297/500 - Loss: -3.443312644958496\n",
      "Iter 298/500 - Loss: -3.443389892578125\n",
      "Iter 299/500 - Loss: -3.4434654712677\n",
      "Iter 300/500 - Loss: -3.443540096282959\n",
      "Iter 301/500 - Loss: -3.4436147212982178\n",
      "Iter 302/500 - Loss: -3.443688154220581\n",
      "Iter 303/500 - Loss: -3.4437613487243652\n",
      "Iter 304/500 - Loss: -3.4438326358795166\n",
      "Iter 305/500 - Loss: -3.443904399871826\n",
      "Iter 306/500 - Loss: -3.4439752101898193\n",
      "Iter 307/500 - Loss: -3.4440460205078125\n",
      "Iter 308/500 - Loss: -3.444114923477173\n",
      "Iter 309/500 - Loss: -3.444183349609375\n",
      "Iter 310/500 - Loss: -3.4442520141601562\n",
      "Iter 311/500 - Loss: -3.444319486618042\n",
      "Iter 312/500 - Loss: -3.4443860054016113\n",
      "Iter 313/500 - Loss: -3.4444525241851807\n",
      "Iter 314/500 - Loss: -3.4445176124572754\n",
      "Iter 315/500 - Loss: -3.444582462310791\n",
      "Iter 316/500 - Loss: -3.4446473121643066\n",
      "Iter 317/500 - Loss: -3.4447109699249268\n",
      "Iter 318/500 - Loss: -3.4447741508483887\n",
      "Iter 319/500 - Loss: -3.4448370933532715\n",
      "Iter 320/500 - Loss: -3.444899320602417\n",
      "Iter 321/500 - Loss: -3.444960594177246\n",
      "Iter 322/500 - Loss: -3.445021629333496\n",
      "Iter 323/500 - Loss: -3.4450817108154297\n",
      "Iter 324/500 - Loss: -3.4451417922973633\n",
      "Iter 325/500 - Loss: -3.4452011585235596\n",
      "Iter 326/500 - Loss: -3.445260524749756\n",
      "Iter 327/500 - Loss: -3.4453186988830566\n",
      "Iter 328/500 - Loss: -3.445376396179199\n",
      "Iter 329/500 - Loss: -3.4454333782196045\n",
      "Iter 330/500 - Loss: -3.4454903602600098\n",
      "Iter 331/500 - Loss: -3.4455466270446777\n",
      "Iter 332/500 - Loss: -3.4456021785736084\n",
      "Iter 333/500 - Loss: -3.445657253265381\n",
      "Iter 334/500 - Loss: -3.4457128047943115\n",
      "Iter 335/500 - Loss: -3.4457671642303467\n",
      "Iter 336/500 - Loss: -3.4458208084106445\n",
      "Iter 337/500 - Loss: -3.4458751678466797\n",
      "Iter 338/500 - Loss: -3.445927381515503\n",
      "Iter 339/500 - Loss: -3.4459803104400635\n",
      "Iter 340/500 - Loss: -3.4460320472717285\n",
      "Iter 341/500 - Loss: -3.4460842609405518\n",
      "Iter 342/500 - Loss: -3.4461350440979004\n",
      "Iter 343/500 - Loss: -3.4461863040924072\n",
      "Iter 344/500 - Loss: -3.4462363719940186\n",
      "Iter 345/500 - Loss: -3.446286678314209\n",
      "Iter 346/500 - Loss: -3.446336269378662\n",
      "Iter 347/500 - Loss: -3.446385145187378\n",
      "Iter 348/500 - Loss: -3.446434259414673\n",
      "Iter 349/500 - Loss: -3.4464826583862305\n",
      "Iter 350/500 - Loss: -3.446530342102051\n",
      "Iter 351/500 - Loss: -3.446578025817871\n",
      "Iter 352/500 - Loss: -3.446624994277954\n",
      "Iter 353/500 - Loss: -3.4466724395751953\n",
      "Iter 354/500 - Loss: -3.446718692779541\n",
      "Iter 355/500 - Loss: -3.4467644691467285\n",
      "Iter 356/500 - Loss: -3.446810245513916\n",
      "Iter 357/500 - Loss: -3.4468555450439453\n",
      "Iter 358/500 - Loss: -3.4469003677368164\n",
      "Iter 359/500 - Loss: -3.4469454288482666\n",
      "Iter 360/500 - Loss: -3.4469895362854004\n",
      "Iter 361/500 - Loss: -3.447033166885376\n",
      "Iter 362/500 - Loss: -3.4470772743225098\n",
      "Iter 363/500 - Loss: -3.447120428085327\n",
      "Iter 364/500 - Loss: -3.4471633434295654\n",
      "Iter 365/500 - Loss: -3.4472060203552246\n",
      "Iter 366/500 - Loss: -3.4472482204437256\n",
      "Iter 367/500 - Loss: -3.4472908973693848\n",
      "Iter 368/500 - Loss: -3.4473319053649902\n",
      "Iter 369/500 - Loss: -3.447373390197754\n",
      "Iter 370/500 - Loss: -3.4474146366119385\n",
      "Iter 371/500 - Loss: -3.447455406188965\n",
      "Iter 372/500 - Loss: -3.447495222091675\n",
      "Iter 373/500 - Loss: -3.447535514831543\n",
      "Iter 374/500 - Loss: -3.447575092315674\n",
      "Iter 375/500 - Loss: -3.4476146697998047\n",
      "Iter 376/500 - Loss: -3.4476535320281982\n",
      "Iter 377/500 - Loss: -3.447692632675171\n",
      "Iter 378/500 - Loss: -3.4477312564849854\n",
      "Iter 379/500 - Loss: -3.4477694034576416\n",
      "Iter 380/500 - Loss: -3.447808027267456\n",
      "Iter 381/500 - Loss: -3.447845220565796\n",
      "Iter 382/500 - Loss: -3.447882890701294\n",
      "Iter 383/500 - Loss: -3.4479198455810547\n",
      "Iter 384/500 - Loss: -3.4479575157165527\n",
      "Iter 385/500 - Loss: -3.4479939937591553\n",
      "Iter 386/500 - Loss: -3.4480299949645996\n",
      "Iter 387/500 - Loss: -3.448066473007202\n",
      "Iter 388/500 - Loss: -3.4481024742126465\n",
      "Iter 389/500 - Loss: -3.4481382369995117\n",
      "Iter 390/500 - Loss: -3.4481728076934814\n",
      "Iter 391/500 - Loss: -3.4482083320617676\n",
      "Iter 392/500 - Loss: -3.4482431411743164\n",
      "Iter 393/500 - Loss: -3.4482781887054443\n",
      "Iter 394/500 - Loss: -3.448312759399414\n",
      "Iter 395/500 - Loss: -3.4483461380004883\n",
      "Iter 396/500 - Loss: -3.4483802318573\n",
      "Iter 397/500 - Loss: -3.4484143257141113\n",
      "Iter 398/500 - Loss: -3.4484472274780273\n",
      "Iter 399/500 - Loss: -3.4484810829162598\n",
      "Iter 400/500 - Loss: -3.4485137462615967\n",
      "Iter 401/500 - Loss: -3.4485464096069336\n",
      "Iter 402/500 - Loss: -3.4485793113708496\n",
      "Iter 403/500 - Loss: -3.448610782623291\n",
      "Iter 404/500 - Loss: -3.448643207550049\n",
      "Iter 405/500 - Loss: -3.4486756324768066\n",
      "Iter 406/500 - Loss: -3.448706865310669\n",
      "Iter 407/500 - Loss: -3.4487388134002686\n",
      "Iter 408/500 - Loss: -3.4487695693969727\n",
      "Iter 409/500 - Loss: -3.4488003253936768\n",
      "Iter 410/500 - Loss: -3.4488308429718018\n",
      "Iter 411/500 - Loss: -3.448862314224243\n",
      "Iter 412/500 - Loss: -3.448892116546631\n",
      "Iter 413/500 - Loss: -3.448922634124756\n",
      "Iter 414/500 - Loss: -3.4489529132843018\n",
      "Iter 415/500 - Loss: -3.448982000350952\n",
      "Iter 416/500 - Loss: -3.449012041091919\n",
      "Iter 417/500 - Loss: -3.4490418434143066\n",
      "Iter 418/500 - Loss: -3.4490702152252197\n",
      "Iter 419/500 - Loss: -3.449099540710449\n",
      "Iter 420/500 - Loss: -3.4491279125213623\n",
      "Iter 421/500 - Loss: -3.4491565227508545\n",
      "Iter 422/500 - Loss: -3.449185371398926\n",
      "Iter 423/500 - Loss: -3.449213981628418\n",
      "Iter 424/500 - Loss: -3.4492416381835938\n",
      "Iter 425/500 - Loss: -3.4492697715759277\n",
      "Iter 426/500 - Loss: -3.449298143386841\n",
      "Iter 427/500 - Loss: -3.4493248462677\n",
      "Iter 428/500 - Loss: -3.4493520259857178\n",
      "Iter 429/500 - Loss: -3.4493792057037354\n",
      "Iter 430/500 - Loss: -3.449406623840332\n",
      "Iter 431/500 - Loss: -3.4494330883026123\n",
      "Iter 432/500 - Loss: -3.4494597911834717\n",
      "Iter 433/500 - Loss: -3.44948673248291\n",
      "Iter 434/500 - Loss: -3.4495129585266113\n",
      "Iter 435/500 - Loss: -3.449538469314575\n",
      "Iter 436/500 - Loss: -3.4495651721954346\n",
      "Iter 437/500 - Loss: -3.4495911598205566\n",
      "Iter 438/500 - Loss: -3.4496164321899414\n",
      "Iter 439/500 - Loss: -3.4496424198150635\n",
      "Iter 440/500 - Loss: -3.449667453765869\n",
      "Iter 441/500 - Loss: -3.449692726135254\n",
      "Iter 442/500 - Loss: -3.4497177600860596\n",
      "Iter 443/500 - Loss: -3.449742078781128\n",
      "Iter 444/500 - Loss: -3.4497668743133545\n",
      "Iter 445/500 - Loss: -3.449791193008423\n",
      "Iter 446/500 - Loss: -3.4498157501220703\n",
      "Iter 447/500 - Loss: -3.4498403072357178\n",
      "Iter 448/500 - Loss: -3.449864387512207\n",
      "Iter 449/500 - Loss: -3.4498887062072754\n",
      "Iter 450/500 - Loss: -3.4499127864837646\n",
      "Iter 451/500 - Loss: -3.4499356746673584\n",
      "Iter 452/500 - Loss: -3.4499597549438477\n",
      "Iter 453/500 - Loss: -3.4499831199645996\n",
      "Iter 454/500 - Loss: -3.4500057697296143\n",
      "Iter 455/500 - Loss: -3.4500298500061035\n",
      "Iter 456/500 - Loss: -3.450052261352539\n",
      "Iter 457/500 - Loss: -3.450075149536133\n",
      "Iter 458/500 - Loss: -3.4500985145568848\n",
      "Iter 459/500 - Loss: -3.4501209259033203\n",
      "Iter 460/500 - Loss: -3.4501430988311768\n",
      "Iter 461/500 - Loss: -3.4501655101776123\n",
      "Iter 462/500 - Loss: -3.4501876831054688\n",
      "Iter 463/500 - Loss: -3.450209856033325\n",
      "Iter 464/500 - Loss: -3.4502322673797607\n",
      "Iter 465/500 - Loss: -3.450253963470459\n",
      "Iter 466/500 - Loss: -3.450275182723999\n",
      "Iter 467/500 - Loss: -3.450296640396118\n",
      "Iter 468/500 - Loss: -3.450317621231079\n",
      "Iter 469/500 - Loss: -3.450338125228882\n",
      "Iter 470/500 - Loss: -3.4503586292266846\n",
      "Iter 471/500 - Loss: -3.450376272201538\n",
      "Iter 472/500 - Loss: -3.4503908157348633\n",
      "Iter 473/500 - Loss: -3.450397253036499\n",
      "Iter 474/500 - Loss: -3.450385332107544\n",
      "Iter 475/500 - Loss: -3.450333595275879\n",
      "Iter 476/500 - Loss: -3.450195074081421\n",
      "Iter 477/500 - Loss: -3.4498865604400635\n",
      "Iter 478/500 - Loss: -3.4493167400360107\n",
      "Iter 479/500 - Loss: -3.4486145973205566\n",
      "Iter 480/500 - Loss: -3.4484832286834717\n",
      "Iter 481/500 - Loss: -3.4495699405670166\n",
      "Iter 482/500 - Loss: -3.450566291809082\n",
      "Iter 483/500 - Loss: -3.4500763416290283\n",
      "Iter 484/500 - Loss: -3.4495675563812256\n",
      "Iter 485/500 - Loss: -3.450282573699951\n",
      "Iter 486/500 - Loss: -3.450559377670288\n",
      "Iter 487/500 - Loss: -3.450004816055298\n",
      "Iter 488/500 - Loss: -3.450254440307617\n",
      "Iter 489/500 - Loss: -3.4506800174713135\n",
      "Iter 490/500 - Loss: -3.450324773788452\n",
      "Iter 491/500 - Loss: -3.4503328800201416\n",
      "Iter 492/500 - Loss: -3.45074462890625\n",
      "Iter 493/500 - Loss: -3.450608253479004\n",
      "Iter 494/500 - Loss: -3.4504380226135254\n",
      "Iter 495/500 - Loss: -3.4507272243499756\n",
      "Iter 496/500 - Loss: -3.450843572616577\n",
      "Iter 497/500 - Loss: -3.45064115524292\n",
      "Iter 498/500 - Loss: -3.450657606124878\n",
      "Iter 499/500 - Loss: -3.4508843421936035\n",
      "Iter 500/500 - Loss: -3.450909376144409\n"
     ]
    }
   ],
   "source": [
    "likelihood = gpytorch.likelihoods.GaussianLikelihood()\n",
    "model = GP(X, times_train, likelihood)\n",
    "model.float()\n",
    "model.train()\n",
    "likelihood.train()\n",
    "\n",
    "optimizer = torch.optim.Adam(model.parameters(), lr=0.1)\n",
    "\n",
    "mll = ExactMarginalLogLikelihood(likelihood, model)\n",
    "\n",
    "training_iterations = 500\n",
    "for i in range(training_iterations):\n",
    "    optimizer.zero_grad()\n",
    "    output = model(X.float())\n",
    "    loss = -mll(output, times_train)\n",
    "    loss.backward()\n",
    "    optimizer.step()\n",
    "    print(f'Iter {i + 1}/{training_iterations} - Loss: {loss.item()}')\n",
    "\n",
    "torch.save({'model_state_dict': model.state_dict(), 'likelihood_state_dict': likelihood.state_dict()}, 'data/temp_sir_gp.pth')"
   ]
  },
  {
   "cell_type": "code",
   "execution_count": 67,
   "id": "0b3a7731-5727-497c-8757-4e6439394ba4",
   "metadata": {},
   "outputs": [
    {
     "data": {
      "text/plain": [
       "GaussianLikelihood(\n",
       "  (noise_covar): HomoskedasticNoise(\n",
       "    (raw_noise_constraint): GreaterThan(1.000E-04)\n",
       "  )\n",
       ")"
      ]
     },
     "execution_count": 67,
     "metadata": {},
     "output_type": "execute_result"
    }
   ],
   "source": [
    "state_dicts = torch.load('data/temp_sir_gp.pth')   # Load GP params\n",
    "\n",
    "# Load GP data\n",
    "X = torch.load(\"data/temp_sir_gp_x.pt\")\n",
    "times_train = torch.load(\"data/temp_sir_gp_y.pt\")\n",
    "\n",
    "likelihood = gpytorch.likelihoods.GaussianLikelihood()\n",
    "model = GP(X, times_train, likelihood)\n",
    "\n",
    "model.load_state_dict(state_dicts['model_state_dict'])\n",
    "likelihood.load_state_dict(state_dicts['likelihood_state_dict'])\n",
    "\n",
    "model.eval()\n",
    "likelihood.eval()"
   ]
  },
  {
   "cell_type": "code",
   "execution_count": 20,
   "id": "52d58f85",
   "metadata": {},
   "outputs": [],
   "source": [
    "N = 50\n",
    "n_rep = 50\n",
    "\n",
    "beta = torch.linspace(0.1, 1, N)\n",
    "beta_fixed = 0.5\n",
    "\n",
    "gamma_fixed = 0.1\n",
    "gamma = torch.linspace(0.1, 1, N)\n",
    "\n",
    "beta_fixed_combined = beta_fixed * torch.ones_like(gamma)\n",
    "combination_beta_fixed_gamma = torch.stack((beta_fixed_combined, gamma), dim=1)\n",
    "\n",
    "gamma_fixed_combined = gamma_fixed * torch.ones_like(beta)\n",
    "combination_beta_gamma_fixed = torch.stack((beta, gamma_fixed_combined), dim=1)"
   ]
  },
  {
   "cell_type": "code",
   "execution_count": 370,
   "id": "e1e191b6",
   "metadata": {},
   "outputs": [],
   "source": [
    "times_vs_beta = torch.zeros(N)\n",
    "for i in range(N):\n",
    "    st = time.time()\n",
    "    for _ in range(n_rep):\n",
    "        result = temp_sir(combination_beta_gamma_fixed[i])\n",
    "    et = time.time()\n",
    "    times_vs_beta[i] = (et - st) / n_rep\n",
    "\n",
    "times_vs_gamma = torch.zeros(N)\n",
    "for i in range(N):\n",
    "    st = time.time()\n",
    "    for _ in range(n_rep):\n",
    "        result = temp_sir(combination_beta_fixed_gamma[i])\n",
    "    et = time.time()\n",
    "    times_vs_gamma[i] = (et - st) / n_rep\n",
    "\n",
    "with torch.no_grad(), gpytorch.settings.fast_pred_var():\n",
    "    observed_pred_beta = likelihood(model(combination_beta_gamma_fixed)).mean\n",
    "    observed_pred_gamma = likelihood(model(combination_beta_fixed_gamma)).mean"
   ]
  },
  {
   "cell_type": "code",
   "execution_count": 379,
   "id": "09e0ae2f",
   "metadata": {},
   "outputs": [
    {
     "data": {
      "image/png": "[encoded data removed]",
      "text/plain": [
       "<Figure size 720x288 with 2 Axes>"
      ]
     },
     "metadata": {},
     "output_type": "display_data"
    }
   ],
   "source": [
    "plt.figure(figsize=[10,4])\n",
    "plt.subplot(1,2,1)\n",
    "plt.plot(beta, observed_pred_beta, label=\"Fitted GP\", color=\"C1\", linewidth=4, zorder=0)\n",
    "plt.scatter(beta, times_vs_beta, label=\"Measured cost\")\n",
    "plt.legend()\n",
    "\n",
    "plt.subplot(1,2,2)\n",
    "plt.plot(gamma, observed_pred_gamma, label=\"Fitted GP\", color=\"C1\", linewidth=4, zorder=0)\n",
    "plt.scatter(gamma, times_vs_gamma, label=\"Measured cost\")\n",
    "plt.show()"
   ]
  },
  {
   "cell_type": "code",
   "execution_count": 14,
   "id": "171317b7-78cf-4002-ae73-c7fd051d5d02",
   "metadata": {},
   "outputs": [
    {
     "name": "stdout",
     "output_type": "stream",
     "text": [
      "g_min with k=0.5:  0.014827649109065533\n",
      "g_min with k=1:  0.00021985918283462524\n",
      "g_min with k=2:  4.833805888893039e-08\n",
      "g_max with k=0.5:  0.2857629060745239\n",
      "g_max with k=1:  0.0816604346036911\n",
      "g_max with k=2:  0.006668426562100649\n"
     ]
    }
   ],
   "source": [
    "prior_start = torch.tensor([0.1, 1.0]).reshape(-1, 2)\n",
    "prior_end = torch.tensor([1.0, 0.1]).reshape(-1, 2)\n",
    "\n",
    "g_min = likelihood(model(prior_start)).mean\n",
    "g_max = likelihood(model(prior_end)).mean\n",
    "\n",
    "print(\"g_min with k=0.5: \", (g_min ** 0.5).item())\n",
    "print(\"g_min with k=1: \", (g_min ** 1).item())\n",
    "print(\"g_min with k=2: \", (g_min ** 2).item())\n",
    "\n",
    "print(\"g_max with k=0.5: \", (g_max ** 0.5).item())\n",
    "print(\"g_max with k=1: \", (g_max ** 1).item())\n",
    "print(\"g_max with k=2: \", (g_max ** 2).item())"
   ]
  },
  {
   "cell_type": "code",
   "execution_count": 15,
   "id": "370c8db5",
   "metadata": {},
   "outputs": [],
   "source": [
    "prior_start = torch.tensor([0.1, 1.0]).reshape(-1, 2)\n",
    "k = 1\n",
    "\n",
    "num_sim = 5000\n",
    "theta_tilde = torch.zeros([num_sim, 2])\n",
    "count = 0\n",
    "while count < num_sim:\n",
    "    theta = temp_sir.sample_theta([1]).reshape(-1, 2)\n",
    "    if calc_acc_prob(model, likelihood, theta, prior_start, k) > torch.rand(1):\n",
    "        theta_tilde[count] = theta.reshape(-1)\n",
    "        count += 1\n",
    "w = likelihood(model(theta_tilde)).mean.detach() ** k\n",
    "\n",
    "theta_prior = temp_sir.sample_theta([num_sim]).reshape(-1, 2)"
   ]
  },
  {
   "cell_type": "code",
   "execution_count": 16,
   "id": "affb5ee4",
   "metadata": {},
   "outputs": [
    {
     "data": {
      "image/png": "[encoded data removed]",
      "text/plain": [
       "<Figure size 180x180 with 1 Axes>"
      ]
     },
     "metadata": {},
     "output_type": "display_data"
    }
   ],
   "source": [
    "plt.hist(theta_prior.detach().numpy()[:, 0], bins=10)\n",
    "plt.hist(theta_tilde.detach().numpy()[:, 0], bins=10)\n",
    "plt.show()"
   ]
  },
  {
   "cell_type": "markdown",
   "id": "707037b9",
   "metadata": {},
   "source": [
    "## CEG ESS"
   ]
  },
  {
   "cell_type": "code",
   "execution_count": 23,
   "id": "4bf59ea9",
   "metadata": {},
   "outputs": [],
   "source": [
    "num_sim = 10000\n",
    "num_repeats = 2\n",
    "k = np.array([0, 0.2, 0.3, 0.4, 0.5, 0.6, 0.7, 0.8]) # Exponent of the penaly function g(z) = z^k\n",
    "\n",
    "ess_cost_aware = np.zeros([k.size, num_repeats])\n",
    "ceg = np.zeros([k.size, num_repeats])\n",
    "\n",
    "for ind in range(k.size):\n",
    "    for j in range(num_repeats):\n",
    "        \n",
    "        if ind == 0:\n",
    "            theta = temp_sir.sample_theta([num_sim])\n",
    "            ess_cost_aware[ind, j] = 1\n",
    "            ceg[ind, j] = 1\n",
    "        else:\n",
    "            # Sampling from cost-modified prior\n",
    "            theta_tilde = torch.zeros([num_sim, 2])\n",
    "            count = 0\n",
    "            while count < num_sim:\n",
    "                param_value = temp_sir.sample_theta([1]).reshape(-1, 2)\n",
    "                if calc_acc_prob(model, likelihood, param_value, prior_start, k[ind]) > torch.rand(1):\n",
    "                    theta_tilde[count] = param_value.reshape(-1)\n",
    "                    count += 1\n",
    "\n",
    "            w_u = likelihood(model(theta_tilde)).mean.detach() ** k[ind]   #self-normalised importance weights\n",
    "            \n",
    "            # Compute CEG\n",
    "            ceg[ind, j] = torch.mean(likelihood(model(theta)).mean.detach()) / torch.mean(likelihood(model(theta_tilde)).mean.detach())\n",
    "            # Compute ESS\n",
    "            ess_cost_aware[ind, j] = ((w_u.sum())**2 / torch.square(w_u).sum()) / num_sim\n",
    "print(ess_cost_aware * ceg)"
   ]
  },
  {
   "cell_type": "markdown",
   "id": "09f4a0b8",
   "metadata": {},
   "source": [
    "## Train reference GP"
   ]
  },
  {
   "cell_type": "code",
   "execution_count": 20,
   "id": "80fa4df8",
   "metadata": {},
   "outputs": [
    {
     "name": "stdout",
     "output_type": "stream",
     "text": [
      " Neural network successfully converged after 62 epochs."
     ]
    },
    {
     "data": {
      "application/vnd.jupyter.widget-view+json": {
       "model_id": "8707dfa0e57049df9748ca33a38e7787",
       "version_major": 2,
       "version_minor": 0
      },
      "text/plain": [
       "Drawing 1000 posterior samples:   0%|          | 0/1000 [00:00<?, ?it/s]"
      ]
     },
     "metadata": {},
     "output_type": "display_data"
    }
   ],
   "source": [
    "# DON'T NEED TO RUN\n",
    "temp_sir_inference_npe_large = SNPE_C()\n",
    "temp_sir_nn_npe_large = temp_sir_inference_npe_large.append_simulations(\n",
    "    temp_sir_theta_npe_large, temp_sir_x_npe_large).train()\n",
    "\n",
    "prior, *_ = process_prior(temp_sir.prior)\n",
    "\n",
    "temp_sir_post_npe_large = temp_sir_inference_npe_large.build_posterior(temp_sir_nn_npe_large, prior=prior)\n",
    "temp_sir_post_reference = temp_sir_post_npe_large.sample((1000,), x=temp_sir_obs_x)\n",
    "\n",
    "torch.save(temp_sir_post_reference, \"data/temp_sir_post_reference.pt\")"
   ]
  },
  {
   "cell_type": "code",
   "execution_count": 10,
   "id": "e200220a",
   "metadata": {},
   "outputs": [],
   "source": [
    "temp_sir_post_reference = torch.load(\"data_/temp_sir_post_reference.pt\")"
   ]
  },
  {
   "cell_type": "markdown",
   "id": "168b56b9-4c01-44ab-aa35-6007e9c75ba5",
   "metadata": {},
   "source": [
    "# Statistics over multiple runs"
   ]
  },
  {
   "cell_type": "code",
   "execution_count": 16,
   "id": "d6c366d8-6926-4393-b2cb-816f0874fcb8",
   "metadata": {},
   "outputs": [
    {
     "name": "stdout",
     "output_type": "stream",
     "text": [
      "NPE c2st mean 0.60 (std 0.03)\n"
     ]
    }
   ],
   "source": [
    "# C2ST - NPE\n",
    "n_run = 50\n",
    "c2st_npe = torch.zeros([n_run])\n",
    "posterior_samples_npe = torch.zeros([n_run, 1000, 2])\n",
    "\n",
    "for i in range(n_run):\n",
    "    checkpoint_path = f\"sims/temp_sir/1.0/{i+1}/ckpt.tar\"\n",
    "    checkpoint = torch.load(checkpoint_path, map_location='cpu', weights_only=False)\n",
    "\n",
    "    posterior_npe = checkpoint[\"posterior_npe\"]\n",
    "    posterior_samples_npe[i] = posterior_npe.sample((1000,), x=temp_sir_obs_x, show_progress_bars=False)\n",
    "\n",
    "    c2st_npe[i] = c2st(temp_sir_post_reference, posterior_samples_npe[i])\n",
    "\n",
    "c2st_npe = c2st_npe.detach().numpy() \n",
    "c2st_npe_mean = np.mean(c2st_npe)\n",
    "c2st_npe_std = np.std(c2st_npe)\n",
    "\n",
    "print(f\"NPE c2st mean {c2st_npe_mean:.2f} (std {c2st_npe_std:.2f})\")"
   ]
  },
  {
   "cell_type": "code",
   "execution_count": 17,
   "id": "ec2c36a5-0627-44cd-b84a-6ddd092909f0",
   "metadata": {},
   "outputs": [],
   "source": [
    "# C2ST\n",
    "def get_c2st_results(k, n_run):\n",
    "    n_run = 50\n",
    "    c2st_canpe = torch.zeros([n_run])\n",
    "    posterior_samples_canpe = torch.zeros([n_run, 1000, 2])\n",
    "    \n",
    "    for i in range(n_run):\n",
    "        checkpoint_path = f\"sims/temp_sir/{k}/{i+1}/ckpt.tar\"\n",
    "        checkpoint = torch.load(checkpoint_path, map_location='cpu', weights_only=False)\n",
    "    \n",
    "        posterior_canpe = checkpoint[\"posterior_canpe\"]\n",
    "        posterior_samples_canpe[i] = posterior_canpe.sample((1000,), x=temp_sir_obs_x, show_progress_bars=False)\n",
    "    \n",
    "        c2st_canpe[i] = c2st(temp_sir_post_reference, posterior_samples_canpe[i])\n",
    "    \n",
    "    c2st_canpe = c2st_canpe.detach().numpy() \n",
    "    c2st_canpe_mean = np.mean(c2st_canpe)\n",
    "    c2st_canpe_std = np.std(c2st_canpe)\n",
    "    \n",
    "    print(f\"CA-NPE c2st mean {c2st_canpe_mean:.2f} (std {c2st_canpe_std:.2f})\")"
   ]
  },
  {
   "cell_type": "code",
   "execution_count": 18,
   "id": "477d2eb7-04b6-47f1-85ec-211310c554c3",
   "metadata": {},
   "outputs": [
    {
     "name": "stdout",
     "output_type": "stream",
     "text": [
      "CA-NPE c2st mean 0.66 (std 0.05)\n",
      "CA-NPE c2st mean 0.70 (std 0.03)\n",
      "CA-NPE c2st mean 0.75 (std 0.04)\n",
      "CA-NPE c2st mean 0.65 (std 0.03)\n"
     ]
    }
   ],
   "source": [
    "get_c2st_results(\"0.5\", 50)\n",
    "get_c2st_results(\"1.0\", 50)\n",
    "get_c2st_results(\"2.0\", 50)\n",
    "get_c2st_results(\"mixture\", 50)"
   ]
  },
  {
   "cell_type": "markdown",
   "id": "191ff2c4-8cf5-4697-bedf-f91cc24c9417",
   "metadata": {},
   "source": [
    "### ks test"
   ]
  },
  {
   "cell_type": "code",
   "execution_count": 26,
   "id": "0f2cd020-b298-43ab-847e-597b94ab19cc",
   "metadata": {},
   "outputs": [
    {
     "name": "stdout",
     "output_type": "stream",
     "text": [
      "NPE ks score mean [0.12311998 0.12288   ] (std [0.06305192 0.05831591])\n"
     ]
    }
   ],
   "source": [
    "# KS - NPE\n",
    "n_run = 50\n",
    "ks_npe = torch.zeros([n_run, 2])\n",
    "posterior_samples_npe = torch.zeros([n_run, 1000, 2])\n",
    "\n",
    "for i in range(n_run):\n",
    "    checkpoint_path = f\"sims/temp_sir/1.0/{i+1}/ckpt.tar\"\n",
    "    checkpoint = torch.load(checkpoint_path, map_location='cpu', weights_only=False)\n",
    "\n",
    "    posterior_npe = checkpoint[\"posterior_npe\"]\n",
    "    posterior_samples_npe[i] = posterior_npe.sample((1000,), x=temp_sir_obs_x, show_progress_bars=False)\n",
    "\n",
    "    ks_npe[i] = torch.tensor(compute_ks_scores(temp_sir_post_reference, posterior_samples_npe[i]))\n",
    "\n",
    "ks_npe = ks_npe.detach().numpy() \n",
    "ks_npe_mean = np.mean(ks_npe, axis=0)\n",
    "ks_npe_std = np.std(ks_npe, axis=0)\n",
    "\n",
    "print(f\"NPE ks score mean {ks_npe_mean} (std {ks_npe_std})\")"
   ]
  },
  {
   "cell_type": "code",
   "execution_count": 27,
   "id": "458d05e2-e9e8-42b6-aebb-104f1c89c404",
   "metadata": {},
   "outputs": [],
   "source": [
    "def get_ks_results(k, n_run):\n",
    "    n_run = 50\n",
    "    ks_canpe = torch.zeros([n_run, 2])\n",
    "    posterior_samples_canpe = torch.zeros([n_run, 1000, 2])\n",
    "    \n",
    "    for i in range(n_run):\n",
    "        checkpoint_path = f\"sims/temp_sir/{k}/{i+1}/ckpt.tar\"\n",
    "        checkpoint = torch.load(checkpoint_path, map_location='cpu', weights_only=False)\n",
    "    \n",
    "        posterior_canpe = checkpoint[\"posterior_canpe\"]\n",
    "        posterior_samples_canpe[i] = posterior_canpe.sample((1000,), x=temp_sir_obs_x, show_progress_bars=False)\n",
    "\n",
    "        ks_canpe[i] = torch.tensor(compute_ks_scores(temp_sir_post_reference, posterior_samples_canpe[i]))\n",
    "    \n",
    "    ks_canpe = ks_canpe.detach().numpy() \n",
    "    ks_canpe_mean = np.mean(ks_canpe, axis=0)\n",
    "    ks_canpe_std = np.std(ks_canpe, axis=0)\n",
    "    \n",
    "    print(f\"CA-NPE ks mean {ks_canpe_mean} (std {ks_canpe_std})\")"
   ]
  },
  {
   "cell_type": "code",
   "execution_count": 28,
   "id": "f1dde279-11ad-4e39-b9f5-f59fe4170853",
   "metadata": {},
   "outputs": [
    {
     "name": "stdout",
     "output_type": "stream",
     "text": [
      "CA-NPE ks mean [0.11386    0.13365999] (std [0.04561404 0.05604877])\n",
      "CA-NPE ks mean [0.13272 0.13162] (std [0.04903225 0.06652365])\n",
      "CA-NPE ks mean [0.13425998 0.18570001] (std [0.06950419 0.07139279])\n",
      "CA-NPE ks mean [0.11857998 0.13006002] (std [0.04385708 0.05555192])\n"
     ]
    }
   ],
   "source": [
    "get_ks_results(\"0.5\", 50)\n",
    "get_ks_results(\"1.0\", 50)\n",
    "get_ks_results(\"2.0\", 50)\n",
    "get_ks_results(\"mixture\", 50)"
   ]
  },
  {
   "cell_type": "code",
   "execution_count": 276,
   "id": "38ce1516-121a-4a01-bc0c-9e6a4893d4eb",
   "metadata": {},
   "outputs": [
    {
     "name": "stdout",
     "output_type": "stream",
     "text": [
      "NPE MMD mean 0.07 (std 0.02)\n"
     ]
    }
   ],
   "source": [
    "# NPE results\n",
    "n_run = 100\n",
    "mmd_npe = torch.zeros([n_run])\n",
    "posterior_samples_npe = torch.zeros([n_run, 1000, 2])\n",
    "cost_npe = torch.zeros([n_run])\n",
    "\n",
    "for i in range(n_run):\n",
    "    checkpoint_path = f\"sims/temp_sir/gp_coarse/2.0/{i+1}/ckpt.tar\"\n",
    "    checkpoint = torch.load(checkpoint_path, map_location='cpu', weights_only=False)\n",
    "\n",
    "    posterior_npe = checkpoint[\"posterior_npe\"]\n",
    "    posterior_samples_npe[i] = posterior_npe.sample((1000,), x=temp_sir_obs_x, show_progress_bars=False)\n",
    "    \n",
    "    mmd_npe[i] = MMD_unweighted(posterior_samples_npe[i], temp_sir_post_reference, lengthscale=median_heuristic(temp_sir_post_reference))\n",
    "\n",
    "mmd_npe = mmd_npe.detach().numpy() \n",
    "mmd_npe_mean = np.mean(mmd_npe)\n",
    "mmd_npe_std = np.std(mmd_npe)\n",
    "\n",
    "print(f\"NPE MMD mean {mmd_npe_mean:.2f} (std {mmd_npe_std:.2f})\")"
   ]
  },
  {
   "cell_type": "code",
   "execution_count": 11,
   "id": "be564561-d81c-40ba-8979-40b9f8469477",
   "metadata": {},
   "outputs": [
    {
     "data": {
      "text/plain": [
       "tensor(0.1881)"
      ]
     },
     "execution_count": 11,
     "metadata": {},
     "output_type": "execute_result"
    }
   ],
   "source": [
    "median_heuristic(temp_sir_post_reference)"
   ]
  },
  {
   "cell_type": "code",
   "execution_count": 384,
   "id": "6ef58d36-2bee-4fb7-b63b-07b4c4ed51a0",
   "metadata": {},
   "outputs": [],
   "source": [
    "def get_results(k, n_run):\n",
    "    mmd_canpe = torch.zeros([n_run])\n",
    "    posterior_samples_canpe = torch.zeros([n_run, 1000, 2])\n",
    "    cost_canpe = torch.zeros([n_run])\n",
    "    cost_saved = torch.zeros([n_run])\n",
    "    \n",
    "    for i in range(n_run):\n",
    "        checkpoint_path = f\"sims/temp_sir/gp_coarse/{k}/{i+1}/ckpt.tar\"\n",
    "        checkpoint = torch.load(checkpoint_path, map_location='cpu')\n",
    "    \n",
    "        posterior_canpe = checkpoint[\"posterior_canpe\"]\n",
    "\n",
    "        posterior_samples_canpe[i] = posterior_canpe.sample((1000,), x=temp_sir_obs_x, show_progress_bars=False)\n",
    "\n",
    "        mmd_canpe[i] = MMD_unweighted(posterior_samples_canpe[i], temp_sir_post_reference, lengthscale=median_heuristic(temp_sir_post_reference))\n",
    "        cost_npe[i] = torch.tensor(checkpoint[\"cost_npe\"])\n",
    "        cost_canpe[i] = torch.tensor(checkpoint[\"cost_canpe\"])\n",
    "        cost_saved[i] = 1 - cost_canpe[i] / cost_npe[i]\n",
    "            \n",
    "    mmd_canpe = mmd_canpe.detach().numpy() \n",
    "    mmd_canpe_mean = np.mean(mmd_canpe)\n",
    "    mmd_canpe_std = np.std(mmd_canpe)\n",
    "\n",
    "    cost_canpe = cost_canpe.detach().numpy() \n",
    "    cost_canpe_mean = np.mean(cost_canpe)\n",
    "    cost_canpe_std = np.std(cost_canpe)\n",
    "    \n",
    "    cost_saved = cost_saved.detach().numpy()\n",
    "    cost_saved_mean = np.mean(cost_saved)\n",
    "    cost_saved_std = np.std(cost_saved)\n",
    "    \n",
    "    print(f\"CA-NPE MMD mean {mmd_canpe_mean:.2f} (std {mmd_canpe_std:.2f})\")\n",
    "    # print(f\"CA-NPE cost mean {cost_canpe_mean:.2f} (std {cost_canpe_std:.2f})\")\n",
    "    print(f\"Cost saved: {cost_saved_mean:.2f}(std {cost_saved_std:.2f})\")"
   ]
  },
  {
   "cell_type": "code",
   "execution_count": 139,
   "id": "dd73213d-2bd0-4db0-a2fd-326049b0f4f6",
   "metadata": {},
   "outputs": [
    {
     "data": {
      "text/plain": [
       "tensor([  1.0000,   1.0000,   3.0000,   1.0000,   0.0000,   0.0000,   0.0000,\n",
       "          2.0000,   4.0000,   4.0000,  16.0000, 108.7057])"
      ]
     },
     "execution_count": 139,
     "metadata": {},
     "output_type": "execute_result"
    }
   ],
   "source": [
    "temp_sir_obs_theta = torch.tensor([0.5, 0.5])\n",
    "temp_sir_obs_x = temp_sir(temp_sir_obs_theta)\n",
    "temp_sir_obs_x"
   ]
  },
  {
   "cell_type": "code",
   "execution_count": 279,
   "id": "3aa8eb35-343a-473b-88db-fed78d936eca",
   "metadata": {},
   "outputs": [
    {
     "data": {
      "text/plain": [
       "tensor([  1.0000,   1.0000,   3.0000,   1.0000,   0.0000,   0.0000,   0.0000,\n",
       "          2.0000,   4.0000,   4.0000,  16.0000, 108.7057])"
      ]
     },
     "execution_count": 279,
     "metadata": {},
     "output_type": "execute_result"
    }
   ],
   "source": [
    "temp_sir_obs_x"
   ]
  },
  {
   "cell_type": "code",
   "execution_count": 416,
   "id": "b7a7881b",
   "metadata": {},
   "outputs": [
    {
     "name": "stdout",
     "output_type": "stream",
     "text": [
      "CA-NPE MMD mean 0.05 (std 0.03)\n",
      "Cost saved: 0.08(std 0.03)\n"
     ]
    }
   ],
   "source": [
    "get_results('0.5', 100)"
   ]
  },
  {
   "cell_type": "code",
   "execution_count": 417,
   "id": "8c7fdb2c",
   "metadata": {},
   "outputs": [
    {
     "name": "stdout",
     "output_type": "stream",
     "text": [
      "CA-NPE MMD mean 0.06 (std 0.03)\n",
      "Cost saved: 0.33(std 0.02)\n"
     ]
    }
   ],
   "source": [
    "get_results('1.0', 100)"
   ]
  },
  {
   "cell_type": "code",
   "execution_count": 418,
   "id": "5e0a1ca0",
   "metadata": {},
   "outputs": [
    {
     "name": "stdout",
     "output_type": "stream",
     "text": [
      "CA-NPE MMD mean 0.08 (std 0.03)\n",
      "Cost saved: 0.69(std 0.01)\n"
     ]
    }
   ],
   "source": [
    "get_results('2.0', 100)"
   ]
  },
  {
   "cell_type": "code",
   "execution_count": 419,
   "id": "203127cc-b5e8-46d0-ab4d-fa3cc69fcdfb",
   "metadata": {},
   "outputs": [
    {
     "name": "stdout",
     "output_type": "stream",
     "text": [
      "CA-NPE MMD mean 0.05 (std 0.02)\n",
      "Cost saved: 0.15(std 0.03)\n"
     ]
    }
   ],
   "source": [
    "get_results('multiple', 100)"
   ]
  },
  {
   "cell_type": "markdown",
   "id": "9e59b77b-12c3-4e5e-92bb-f47a8c47b2aa",
   "metadata": {},
   "source": [
    "# Different cost function approximations"
   ]
  },
  {
   "cell_type": "markdown",
   "id": "279a9afd-d000-4f8f-8286-5f525618fb18",
   "metadata": {},
   "source": [
    "## GP with 200 points"
   ]
  },
  {
   "cell_type": "code",
   "execution_count": 68,
   "id": "cae51e04-0423-4585-acdb-d0638117a13e",
   "metadata": {},
   "outputs": [],
   "source": [
    "cost_gp_200 = np.zeros([N, N])\n",
    "cost_gp_200 = likelihood(model(torch.tensor(theta_grid).float())).mean.reshape(N, N)"
   ]
  },
  {
   "cell_type": "code",
   "execution_count": 69,
   "id": "8802aff7-37e6-443b-8b94-2e85c8c8eb09",
   "metadata": {},
   "outputs": [
    {
     "data": {
      "image/png": "[encoded data removed]",
      "text/plain": [
       "<Figure size 750x600 with 2 Axes>"
      ]
     },
     "metadata": {},
     "output_type": "display_data"
    }
   ],
   "source": [
    "beta_range = np.linspace(0, 1, N)\n",
    "gamma_range = np.linspace(0, 1, N)\n",
    "sns.set(style=\"white\")\n",
    "\n",
    "plt.figure(figsize=(7.5, 6))\n",
    "sns.heatmap(cost_gp_200.detach().numpy(), xticklabels=np.round(beta_range, 1), yticklabels=np.round(gamma_range, 1), annot=False, fmt=\".2f\", cmap='Reds').invert_yaxis()\n",
    "plt.xlabel('$\\\\theta_1$', size=20)\n",
    "plt.ylabel('$\\\\theta_2$', size=20)\n",
    "plt.xticks(fontsize=15)\n",
    "plt.yticks(fontsize=15)\n",
    "plt.show()"
   ]
  },
  {
   "cell_type": "markdown",
   "id": "2c69498c-f802-472f-bbbd-9807a592fab5",
   "metadata": {},
   "source": [
    "## GP with 15 points"
   ]
  },
  {
   "cell_type": "code",
   "execution_count": null,
   "id": "1ac3332d-f0cd-4e76-802c-fe25e0eb5a3d",
   "metadata": {},
   "outputs": [],
   "source": [
    "# For GP with 15 points\n",
    "X_15 = X[:15]\n",
    "times_train_15 = times_train[:15]\n",
    "\n",
    "torch.save(X_15, \"data/temp_sir_gp_x_15.pt\")\n",
    "torch.save(times_train_15, \"data/temp_sir_gp_y_15.pt\")"
   ]
  },
  {
   "cell_type": "code",
   "execution_count": 70,
   "id": "f8af2305-1457-443b-9a7e-584428ba7a83",
   "metadata": {},
   "outputs": [],
   "source": [
    "X_15 = torch.load(\"data/temp_sir_gp_x_15.pt\")\n",
    "times_train_15 = torch.load(\"data/temp_sir_gp_y_15.pt\")"
   ]
  },
  {
   "cell_type": "code",
   "execution_count": 404,
   "id": "d09e644a-88a4-49bc-83d7-8cc57d11e938",
   "metadata": {
    "scrolled": true
   },
   "outputs": [
    {
     "name": "stdout",
     "output_type": "stream",
     "text": [
      "Iter 1/200 - Loss: 0.8878328204154968\n",
      "Iter 2/200 - Loss: 0.8467208743095398\n",
      "Iter 3/200 - Loss: 0.8045788407325745\n",
      "Iter 4/200 - Loss: 0.7624120712280273\n",
      "Iter 5/200 - Loss: 0.7199354767799377\n",
      "Iter 6/200 - Loss: 0.6768052577972412\n",
      "Iter 7/200 - Loss: 0.6332358717918396\n",
      "Iter 8/200 - Loss: 0.589387059211731\n",
      "Iter 9/200 - Loss: 0.5451001524925232\n",
      "Iter 10/200 - Loss: 0.5002228021621704\n",
      "Iter 11/200 - Loss: 0.45487794280052185\n",
      "Iter 12/200 - Loss: 0.409198135137558\n",
      "Iter 13/200 - Loss: 0.3630770444869995\n",
      "Iter 14/200 - Loss: 0.3164028823375702\n",
      "Iter 15/200 - Loss: 0.269311785697937\n",
      "Iter 16/200 - Loss: 0.22190506756305695\n",
      "Iter 17/200 - Loss: 0.17404048144817352\n",
      "Iter 18/200 - Loss: 0.12571881711483002\n",
      "Iter 19/200 - Loss: 0.07712148129940033\n",
      "Iter 20/200 - Loss: 0.02817554399371147\n",
      "Iter 21/200 - Loss: -0.02118701860308647\n",
      "Iter 22/200 - Loss: -0.07076682895421982\n",
      "Iter 23/200 - Loss: -0.12064635008573532\n",
      "Iter 24/200 - Loss: -0.17084598541259766\n",
      "Iter 25/200 - Loss: -0.22118332982063293\n",
      "Iter 26/200 - Loss: -0.2718261182308197\n",
      "Iter 27/200 - Loss: -0.3225950300693512\n",
      "Iter 28/200 - Loss: -0.3735588788986206\n",
      "Iter 29/200 - Loss: -0.424656480550766\n",
      "Iter 30/200 - Loss: -0.4758671522140503\n",
      "Iter 31/200 - Loss: -0.5271698832511902\n",
      "Iter 32/200 - Loss: -0.5785592794418335\n",
      "Iter 33/200 - Loss: -0.6299446821212769\n",
      "Iter 34/200 - Loss: -0.6814252734184265\n",
      "Iter 35/200 - Loss: -0.7328266501426697\n",
      "Iter 36/200 - Loss: -0.7842121720314026\n",
      "Iter 37/200 - Loss: -0.8355982899665833\n",
      "Iter 38/200 - Loss: -0.8868632912635803\n",
      "Iter 39/200 - Loss: -0.9379653334617615\n",
      "Iter 40/200 - Loss: -0.9888933300971985\n",
      "Iter 41/200 - Loss: -1.0396850109100342\n",
      "Iter 42/200 - Loss: -1.0904197692871094\n",
      "Iter 43/200 - Loss: -1.1409220695495605\n",
      "Iter 44/200 - Loss: -1.1909987926483154\n",
      "Iter 45/200 - Loss: -1.2406255006790161\n",
      "Iter 46/200 - Loss: -1.2899088859558105\n",
      "Iter 47/200 - Loss: -1.3392242193222046\n",
      "Iter 48/200 - Loss: -1.3881012201309204\n",
      "Iter 49/200 - Loss: -1.4359891414642334\n",
      "Iter 50/200 - Loss: -1.4833064079284668\n",
      "Iter 51/200 - Loss: -1.5306200981140137\n",
      "Iter 52/200 - Loss: -1.5772967338562012\n",
      "Iter 53/200 - Loss: -1.6226346492767334\n",
      "Iter 54/200 - Loss: -1.6670117378234863\n",
      "Iter 55/200 - Loss: -1.7112070322036743\n",
      "Iter 56/200 - Loss: -1.7548835277557373\n",
      "Iter 57/200 - Loss: -1.7968106269836426\n",
      "Iter 58/200 - Loss: -1.8370327949523926\n",
      "Iter 59/200 - Loss: -1.8764442205429077\n",
      "Iter 60/200 - Loss: -1.9158567190170288\n",
      "Iter 61/200 - Loss: -1.9536038637161255\n",
      "Iter 62/200 - Loss: -1.9885846376419067\n",
      "Iter 63/200 - Loss: -2.021756172180176\n",
      "Iter 64/200 - Loss: -2.054931402206421\n",
      "Iter 65/200 - Loss: -2.0874085426330566\n",
      "Iter 66/200 - Loss: -2.1163904666900635\n",
      "Iter 67/200 - Loss: -2.142310619354248\n",
      "Iter 68/200 - Loss: -2.1676201820373535\n",
      "Iter 69/200 - Loss: -2.193476438522339\n",
      "Iter 70/200 - Loss: -2.2162926197052\n",
      "Iter 71/200 - Loss: -2.234830141067505\n",
      "Iter 72/200 - Loss: -2.251810312271118\n",
      "Iter 73/200 - Loss: -2.270153045654297\n",
      "Iter 74/200 - Loss: -2.2872726917266846\n",
      "Iter 75/200 - Loss: -2.299708604812622\n",
      "Iter 76/200 - Loss: -2.3097891807556152\n",
      "Iter 77/200 - Loss: -2.321505069732666\n",
      "Iter 78/200 - Loss: -2.3340699672698975\n",
      "Iter 79/200 - Loss: -2.3429837226867676\n",
      "Iter 80/200 - Loss: -2.349609613418579\n",
      "Iter 81/200 - Loss: -2.358557939529419\n",
      "Iter 82/200 - Loss: -2.369537591934204\n",
      "Iter 83/200 - Loss: -2.3785176277160645\n",
      "Iter 84/200 - Loss: -2.387465238571167\n",
      "Iter 85/200 - Loss: -2.4005002975463867\n",
      "Iter 86/200 - Loss: -2.4153826236724854\n",
      "Iter 87/200 - Loss: -2.4306302070617676\n",
      "Iter 88/200 - Loss: -2.450164556503296\n",
      "Iter 89/200 - Loss: -2.4721271991729736\n",
      "Iter 90/200 - Loss: -2.494910955429077\n",
      "Iter 91/200 - Loss: -2.5198776721954346\n",
      "Iter 92/200 - Loss: -2.5432052612304688\n",
      "Iter 93/200 - Loss: -2.5660765171051025\n",
      "Iter 94/200 - Loss: -2.586132764816284\n",
      "Iter 95/200 - Loss: -2.604266881942749\n",
      "Iter 96/200 - Loss: -2.619295358657837\n",
      "Iter 97/200 - Loss: -2.6301567554473877\n",
      "Iter 98/200 - Loss: -2.6357927322387695\n",
      "Iter 99/200 - Loss: -2.637315273284912\n",
      "Iter 100/200 - Loss: -2.63891863822937\n",
      "Iter 101/200 - Loss: -2.6444733142852783\n",
      "Iter 102/200 - Loss: -2.656440258026123\n",
      "Iter 103/200 - Loss: -2.672477960586548\n",
      "Iter 104/200 - Loss: -2.6898560523986816\n",
      "Iter 105/200 - Loss: -2.7062699794769287\n",
      "Iter 106/200 - Loss: -2.7192564010620117\n",
      "Iter 107/200 - Loss: -2.728353977203369\n",
      "Iter 108/200 - Loss: -2.7348456382751465\n",
      "Iter 109/200 - Loss: -2.740069627761841\n",
      "Iter 110/200 - Loss: -2.7452585697174072\n",
      "Iter 111/200 - Loss: -2.7513349056243896\n",
      "Iter 112/200 - Loss: -2.7587287425994873\n",
      "Iter 113/200 - Loss: -2.767078161239624\n",
      "Iter 114/200 - Loss: -2.7742042541503906\n",
      "Iter 115/200 - Loss: -2.7722232341766357\n",
      "Iter 116/200 - Loss: -2.7542974948883057\n",
      "Iter 117/200 - Loss: -2.781714677810669\n",
      "Iter 118/200 - Loss: -2.799315929412842\n",
      "Iter 119/200 - Loss: -2.778425931930542\n",
      "Iter 120/200 - Loss: -2.8105714321136475\n",
      "Iter 121/200 - Loss: -2.7944722175598145\n",
      "Iter 122/200 - Loss: -2.8151326179504395\n",
      "Iter 123/200 - Loss: -2.8135087490081787\n",
      "Iter 124/200 - Loss: -2.8226537704467773\n",
      "Iter 125/200 - Loss: -2.8278379440307617\n",
      "Iter 126/200 - Loss: -2.8301453590393066\n",
      "Iter 127/200 - Loss: -2.836421489715576\n",
      "Iter 128/200 - Loss: -2.836235761642456\n",
      "Iter 129/200 - Loss: -2.8425605297088623\n",
      "Iter 130/200 - Loss: -2.842890501022339\n",
      "Iter 131/200 - Loss: -2.8492753505706787\n",
      "Iter 132/200 - Loss: -2.8502414226531982\n",
      "Iter 133/200 - Loss: -2.8557815551757812\n",
      "Iter 134/200 - Loss: -2.8564300537109375\n",
      "Iter 135/200 - Loss: -2.8607466220855713\n",
      "Iter 136/200 - Loss: -2.8610124588012695\n",
      "Iter 137/200 - Loss: -2.864732503890991\n",
      "Iter 138/200 - Loss: -2.8652544021606445\n",
      "Iter 139/200 - Loss: -2.868983745574951\n",
      "Iter 140/200 - Loss: -2.869774341583252\n",
      "Iter 141/200 - Loss: -2.8731906414031982\n",
      "Iter 142/200 - Loss: -2.873807191848755\n",
      "Iter 143/200 - Loss: -2.8766260147094727\n",
      "Iter 144/200 - Loss: -2.8770172595977783\n",
      "Iter 145/200 - Loss: -2.879495143890381\n",
      "Iter 146/200 - Loss: -2.8799777030944824\n",
      "Iter 147/200 - Loss: -2.8824195861816406\n",
      "Iter 148/200 - Loss: -2.8829944133758545\n",
      "Iter 149/200 - Loss: -2.8852829933166504\n",
      "Iter 150/200 - Loss: -2.885711193084717\n",
      "Iter 151/200 - Loss: -2.8877241611480713\n",
      "Iter 152/200 - Loss: -2.8880128860473633\n",
      "Iter 153/200 - Loss: -2.8898510932922363\n",
      "Iter 154/200 - Loss: -2.890192747116089\n",
      "Iter 155/200 - Loss: -2.891937255859375\n",
      "Iter 156/200 - Loss: -2.892378568649292\n",
      "Iter 157/200 - Loss: -2.8939106464385986\n",
      "Iter 158/200 - Loss: -2.8943817615509033\n",
      "Iter 159/200 - Loss: -2.895627498626709\n",
      "Iter 160/200 - Loss: -2.8961668014526367\n",
      "Iter 161/200 - Loss: -2.897193193435669\n",
      "Iter 162/200 - Loss: -2.8978707790374756\n",
      "Iter 163/200 - Loss: -2.8987298011779785\n",
      "Iter 164/200 - Loss: -2.89951229095459\n",
      "Iter 165/200 - Loss: -2.900190830230713\n",
      "Iter 166/200 - Loss: -2.900996685028076\n",
      "Iter 167/200 - Loss: -2.901531934738159\n",
      "Iter 168/200 - Loss: -2.902334451675415\n",
      "Iter 169/200 - Loss: -2.9028193950653076\n",
      "Iter 170/200 - Loss: -2.9035990238189697\n",
      "Iter 171/200 - Loss: -2.904087543487549\n",
      "Iter 172/200 - Loss: -2.9047892093658447\n",
      "Iter 173/200 - Loss: -2.905287027359009\n",
      "Iter 174/200 - Loss: -2.905883312225342\n",
      "Iter 175/200 - Loss: -2.9064016342163086\n",
      "Iter 176/200 - Loss: -2.9069159030914307\n",
      "Iter 177/200 - Loss: -2.9074599742889404\n",
      "Iter 178/200 - Loss: -2.9079208374023438\n",
      "Iter 179/200 - Loss: -2.9084620475769043\n",
      "Iter 180/200 - Loss: -2.9088854789733887\n",
      "Iter 181/200 - Loss: -2.9093921184539795\n",
      "Iter 182/200 - Loss: -2.9098002910614014\n",
      "Iter 183/200 - Loss: -2.910264730453491\n",
      "Iter 184/200 - Loss: -2.9106783866882324\n",
      "Iter 185/200 - Loss: -2.9111013412475586\n",
      "Iter 186/200 - Loss: -2.9115192890167236\n",
      "Iter 187/200 - Loss: -2.9119036197662354\n",
      "Iter 188/200 - Loss: -2.912311553955078\n",
      "Iter 189/200 - Loss: -2.912670612335205\n",
      "Iter 190/200 - Loss: -2.9130594730377197\n",
      "Iter 191/200 - Loss: -2.913407802581787\n",
      "Iter 192/200 - Loss: -2.913773536682129\n",
      "Iter 193/200 - Loss: -2.914119005203247\n",
      "Iter 194/200 - Loss: -2.9144580364227295\n",
      "Iter 195/200 - Loss: -2.9147963523864746\n",
      "Iter 196/200 - Loss: -2.9151129722595215\n",
      "Iter 197/200 - Loss: -2.915440320968628\n",
      "Iter 198/200 - Loss: -2.9157447814941406\n",
      "Iter 199/200 - Loss: -2.9160568714141846\n",
      "Iter 200/200 - Loss: -2.916354179382324\n"
     ]
    }
   ],
   "source": [
    "likelihood = gpytorch.likelihoods.GaussianLikelihood()\n",
    "model = GP(X_15, times_train_15, likelihood)\n",
    "model.float()\n",
    "model.train()\n",
    "likelihood.train()\n",
    "\n",
    "optimizer = torch.optim.Adam(model.parameters(), lr=0.1)\n",
    "\n",
    "mll = ExactMarginalLogLikelihood(likelihood, model)\n",
    "\n",
    "training_iterations = 200\n",
    "for i in range(training_iterations):\n",
    "    optimizer.zero_grad()\n",
    "    output = model(X_15.float())\n",
    "    loss = -mll(output, times_train_15)\n",
    "    loss.backward()\n",
    "    optimizer.step()\n",
    "    print(f'Iter {i + 1}/{training_iterations} - Loss: {loss.item()}')\n",
    "\n",
    "torch.save({'model_state_dict': model.state_dict(), 'likelihood_state_dict': likelihood.state_dict()}, 'data/temp_sir_gp_15.pth')"
   ]
  },
  {
   "cell_type": "code",
   "execution_count": 71,
   "id": "02172782-4645-4b2c-985b-c5c01950968b",
   "metadata": {},
   "outputs": [
    {
     "data": {
      "text/plain": [
       "GaussianLikelihood(\n",
       "  (noise_covar): HomoskedasticNoise(\n",
       "    (raw_noise_constraint): GreaterThan(1.000E-04)\n",
       "  )\n",
       ")"
      ]
     },
     "execution_count": 71,
     "metadata": {},
     "output_type": "execute_result"
    }
   ],
   "source": [
    "state_dicts = torch.load('data/temp_sir_gp_15.pth')   # Load GP params\n",
    "\n",
    "# Load GP data\n",
    "X = torch.load(\"data/temp_sir_gp_x_15.pt\")\n",
    "times_train = torch.load(\"data/temp_sir_gp_y_15.pt\")\n",
    "\n",
    "likelihood = gpytorch.likelihoods.GaussianLikelihood()\n",
    "model = GP(X, times_train, likelihood)\n",
    "\n",
    "model.load_state_dict(state_dicts['model_state_dict'])\n",
    "likelihood.load_state_dict(state_dicts['likelihood_state_dict'])\n",
    "\n",
    "model.eval()\n",
    "likelihood.eval()"
   ]
  },
  {
   "cell_type": "code",
   "execution_count": 72,
   "id": "9bb543c3-8f6b-4372-ad15-d5e96cc1bacd",
   "metadata": {},
   "outputs": [],
   "source": [
    "cost_gp_15 = likelihood(model(torch.tensor(theta_grid).float())).mean.reshape(N, N)"
   ]
  },
  {
   "cell_type": "code",
   "execution_count": 73,
   "id": "8158fee2-3180-4ecc-adc3-88e19581a0d0",
   "metadata": {},
   "outputs": [
    {
     "data": {
      "image/png": "[encoded data removed]",
      "text/plain": [
       "<Figure size 750x600 with 2 Axes>"
      ]
     },
     "metadata": {},
     "output_type": "display_data"
    }
   ],
   "source": [
    "beta_range = np.linspace(0, 1, N)\n",
    "gamma_range = np.linspace(0, 1, N)\n",
    "sns.set(style=\"white\")\n",
    "\n",
    "plt.figure(figsize=(7.5, 6))\n",
    "sns.heatmap(cost_gp_15.detach().numpy(), xticklabels=np.round(beta_range, 1), yticklabels=np.round(gamma_range, 1), annot=False, fmt=\".2f\", cmap='Reds').invert_yaxis()\n",
    "plt.xlabel('$\\\\theta_1$', size=20)\n",
    "plt.ylabel('$\\\\theta_2$', size=20)\n",
    "plt.xticks(fontsize=15)\n",
    "plt.yticks(fontsize=15)\n",
    "plt.show()"
   ]
  },
  {
   "cell_type": "markdown",
   "id": "e4bb8ace-b3f5-41d2-95a2-890bcd3440a7",
   "metadata": {},
   "source": [
    "## Linear cost function"
   ]
  },
  {
   "cell_type": "code",
   "execution_count": 31,
   "id": "3d0585a6-09a9-4ff9-aea7-b9c757eda9a5",
   "metadata": {},
   "outputs": [],
   "source": [
    "from sklearn.linear_model import LinearRegression\n",
    "\n",
    "model = LinearRegression()\n",
    "model.fit(X, times_train)\n",
    "\n",
    "a_1, a_2 = model.coef_ \n",
    "b = model.intercept_ \n",
    "\n",
    "# np.save(\"data/temp_sir_linear_a1.npy\", a_1)\n",
    "# np.save(\"data/temp_sir_linear_a2.npy\", a_2)\n",
    "# np.save(\"data/temp_sir_linear_b.npy\", b)"
   ]
  },
  {
   "cell_type": "code",
   "execution_count": 392,
   "id": "ea541d08-c6c6-485e-8f27-16fe4218fef1",
   "metadata": {},
   "outputs": [
    {
     "data": {
      "image/png": "[encoded data removed]",
      "text/plain": [
       "<Figure size 720x288 with 2 Axes>"
      ]
     },
     "metadata": {},
     "output_type": "display_data"
    }
   ],
   "source": [
    "plt.figure(figsize=[10,4])\n",
    "plt.subplot(1,2,1)\n",
    "plt.plot(beta, a_1 * beta + a_2 * 0.1 + b, label=\"Fitted $c(\\\\theta)$\", color=\"C1\", linewidth=4, zorder=0)\n",
    "plt.scatter(beta, times_vs_beta, label=\"Measured cost\")\n",
    "plt.legend()\n",
    "\n",
    "plt.subplot(1,2,2)\n",
    "plt.plot(gamma, a_1 * 1 + a_2 * gamma + b, label=\"Fitted $c(\\\\theta)$\", color=\"C1\", linewidth=4, zorder=0)\n",
    "plt.scatter(gamma, times_vs_gamma, label=\"Measured cost\")\n",
    "plt.show()"
   ]
  },
  {
   "cell_type": "code",
   "execution_count": 55,
   "id": "3b7809da-7df8-4a7d-98fb-325a69bdddf5",
   "metadata": {},
   "outputs": [],
   "source": [
    "def linear_step(beta, gamma):\n",
    "    cost = a_1 * beta + a_2 * gamma + b\n",
    "    return cost if cost > 0.02 else 0.02"
   ]
  },
  {
   "cell_type": "code",
   "execution_count": 74,
   "id": "e4cf3780-5436-437a-8b2f-0967e0080209",
   "metadata": {},
   "outputs": [],
   "source": [
    "a_1 = np.load(\"data/temp_sir_linear_a1.npy\")\n",
    "a_2 = np.load(\"data/temp_sir_linear_a2.npy\")\n",
    "b   = np.load(\"data/temp_sir_linear_b.npy\")\n",
    "\n",
    "cost_linear = np.zeros([N, N])\n",
    "for i in range(N):\n",
    "    for j in range(N):\n",
    "        cost_linear[i, j] = linear_step(beta_range[i], gamma_range[j])"
   ]
  },
  {
   "cell_type": "code",
   "execution_count": 75,
   "id": "1f775633-35df-4f82-bffa-cce05217e29f",
   "metadata": {},
   "outputs": [
    {
     "data": {
      "image/png": "[encoded data removed]",
      "text/plain": [
       "<Figure size 750x600 with 2 Axes>"
      ]
     },
     "metadata": {},
     "output_type": "display_data"
    }
   ],
   "source": [
    "beta_range = np.linspace(0, 1, N)\n",
    "gamma_range = np.linspace(0, 1, N)\n",
    "sns.set(style=\"white\")\n",
    "\n",
    "plt.figure(figsize=(7.5, 6))\n",
    "sns.heatmap(cost_linear.T, xticklabels=np.round(beta_range, 1), yticklabels=np.round(gamma_range, 1), annot=False, fmt=\".2f\", cmap='Reds').invert_yaxis()\n",
    "plt.xlabel('$\\\\theta_1$', size=20)\n",
    "plt.ylabel('$\\\\theta_2$', size=20)\n",
    "plt.xticks(fontsize=15)\n",
    "plt.yticks(fontsize=15)\n",
    "plt.show()"
   ]
  },
  {
   "cell_type": "markdown",
   "id": "6c86f8be-6b85-4b62-be5f-081b2ff7bcc9",
   "metadata": {},
   "source": [
    "## Real cost function"
   ]
  },
  {
   "cell_type": "code",
   "execution_count": 23,
   "id": "94ddcdcb",
   "metadata": {},
   "outputs": [],
   "source": [
    "N = 20\n",
    "n_rep = 50\n",
    "\n",
    "beta_range = np.linspace(0.1, 1, N)\n",
    "gamma_range = np.linspace(0.1, 1, N)\n",
    "\n",
    "beta_grid, gamma_grid = np.meshgrid(beta_range, gamma_range)\n",
    "theta_grid = np.hstack((beta_grid.reshape(-1, 1), gamma_grid.reshape(-1, 1)))\n",
    "\n",
    "cost_real = np.zeros([N, N])"
   ]
  },
  {
   "cell_type": "code",
   "execution_count": null,
   "id": "e9f9db37",
   "metadata": {},
   "outputs": [],
   "source": [
    "for i in range(N):\n",
    "    for j in range(N):\n",
    "        st = time.time()\n",
    "        for _ in range(n_rep):\n",
    "            result = temp_sir(torch.tensor([beta_range[i], gamma_range[j]]))\n",
    "        et = time.time()\n",
    "        cost_real[i, j] = (et - st) / n_rep\n",
    "\n",
    "np.save(\"data_/temporal_sir_cost_fig1_new.npy\", cost_real)"
   ]
  },
  {
   "cell_type": "code",
   "execution_count": 76,
   "id": "cbacc838-4755-446a-940d-f2958683fd96",
   "metadata": {},
   "outputs": [
    {
     "data": {
      "image/png": "[encoded data removed]",
      "text/plain": [
       "<Figure size 750x600 with 2 Axes>"
      ]
     },
     "metadata": {},
     "output_type": "display_data"
    }
   ],
   "source": [
    "cost_real = np.load(\"data_/temporal_sir_cost_fig1_new.npy\")\n",
    "\n",
    "beta_range = np.linspace(0, 1, N)\n",
    "gamma_range = np.linspace(0, 1, N)\n",
    "sns.set(style=\"white\")\n",
    "\n",
    "plt.figure(figsize=(7.5, 6))\n",
    "sns.heatmap(cost_real.T, xticklabels=np.round(beta_range, 1), yticklabels=np.round(gamma_range, 1), annot=False, fmt=\".2f\", cmap='Reds').invert_yaxis()\n",
    "plt.xlabel('$\\\\theta_1$', size=20)\n",
    "plt.ylabel('$\\\\theta_2$', size=20)\n",
    "plt.xticks(fontsize=15)\n",
    "plt.yticks(fontsize=15)\n",
    "plt.show()"
   ]
  },
  {
   "cell_type": "markdown",
   "id": "91221a48-b6c2-4491-a0b3-8873c7aefacc",
   "metadata": {},
   "source": [
    "# Figure 1"
   ]
  },
  {
   "cell_type": "code",
   "execution_count": 413,
   "id": "b0ee0706-67fb-4502-a25c-8840d5e2a208",
   "metadata": {},
   "outputs": [
    {
     "data": {
      "image/png": "[encoded data removed]",
      "text/plain": [
       "<Figure size 396x288 with 2 Axes>"
      ]
     },
     "metadata": {},
     "output_type": "display_data"
    }
   ],
   "source": [
    "import seaborn as sns\n",
    "sns.set(rc={'text.usetex': True})\n",
    "import matplotlib.ticker as ticker\n",
    "\n",
    "x_lab = np.array(['$0.1$', \"\", \"\", \"\", '$0.2$', \"\", \"\", \"\", '$0.4$', \"\", \"\" \"\", '$0.6$', \"\", \"\", \"\", '$0.8$', \"\", \"\", \"\", '$1.0$'])\n",
    "y_lab = np.array(['$0.1$', \"\", \"\", \"\", '$0.2$', \"\", \"\", \"\", '$0.4$', \"\", \"\" \"\", '$0.6$', \"\", \"\", \"\", '$0.8$', \"\", \"\", \"\", '$1.0$'])\n",
    "\n",
    "N = 20\n",
    "beta_range = np.linspace(0.1, 1, N)\n",
    "gamma_range = np.linspace(0.1, 1, N)\n",
    "\n",
    "sns.set(style=\"white\")\n",
    "sns.set(font_scale=1.5)\n",
    "\n",
    "plt.figure(figsize=(5.5, 4))\n",
    "ax = sns.heatmap(cost_real.T, xticklabels=x_lab, yticklabels=y_lab,\n",
    "                    annot=False, cmap=\"Reds\", cbar_kws={'label': 'Cost [seconds]'}).invert_yaxis()\n",
    "plt.xlabel('$\\\\theta_1:$ infection rate', size=20)\n",
    "plt.ylabel('$\\\\theta_2:$ recovery rate', size=20)\n",
    "plt.xticks(fontsize=15)\n",
    "plt.yticks(fontsize=15)\n",
    "#plt.savefig(\"figures/plot_intro.pdf\", bbox_inches='tight', dpi = 300, format=\"pdf\")\n",
    "plt.show()"
   ]
  },
  {
   "cell_type": "code",
   "execution_count": 77,
   "id": "e2881312-b4a4-4595-a63c-6db049cdccd9",
   "metadata": {},
   "outputs": [],
   "source": [
    "cost_real = cost_real.T\n",
    "cost_linear = cost_linear.T\n",
    "cost_gp_200 = cost_gp_200.detach().numpy()\n",
    "cost_gp_15 = cost_gp_15.detach().numpy()"
   ]
  },
  {
   "cell_type": "code",
   "execution_count": 82,
   "id": "72c1df24-59e5-4bbf-8d03-1ea94e86d8f2",
   "metadata": {},
   "outputs": [
    {
     "data": {
      "image/png": "[encoded data removed]",
      "text/plain": [
       "<Figure size 1800x500 with 5 Axes>"
      ]
     },
     "metadata": {},
     "output_type": "display_data"
    }
   ],
   "source": [
    "import matplotlib.gridspec as gridspec\n",
    "\n",
    "# Set up Seaborn with usetex enabled\n",
    "sns.set(rc={'text.usetex': True})\n",
    "sns.set(style=\"white\")\n",
    "sns.set(font_scale=1.5)\n",
    "\n",
    "# Axis tick labels\n",
    "x_lab = np.array(['$0.1$', \"\", \"\", \"\", '$0.2$', \"\", \"\", \"\", '$0.4$', \"\", \"\", \"\", '$0.6$', \"\", \"\", \"\", '$0.8$', \"\", \"\", \"\", '$1.0$'])\n",
    "y_lab = np.array(['$0.1$', \"\", \"\", \"\", '$0.2$', \"\", \"\", \"\", '$0.4$', \"\", \"\", \"\", '$0.6$', \"\", \"\", \"\", '$0.8$', \"\", \"\", \"\", '$1.0$'])\n",
    "\n",
    "# Create figure and grid: 1 row, 5 columns (last for colorbar)\n",
    "fig = plt.figure(figsize=(18, 5))\n",
    "gs = gridspec.GridSpec(1, 5, width_ratios=[1, 1, 1, 1, 0.1])\n",
    "\n",
    "top_titles = ['Real Cost', 'GP (200 points)', 'GP (15 points)', 'Linear']\n",
    "subfigure_labels = ['(a)', '(b)', '(c)', '(d)']\n",
    "data_matrices = [cost_real, cost_gp_200, cost_gp_15, cost_linear]\n",
    "axes = []\n",
    "\n",
    "for idx, (top_title, data, label) in enumerate(zip(top_titles, data_matrices, subfigure_labels)):\n",
    "    ax = plt.subplot(gs[idx])\n",
    "    im = sns.heatmap(data, xticklabels=x_lab, yticklabels=y_lab,\n",
    "                     annot=False, cmap=\"Reds\", cbar=False, ax=ax)\n",
    "    ax.invert_yaxis()\n",
    "\n",
    "    # Top title and x-axis label for all subplots\n",
    "    ax.set_title(top_title, fontsize=20, pad=10)\n",
    "    ax.set_xlabel('$\\\\theta_1:$ infection rate', fontsize=20)\n",
    "    \n",
    "    # Only the leftmost subplot gets a y-axis label\n",
    "    if idx == 0:\n",
    "        ax.set_ylabel('$\\\\theta_2:$ recovery rate', fontsize=20)\n",
    "    else:\n",
    "        ax.set_ylabel('')\n",
    "    \n",
    "    # Bottom subfigure label\n",
    "    ax.text(0.5, -0.25, label, transform=ax.transAxes,\n",
    "            ha='center', va='center', fontsize=20)\n",
    "    \n",
    "    ax.tick_params(labelsize=15)\n",
    "    axes.append(ax)\n",
    "\n",
    "# Add a colorbar on the right\n",
    "cax = plt.subplot(gs[4])\n",
    "fig.colorbar(axes[0].collections[0], cax=cax, label='Cost [seconds]')\n",
    "\n",
    "plt.tight_layout()\n",
    "plt.savefig(\"figures/cost_func_comparison.pdf\", bbox_inches='tight', dpi=300)\n",
    "plt.show()\n"
   ]
  },
  {
   "cell_type": "code",
   "execution_count": 81,
   "id": "9cd89fe3-8f9a-4b4b-907c-f10f356e3438",
   "metadata": {},
   "outputs": [
    {
     "data": {
      "image/png": "[encoded data removed]",
      "text/plain": [
       "<Figure size 1200x1000 with 5 Axes>"
      ]
     },
     "metadata": {},
     "output_type": "display_data"
    }
   ],
   "source": [
    "# 2*2 old code\n",
    "import matplotlib.gridspec as gridspec\n",
    "\n",
    "# Setup\n",
    "sns.set(rc={'text.usetex': True})\n",
    "sns.set(style=\"white\")\n",
    "sns.set(font_scale=1.5)\n",
    "\n",
    "# Create labels\n",
    "x_lab = np.array(['$0.1$', \"\", \"\", \"\", '$0.2$', \"\", \"\", \"\", '$0.4$', \"\", \"\", \"\", '$0.6$', \"\", \"\", \"\", '$0.8$', \"\", \"\", \"\", '$1.0$'])\n",
    "y_lab = np.array(['$0.1$', \"\", \"\", \"\", '$0.2$', \"\", \"\", \"\", '$0.4$', \"\", \"\", \"\", '$0.6$', \"\", \"\", \"\", '$0.8$', \"\", \"\", \"\", '$1.0$'])\n",
    "\n",
    "# Create figure with custom grid\n",
    "fig = plt.figure(figsize=(12, 10))\n",
    "gs = gridspec.GridSpec(2, 3, width_ratios=[1, 1, 0.1])\n",
    "\n",
    "# Create the four subplots\n",
    "titles = ['Real Cost', 'GP (200 points)', 'GP (15 points)', 'Linear']\n",
    "data_matrices = [cost_real, cost_gp_200, cost_gp_15, cost_linear]\n",
    "axes = []\n",
    "\n",
    "for idx, (title, data) in enumerate(zip(titles, data_matrices)):\n",
    "    row = idx // 2\n",
    "    col = idx % 2\n",
    "    ax = plt.subplot(gs[row, col])\n",
    "    \n",
    "    # Create heatmap\n",
    "    im = sns.heatmap(data, xticklabels=x_lab, yticklabels=y_lab,\n",
    "                     annot=False, cmap=\"Reds\", cbar=False)\n",
    "    im.invert_yaxis()\n",
    "    \n",
    "    # Set labels and title\n",
    "    if row == 1:  # Bottom row\n",
    "        plt.xlabel('$\\\\theta_1:$ infection rate', size=20)\n",
    "    if col == 0:  # Left column\n",
    "        plt.ylabel('$\\\\theta_2:$ recovery rate', size=20)\n",
    "    plt.title(title, size=20, pad=10)\n",
    "    \n",
    "    plt.xticks(fontsize=15)\n",
    "    plt.yticks(fontsize=15)\n",
    "    \n",
    "    axes.append(im)\n",
    "\n",
    "# Add a single colorbar on the right\n",
    "cax = plt.subplot(gs[:, -1])\n",
    "fig.colorbar(axes[0].get_children()[0], cax=cax, label='Cost [seconds]')\n",
    "\n",
    "# Adjust layout\n",
    "plt.tight_layout()\n",
    "plt.savefig(\"figures/cost_comparison.pdf\", bbox_inches='tight', dpi=300)\n",
    "plt.show()"
   ]
  }
 ],
 "metadata": {
  "kernelspec": {
   "display_name": "Python [conda env:casbi]",
   "language": "python",
   "name": "conda-env-casbi-py"
  },
  "language_info": {
   "codemirror_mode": {
    "name": "ipython",
    "version": 3
   },
   "file_extension": ".py",
   "mimetype": "text/x-python",
   "name": "python",
   "nbconvert_exporter": "python",
   "pygments_lexer": "ipython3",
   "version": "3.9.19"
  }
 },
 "nbformat": 4,
 "nbformat_minor": 5
}
