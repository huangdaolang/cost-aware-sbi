{
 "cells": [
  {
   "cell_type": "code",
   "execution_count": 1,
   "id": "ed06cb3d",
   "metadata": {},
   "outputs": [],
   "source": [
    "import time\n",
    "import numpy as np\n",
    "import torch\n",
    "\n",
    "from sbi import utils as utils\n",
    "from cost_aware_snpe_c import CostAwareSNPE_C\n",
    "from sbi.inference.snpe.snpe_c import SNPE_C\n",
    "from sbi.utils.torchutils import *\n",
    "from sbi.utils import process_prior\n",
    "from sbi.utils.user_input_checks import *\n",
    "from simulators import temporal_sir\n",
    "\n",
    "from hydra import compose, initialize\n",
    "import hydra\n",
    "\n",
    "import gpytorch\n",
    "from gpytorch.models import ExactGP\n",
    "from gpytorch.kernels import ScaleKernel, RBFKernel\n",
    "from gpytorch.means import ConstantMean\n",
    "from gpytorch.distributions import MultivariateNormal\n",
    "from gpytorch.mlls import ExactMarginalLogLikelihood\n",
    "\n",
    "import matplotlib\n",
    "import matplotlib.pyplot as plt\n",
    "import seaborn as sns\n",
    "\n",
    "hydra.core.global_hydra.GlobalHydra.instance().clear()\n",
    "initialize(config_path=\"configs\", version_base=None)\n",
    "cfg = compose(config_name=\"train\")\n",
    "\n",
    "%load_ext autoreload\n",
    "%autoreload 2\n",
    "\n",
    "import warnings\n",
    "warnings.filterwarnings('ignore')"
   ]
  },
  {
   "cell_type": "code",
   "execution_count": 2,
   "id": "5b9f2164",
   "metadata": {},
   "outputs": [],
   "source": [
    "def MMD_unweighted(x, y, lengthscale):\n",
    "    \"\"\" Approximates the squared MMD between samples x_i ~ P and y_i ~ Q\n",
    "    \"\"\"\n",
    "\n",
    "    m = x.shape[0]\n",
    "    n = y.shape[0]\n",
    "\n",
    "    z = torch.cat((x, y), dim=0)\n",
    "\n",
    "    K = kernel_matrix(z, z, lengthscale)\n",
    "\n",
    "    kxx = K[0:m, 0:m]\n",
    "    kyy = K[m:(m + n), m:(m + n)]\n",
    "    kxy = K[0:m, m:(m + n)]\n",
    "\n",
    "    return (1 / m ** 2) * torch.sum(kxx) - (2 / (m * n)) * torch.sum(kxy) + (1 / n ** 2) * torch.sum(kyy)\n",
    "\n",
    "\n",
    "def median_heuristic(y):\n",
    "    a = torch.cdist(y, y)**2\n",
    "    return torch.sqrt(torch.median(a / 2))\n",
    "\n",
    "\n",
    "def kernel_matrix(x, y, l):\n",
    "    d = torch.cdist(x, y)**2\n",
    "\n",
    "    kernel = torch.exp(-(1 / (2 * l ** 2)) * d)\n",
    "\n",
    "    return kernel"
   ]
  },
  {
   "cell_type": "code",
   "execution_count": 3,
   "id": "f456b12e",
   "metadata": {},
   "outputs": [],
   "source": [
    "def calc_acc_prob(gp, likelihood, theta, prior_start, k):\n",
    "\n",
    "    with torch.no_grad(), gpytorch.settings.fast_pred_var():\n",
    "        cost = likelihood(model(theta)).mean\n",
    "\n",
    "        lower_cost = likelihood(model(prior_start)).mean\n",
    "    return (lower_cost ** k) / (cost**k)\n",
    "\n",
    "class GP(ExactGP):\n",
    "    def __init__(self, train_x, train_y, likelihood):\n",
    "        super(GP, self).__init__(train_x, train_y, likelihood)\n",
    "        self.mean_module = ConstantMean()\n",
    "        self.covar_module = ScaleKernel(RBFKernel())\n",
    "\n",
    "    def forward(self, x):\n",
    "        mean_x = self.mean_module(x)\n",
    "        covar_x = self.covar_module(x)\n",
    "        return MultivariateNormal(mean_x, covar_x)"
   ]
  },
  {
   "cell_type": "markdown",
   "id": "a0cf3641-c0ee-451a-8cb9-4aa0667e103e",
   "metadata": {},
   "source": [
    "# Temporal SIR"
   ]
  },
  {
   "cell_type": "code",
   "execution_count": 4,
   "id": "a008455c",
   "metadata": {},
   "outputs": [],
   "source": [
    "temp_sir = temporal_sir.TemporalSIR()"
   ]
  },
  {
   "cell_type": "markdown",
   "id": "168526c5",
   "metadata": {},
   "source": [
    "## Data generation"
   ]
  },
  {
   "cell_type": "code",
   "execution_count": null,
   "id": "d9af0cc6",
   "metadata": {},
   "outputs": [],
   "source": [
    "# DON'T NEED TO RUN AGAIN IF YOU ALREADY GENERATED THE REFERENCE DATA\n",
    "N = 50000\n",
    "\n",
    "temp_sir_theta_npe_large = temp_sir.sample_theta([N]).reshape(-1, temp_sir.theta_dim)\n",
    "temp_sir_x_npe_large = torch.empty([N, temp_sir.x_dim])\n",
    "for i in range(N):\n",
    "    temp_sir_x_npe_large[i, :] = temp_sir(temp_sir_theta_npe_large[i])\n",
    "\n",
    "temp_sir_obs_theta = torch.tensor([0.5, 0.5])\n",
    "temp_sir_obs_x = temp_sir(temp_sir_obs_theta)\n",
    "\n",
    "torch.save(temp_sir_x_npe_large, \"data/temp_sir_x_npe_large.pt\")\n",
    "torch.save(temp_sir_theta_npe_large, \"data/temp_sir_theta_npe_large.pt\")\n",
    "torch.save(temp_sir_obs_x, \"data/temp_sir_obs_x.pt\")\n",
    "torch.save(temp_sir_obs_theta, \"data/temp_sir_obs_theta.pt\")"
   ]
  },
  {
   "cell_type": "markdown",
   "id": "3025423c",
   "metadata": {},
   "source": [
    "## Load data"
   ]
  },
  {
   "cell_type": "code",
   "execution_count": 5,
   "id": "c2ec4400",
   "metadata": {},
   "outputs": [],
   "source": [
    "temp_sir_x_npe_large = torch.load(\"data/temp_sir_x_npe_large.pt\")\n",
    "temp_sir_theta_npe_large = torch.load(\"data/temp_sir_theta_npe_large.pt\")\n",
    "\n",
    "temp_sir_obs_x = torch.load(\"data/temp_sir_obs_x.pt\")\n",
    "temp_sir_obs_theta = torch.load(\"data/temp_sir_obs_theta.pt\")"
   ]
  },
  {
   "cell_type": "markdown",
   "id": "342c7fce",
   "metadata": {},
   "source": [
    "## Fit GP"
   ]
  },
  {
   "cell_type": "code",
   "execution_count": 6,
   "id": "894b0c0e-0cc8-4137-af56-51c53359f91b",
   "metadata": {},
   "outputs": [],
   "source": [
    "n_train_pair = 500 # number of pairs used to fit GP\n",
    "n_rep = 20 # number of repeats to get the average cost"
   ]
  },
  {
   "cell_type": "code",
   "execution_count": 31,
   "id": "a2275d8a",
   "metadata": {},
   "outputs": [],
   "source": [
    "X = temp_sir_theta_npe_large[:n_train_pair]\n",
    "\n",
    "times_train = torch.zeros(n_train_pair)\n",
    "\n",
    "for i in range(n_train_pair):\n",
    "    st = time.time()\n",
    "    for _ in range(n_rep):\n",
    "        result = temp_sir(temp_sir_theta_npe_large[i])\n",
    "    et = time.time()\n",
    "    times_train[i] = (et - st) / n_rep\n",
    "\n",
    "# save GP training samples\n",
    "torch.save(X, \"data/temp_sir_gp_x.pt\")\n",
    "torch.save(times_train, \"data/temp_sir_gp_y.pt\")"
   ]
  },
  {
   "cell_type": "code",
   "execution_count": 33,
   "id": "3f311377",
   "metadata": {
    "scrolled": true
   },
   "outputs": [
    {
     "name": "stdout",
     "output_type": "stream",
     "text": [
      "Iter 1/200 - Loss: 0.754936158657074\n",
      "Iter 2/200 - Loss: 0.7175566554069519\n",
      "Iter 3/200 - Loss: 0.6794660091400146\n",
      "Iter 4/200 - Loss: 0.6406698226928711\n",
      "Iter 5/200 - Loss: 0.6011747717857361\n",
      "Iter 6/200 - Loss: 0.5609723925590515\n",
      "Iter 7/200 - Loss: 0.520072340965271\n",
      "Iter 8/200 - Loss: 0.47849100828170776\n",
      "Iter 9/200 - Loss: 0.4362379014492035\n",
      "Iter 10/200 - Loss: 0.3933223783969879\n",
      "Iter 11/200 - Loss: 0.3497641086578369\n",
      "Iter 12/200 - Loss: 0.3055850863456726\n",
      "Iter 13/200 - Loss: 0.2608034610748291\n",
      "Iter 14/200 - Loss: 0.21543847024440765\n",
      "Iter 15/200 - Loss: 0.16951702535152435\n",
      "Iter 16/200 - Loss: 0.12306603789329529\n",
      "Iter 17/200 - Loss: 0.07610797137022018\n",
      "Iter 18/200 - Loss: 0.028669554740190506\n",
      "Iter 19/200 - Loss: -0.019217833876609802\n",
      "Iter 20/200 - Loss: -0.06752941757440567\n",
      "Iter 21/200 - Loss: -0.11623870581388474\n",
      "Iter 22/200 - Loss: -0.16531427204608917\n",
      "Iter 23/200 - Loss: -0.21473126113414764\n",
      "Iter 24/200 - Loss: -0.26446259021759033\n",
      "Iter 25/200 - Loss: -0.31447893381118774\n",
      "Iter 26/200 - Loss: -0.36475837230682373\n",
      "Iter 27/200 - Loss: -0.41527092456817627\n",
      "Iter 28/200 - Loss: -0.4659944474697113\n",
      "Iter 29/200 - Loss: -0.5169030427932739\n",
      "Iter 30/200 - Loss: -0.5679739117622375\n",
      "Iter 31/200 - Loss: -0.619182288646698\n",
      "Iter 32/200 - Loss: -0.6705074906349182\n",
      "Iter 33/200 - Loss: -0.7219241261482239\n",
      "Iter 34/200 - Loss: -0.773414134979248\n",
      "Iter 35/200 - Loss: -0.8249526023864746\n",
      "Iter 36/200 - Loss: -0.876518726348877\n",
      "Iter 37/200 - Loss: -0.9280943274497986\n",
      "Iter 38/200 - Loss: -0.979654848575592\n",
      "Iter 39/200 - Loss: -1.0311799049377441\n",
      "Iter 40/200 - Loss: -1.0826483964920044\n",
      "Iter 41/200 - Loss: -1.134039044380188\n",
      "Iter 42/200 - Loss: -1.185333490371704\n",
      "Iter 43/200 - Loss: -1.2365097999572754\n",
      "Iter 44/200 - Loss: -1.2875422239303589\n",
      "Iter 45/200 - Loss: -1.338407278060913\n",
      "Iter 46/200 - Loss: -1.3890823125839233\n",
      "Iter 47/200 - Loss: -1.4395488500595093\n",
      "Iter 48/200 - Loss: -1.4897868633270264\n",
      "Iter 49/200 - Loss: -1.5397636890411377\n",
      "Iter 50/200 - Loss: -1.5894509553909302\n",
      "Iter 51/200 - Loss: -1.6388312578201294\n",
      "Iter 52/200 - Loss: -1.6878867149353027\n",
      "Iter 53/200 - Loss: -1.7365832328796387\n",
      "Iter 54/200 - Loss: -1.7848953008651733\n",
      "Iter 55/200 - Loss: -1.832815408706665\n",
      "Iter 56/200 - Loss: -1.8803303241729736\n",
      "Iter 57/200 - Loss: -1.9274296760559082\n",
      "Iter 58/200 - Loss: -1.9741332530975342\n",
      "Iter 59/200 - Loss: -2.020487070083618\n",
      "Iter 60/200 - Loss: -2.0665674209594727\n",
      "Iter 61/200 - Loss: -2.112506866455078\n",
      "Iter 62/200 - Loss: -2.158494710922241\n",
      "Iter 63/200 - Loss: -2.2047250270843506\n",
      "Iter 64/200 - Loss: -2.251309871673584\n",
      "Iter 65/200 - Loss: -2.2981460094451904\n",
      "Iter 66/200 - Loss: -2.34483003616333\n",
      "Iter 67/200 - Loss: -2.3907647132873535\n",
      "Iter 68/200 - Loss: -2.4353930950164795\n",
      "Iter 69/200 - Loss: -2.4784204959869385\n",
      "Iter 70/200 - Loss: -2.5198357105255127\n",
      "Iter 71/200 - Loss: -2.559812307357788\n",
      "Iter 72/200 - Loss: -2.598550796508789\n",
      "Iter 73/200 - Loss: -2.6362154483795166\n",
      "Iter 74/200 - Loss: -2.6729249954223633\n",
      "Iter 75/200 - Loss: -2.708756446838379\n",
      "Iter 76/200 - Loss: -2.7437210083007812\n",
      "Iter 77/200 - Loss: -2.777780771255493\n",
      "Iter 78/200 - Loss: -2.8108620643615723\n",
      "Iter 79/200 - Loss: -2.8428854942321777\n",
      "Iter 80/200 - Loss: -2.873767614364624\n",
      "Iter 81/200 - Loss: -2.9034268856048584\n",
      "Iter 82/200 - Loss: -2.9318251609802246\n",
      "Iter 83/200 - Loss: -2.9589157104492188\n",
      "Iter 84/200 - Loss: -2.9846935272216797\n",
      "Iter 85/200 - Loss: -3.0091657638549805\n",
      "Iter 86/200 - Loss: -3.032357692718506\n",
      "Iter 87/200 - Loss: -3.054330825805664\n",
      "Iter 88/200 - Loss: -3.0751683712005615\n",
      "Iter 89/200 - Loss: -3.0949416160583496\n",
      "Iter 90/200 - Loss: -3.113779306411743\n",
      "Iter 91/200 - Loss: -3.131837844848633\n",
      "Iter 92/200 - Loss: -3.1492960453033447\n",
      "Iter 93/200 - Loss: -3.166301965713501\n",
      "Iter 94/200 - Loss: -3.1827852725982666\n",
      "Iter 95/200 - Loss: -3.198234796524048\n",
      "Iter 96/200 - Loss: -3.2118475437164307\n",
      "Iter 97/200 - Loss: -3.2240545749664307\n",
      "Iter 98/200 - Loss: -3.2352476119995117\n",
      "Iter 99/200 - Loss: -3.2460579872131348\n",
      "Iter 100/200 - Loss: -3.2570688724517822\n",
      "Iter 101/200 - Loss: -3.267580032348633\n",
      "Iter 102/200 - Loss: -3.2777695655822754\n",
      "Iter 103/200 - Loss: -3.287046432495117\n",
      "Iter 104/200 - Loss: -3.2952070236206055\n",
      "Iter 105/200 - Loss: -3.302791118621826\n",
      "Iter 106/200 - Loss: -3.3097286224365234\n",
      "Iter 107/200 - Loss: -3.3164925575256348\n",
      "Iter 108/200 - Loss: -3.3233861923217773\n",
      "Iter 109/200 - Loss: -3.3299286365509033\n",
      "Iter 110/200 - Loss: -3.3358256816864014\n",
      "Iter 111/200 - Loss: -3.341172933578491\n",
      "Iter 112/200 - Loss: -3.346391201019287\n",
      "Iter 113/200 - Loss: -3.351349115371704\n",
      "Iter 114/200 - Loss: -3.355656623840332\n",
      "Iter 115/200 - Loss: -3.35945987701416\n",
      "Iter 116/200 - Loss: -3.363474130630493\n",
      "Iter 117/200 - Loss: -3.368133306503296\n",
      "Iter 118/200 - Loss: -3.371703624725342\n",
      "Iter 119/200 - Loss: -3.3743388652801514\n",
      "Iter 120/200 - Loss: -3.3777763843536377\n",
      "Iter 121/200 - Loss: -3.381211996078491\n",
      "Iter 122/200 - Loss: -3.3833086490631104\n",
      "Iter 123/200 - Loss: -3.3855371475219727\n",
      "Iter 124/200 - Loss: -3.388841390609741\n",
      "Iter 125/200 - Loss: -3.3913822174072266\n",
      "Iter 126/200 - Loss: -3.3927290439605713\n",
      "Iter 127/200 - Loss: -3.3945741653442383\n",
      "Iter 128/200 - Loss: -3.3973681926727295\n",
      "Iter 129/200 - Loss: -3.399221181869507\n",
      "Iter 130/200 - Loss: -3.400256395339966\n",
      "Iter 131/200 - Loss: -3.402268648147583\n",
      "Iter 132/200 - Loss: -3.4045350551605225\n",
      "Iter 133/200 - Loss: -3.4055957794189453\n",
      "Iter 134/200 - Loss: -3.406999111175537\n",
      "Iter 135/200 - Loss: -3.4089505672454834\n",
      "Iter 136/200 - Loss: -3.4099955558776855\n",
      "Iter 137/200 - Loss: -3.4113540649414062\n",
      "Iter 138/200 - Loss: -3.412984848022461\n",
      "Iter 139/200 - Loss: -3.4139156341552734\n",
      "Iter 140/200 - Loss: -3.415294885635376\n",
      "Iter 141/200 - Loss: -3.4164657592773438\n",
      "Iter 142/200 - Loss: -3.4174134731292725\n",
      "Iter 143/200 - Loss: -3.4186933040618896\n",
      "Iter 144/200 - Loss: -3.4195566177368164\n",
      "Iter 145/200 - Loss: -3.4206714630126953\n",
      "Iter 146/200 - Loss: -3.4215781688690186\n",
      "Iter 147/200 - Loss: -3.422487258911133\n",
      "Iter 148/200 - Loss: -3.423410654067993\n",
      "Iter 149/200 - Loss: -3.4242026805877686\n",
      "Iter 150/200 - Loss: -3.4251084327697754\n",
      "Iter 151/200 - Loss: -3.425839424133301\n",
      "Iter 152/200 - Loss: -3.4266903400421143\n",
      "Iter 153/200 - Loss: -3.427377939224243\n",
      "Iter 154/200 - Loss: -3.4281601905822754\n",
      "Iter 155/200 - Loss: -3.4288241863250732\n",
      "Iter 156/200 - Loss: -3.429546356201172\n",
      "Iter 157/200 - Loss: -3.430199146270752\n",
      "Iter 158/200 - Loss: -3.4308643341064453\n",
      "Iter 159/200 - Loss: -3.4314985275268555\n",
      "Iter 160/200 - Loss: -3.4321084022521973\n",
      "Iter 161/200 - Loss: -3.4327220916748047\n",
      "Iter 162/200 - Loss: -3.4332895278930664\n",
      "Iter 163/200 - Loss: -3.433882713317871\n",
      "Iter 164/200 - Loss: -3.4344189167022705\n",
      "Iter 165/200 - Loss: -3.434980869293213\n",
      "Iter 166/200 - Loss: -3.4354937076568604\n",
      "Iter 167/200 - Loss: -3.4360170364379883\n",
      "Iter 168/200 - Loss: -3.4365174770355225\n",
      "Iter 169/200 - Loss: -3.4370028972625732\n",
      "Iter 170/200 - Loss: -3.4374916553497314\n",
      "Iter 171/200 - Loss: -3.437948226928711\n",
      "Iter 172/200 - Loss: -3.438413619995117\n",
      "Iter 173/200 - Loss: -3.4388530254364014\n",
      "Iter 174/200 - Loss: -3.439289093017578\n",
      "Iter 175/200 - Loss: -3.439718723297119\n",
      "Iter 176/200 - Loss: -3.4401299953460693\n",
      "Iter 177/200 - Loss: -3.4405434131622314\n",
      "Iter 178/200 - Loss: -3.440938949584961\n",
      "Iter 179/200 - Loss: -3.4413294792175293\n",
      "Iter 180/200 - Loss: -3.441714286804199\n",
      "Iter 181/200 - Loss: -3.442085027694702\n",
      "Iter 182/200 - Loss: -3.4424550533294678\n",
      "Iter 183/200 - Loss: -3.4428138732910156\n",
      "Iter 184/200 - Loss: -3.4431655406951904\n",
      "Iter 185/200 - Loss: -3.443512201309204\n",
      "Iter 186/200 - Loss: -3.443849563598633\n",
      "Iter 187/200 - Loss: -3.4441821575164795\n",
      "Iter 188/200 - Loss: -3.4445083141326904\n",
      "Iter 189/200 - Loss: -3.444826602935791\n",
      "Iter 190/200 - Loss: -3.445141553878784\n",
      "Iter 191/200 - Loss: -3.4454476833343506\n",
      "Iter 192/200 - Loss: -3.4457499980926514\n",
      "Iter 193/200 - Loss: -3.446046829223633\n",
      "Iter 194/200 - Loss: -3.4463369846343994\n",
      "Iter 195/200 - Loss: -3.4466230869293213\n",
      "Iter 196/200 - Loss: -3.446904182434082\n",
      "Iter 197/200 - Loss: -3.447178602218628\n",
      "Iter 198/200 - Loss: -3.447450637817383\n",
      "Iter 199/200 - Loss: -3.447716236114502\n",
      "Iter 200/200 - Loss: -3.4479780197143555\n"
     ]
    }
   ],
   "source": [
    "likelihood = gpytorch.likelihoods.GaussianLikelihood()\n",
    "model = GP(X, times_train, likelihood)\n",
    "model.float()\n",
    "model.train()\n",
    "likelihood.train()\n",
    "\n",
    "optimizer = torch.optim.Adam(model.parameters(), lr=0.1)\n",
    "\n",
    "mll = ExactMarginalLogLikelihood(likelihood, model)\n",
    "\n",
    "training_iterations = 200\n",
    "for i in range(training_iterations):\n",
    "    optimizer.zero_grad()\n",
    "    output = model(X.float())\n",
    "    loss = -mll(output, times_train)\n",
    "    loss.backward()\n",
    "    optimizer.step()\n",
    "    print(f'Iter {i + 1}/{training_iterations} - Loss: {loss.item()}')\n",
    "\n",
    "torch.save({'model_state_dict': model.state_dict(), 'likelihood_state_dict': likelihood.state_dict()}, 'data/temp_sir_gp.pth')"
   ]
  },
  {
   "cell_type": "code",
   "execution_count": 7,
   "id": "0b3a7731-5727-497c-8757-4e6439394ba4",
   "metadata": {},
   "outputs": [
    {
     "data": {
      "text/plain": [
       "GaussianLikelihood(\n",
       "  (noise_covar): HomoskedasticNoise(\n",
       "    (raw_noise_constraint): GreaterThan(1.000E-04)\n",
       "  )\n",
       ")"
      ]
     },
     "execution_count": 7,
     "metadata": {},
     "output_type": "execute_result"
    }
   ],
   "source": [
    "state_dicts = torch.load('data/temp_sir_gp.pth')   # Load GP params\n",
    "\n",
    "# Load GP data\n",
    "X = torch.load(\"data/temp_sir_gp_x.pt\")\n",
    "times_train = torch.load(\"data/temp_sir_gp_y.pt\")\n",
    "\n",
    "likelihood = gpytorch.likelihoods.GaussianLikelihood()\n",
    "model = GP(X, times_train, likelihood)\n",
    "\n",
    "model.load_state_dict(state_dicts['model_state_dict'])\n",
    "likelihood.load_state_dict(state_dicts['likelihood_state_dict'])\n",
    "\n",
    "model.eval()\n",
    "likelihood.eval()"
   ]
  },
  {
   "cell_type": "code",
   "execution_count": 7,
   "id": "52d58f85",
   "metadata": {},
   "outputs": [],
   "source": [
    "N = 50\n",
    "n_rep = 20\n",
    "\n",
    "beta = torch.linspace(0.1, 1, N)\n",
    "beta_fixed = 1\n",
    "\n",
    "gamma_fixed = 0.1\n",
    "gamma = torch.linspace(0.1, 1, N)\n",
    "\n",
    "beta_fixed_combined = beta_fixed * torch.ones_like(gamma)\n",
    "combination_beta_fixed_gamma = torch.stack((beta_fixed_combined, gamma), dim=1)\n",
    "\n",
    "gamma_fixed_combined = gamma_fixed * torch.ones_like(beta)\n",
    "combination_beta_gamma_fixed = torch.stack((beta, gamma_fixed_combined), dim=1)"
   ]
  },
  {
   "cell_type": "code",
   "execution_count": 10,
   "id": "e1e191b6",
   "metadata": {},
   "outputs": [],
   "source": [
    "times_vs_beta = torch.zeros(N)\n",
    "for i in range(N):\n",
    "    st = time.time()\n",
    "    for _ in range(n_rep):\n",
    "        result = temp_sir(combination_beta_gamma_fixed[i])\n",
    "    et = time.time()\n",
    "    times_vs_beta[i] = (et - st) / n_rep\n",
    "\n",
    "times_vs_gamma = torch.zeros(N)\n",
    "for i in range(N):\n",
    "    st = time.time()\n",
    "    for _ in range(n_rep):\n",
    "        result = temp_sir(combination_beta_fixed_gamma[i])\n",
    "    et = time.time()\n",
    "    times_vs_gamma[i] = (et - st) / n_rep\n",
    "\n",
    "with torch.no_grad(), gpytorch.settings.fast_pred_var():\n",
    "    observed_pred_beta = likelihood(model(combination_beta_gamma_fixed)).mean\n",
    "    observed_pred_gamma = likelihood(model(combination_beta_fixed_gamma)).mean"
   ]
  },
  {
   "cell_type": "code",
   "execution_count": 13,
   "id": "09e0ae2f",
   "metadata": {},
   "outputs": [
    {
     "data": {
      "image/png": "[encoded data removed]",
      "text/plain": [
       "<Figure size 720x288 with 2 Axes>"
      ]
     },
     "metadata": {},
     "output_type": "display_data"
    }
   ],
   "source": [
    "plt.figure(figsize=[10,4])\n",
    "plt.subplot(1,2,1)\n",
    "plt.plot(beta, observed_pred_beta, label=\"Fitted GP\", color=\"C1\", linewidth=4, zorder=0)\n",
    "plt.scatter(beta, times_vs_beta, label=\"Measured cost\")\n",
    "plt.legend()\n",
    "\n",
    "plt.subplot(1,2,2)\n",
    "plt.plot(gamma, observed_pred_gamma, label=\"Fitted GP\", color=\"C1\", linewidth=4, zorder=0)\n",
    "plt.scatter(gamma, times_vs_gamma, label=\"Measured cost\")\n",
    "plt.show()"
   ]
  },
  {
   "cell_type": "code",
   "execution_count": 14,
   "id": "171317b7-78cf-4002-ae73-c7fd051d5d02",
   "metadata": {},
   "outputs": [
    {
     "name": "stdout",
     "output_type": "stream",
     "text": [
      "g_min with k=0.5:  0.014827649109065533\n",
      "g_min with k=1:  0.00021985918283462524\n",
      "g_min with k=2:  4.833805888893039e-08\n",
      "g_max with k=0.5:  0.2857629060745239\n",
      "g_max with k=1:  0.0816604346036911\n",
      "g_max with k=2:  0.006668426562100649\n"
     ]
    }
   ],
   "source": [
    "prior_start = torch.tensor([0.1, 1.0]).reshape(-1, 2)\n",
    "prior_end = torch.tensor([1.0, 0.1]).reshape(-1, 2)\n",
    "\n",
    "g_min = likelihood(model(prior_start)).mean\n",
    "g_max = likelihood(model(prior_end)).mean\n",
    "\n",
    "print(\"g_min with k=0.5: \", (g_min ** 0.5).item())\n",
    "print(\"g_min with k=1: \", (g_min ** 1).item())\n",
    "print(\"g_min with k=2: \", (g_min ** 2).item())\n",
    "\n",
    "print(\"g_max with k=0.5: \", (g_max ** 0.5).item())\n",
    "print(\"g_max with k=1: \", (g_max ** 1).item())\n",
    "print(\"g_max with k=2: \", (g_max ** 2).item())"
   ]
  },
  {
   "cell_type": "code",
   "execution_count": 15,
   "id": "370c8db5",
   "metadata": {},
   "outputs": [],
   "source": [
    "prior_start = torch.tensor([0.1, 1.0]).reshape(-1, 2)\n",
    "k = 1\n",
    "\n",
    "num_sim = 5000\n",
    "theta_tilde = torch.zeros([num_sim, 2])\n",
    "count = 0\n",
    "while count < num_sim:\n",
    "    theta = temp_sir.sample_theta([1]).reshape(-1, 2)\n",
    "    if calc_acc_prob(model, likelihood, theta, prior_start, k) > torch.rand(1):\n",
    "        theta_tilde[count] = theta.reshape(-1)\n",
    "        count += 1\n",
    "w = likelihood(model(theta_tilde)).mean.detach() ** k\n",
    "\n",
    "theta_prior = temp_sir.sample_theta([num_sim]).reshape(-1, 2)"
   ]
  },
  {
   "cell_type": "code",
   "execution_count": 16,
   "id": "affb5ee4",
   "metadata": {},
   "outputs": [
    {
     "data": {
      "image/png": "[encoded data removed]",
      "text/plain": [
       "<Figure size 180x180 with 1 Axes>"
      ]
     },
     "metadata": {},
     "output_type": "display_data"
    }
   ],
   "source": [
    "plt.hist(theta_prior.detach().numpy()[:, 0], bins=10)\n",
    "plt.hist(theta_tilde.detach().numpy()[:, 0], bins=10)\n",
    "plt.show()"
   ]
  },
  {
   "cell_type": "markdown",
   "id": "707037b9",
   "metadata": {},
   "source": [
    "## CEG ESS"
   ]
  },
  {
   "cell_type": "code",
   "execution_count": 23,
   "id": "4bf59ea9",
   "metadata": {},
   "outputs": [],
   "source": [
    "num_sim = 10000\n",
    "num_repeats = 2\n",
    "k = np.array([0, 0.2, 0.3, 0.4, 0.5, 0.6, 0.7, 0.8]) # Exponent of the penaly function g(z) = z^k\n",
    "\n",
    "ess_cost_aware = np.zeros([k.size, num_repeats])\n",
    "ceg = np.zeros([k.size, num_repeats])\n",
    "\n",
    "for ind in range(k.size):\n",
    "    for j in range(num_repeats):\n",
    "        \n",
    "        if ind == 0:\n",
    "            theta = temp_sir.sample_theta([num_sim])\n",
    "            ess_cost_aware[ind, j] = 1\n",
    "            ceg[ind, j] = 1\n",
    "        else:\n",
    "            # Sampling from cost-modified prior\n",
    "            theta_tilde = torch.zeros([num_sim, 2])\n",
    "            count = 0\n",
    "            while count < num_sim:\n",
    "                param_value = temp_sir.sample_theta([1]).reshape(-1, 2)\n",
    "                if calc_acc_prob(model, likelihood, param_value, prior_start, k[ind]) > torch.rand(1):\n",
    "                    theta_tilde[count] = param_value.reshape(-1)\n",
    "                    count += 1\n",
    "\n",
    "            w_u = likelihood(model(theta_tilde)).mean.detach() ** k[ind]   #self-normalised importance weights\n",
    "            \n",
    "            # Compute CEG\n",
    "            ceg[ind, j] = torch.mean(likelihood(model(theta)).mean.detach()) / torch.mean(likelihood(model(theta_tilde)).mean.detach())\n",
    "            # Compute ESS\n",
    "            ess_cost_aware[ind, j] = ((w_u.sum())**2 / torch.square(w_u).sum()) / num_sim\n",
    "print(ess_cost_aware * ceg)"
   ]
  },
  {
   "cell_type": "markdown",
   "id": "09f4a0b8",
   "metadata": {},
   "source": [
    "## Train reference GP"
   ]
  },
  {
   "cell_type": "code",
   "execution_count": 20,
   "id": "80fa4df8",
   "metadata": {},
   "outputs": [
    {
     "name": "stdout",
     "output_type": "stream",
     "text": [
      " Neural network successfully converged after 62 epochs."
     ]
    },
    {
     "data": {
      "application/vnd.jupyter.widget-view+json": {
       "model_id": "8707dfa0e57049df9748ca33a38e7787",
       "version_major": 2,
       "version_minor": 0
      },
      "text/plain": [
       "Drawing 1000 posterior samples:   0%|          | 0/1000 [00:00<?, ?it/s]"
      ]
     },
     "metadata": {},
     "output_type": "display_data"
    }
   ],
   "source": [
    "# DON'T NEED TO RUN\n",
    "temp_sir_inference_npe_large = SNPE_C()\n",
    "temp_sir_nn_npe_large = temp_sir_inference_npe_large.append_simulations(\n",
    "    temp_sir_theta_npe_large, temp_sir_x_npe_large).train()\n",
    "\n",
    "prior, *_ = process_prior(temp_sir.prior)\n",
    "\n",
    "temp_sir_post_npe_large = temp_sir_inference_npe_large.build_posterior(temp_sir_nn_npe_large, prior=prior)\n",
    "temp_sir_post_reference = temp_sir_post_npe_large.sample((1000,), x=temp_sir_obs_x)\n",
    "\n",
    "torch.save(temp_sir_post_reference, \"data/temp_sir_post_reference.pt\")"
   ]
  },
  {
   "cell_type": "code",
   "execution_count": 9,
   "id": "e200220a",
   "metadata": {},
   "outputs": [],
   "source": [
    "temp_sir_post_reference = torch.load(\"data/temp_sir_post_reference.pt\")"
   ]
  },
  {
   "cell_type": "markdown",
   "id": "168b56b9-4c01-44ab-aa35-6007e9c75ba5",
   "metadata": {},
   "source": [
    "# Statistics over multiple runs"
   ]
  },
  {
   "cell_type": "code",
   "execution_count": null,
   "id": "38ce1516-121a-4a01-bc0c-9e6a4893d4eb",
   "metadata": {},
   "outputs": [],
   "source": [
    "# NPE results\n",
    "n_run = 50\n",
    "mmd_npe = torch.zeros([n_run])\n",
    "posterior_samples_npe = torch.zeros([n_run, 1000, 2])\n",
    "cost_npe = torch.zeros([n_run])\n",
    "\n",
    "for i in range(n_run):\n",
    "    checkpoint_path = f\"sims/temp_sir/2.0/{i+1}/ckpt.tar\"\n",
    "    checkpoint = torch.load(checkpoint_path, map_location='cpu', weights_only=False)\n",
    "\n",
    "    posterior_npe = checkpoint[\"posterior_npe\"]\n",
    "    posterior_samples_npe[i] = posterior_npe.sample((1000,), x=temp_sir_obs_x, show_progress_bars=False)\n",
    "    \n",
    "    mmd_npe[i] = MMD_unweighted(posterior_samples_npe[i], temp_sir_post_reference, lengthscale=median_heuristic(temp_sir_post_reference))\n",
    "\n",
    "mmd_npe = mmd_npe.detach().numpy() \n",
    "mmd_npe_mean = np.mean(mmd_npe)\n",
    "mmd_npe_std = np.std(mmd_npe)\n",
    "\n",
    "print(f\"NPE MMD mean {mmd_npe_mean:.2f} (std {mmd_npe_std:.2f})\")"
   ]
  },
  {
   "cell_type": "code",
   "execution_count": 11,
   "id": "6ef58d36-2bee-4fb7-b63b-07b4c4ed51a0",
   "metadata": {},
   "outputs": [],
   "source": [
    "def get_results(k, n_run):\n",
    "    mmd_canpe = torch.zeros([n_run])\n",
    "    posterior_samples_canpe = torch.zeros([n_run, 1000, 2])\n",
    "    cost_canpe = torch.zeros([n_run])\n",
    "    cost_saved = torch.zeros([n_run])\n",
    "    \n",
    "    for i in range(n_run):\n",
    "        checkpoint_path = f\"sims/temp_sir/{k}/{i+1}/ckpt.tar\"\n",
    "        checkpoint = torch.load(checkpoint_path, map_location='cpu')\n",
    "    \n",
    "        posterior_canpe = checkpoint[\"posterior_canpe\"]\n",
    "\n",
    "        posterior_samples_canpe[i] = posterior_canpe.sample((1000,), x=temp_sir_obs_x, show_progress_bars=False)\n",
    "\n",
    "        mmd_canpe[i] = MMD_unweighted(posterior_samples_canpe[i], temp_sir_post_reference, lengthscale=median_heuristic(temp_sir_post_reference))\n",
    "        cost_npe[i] = torch.tensor(checkpoint[\"cost_npe\"])\n",
    "        cost_canpe[i] = torch.tensor(checkpoint[\"cost_canpe\"])\n",
    "        cost_saved[i] = 1 - cost_canpe[i] / cost_npe[i]\n",
    "            \n",
    "    mmd_canpe = mmd_canpe.detach().numpy() \n",
    "    mmd_canpe_mean = np.mean(mmd_canpe)\n",
    "    mmd_canpe_std = np.std(mmd_canpe)\n",
    "\n",
    "    cost_canpe = cost_canpe.detach().numpy() \n",
    "    cost_canpe_mean = np.mean(cost_canpe)\n",
    "    cost_canpe_std = np.std(cost_canpe)\n",
    "    \n",
    "    cost_saved = cost_saved.detach().numpy()\n",
    "    cost_saved_mean = np.mean(cost_saved)\n",
    "    cost_saved_std = np.std(cost_saved)\n",
    "    \n",
    "    print(f\"CA-NPE MMD mean {mmd_canpe_mean:.2f} (std {mmd_canpe_std:.2f})\")\n",
    "    # print(f\"CA-NPE cost mean {cost_canpe_mean:.2f} (std {cost_canpe_std:.2f})\")\n",
    "    print(f\"Cost saved: {cost_saved_mean:.2f}(std {cost_saved_std:.2f})\")"
   ]
  },
  {
   "cell_type": "code",
   "execution_count": null,
   "id": "b7a7881b",
   "metadata": {},
   "outputs": [],
   "source": [
    "get_results('0.5', 50)"
   ]
  },
  {
   "cell_type": "code",
   "execution_count": null,
   "id": "8c7fdb2c",
   "metadata": {},
   "outputs": [],
   "source": [
    "get_results('1.0', 50)"
   ]
  },
  {
   "cell_type": "code",
   "execution_count": null,
   "id": "5e0a1ca0",
   "metadata": {},
   "outputs": [],
   "source": [
    "get_results('2.0', 50)"
   ]
  },
  {
   "cell_type": "code",
   "execution_count": null,
   "id": "203127cc-b5e8-46d0-ab4d-fa3cc69fcdfb",
   "metadata": {
    "scrolled": true
   },
   "outputs": [],
   "source": [
    "get_results('mixture', 50)"
   ]
  },
  {
   "cell_type": "markdown",
   "id": "13ce69eb",
   "metadata": {},
   "source": [
    "# Figure 1"
   ]
  },
  {
   "cell_type": "code",
   "execution_count": 39,
   "id": "94ddcdcb",
   "metadata": {},
   "outputs": [],
   "source": [
    "N = 20\n",
    "n_rep = 50\n",
    "\n",
    "beta_range = np.linspace(0, 1, N)\n",
    "gamma_range = np.linspace(0, 1, N)\n",
    "\n",
    "beta_grid, gamma_grid = np.meshgrid(beta_range, gamma_range)\n",
    "theta_grid = np.hstack((beta_grid.reshape(-1, 1), gamma_grid.reshape(-1, 1)))\n",
    "\n",
    "cost_real = np.zeros([N, N])"
   ]
  },
  {
   "cell_type": "code",
   "execution_count": 179,
   "id": "e9f9db37",
   "metadata": {},
   "outputs": [],
   "source": [
    "for i in range(N):\n",
    "    for j in range(N):\n",
    "        st = time.time()\n",
    "        for _ in range(n_rep):\n",
    "            result = temp_sir(torch.tensor([beta_range[i], gamma_range[j]]))\n",
    "        et = time.time()\n",
    "        cost_real[i, j] = (et - st) / n_rep\n",
    "    print(i)"
   ]
  },
  {
   "cell_type": "code",
   "execution_count": 41,
   "id": "54e1e526",
   "metadata": {},
   "outputs": [
    {
     "data": {
      "image/png": "[encoded data removed]",
      "text/plain": [
       "<Figure size 540x432 with 2 Axes>"
      ]
     },
     "metadata": {},
     "output_type": "display_data"
    }
   ],
   "source": [
    "cost_real = np.load(\"data/temporal_sir_cost_fig1.npy\")\n",
    "\n",
    "beta_range = np.linspace(0, 1, N)\n",
    "gamma_range = np.linspace(0, 1, N)\n",
    "sns.set(style=\"white\")\n",
    "\n",
    "plt.figure(figsize=(7.5, 6))\n",
    "sns.heatmap(cost_real.T, xticklabels=np.round(beta_range, 1), yticklabels=np.round(gamma_range, 1), annot=False, fmt=\".2f\", cmap='Reds').invert_yaxis()\n",
    "plt.xlabel('$\\\\theta_1$', size=20)\n",
    "plt.ylabel('$\\\\theta_2$', size=20)\n",
    "plt.xticks(fontsize=15)\n",
    "plt.yticks(fontsize=15)\n",
    "plt.show()"
   ]
  },
  {
   "cell_type": "code",
   "execution_count": null,
   "id": "ed3d1a74",
   "metadata": {},
   "outputs": [],
   "source": []
  }
 ],
 "metadata": {
  "kernelspec": {
   "display_name": "Python 3 (ipykernel)",
   "language": "python",
   "name": "python3"
  },
  "language_info": {
   "codemirror_mode": {
    "name": "ipython",
    "version": 3
   },
   "file_extension": ".py",
   "mimetype": "text/x-python",
   "name": "python",
   "nbconvert_exporter": "python",
   "pygments_lexer": "ipython3",
   "version": "3.9.12"
  }
 },
 "nbformat": 4,
 "nbformat_minor": 5
}
