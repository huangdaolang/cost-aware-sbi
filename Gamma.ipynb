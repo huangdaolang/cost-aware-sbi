{
 "cells": [
  {
   "cell_type": "code",
   "execution_count": 1,
   "id": "c4e8e44b",
   "metadata": {},
   "outputs": [
    {
     "name": "stderr",
     "output_type": "stream",
     "text": [
      "/opt/miniconda3/envs/casbi/lib/python3.10/site-packages/tqdm/auto.py:21: TqdmWarning: IProgress not found. Please update jupyter and ipywidgets. See https://ipywidgets.readthedocs.io/en/stable/user_install.html\n",
      "  from .autonotebook import tqdm as notebook_tqdm\n"
     ]
    }
   ],
   "source": [
    "import torch\n",
    "import numpy as np\n",
    "from sbi import utils as utils\n",
    "from sbi import analysis as analysis\n",
    "from sbi.inference.base import infer\n",
    "from sbi.inference.base import prepare_for_sbi, simulate_for_sbi\n",
    "from sbi.inference.snpe.snpe_c import SNPE_C as SNPE\n",
    "from sbi.inference.snle.snle_a import SNLE_A as SNLE\n",
    "from sbi.inference.snre.snre_b import SNRE_B as SNRE\n",
    "from sbi.inference.abc.smcabc import SMCABC\n",
    "from sbi.utils.get_nn_models import posterior_nn\n",
    "from sbi.utils import BoxUniform\n",
    "from sbi.utils import process_prior\n",
    "\n",
    "import utils as u\n",
    "\n",
    "import seaborn as sns\n",
    "import warnings\n",
    "warnings.filterwarnings(\"ignore\", \"use_inf_as_na\")\n",
    "\n",
    "import time\n",
    "\n",
    "import matplotlib\n",
    "import matplotlib.pyplot as plt\n",
    "from utils import update_plot_style\n",
    "update_plot_style()"
   ]
  },
  {
   "cell_type": "markdown",
   "id": "2737e5d9",
   "metadata": {},
   "source": [
    "# Estimating cost of Gamma simulator"
   ]
  },
  {
   "cell_type": "markdown",
   "id": "d2649be1",
   "metadata": {},
   "source": [
    "$c(\\theta) = \\alpha \\theta + \\beta$"
   ]
  },
  {
   "cell_type": "code",
   "execution_count": 2,
   "id": "a4e347ac",
   "metadata": {},
   "outputs": [
    {
     "name": "stderr",
     "output_type": "stream",
     "text": [
      "/Users/bhartia1/Library/CloudStorage/OneDrive-AaltoUniversity/Software/cost-aware LFI/utils.py:9: UserWarning: __floordiv__ is deprecated, and its behavior will change in a future version of pytorch. It currently rounds toward 0 (like the 'trunc' function NOT 'floor'). This results in incorrect rounding for negative values. To keep the current behavior, use torch.div(a, b, rounding_mode='trunc'), or for actual floor division, use torch.div(a, b, rounding_mode='floor').\n",
      "  i_theta = theta // torch.ones(1)\n",
      "/Users/bhartia1/Library/CloudStorage/OneDrive-AaltoUniversity/Software/cost-aware LFI/utils.py:17: UserWarning: __floordiv__ is deprecated, and its behavior will change in a future version of pytorch. It currently rounds toward 0 (like the 'trunc' function NOT 'floor'). This results in incorrect rounding for negative values. To keep the current behavior, use torch.div(a, b, rounding_mode='trunc'), or for actual floor division, use torch.div(a, b, rounding_mode='floor').\n",
      "  i_theta, d_theta = theta // torch.ones(1), theta % torch.ones(1)\n"
     ]
    }
   ],
   "source": [
    "N = 10\n",
    "n_rep = 50\n",
    "\n",
    "theta = torch.linspace(100,1000, N)\n",
    "\n",
    "elapsed_time = torch.zeros(N)\n",
    "\n",
    "for i in range(N):\n",
    "    \n",
    "    st = time.time()\n",
    "    \n",
    "    for j in range(n_rep):\n",
    "        y = u.gamma_sampler(theta[i])\n",
    "        \n",
    "    et = time.time()\n",
    "    elapsed_time[i] = (et - st)/n_rep\n",
    "    \n",
    "alpha = (elapsed_time[N-1] - elapsed_time[0]) / (theta[N-1] - theta[0]) \n",
    "beta = -alpha * theta[0] + elapsed_time[0]"
   ]
  },
  {
   "cell_type": "markdown",
   "id": "295b3a0d",
   "metadata": {},
   "source": [
    "## Prior"
   ]
  },
  {
   "cell_type": "code",
   "execution_count": 3,
   "id": "7a091655",
   "metadata": {},
   "outputs": [],
   "source": [
    "# Set up prior\n",
    "num_dim = 1\n",
    "prior_start = 100\n",
    "prior_end = 1000\n",
    "\n",
    "prior = utils.BoxUniform(low=prior_start * torch.ones(num_dim), high=prior_end * torch.ones(num_dim))\n",
    "simulator, prior = prepare_for_sbi(u.gamma_sampler, prior)"
   ]
  },
  {
   "cell_type": "markdown",
   "id": "c02d7972",
   "metadata": {},
   "source": [
    "# 1.1 Cost of standard SBI vs number of simulated samples"
   ]
  },
  {
   "cell_type": "code",
   "execution_count": 4,
   "id": "57cc4c0f",
   "metadata": {
    "scrolled": true
   },
   "outputs": [
    {
     "data": {
      "application/vnd.jupyter.widget-view+json": {
       "model_id": "eac871d35f364258ba242ee70ffe6b34",
       "version_major": 2,
       "version_minor": 0
      },
      "text/plain": [
       "Running 1000 simulations.:   0%|          | 0/1000 [00:00<?, ?it/s]"
      ]
     },
     "metadata": {},
     "output_type": "display_data"
    },
    {
     "data": {
      "application/vnd.jupyter.widget-view+json": {
       "model_id": "cdbe68cf52d3498da975acd70c762bc9",
       "version_major": 2,
       "version_minor": 0
      },
      "text/plain": [
       "Running 1000 simulations.:   0%|          | 0/1000 [00:00<?, ?it/s]"
      ]
     },
     "metadata": {},
     "output_type": "display_data"
    },
    {
     "data": {
      "application/vnd.jupyter.widget-view+json": {
       "model_id": "505b3e64e8444ce4a9107d009b72e550",
       "version_major": 2,
       "version_minor": 0
      },
      "text/plain": [
       "Running 1000 simulations.:   0%|          | 0/1000 [00:00<?, ?it/s]"
      ]
     },
     "metadata": {},
     "output_type": "display_data"
    },
    {
     "data": {
      "application/vnd.jupyter.widget-view+json": {
       "model_id": "036137a7847e4655885462276447782a",
       "version_major": 2,
       "version_minor": 0
      },
      "text/plain": [
       "Running 1000 simulations.:   0%|          | 0/1000 [00:00<?, ?it/s]"
      ]
     },
     "metadata": {},
     "output_type": "display_data"
    },
    {
     "data": {
      "application/vnd.jupyter.widget-view+json": {
       "model_id": "30df51266aef4ca6808c2ae1fa07e8cc",
       "version_major": 2,
       "version_minor": 0
      },
      "text/plain": [
       "Running 1000 simulations.:   0%|          | 0/1000 [00:00<?, ?it/s]"
      ]
     },
     "metadata": {},
     "output_type": "display_data"
    },
    {
     "data": {
      "application/vnd.jupyter.widget-view+json": {
       "model_id": "6756c063d9e44f76ba61047d2e59215a",
       "version_major": 2,
       "version_minor": 0
      },
      "text/plain": [
       "Running 1000 simulations.:   0%|          | 0/1000 [00:00<?, ?it/s]"
      ]
     },
     "metadata": {},
     "output_type": "display_data"
    },
    {
     "data": {
      "application/vnd.jupyter.widget-view+json": {
       "model_id": "f4f0400447db4db5bf720bac5af1ba88",
       "version_major": 2,
       "version_minor": 0
      },
      "text/plain": [
       "Running 1000 simulations.:   0%|          | 0/1000 [00:00<?, ?it/s]"
      ]
     },
     "metadata": {},
     "output_type": "display_data"
    },
    {
     "data": {
      "application/vnd.jupyter.widget-view+json": {
       "model_id": "e191d0b1e3594c09b8f27f53bdb012f4",
       "version_major": 2,
       "version_minor": 0
      },
      "text/plain": [
       "Running 1000 simulations.:   0%|          | 0/1000 [00:00<?, ?it/s]"
      ]
     },
     "metadata": {},
     "output_type": "display_data"
    },
    {
     "data": {
      "application/vnd.jupyter.widget-view+json": {
       "model_id": "cb6ccc7f1a5e44e6875ed75be8a5555a",
       "version_major": 2,
       "version_minor": 0
      },
      "text/plain": [
       "Running 1000 simulations.:   0%|          | 0/1000 [00:00<?, ?it/s]"
      ]
     },
     "metadata": {},
     "output_type": "display_data"
    },
    {
     "data": {
      "application/vnd.jupyter.widget-view+json": {
       "model_id": "47fbd9aa7c6345e6acba3b4d1441e29d",
       "version_major": 2,
       "version_minor": 0
      },
      "text/plain": [
       "Running 1000 simulations.:   0%|          | 0/1000 [00:00<?, ?it/s]"
      ]
     },
     "metadata": {},
     "output_type": "display_data"
    },
    {
     "data": {
      "application/vnd.jupyter.widget-view+json": {
       "model_id": "d24c90f972bc42fba28308ee8231c100",
       "version_major": 2,
       "version_minor": 0
      },
      "text/plain": [
       "Running 1000 simulations.:   0%|          | 0/1000 [00:00<?, ?it/s]"
      ]
     },
     "metadata": {},
     "output_type": "display_data"
    },
    {
     "data": {
      "application/vnd.jupyter.widget-view+json": {
       "model_id": "2aa0f0ea03744e189dccdf855f3407af",
       "version_major": 2,
       "version_minor": 0
      },
      "text/plain": [
       "Running 1000 simulations.:   0%|          | 0/1000 [00:00<?, ?it/s]"
      ]
     },
     "metadata": {},
     "output_type": "display_data"
    },
    {
     "data": {
      "application/vnd.jupyter.widget-view+json": {
       "model_id": "4af815d38fd145db814261e43c685ba7",
       "version_major": 2,
       "version_minor": 0
      },
      "text/plain": [
       "Running 1000 simulations.:   0%|          | 0/1000 [00:00<?, ?it/s]"
      ]
     },
     "metadata": {},
     "output_type": "display_data"
    },
    {
     "data": {
      "application/vnd.jupyter.widget-view+json": {
       "model_id": "0c68ca73580247dd9c26b69a6ea3d1c2",
       "version_major": 2,
       "version_minor": 0
      },
      "text/plain": [
       "Running 1000 simulations.:   0%|          | 0/1000 [00:00<?, ?it/s]"
      ]
     },
     "metadata": {},
     "output_type": "display_data"
    },
    {
     "data": {
      "application/vnd.jupyter.widget-view+json": {
       "model_id": "02ebeb660e0d45ee8457f43fba3ead97",
       "version_major": 2,
       "version_minor": 0
      },
      "text/plain": [
       "Running 1000 simulations.:   0%|          | 0/1000 [00:00<?, ?it/s]"
      ]
     },
     "metadata": {},
     "output_type": "display_data"
    },
    {
     "data": {
      "application/vnd.jupyter.widget-view+json": {
       "model_id": "4fbba49ff0a846ef831547fcfaf20ad6",
       "version_major": 2,
       "version_minor": 0
      },
      "text/plain": [
       "Running 1000 simulations.:   0%|          | 0/1000 [00:00<?, ?it/s]"
      ]
     },
     "metadata": {},
     "output_type": "display_data"
    },
    {
     "data": {
      "application/vnd.jupyter.widget-view+json": {
       "model_id": "7a88cad32f3f4287889db93e7462b475",
       "version_major": 2,
       "version_minor": 0
      },
      "text/plain": [
       "Running 1000 simulations.:   0%|          | 0/1000 [00:00<?, ?it/s]"
      ]
     },
     "metadata": {},
     "output_type": "display_data"
    },
    {
     "data": {
      "application/vnd.jupyter.widget-view+json": {
       "model_id": "6e7ef8b0bec04150a2310dfca78737b3",
       "version_major": 2,
       "version_minor": 0
      },
      "text/plain": [
       "Running 1000 simulations.:   0%|          | 0/1000 [00:00<?, ?it/s]"
      ]
     },
     "metadata": {},
     "output_type": "display_data"
    },
    {
     "data": {
      "application/vnd.jupyter.widget-view+json": {
       "model_id": "7a399f2120054a1a9e8414dc76784767",
       "version_major": 2,
       "version_minor": 0
      },
      "text/plain": [
       "Running 1000 simulations.:   0%|          | 0/1000 [00:00<?, ?it/s]"
      ]
     },
     "metadata": {},
     "output_type": "display_data"
    },
    {
     "data": {
      "application/vnd.jupyter.widget-view+json": {
       "model_id": "6900f6856bd44a7a86f9c19bdeff7b2e",
       "version_major": 2,
       "version_minor": 0
      },
      "text/plain": [
       "Running 1000 simulations.:   0%|          | 0/1000 [00:00<?, ?it/s]"
      ]
     },
     "metadata": {},
     "output_type": "display_data"
    },
    {
     "data": {
      "application/vnd.jupyter.widget-view+json": {
       "model_id": "2784324a9c754ed6adea6d49b9a7ec08",
       "version_major": 2,
       "version_minor": 0
      },
      "text/plain": [
       "Running 1000 simulations.:   0%|          | 0/1000 [00:00<?, ?it/s]"
      ]
     },
     "metadata": {},
     "output_type": "display_data"
    },
    {
     "data": {
      "application/vnd.jupyter.widget-view+json": {
       "model_id": "225f2234a13b47ac98f267510d50cb18",
       "version_major": 2,
       "version_minor": 0
      },
      "text/plain": [
       "Running 1000 simulations.:   0%|          | 0/1000 [00:00<?, ?it/s]"
      ]
     },
     "metadata": {},
     "output_type": "display_data"
    },
    {
     "data": {
      "application/vnd.jupyter.widget-view+json": {
       "model_id": "890136193e3c42d5b3ba1435b76681a3",
       "version_major": 2,
       "version_minor": 0
      },
      "text/plain": [
       "Running 1000 simulations.:   0%|          | 0/1000 [00:00<?, ?it/s]"
      ]
     },
     "metadata": {},
     "output_type": "display_data"
    },
    {
     "data": {
      "application/vnd.jupyter.widget-view+json": {
       "model_id": "a6c8093e064c4e469620d071b4837fe0",
       "version_major": 2,
       "version_minor": 0
      },
      "text/plain": [
       "Running 1000 simulations.:   0%|          | 0/1000 [00:00<?, ?it/s]"
      ]
     },
     "metadata": {},
     "output_type": "display_data"
    },
    {
     "data": {
      "application/vnd.jupyter.widget-view+json": {
       "model_id": "4afb9f3101ed4254bcf6fc9685c4f074",
       "version_major": 2,
       "version_minor": 0
      },
      "text/plain": [
       "Running 1000 simulations.:   0%|          | 0/1000 [00:00<?, ?it/s]"
      ]
     },
     "metadata": {},
     "output_type": "display_data"
    },
    {
     "data": {
      "application/vnd.jupyter.widget-view+json": {
       "model_id": "3a9e7f950b084ec1ab1d494ae9e34dbd",
       "version_major": 2,
       "version_minor": 0
      },
      "text/plain": [
       "Running 5000 simulations.:   0%|          | 0/5000 [00:00<?, ?it/s]"
      ]
     },
     "metadata": {},
     "output_type": "display_data"
    },
    {
     "data": {
      "application/vnd.jupyter.widget-view+json": {
       "model_id": "c0fee76bc5f4482fb2481a007e224967",
       "version_major": 2,
       "version_minor": 0
      },
      "text/plain": [
       "Running 5000 simulations.:   0%|          | 0/5000 [00:00<?, ?it/s]"
      ]
     },
     "metadata": {},
     "output_type": "display_data"
    },
    {
     "data": {
      "application/vnd.jupyter.widget-view+json": {
       "model_id": "8dd368ade2d74e4bac8c5f452a5a734d",
       "version_major": 2,
       "version_minor": 0
      },
      "text/plain": [
       "Running 5000 simulations.:   0%|          | 0/5000 [00:00<?, ?it/s]"
      ]
     },
     "metadata": {},
     "output_type": "display_data"
    },
    {
     "data": {
      "application/vnd.jupyter.widget-view+json": {
       "model_id": "d9740e3b63be40028334daf632f1e30d",
       "version_major": 2,
       "version_minor": 0
      },
      "text/plain": [
       "Running 5000 simulations.:   0%|          | 0/5000 [00:00<?, ?it/s]"
      ]
     },
     "metadata": {},
     "output_type": "display_data"
    },
    {
     "data": {
      "application/vnd.jupyter.widget-view+json": {
       "model_id": "cde769d7a7c54ed1afc13ee0de8b83fa",
       "version_major": 2,
       "version_minor": 0
      },
      "text/plain": [
       "Running 5000 simulations.:   0%|          | 0/5000 [00:00<?, ?it/s]"
      ]
     },
     "metadata": {},
     "output_type": "display_data"
    },
    {
     "data": {
      "application/vnd.jupyter.widget-view+json": {
       "model_id": "9a963d5472ac490b9fbbb838b1b2a9d2",
       "version_major": 2,
       "version_minor": 0
      },
      "text/plain": [
       "Running 5000 simulations.:   0%|          | 0/5000 [00:00<?, ?it/s]"
      ]
     },
     "metadata": {},
     "output_type": "display_data"
    },
    {
     "data": {
      "application/vnd.jupyter.widget-view+json": {
       "model_id": "80761fa957874b479b48af5ab776e2a6",
       "version_major": 2,
       "version_minor": 0
      },
      "text/plain": [
       "Running 5000 simulations.:   0%|          | 0/5000 [00:00<?, ?it/s]"
      ]
     },
     "metadata": {},
     "output_type": "display_data"
    },
    {
     "data": {
      "application/vnd.jupyter.widget-view+json": {
       "model_id": "130fc35ad54f480dad448711baf1c41b",
       "version_major": 2,
       "version_minor": 0
      },
      "text/plain": [
       "Running 5000 simulations.:   0%|          | 0/5000 [00:00<?, ?it/s]"
      ]
     },
     "metadata": {},
     "output_type": "display_data"
    },
    {
     "data": {
      "application/vnd.jupyter.widget-view+json": {
       "model_id": "c80e4b7c13fe43d3aa0966442bb85053",
       "version_major": 2,
       "version_minor": 0
      },
      "text/plain": [
       "Running 5000 simulations.:   0%|          | 0/5000 [00:00<?, ?it/s]"
      ]
     },
     "metadata": {},
     "output_type": "display_data"
    },
    {
     "data": {
      "application/vnd.jupyter.widget-view+json": {
       "model_id": "358fb32c68ca43879644d4f9f4063862",
       "version_major": 2,
       "version_minor": 0
      },
      "text/plain": [
       "Running 5000 simulations.:   0%|          | 0/5000 [00:00<?, ?it/s]"
      ]
     },
     "metadata": {},
     "output_type": "display_data"
    },
    {
     "data": {
      "application/vnd.jupyter.widget-view+json": {
       "model_id": "a972907d6d934188ae718079a0c1ad25",
       "version_major": 2,
       "version_minor": 0
      },
      "text/plain": [
       "Running 5000 simulations.:   0%|          | 0/5000 [00:00<?, ?it/s]"
      ]
     },
     "metadata": {},
     "output_type": "display_data"
    },
    {
     "data": {
      "application/vnd.jupyter.widget-view+json": {
       "model_id": "ad3b64066c154865b0cd1bec290ecfbe",
       "version_major": 2,
       "version_minor": 0
      },
      "text/plain": [
       "Running 5000 simulations.:   0%|          | 0/5000 [00:00<?, ?it/s]"
      ]
     },
     "metadata": {},
     "output_type": "display_data"
    },
    {
     "data": {
      "application/vnd.jupyter.widget-view+json": {
       "model_id": "8dbfdacdf5ca49ea8e26efdaa3e2d89d",
       "version_major": 2,
       "version_minor": 0
      },
      "text/plain": [
       "Running 5000 simulations.:   0%|          | 0/5000 [00:00<?, ?it/s]"
      ]
     },
     "metadata": {},
     "output_type": "display_data"
    },
    {
     "data": {
      "application/vnd.jupyter.widget-view+json": {
       "model_id": "99635d08fc5841d1b896d108642ffbd4",
       "version_major": 2,
       "version_minor": 0
      },
      "text/plain": [
       "Running 5000 simulations.:   0%|          | 0/5000 [00:00<?, ?it/s]"
      ]
     },
     "metadata": {},
     "output_type": "display_data"
    },
    {
     "data": {
      "application/vnd.jupyter.widget-view+json": {
       "model_id": "1f5a78c1458b43a79ed7174be5cf7070",
       "version_major": 2,
       "version_minor": 0
      },
      "text/plain": [
       "Running 5000 simulations.:   0%|          | 0/5000 [00:00<?, ?it/s]"
      ]
     },
     "metadata": {},
     "output_type": "display_data"
    },
    {
     "data": {
      "application/vnd.jupyter.widget-view+json": {
       "model_id": "eb73df724d514bc4bb11a6f8c8ac117d",
       "version_major": 2,
       "version_minor": 0
      },
      "text/plain": [
       "Running 5000 simulations.:   0%|          | 0/5000 [00:00<?, ?it/s]"
      ]
     },
     "metadata": {},
     "output_type": "display_data"
    },
    {
     "data": {
      "application/vnd.jupyter.widget-view+json": {
       "model_id": "482c6528ff76463ea445dbdd071880e1",
       "version_major": 2,
       "version_minor": 0
      },
      "text/plain": [
       "Running 5000 simulations.:   0%|          | 0/5000 [00:00<?, ?it/s]"
      ]
     },
     "metadata": {},
     "output_type": "display_data"
    },
    {
     "data": {
      "application/vnd.jupyter.widget-view+json": {
       "model_id": "027c7baf4dbb412794d377ae4c3dad97",
       "version_major": 2,
       "version_minor": 0
      },
      "text/plain": [
       "Running 5000 simulations.:   0%|          | 0/5000 [00:00<?, ?it/s]"
      ]
     },
     "metadata": {},
     "output_type": "display_data"
    },
    {
     "data": {
      "application/vnd.jupyter.widget-view+json": {
       "model_id": "c54cb3f83f7944ef8d6e2e9827b5d1f2",
       "version_major": 2,
       "version_minor": 0
      },
      "text/plain": [
       "Running 5000 simulations.:   0%|          | 0/5000 [00:00<?, ?it/s]"
      ]
     },
     "metadata": {},
     "output_type": "display_data"
    },
    {
     "data": {
      "application/vnd.jupyter.widget-view+json": {
       "model_id": "a9344f1060284ddd83c6f086ca0c7e42",
       "version_major": 2,
       "version_minor": 0
      },
      "text/plain": [
       "Running 5000 simulations.:   0%|          | 0/5000 [00:00<?, ?it/s]"
      ]
     },
     "metadata": {},
     "output_type": "display_data"
    },
    {
     "data": {
      "application/vnd.jupyter.widget-view+json": {
       "model_id": "eb2912432163483c815bb69a54c77af4",
       "version_major": 2,
       "version_minor": 0
      },
      "text/plain": [
       "Running 5000 simulations.:   0%|          | 0/5000 [00:00<?, ?it/s]"
      ]
     },
     "metadata": {},
     "output_type": "display_data"
    },
    {
     "data": {
      "application/vnd.jupyter.widget-view+json": {
       "model_id": "db3d6d799b6944f887ef2f9b395c7fcb",
       "version_major": 2,
       "version_minor": 0
      },
      "text/plain": [
       "Running 5000 simulations.:   0%|          | 0/5000 [00:00<?, ?it/s]"
      ]
     },
     "metadata": {},
     "output_type": "display_data"
    },
    {
     "data": {
      "application/vnd.jupyter.widget-view+json": {
       "model_id": "470e47923e674d8aafc53fb8f6d11b82",
       "version_major": 2,
       "version_minor": 0
      },
      "text/plain": [
       "Running 5000 simulations.:   0%|          | 0/5000 [00:00<?, ?it/s]"
      ]
     },
     "metadata": {},
     "output_type": "display_data"
    },
    {
     "data": {
      "application/vnd.jupyter.widget-view+json": {
       "model_id": "85dff2069a72444f82909a6dd3702ef0",
       "version_major": 2,
       "version_minor": 0
      },
      "text/plain": [
       "Running 5000 simulations.:   0%|          | 0/5000 [00:00<?, ?it/s]"
      ]
     },
     "metadata": {},
     "output_type": "display_data"
    },
    {
     "data": {
      "application/vnd.jupyter.widget-view+json": {
       "model_id": "af64265af1b74aef86706f5b607675d9",
       "version_major": 2,
       "version_minor": 0
      },
      "text/plain": [
       "Running 5000 simulations.:   0%|          | 0/5000 [00:00<?, ?it/s]"
      ]
     },
     "metadata": {},
     "output_type": "display_data"
    },
    {
     "data": {
      "application/vnd.jupyter.widget-view+json": {
       "model_id": "6f632fe4f1fd483c82696000cf795b2d",
       "version_major": 2,
       "version_minor": 0
      },
      "text/plain": [
       "Running 10000 simulations.:   0%|          | 0/10000 [00:00<?, ?it/s]"
      ]
     },
     "metadata": {},
     "output_type": "display_data"
    },
    {
     "data": {
      "application/vnd.jupyter.widget-view+json": {
       "model_id": "dd8b0306af9f45049844caeec9d1c471",
       "version_major": 2,
       "version_minor": 0
      },
      "text/plain": [
       "Running 10000 simulations.:   0%|          | 0/10000 [00:00<?, ?it/s]"
      ]
     },
     "metadata": {},
     "output_type": "display_data"
    },
    {
     "data": {
      "application/vnd.jupyter.widget-view+json": {
       "model_id": "e374e808ea35430f9cbb731689986c3e",
       "version_major": 2,
       "version_minor": 0
      },
      "text/plain": [
       "Running 10000 simulations.:   0%|          | 0/10000 [00:00<?, ?it/s]"
      ]
     },
     "metadata": {},
     "output_type": "display_data"
    },
    {
     "data": {
      "application/vnd.jupyter.widget-view+json": {
       "model_id": "b1418bf35f8d4f19812757d78d93babc",
       "version_major": 2,
       "version_minor": 0
      },
      "text/plain": [
       "Running 10000 simulations.:   0%|          | 0/10000 [00:00<?, ?it/s]"
      ]
     },
     "metadata": {},
     "output_type": "display_data"
    },
    {
     "data": {
      "application/vnd.jupyter.widget-view+json": {
       "model_id": "1e9af416c01e4fb3870847db83e42dc4",
       "version_major": 2,
       "version_minor": 0
      },
      "text/plain": [
       "Running 10000 simulations.:   0%|          | 0/10000 [00:00<?, ?it/s]"
      ]
     },
     "metadata": {},
     "output_type": "display_data"
    },
    {
     "data": {
      "application/vnd.jupyter.widget-view+json": {
       "model_id": "9237f5d7117a454b904f48182f9c3897",
       "version_major": 2,
       "version_minor": 0
      },
      "text/plain": [
       "Running 10000 simulations.:   0%|          | 0/10000 [00:00<?, ?it/s]"
      ]
     },
     "metadata": {},
     "output_type": "display_data"
    },
    {
     "data": {
      "application/vnd.jupyter.widget-view+json": {
       "model_id": "20f9edd27e43456fad00bd14de69cf1b",
       "version_major": 2,
       "version_minor": 0
      },
      "text/plain": [
       "Running 10000 simulations.:   0%|          | 0/10000 [00:00<?, ?it/s]"
      ]
     },
     "metadata": {},
     "output_type": "display_data"
    },
    {
     "data": {
      "application/vnd.jupyter.widget-view+json": {
       "model_id": "b684163dae92476a9441c62b4cd5df94",
       "version_major": 2,
       "version_minor": 0
      },
      "text/plain": [
       "Running 10000 simulations.:   0%|          | 0/10000 [00:00<?, ?it/s]"
      ]
     },
     "metadata": {},
     "output_type": "display_data"
    },
    {
     "data": {
      "application/vnd.jupyter.widget-view+json": {
       "model_id": "d3479c9adf6c4daba9ca8d8fa1f2b75d",
       "version_major": 2,
       "version_minor": 0
      },
      "text/plain": [
       "Running 10000 simulations.:   0%|          | 0/10000 [00:00<?, ?it/s]"
      ]
     },
     "metadata": {},
     "output_type": "display_data"
    },
    {
     "data": {
      "application/vnd.jupyter.widget-view+json": {
       "model_id": "e08057c0626b4d0b9622219342462c18",
       "version_major": 2,
       "version_minor": 0
      },
      "text/plain": [
       "Running 10000 simulations.:   0%|          | 0/10000 [00:00<?, ?it/s]"
      ]
     },
     "metadata": {},
     "output_type": "display_data"
    },
    {
     "data": {
      "application/vnd.jupyter.widget-view+json": {
       "model_id": "6b92c750ed15422fbe5cf7f49c3250c7",
       "version_major": 2,
       "version_minor": 0
      },
      "text/plain": [
       "Running 10000 simulations.:   0%|          | 0/10000 [00:00<?, ?it/s]"
      ]
     },
     "metadata": {},
     "output_type": "display_data"
    },
    {
     "data": {
      "application/vnd.jupyter.widget-view+json": {
       "model_id": "5441d99e4a4e4006abd6edb9a5d870c2",
       "version_major": 2,
       "version_minor": 0
      },
      "text/plain": [
       "Running 10000 simulations.:   0%|          | 0/10000 [00:00<?, ?it/s]"
      ]
     },
     "metadata": {},
     "output_type": "display_data"
    },
    {
     "data": {
      "application/vnd.jupyter.widget-view+json": {
       "model_id": "a0872a84492c428688adf28f97cf1555",
       "version_major": 2,
       "version_minor": 0
      },
      "text/plain": [
       "Running 10000 simulations.:   0%|          | 0/10000 [00:00<?, ?it/s]"
      ]
     },
     "metadata": {},
     "output_type": "display_data"
    },
    {
     "data": {
      "application/vnd.jupyter.widget-view+json": {
       "model_id": "c24e992e82ae49f2ace85cd7ce897c46",
       "version_major": 2,
       "version_minor": 0
      },
      "text/plain": [
       "Running 10000 simulations.:   0%|          | 0/10000 [00:00<?, ?it/s]"
      ]
     },
     "metadata": {},
     "output_type": "display_data"
    },
    {
     "data": {
      "application/vnd.jupyter.widget-view+json": {
       "model_id": "a85d66e292ac4066adc560adcc30dd83",
       "version_major": 2,
       "version_minor": 0
      },
      "text/plain": [
       "Running 10000 simulations.:   0%|          | 0/10000 [00:00<?, ?it/s]"
      ]
     },
     "metadata": {},
     "output_type": "display_data"
    },
    {
     "data": {
      "application/vnd.jupyter.widget-view+json": {
       "model_id": "9d3071ad516147d0a336b800c50e57b9",
       "version_major": 2,
       "version_minor": 0
      },
      "text/plain": [
       "Running 10000 simulations.:   0%|          | 0/10000 [00:00<?, ?it/s]"
      ]
     },
     "metadata": {},
     "output_type": "display_data"
    },
    {
     "data": {
      "application/vnd.jupyter.widget-view+json": {
       "model_id": "ddb3a0e4da0c43c4a1536fe7f7e21ea3",
       "version_major": 2,
       "version_minor": 0
      },
      "text/plain": [
       "Running 10000 simulations.:   0%|          | 0/10000 [00:00<?, ?it/s]"
      ]
     },
     "metadata": {},
     "output_type": "display_data"
    },
    {
     "data": {
      "application/vnd.jupyter.widget-view+json": {
       "model_id": "91a9360c8d3a4b14b7557b7ea7c9e817",
       "version_major": 2,
       "version_minor": 0
      },
      "text/plain": [
       "Running 10000 simulations.:   0%|          | 0/10000 [00:00<?, ?it/s]"
      ]
     },
     "metadata": {},
     "output_type": "display_data"
    },
    {
     "data": {
      "application/vnd.jupyter.widget-view+json": {
       "model_id": "d1b28adf8d5c4d88ad17e58c38003bc7",
       "version_major": 2,
       "version_minor": 0
      },
      "text/plain": [
       "Running 10000 simulations.:   0%|          | 0/10000 [00:00<?, ?it/s]"
      ]
     },
     "metadata": {},
     "output_type": "display_data"
    },
    {
     "data": {
      "application/vnd.jupyter.widget-view+json": {
       "model_id": "4c46fa773aa04163b24e95a430bd6d20",
       "version_major": 2,
       "version_minor": 0
      },
      "text/plain": [
       "Running 10000 simulations.:   0%|          | 0/10000 [00:00<?, ?it/s]"
      ]
     },
     "metadata": {},
     "output_type": "display_data"
    },
    {
     "data": {
      "application/vnd.jupyter.widget-view+json": {
       "model_id": "50332ba19c324da880d7a38163263cb2",
       "version_major": 2,
       "version_minor": 0
      },
      "text/plain": [
       "Running 10000 simulations.:   0%|          | 0/10000 [00:00<?, ?it/s]"
      ]
     },
     "metadata": {},
     "output_type": "display_data"
    },
    {
     "data": {
      "application/vnd.jupyter.widget-view+json": {
       "model_id": "e1d4b11ff8ca4da79265d8784739d53a",
       "version_major": 2,
       "version_minor": 0
      },
      "text/plain": [
       "Running 10000 simulations.:   0%|          | 0/10000 [00:00<?, ?it/s]"
      ]
     },
     "metadata": {},
     "output_type": "display_data"
    },
    {
     "data": {
      "application/vnd.jupyter.widget-view+json": {
       "model_id": "ba7075db3a234ca9bf28a43340bdda24",
       "version_major": 2,
       "version_minor": 0
      },
      "text/plain": [
       "Running 10000 simulations.:   0%|          | 0/10000 [00:00<?, ?it/s]"
      ]
     },
     "metadata": {},
     "output_type": "display_data"
    },
    {
     "data": {
      "application/vnd.jupyter.widget-view+json": {
       "model_id": "78e61b013c79407fb4f1e5df66ceb6df",
       "version_major": 2,
       "version_minor": 0
      },
      "text/plain": [
       "Running 10000 simulations.:   0%|          | 0/10000 [00:00<?, ?it/s]"
      ]
     },
     "metadata": {},
     "output_type": "display_data"
    },
    {
     "data": {
      "application/vnd.jupyter.widget-view+json": {
       "model_id": "ad3af486d83c42afa4d92e154b5e4beb",
       "version_major": 2,
       "version_minor": 0
      },
      "text/plain": [
       "Running 10000 simulations.:   0%|          | 0/10000 [00:00<?, ?it/s]"
      ]
     },
     "metadata": {},
     "output_type": "display_data"
    },
    {
     "data": {
      "application/vnd.jupyter.widget-view+json": {
       "model_id": "a39c946e133c401cb4fd9adb0d9c0c04",
       "version_major": 2,
       "version_minor": 0
      },
      "text/plain": [
       "Running 15000 simulations.:   0%|          | 0/15000 [00:00<?, ?it/s]"
      ]
     },
     "metadata": {},
     "output_type": "display_data"
    },
    {
     "data": {
      "application/vnd.jupyter.widget-view+json": {
       "model_id": "4a31d8cac53c4eb682d75c62f0506a9b",
       "version_major": 2,
       "version_minor": 0
      },
      "text/plain": [
       "Running 15000 simulations.:   0%|          | 0/15000 [00:00<?, ?it/s]"
      ]
     },
     "metadata": {},
     "output_type": "display_data"
    },
    {
     "data": {
      "application/vnd.jupyter.widget-view+json": {
       "model_id": "53d0afec086646ba900de49c5dadf503",
       "version_major": 2,
       "version_minor": 0
      },
      "text/plain": [
       "Running 15000 simulations.:   0%|          | 0/15000 [00:00<?, ?it/s]"
      ]
     },
     "metadata": {},
     "output_type": "display_data"
    },
    {
     "data": {
      "application/vnd.jupyter.widget-view+json": {
       "model_id": "3c93e503573d4acfb6e71ed4cc173492",
       "version_major": 2,
       "version_minor": 0
      },
      "text/plain": [
       "Running 15000 simulations.:   0%|          | 0/15000 [00:00<?, ?it/s]"
      ]
     },
     "metadata": {},
     "output_type": "display_data"
    },
    {
     "data": {
      "application/vnd.jupyter.widget-view+json": {
       "model_id": "9f4936819a3b475cb3460c8c83d34905",
       "version_major": 2,
       "version_minor": 0
      },
      "text/plain": [
       "Running 15000 simulations.:   0%|          | 0/15000 [00:00<?, ?it/s]"
      ]
     },
     "metadata": {},
     "output_type": "display_data"
    },
    {
     "data": {
      "application/vnd.jupyter.widget-view+json": {
       "model_id": "be26aefa8ba94c458a4f3d241489d083",
       "version_major": 2,
       "version_minor": 0
      },
      "text/plain": [
       "Running 15000 simulations.:   0%|          | 0/15000 [00:00<?, ?it/s]"
      ]
     },
     "metadata": {},
     "output_type": "display_data"
    },
    {
     "data": {
      "application/vnd.jupyter.widget-view+json": {
       "model_id": "81c65267a1b14bdc89bb07b823407f58",
       "version_major": 2,
       "version_minor": 0
      },
      "text/plain": [
       "Running 15000 simulations.:   0%|          | 0/15000 [00:00<?, ?it/s]"
      ]
     },
     "metadata": {},
     "output_type": "display_data"
    },
    {
     "data": {
      "application/vnd.jupyter.widget-view+json": {
       "model_id": "c5f66afb67124903b410f6a086cf33fb",
       "version_major": 2,
       "version_minor": 0
      },
      "text/plain": [
       "Running 15000 simulations.:   0%|          | 0/15000 [00:00<?, ?it/s]"
      ]
     },
     "metadata": {},
     "output_type": "display_data"
    },
    {
     "data": {
      "application/vnd.jupyter.widget-view+json": {
       "model_id": "c3e8162f60b64d8d8a2fb32fbc05bd75",
       "version_major": 2,
       "version_minor": 0
      },
      "text/plain": [
       "Running 15000 simulations.:   0%|          | 0/15000 [00:00<?, ?it/s]"
      ]
     },
     "metadata": {},
     "output_type": "display_data"
    },
    {
     "data": {
      "application/vnd.jupyter.widget-view+json": {
       "model_id": "aac5aaca22c14b108626d668f831a618",
       "version_major": 2,
       "version_minor": 0
      },
      "text/plain": [
       "Running 15000 simulations.:   0%|          | 0/15000 [00:00<?, ?it/s]"
      ]
     },
     "metadata": {},
     "output_type": "display_data"
    }
   ],
   "source": [
    "num_sim = np.array([1000, 5000, 10000, 15000, 20000])\n",
    "num_repeats = 25\n",
    "cost_standard_sbi_gamma = np.zeros(shape = (num_repeats, num_sim.size))\n",
    "\n",
    "for i in range(num_sim.size):\n",
    "    for j in range(num_repeats):\n",
    "        \n",
    "        st = time.time()\n",
    "        theta, x = simulate_for_sbi(simulator, prior, num_simulations=num_sim[i])\n",
    "        et = time.time()\n",
    "        cost_standard_sbi_gamma[j,i] = et-st\n",
    "        \n",
    "np.save(\"cost_standard_sbi_gamma\", cost_standard_sbi_gamma)"
   ]
  },
  {
   "cell_type": "markdown",
   "id": "5aa9961d",
   "metadata": {},
   "source": [
    "# 1.2 Cost of CA-SBI vs number of simulated samples"
   ]
  },
  {
   "cell_type": "code",
   "execution_count": 4,
   "id": "8f21db0c",
   "metadata": {},
   "outputs": [
    {
     "name": "stdout",
     "output_type": "stream",
     "text": [
      "k =  0 : i =  0\n",
      "k =  0 : i =  1\n",
      "k =  0 : i =  2\n",
      "k =  0 : i =  3\n",
      "k =  0 : i =  4\n",
      "k =  1 : i =  0\n",
      "k =  1 : i =  1\n",
      "k =  1 : i =  2\n",
      "k =  1 : i =  3\n",
      "k =  1 : i =  4\n"
     ]
    }
   ],
   "source": [
    "num_sim = np.array([1000, 5000, 10000, 15000, 20000])\n",
    "num_repeats = 25\n",
    "# k = np.array([1,2,3,4]) # Exponent of the penaly function g(z) = z^k\n",
    "k = np.array([3,4]) # Exponent of the penaly function g(z) = z^k\n",
    "\n",
    "cost_ca_sbi_gamma = np.zeros(shape = (k.size, num_repeats, num_sim.size))\n",
    "\n",
    "for ind in range(k.size):\n",
    "    for i in range(num_sim.size):\n",
    "        for j in range(num_repeats):\n",
    "            \n",
    "            # Sampling from cost-modified prior\n",
    "            theta_tilde = torch.zeros(num_sim[i], num_dim)\n",
    "            count = 0\n",
    "            \n",
    "            st = time.time() # Start time\n",
    "            while count < num_sim[i]:\n",
    "                param_value = prior.sample()\n",
    "                if u.A_theta_Gamma(param_value, k[ind], alpha = alpha, beta=beta, prior_start=prior_start) > torch.rand(1):\n",
    "                    theta_tilde[count] = param_value\n",
    "                    count += 1\n",
    "                    \n",
    "            # Simulate from the Gamma distribution\n",
    "            x_tilde = torch.zeros(num_sim[i], 2)\n",
    "            for l in range(num_sim[i]):\n",
    "                x_tilde[l,:] = u.gamma_sampler(theta_tilde[l])\n",
    "            \n",
    "            et = time.time() # End time\n",
    "            cost_ca_sbi_gamma[ind, j, i] = et-st\n",
    "            \n",
    "        print(\"k = \", ind, \": i = \", i)\n",
    "        \n",
    "# np.save(\"cost_ca_sbi_gamma\", cost_ca_sbi_gamma)\n",
    "np.save(\"cost_ca_sbi_gamma_k34\", cost_ca_sbi_gamma)"
   ]
  },
  {
   "cell_type": "markdown",
   "id": "08fc994c",
   "metadata": {},
   "source": [
    "# Cost of Ca-SBI mixture vs n"
   ]
  },
  {
   "cell_type": "code",
   "execution_count": 44,
   "id": "6a702f79",
   "metadata": {
    "scrolled": true
   },
   "outputs": [
    {
     "name": "stdout",
     "output_type": "stream",
     "text": [
      "i =  0\n",
      "i =  1\n",
      "i =  2\n",
      "i =  3\n",
      "i =  4\n"
     ]
    }
   ],
   "source": [
    "num_sim = np.array([1000, 5000, 10000, 15000, 20000])\n",
    "num_repeats = 25\n",
    "\n",
    "k = np.array([0, 1, 2, 3]) # Exponent of the penaly function g(z) = z^k\n",
    "\n",
    "cost_ca_sbi_gamma_mixture = np.zeros(shape = (num_repeats, num_sim.size))\n",
    "\n",
    "num_mixtures = k.size\n",
    "\n",
    "for i in range(num_sim.size):\n",
    "    \n",
    "    num_per_mixture = int(round(num_sim[i] / num_mixtures))\n",
    "    \n",
    "    for j in range(num_repeats):\n",
    "\n",
    "        # Sampling from cost-modified prior\n",
    "        theta_tilde = torch.zeros(num_sim[i], num_dim)\n",
    "        count = 0\n",
    "\n",
    "        st = time.time() # Start time\n",
    "        for ind in range(k.size):\n",
    "            while count < ((ind + 1)*num_per_mixture):\n",
    "                param_value = prior.sample()\n",
    "                if u.A_theta_Gamma(param_value, k[ind], alpha = alpha, beta=beta, prior_start=prior_start) > torch.rand(1):\n",
    "                    theta_tilde[count] = param_value\n",
    "                    count += 1\n",
    "\n",
    "        # Simulate from the Gamma distribution\n",
    "        x_tilde = torch.zeros(num_sim[i], 2)\n",
    "        for l in range(num_sim[i]):\n",
    "            x_tilde[l,:] = u.gamma_sampler(theta_tilde[l])\n",
    "\n",
    "        et = time.time() # End time\n",
    "        cost_ca_sbi_gamma_mixture[j, i] = et-st\n",
    "\n",
    "    print(\"i = \", i)\n",
    "        \n",
    "np.save(\"cost_ca_sbi_gamma_mixture\", cost_ca_sbi_gamma_mixture)"
   ]
  },
  {
   "cell_type": "markdown",
   "id": "ba546da2",
   "metadata": {},
   "source": [
    "## Plotting"
   ]
  },
  {
   "cell_type": "code",
   "execution_count": 47,
   "id": "f444dbbb",
   "metadata": {},
   "outputs": [
    {
     "data": {
      "image/png": "[encoded data removed]",
      "text/plain": [
       "<Figure size 300x300 with 1 Axes>"
      ]
     },
     "metadata": {},
     "output_type": "display_data"
    }
   ],
   "source": [
    "cost_ca_sbi_gamma = np.load(\"cost_ca_sbi_gamma.npy\")\n",
    "cost_ca_sbi_gamma_k34 = np.load(\"cost_ca_sbi_gamma_k34.npy\")\n",
    "cost_standard_sbi_gamma = np.load(\"cost_standard_sbi_gamma.npy\")\n",
    "cost_ca_sbi_gamma_mixture = np.load(\"cost_ca_sbi_gamma_mixture.npy\")\n",
    "\n",
    "num_sim = np.array([1000, 5000, 10000, 15000, 20000])\n",
    "\n",
    "point_marker = np.array([\"o\", '*', \"^\", \"D\", \"X\"]) \n",
    "\n",
    "from matplotlib.lines import Line2D\n",
    "from matplotlib.legend import Legend\n",
    "from matplotlib.patches import Patch\n",
    "\n",
    "legend_elements = [Line2D([0], [0], marker='o', color='w', label='n=200',markerfacecolor='red',  markersize=9),\n",
    "                          Line2D([0], [0], marker='*', color='w', label='n=500',markerfacecolor='C1',  markersize=15),\n",
    "                          Line2D([0], [0], marker='^', color='w', label='n=1000',markerfacecolor='C0',  markersize=11),\n",
    "                          Line2D([0], [0], marker='D', color='w', label='n=2000',markerfacecolor='C3',  markersize=9)]\n",
    "\n",
    "plt.figure(figsize=(3, 3))\n",
    "\n",
    "line1 = plt.plot(num_sim, np.mean(cost_standard_sbi_gamma, axis = 0), '-o', markersize = 8, label = \"$p$\", color = \"red\")\n",
    "plt.fill_between(num_sim, y1 = np.mean(cost_standard_sbi_gamma, 0)+ 1.96 * np.std(cost_standard_sbi_gamma, 0),  \n",
    "                 y2 = np.mean(cost_standard_sbi_gamma, 0) - 1.96 * np.std(cost_standard_sbi_gamma, 0), alpha = 0.3, color = \"red\")\n",
    "\n",
    "plt.plot(num_sim, np.mean(cost_ca_sbi_gamma[0,:,:], axis = 0), '-*', markersize = 10, label = \"$\\\\tilde{p}_g: g(z)=z$\", color = \"C1\")\n",
    "plt.fill_between(num_sim, y1 = np.mean(cost_ca_sbi_gamma[0,:,:], 0)+ 1.96 * np.std(cost_ca_sbi_gamma[0,:,:], 0),  \n",
    "                 y2 = np.mean(cost_ca_sbi_gamma[0,:,:], 0) - 1.96 * np.std(cost_ca_sbi_gamma[0,:,:], 0), alpha = 0.3, color = \"C1\")\n",
    "\n",
    "plt.plot(num_sim, np.mean(cost_ca_sbi_gamma[1,:,:], axis = 0), '-D', markersize = 8, label = \"$\\\\tilde{p}_g: g(z)=z^2$\", color = \"C0\")\n",
    "plt.fill_between(num_sim, y1 = np.mean(cost_ca_sbi_gamma[1,:,:], 0)+ 1.96 * np.std(cost_ca_sbi_gamma[1,:,:], 0),  \n",
    "                 y2 = np.mean(cost_ca_sbi_gamma[1,:,:], 0) - 1.96 * np.std(cost_ca_sbi_gamma[1,:,:], 0), alpha = 0.3, color = \"C0\")\n",
    "\n",
    "plt.plot(num_sim, np.mean(cost_ca_sbi_gamma_k34[0,:,:], axis = 0), '-^', markersize = 10, label = \"$\\\\tilde{p}_g: g(z)=z^3$\", \n",
    "         color = \"C4\")\n",
    "plt.fill_between(num_sim, y1 = np.mean(cost_ca_sbi_gamma_k34[0,:,:], 0)+ 1.96 * np.std(cost_ca_sbi_gamma_k34[0,:,:], 0),  \n",
    "                 y2 = np.mean(cost_ca_sbi_gamma_k34[0,:,:], 0) - 1.96 * np.std(cost_ca_sbi_gamma_k34[0,:,:], 0), alpha = 0.3,\n",
    "                 color = \"C4\")\n",
    "\n",
    "plt.plot(num_sim, np.mean(cost_ca_sbi_gamma_mixture, axis = 0), '-X', markersize = 8, label = \"$\\\\tilde{p}_g:$ multiple\", \n",
    "         color = \"C2\", alpha = 0.8)\n",
    "plt.fill_between(num_sim, y1 = np.mean(cost_ca_sbi_gamma_mixture, 0)+ 1.96 * np.std(cost_ca_sbi_gamma_mixture, 0),  \n",
    "                 y2 = np.mean(cost_ca_sbi_gamma_mixture, 0) - 1.96 * np.std(cost_ca_sbi_gamma_mixture, 0), alpha = 0.3,\n",
    "                 color = \"C2\")\n",
    "\n",
    "plt.xlabel(\"No. of samples, $n$\", fontsize=16)\n",
    "plt.ylabel('Cost [seconds]', fontsize=16)\n",
    "plt.legend(fontsize=11, frameon = True)\n",
    "plt.legend(loc='upper center', bbox_to_anchor=(0.5, 2.2),\n",
    "          fancybox=True, shadow=True, fontsize = 13,ncol=5)\n",
    "plt.yticks(fontsize=13)\n",
    "plt.xticks(fontsize=11)\n",
    "# plt.savefig('figures/plot_gamma_cost_vs_samples_nolegend.pdf', format='pdf', dpi = 300, bbox_inches='tight')\n",
    "plt.savefig('figures/plot_gamma_legend_flat.pdf', format='pdf', dpi = 300, bbox_inches='tight')\n",
    "plt.show()"
   ]
  },
  {
   "cell_type": "markdown",
   "id": "ed61096e",
   "metadata": {},
   "source": [
    "# 2.1 Effective sample size vs. Cost of sampling"
   ]
  },
  {
   "cell_type": "code",
   "execution_count": 78,
   "id": "f26cf76a",
   "metadata": {
    "scrolled": true
   },
   "outputs": [
    {
     "data": {
      "application/vnd.jupyter.widget-view+json": {
       "model_id": "3c4ded44f5614900a4714222c32751b0",
       "version_major": 2,
       "version_minor": 0
      },
      "text/plain": [
       "Running 20000 simulations.:   0%|          | 0/20000 [00:00<?, ?it/s]"
      ]
     },
     "metadata": {},
     "output_type": "display_data"
    },
    {
     "name": "stdout",
     "output_type": "stream",
     "text": [
      "0\n",
      "1\n",
      "2\n",
      "3\n",
      "4\n"
     ]
    }
   ],
   "source": [
    "num_sim = 20000\n",
    "num_repeats = 1\n",
    "k = np.array([0, 0.5, 1, 2, 3]) # Exponent of the penaly function g(z) = z^k\n",
    "\n",
    "sampling_cost_ca_sbi_gamma = np.zeros(shape = (k.size, num_repeats))\n",
    "ess_cost_aware = np.zeros(shape = (k.size, num_repeats))\n",
    "\n",
    "for ind in range(k.size):\n",
    "    for j in range(num_repeats):\n",
    "        \n",
    "        if ind == 0:\n",
    "            st = time.time()\n",
    "            theta, x = simulate_for_sbi(simulator, prior, num_simulations=num_sim)\n",
    "            et = time.time()\n",
    "            sampling_cost_ca_sbi_gamma[ind, j] = et-st\n",
    "            ess_cost_aware[ind, j] = num_sim\n",
    "        else:\n",
    "            # Sampling from cost-modified prior\n",
    "            theta_tilde = torch.zeros(num_sim, num_dim)\n",
    "            count = 0\n",
    "\n",
    "            st = time.time() # Start time\n",
    "            while count < num_sim:\n",
    "                param_value = prior.sample()\n",
    "                if u.A_theta_Gamma(param_value, k[ind], alpha = alpha, beta=beta, prior_start=prior_start) > torch.rand(1):\n",
    "                    theta_tilde[count] = param_value\n",
    "                    count += 1\n",
    "            # Simulate from the Gamma distribution\n",
    "            x_tilde = torch.zeros(num_sim, 2)\n",
    "            for l in range(num_sim):\n",
    "                x_tilde[l,:] = u.gamma_sampler(theta_tilde[l])\n",
    "                \n",
    "            et = time.time() # End time\n",
    "            sampling_cost_ca_sbi_gamma[ind, j] = et-st\n",
    "\n",
    "            w_u = u.cost_linear(theta_tilde, alpha, beta)**k[ind]    #self-normalised importance weights\n",
    "\n",
    "            ess_cost_aware[ind, j] = (w_u.sum())**2 / torch.square(w_u).sum()\n",
    "    print(ind)\n",
    "    \n",
    "np.save(\"sampling_cost_ca_sbi_gamma\", sampling_cost_ca_sbi_gamma)\n",
    "np.save(\"ess_cost_aware\", ess_cost_aware)"
   ]
  },
  {
   "cell_type": "code",
   "execution_count": 81,
   "id": "8a821953",
   "metadata": {},
   "outputs": [
    {
     "data": {
      "text/plain": [
       "array([[0.63514895],\n",
       "       [0.6764407 ],\n",
       "       [0.63785613],\n",
       "       [0.44054455],\n",
       "       [0.20314515]])"
      ]
     },
     "execution_count": 81,
     "metadata": {},
     "output_type": "execute_result"
    }
   ],
   "source": [
    "(ess_cost_aware / sampling_cost_ca_sbi_gamma) / num_sim * 100"
   ]
  },
  {
   "cell_type": "code",
   "execution_count": 9,
   "id": "6c1d452a-bf7a-432d-ae4a-e6db449ff732",
   "metadata": {},
   "outputs": [
    {
     "name": "stdout",
     "output_type": "stream",
     "text": [
      "[[1.        ]\n",
      " [0.94432109]\n",
      " [0.79835581]\n",
      " [0.42049194]\n",
      " [0.16056941]]\n",
      "[157.44338512]\n"
     ]
    }
   ],
   "source": [
    "ess_cost_aware = np.load(\"ess_cost_aware.npy\")\n",
    "sampling_cost_ca_sbi_gamma = np.load(\"sampling_cost_ca_sbi_gamma.npy\")\n",
    "print(ess_cost_aware/20000)\n",
    "print(sampling_cost_ca_sbi_gamma[0])"
   ]
  },
  {
   "cell_type": "code",
   "execution_count": 11,
   "id": "10069003-1eda-4e30-8931-9d59e0072dae",
   "metadata": {},
   "outputs": [
    {
     "data": {
      "text/plain": [
       "array([[1.        ],\n",
       "       [1.06501114],\n",
       "       [1.00426229],\n",
       "       [0.69360825],\n",
       "       [0.3198386 ]])"
      ]
     },
     "execution_count": 11,
     "metadata": {},
     "output_type": "execute_result"
    }
   ],
   "source": [
    "(ess_cost_aware * sampling_cost_ca_sbi_gamma[0] / sampling_cost_ca_sbi_gamma / 20000"
   ]
  },
  {
   "cell_type": "code",
   "execution_count": 18,
   "id": "a2790ed7-a53d-466e-a589-46a6884f7fbc",
   "metadata": {},
   "outputs": [
    {
     "data": {
      "text/plain": [
       "array([[1.        ],\n",
       "       [1.12780615],\n",
       "       [1.25791317],\n",
       "       [1.64951616],\n",
       "       [1.99190243]])"
      ]
     },
     "execution_count": 18,
     "metadata": {},
     "output_type": "execute_result"
    }
   ],
   "source": [
    "sampling_cost_ca_sbi_gamma[0] / sampling_cost_ca_sbi_gamma"
   ]
  },
  {
   "cell_type": "markdown",
   "id": "31f72edd",
   "metadata": {},
   "source": [
    "# 2.2 Effective sample size x CEG"
   ]
  },
  {
   "cell_type": "code",
   "execution_count": 12,
   "id": "454c6985",
   "metadata": {},
   "outputs": [
    {
     "name": "stdout",
     "output_type": "stream",
     "text": [
      "0\n",
      "1\n",
      "2\n",
      "3\n",
      "4\n"
     ]
    }
   ],
   "source": [
    "num_sim = 20000\n",
    "num_repeats = 1\n",
    "k = np.array([0, 0.5, 1, 2, 3]) # Exponent of the penaly function g(z) = z^k\n",
    "\n",
    "ess_cost_aware = np.zeros(shape = (k.size, num_repeats))\n",
    "ceg = np.zeros(shape = (k.size, num_repeats))\n",
    "\n",
    "for ind in range(k.size):\n",
    "    for j in range(num_repeats):\n",
    "        \n",
    "        if ind == 0:\n",
    "\n",
    "            theta = prior.sample((num_sim,))\n",
    "\n",
    "            ess_cost_aware[ind, j] = 1\n",
    "            ceg[ind, j] = 1\n",
    "        else:\n",
    "            # Sampling from cost-modified prior\n",
    "            theta_tilde = torch.zeros(num_sim, num_dim)\n",
    "            count = 0\n",
    "\n",
    "            while count < num_sim:\n",
    "                param_value = prior.sample()\n",
    "                if u.A_theta_Gamma(param_value, k[ind], alpha = alpha, beta=beta, prior_start=prior_start) > torch.rand(1):\n",
    "                    theta_tilde[count] = param_value\n",
    "                    count += 1\n",
    "\n",
    "            w_u = u.cost_linear(theta_tilde, alpha, beta)**k[ind]   #self-normalised importance weights\n",
    "            \n",
    "            # Compute CEG\n",
    "            ceg[ind, j] = torch.mean(u.cost_linear(theta, alpha, beta)) / torch.mean(u.cost_linear(theta_tilde, alpha, beta))\n",
    "            # Compute ESS\n",
    "            ess_cost_aware[ind, j] = ((w_u.sum())**2 / torch.square(w_u).sum()) / num_sim\n",
    "    print(ind)"
   ]
  },
  {
   "cell_type": "code",
   "execution_count": 13,
   "id": "79b3ec0f-c683-47e9-b93c-55c717b580bb",
   "metadata": {},
   "outputs": [
    {
     "data": {
      "text/plain": [
       "array([[1.        ],\n",
       "       [1.04068959],\n",
       "       [1.08248484],\n",
       "       [1.17308009],\n",
       "       [1.27506375]])"
      ]
     },
     "execution_count": 13,
     "metadata": {},
     "output_type": "execute_result"
    }
   ],
   "source": [
    "ceg"
   ]
  },
  {
   "cell_type": "markdown",
   "id": "ad09d5e0",
   "metadata": {},
   "source": [
    "# 3. Accuracy vs. Cost"
   ]
  },
  {
   "cell_type": "code",
   "execution_count": 14,
   "id": "b384a909",
   "metadata": {},
   "outputs": [
    {
     "name": "stdout",
     "output_type": "stream",
     "text": [
      "The autoreload extension is already loaded. To reload it, use:\n",
      "  %reload_ext autoreload\n"
     ]
    }
   ],
   "source": [
    "from sbi import utils as utils\n",
    "from sbi import analysis as analysis\n",
    "from cost_aware_snpe_c import CostAwareSNPE_C\n",
    "from sbi.inference.snpe.snpe_c import SNPE_C\n",
    "\n",
    "import seaborn as sns\n",
    "%load_ext autoreload\n",
    "%autoreload 2\n",
    "\n",
    "n_samples_posterior = 1000 # Number of samples of NPE posterior\n",
    "\n",
    "theta_true = 750\n",
    "\n",
    "if theta_true == 500:\n",
    "    x_obs = np.load(\"x_obs_gamma_500.npy\") # Loading observed data\n",
    "    true_pos_samples = np.load(\"true_posterior_gamma_500.npy\") # Loading true posterior samples\n",
    "elif theta_true == 250:\n",
    "    x_obs = np.load(\"x_obs_gamma_250.npy\") # Loading observed data\n",
    "    true_pos_samples = np.load(\"true_posterior_gamma_250.npy\") # Loading true posterior samples\n",
    "elif theta_true == 750:\n",
    "    x_obs = np.load(\"x_obs_gamma_750.npy\") # Loading observed data\n",
    "    true_pos_samples = np.load(\"true_posterior_gamma_750.npy\") # Loading true posterior samples\n",
    "\n",
    "lengthscale = u.median_heuristic(true_pos_samples)"
   ]
  },
  {
   "cell_type": "markdown",
   "id": "77238704",
   "metadata": {},
   "source": [
    "## 3.1 Standard NPE"
   ]
  },
  {
   "cell_type": "code",
   "execution_count": 7,
   "id": "b6e40a66",
   "metadata": {},
   "outputs": [],
   "source": [
    "def run_npe(theta, x, x_obs, prior):\n",
    "    inference = SNPE(prior=prior, density_estimator=\"maf\")\n",
    "\n",
    "    posteriors = []\n",
    "    proposal = prior\n",
    "\n",
    "    density_estimator = inference.append_simulations(\n",
    "        theta, x, proposal=proposal\n",
    "        ).train()\n",
    "\n",
    "    # Drawing samples from the posterior given the observed data\n",
    "    posterior = inference.build_posterior(density_estimator)\n",
    "    posteriors.append(posterior)\n",
    "    proposal = posterior.set_default_x(x_obs)\n",
    "    \n",
    "    return(posterior.sample((n_samples_posterior,), x=x_obs))"
   ]
  },
  {
   "cell_type": "code",
   "execution_count": null,
   "id": "6cd569b4",
   "metadata": {},
   "outputs": [],
   "source": [
    "num_sim = 5000\n",
    "num_repeats = 5\n",
    "\n",
    "cost_standard_sbi_gamma = np.zeros(shape = (num_repeats,))\n",
    "posterior_standard_sbi_gamma = np.zeros(shape = (num_repeats, n_samples_posterior))\n",
    "MMDvals_standard = np.zeros(shape = (num_repeats,))\n",
    "\n",
    "for j in range(num_repeats):\n",
    "\n",
    "    st = time.time()\n",
    "    theta, x = simulate_for_sbi(simulator, prior, num_simulations=num_sim)\n",
    "    et = time.time()\n",
    "    cost_standard_sbi_gamma[j] = et-st\n",
    "    \n",
    "    posterior_standard_sbi_gamma[j,:] = run_npe(theta=theta, x=x, x_obs=x_obs, prior=prior)[:,0]\n",
    "    \n",
    "    MMDvals_standard[j] = u.MMD_unweighted(posterior_standard_sbi_gamma[j], true_pos_samples[:,0], lengthscale)\n",
    "        \n",
    "np.save(\"cost_standard_sbi_gamma_\"+str(num_sim)+\"_\"+str(theta_true), cost_standard_sbi_gamma)\n",
    "np.save(\"posterior_standard_sbi_gamma_\"+str(num_sim)+\"_\"+str(theta_true), posterior_standard_sbi_gamma)\n",
    "np.save(\"MMDvals_standard_\"+str(num_sim)+\"_\"+str(theta_true), MMDvals_standard)"
   ]
  },
  {
   "cell_type": "markdown",
   "id": "a388e4eb",
   "metadata": {},
   "source": [
    "## Plotting standard NPE posteriors"
   ]
  },
  {
   "cell_type": "code",
   "execution_count": 58,
   "id": "b266623c",
   "metadata": {},
   "outputs": [
    {
     "data": {
      "image/png": "[encoded data removed]",
      "text/plain": [
       "<Figure size 300x300 with 1 Axes>"
      ]
     },
     "metadata": {},
     "output_type": "display_data"
    }
   ],
   "source": [
    "posterior_standard_sbi_gamma = np.load(\"posterior_standard_sbi_gamma_5000_250.npy\")\n",
    "\n",
    "# Plotting\n",
    "fig, axes = plt.subplots(1, figsize=(3, 3))\n",
    "\n",
    "sns.kdeplot(posterior_standard_sbi_gamma[0,:], color = \"red\", linewidth = 2, linestyle = \"solid\", label = \"NPE\", alpha = 0.6)\n",
    "sns.kdeplot(posterior_standard_sbi_gamma[1,:], color = \"red\", linewidth = 2, linestyle = \"solid\", alpha = 0.5)\n",
    "sns.kdeplot(posterior_standard_sbi_gamma[2,:], color = \"red\", linewidth = 2, linestyle = \"solid\", alpha = 0.3)\n",
    "sns.kdeplot(posterior_standard_sbi_gamma[3,:], color = \"red\", linewidth = 2, linestyle = \"solid\", alpha = 0.2)\n",
    "sns.kdeplot(posterior_standard_sbi_gamma[4,:], color = \"red\", linewidth = 2, linestyle = \"solid\", alpha = 0.7)\n",
    "sns.kdeplot(true_pos_samples[:,0], color = \"black\", linewidth = 2, linestyle = \"solid\", label = \"True pos.\")\n",
    "axes.set_xlabel(\"$\\\\theta$\", fontsize = 16)\n",
    "axes.axvline(theta_true, color = \"darkgreen\", linestyle = \"dashed\")\n",
    "plt.title(\"NPE\")\n",
    "plt.xlim(240,260)\n",
    "plt.ylim(0, 0.6)\n",
    "plt.savefig('figures/plot_gamma_posteriors_npe_'+str(theta_true)+'.pdf', format='pdf', dpi = 300, bbox_inches='tight')\n",
    "plt.show()"
   ]
  },
  {
   "cell_type": "markdown",
   "id": "2ee66c94",
   "metadata": {},
   "source": [
    "## 3.2 Cost-aware NPE"
   ]
  },
  {
   "cell_type": "code",
   "execution_count": 4,
   "id": "f17a9223",
   "metadata": {},
   "outputs": [],
   "source": [
    "def run_ca_npe(theta_tilde, x_tilde, x_obs, weights):\n",
    "    inference_ca = CostAwareSNPE_C()\n",
    "#     density_estimator_ca = inference_ca.append_simulations(theta_tilde, x_tilde, proposal=None).append_weights(w_u).train()\n",
    "    density_estimator_canpe = inference_ca.append_simulations(theta_tilde, x_tilde).append_weights(weights, k_indicator_canpe).train()\n",
    "    posterior_ca = inference_ca.build_posterior(density_estimator_canpe, prior=prior)\n",
    "    return(posterior_ca.sample((n_samples_posterior,), x=x_obs))"
   ]
  },
  {
   "cell_type": "code",
   "execution_count": 43,
   "id": "dbd1f335",
   "metadata": {},
   "outputs": [
    {
     "name": "stdout",
     "output_type": "stream",
     "text": [
      " Neural network successfully converged after 68 epochs."
     ]
    },
    {
     "data": {
      "application/vnd.jupyter.widget-view+json": {
       "model_id": "1a47c5d3361c4774b1422ffb44b53bd8",
       "version_major": 2,
       "version_minor": 0
      },
      "text/plain": [
       "Drawing 1000 posterior samples:   0%|          | 0/1000 [00:00<?, ?it/s]"
      ]
     },
     "metadata": {},
     "output_type": "display_data"
    },
    {
     "name": "stdout",
     "output_type": "stream",
     "text": [
      " Neural network successfully converged after 81 epochs."
     ]
    },
    {
     "data": {
      "application/vnd.jupyter.widget-view+json": {
       "model_id": "6c8d416a0b2d4b16804ce6eabc5e4cd8",
       "version_major": 2,
       "version_minor": 0
      },
      "text/plain": [
       "Drawing 1000 posterior samples:   0%|          | 0/1000 [00:00<?, ?it/s]"
      ]
     },
     "metadata": {},
     "output_type": "display_data"
    },
    {
     "name": "stdout",
     "output_type": "stream",
     "text": [
      " Neural network successfully converged after 86 epochs."
     ]
    },
    {
     "data": {
      "application/vnd.jupyter.widget-view+json": {
       "model_id": "4566e6de623f40ab8cf177c45b4c47ef",
       "version_major": 2,
       "version_minor": 0
      },
      "text/plain": [
       "Drawing 1000 posterior samples:   0%|          | 0/1000 [00:00<?, ?it/s]"
      ]
     },
     "metadata": {},
     "output_type": "display_data"
    },
    {
     "name": "stdout",
     "output_type": "stream",
     "text": [
      " Neural network successfully converged after 139 epochs."
     ]
    },
    {
     "data": {
      "application/vnd.jupyter.widget-view+json": {
       "model_id": "e196194a927248c882bf9c9728237007",
       "version_major": 2,
       "version_minor": 0
      },
      "text/plain": [
       "Drawing 1000 posterior samples:   0%|          | 0/1000 [00:00<?, ?it/s]"
      ]
     },
     "metadata": {},
     "output_type": "display_data"
    },
    {
     "name": "stdout",
     "output_type": "stream",
     "text": [
      " Neural network successfully converged after 40 epochs."
     ]
    },
    {
     "data": {
      "application/vnd.jupyter.widget-view+json": {
       "model_id": "c722b38af55340af9985fa704eb8a3c0",
       "version_major": 2,
       "version_minor": 0
      },
      "text/plain": [
       "Drawing 1000 posterior samples:   0%|          | 0/1000 [00:00<?, ?it/s]"
      ]
     },
     "metadata": {},
     "output_type": "display_data"
    },
    {
     "name": "stdout",
     "output_type": "stream",
     "text": [
      "0\n",
      " Neural network successfully converged after 110 epochs."
     ]
    },
    {
     "data": {
      "application/vnd.jupyter.widget-view+json": {
       "model_id": "aa8e9d3b147b4a90adc727b1ddb79466",
       "version_major": 2,
       "version_minor": 0
      },
      "text/plain": [
       "Drawing 1000 posterior samples:   0%|          | 0/1000 [00:00<?, ?it/s]"
      ]
     },
     "metadata": {},
     "output_type": "display_data"
    },
    {
     "name": "stdout",
     "output_type": "stream",
     "text": [
      " Neural network successfully converged after 65 epochs."
     ]
    },
    {
     "data": {
      "application/vnd.jupyter.widget-view+json": {
       "model_id": "f9a5c7c7565d42c18a6552d1ca582faa",
       "version_major": 2,
       "version_minor": 0
      },
      "text/plain": [
       "Drawing 1000 posterior samples:   0%|          | 0/1000 [00:00<?, ?it/s]"
      ]
     },
     "metadata": {},
     "output_type": "display_data"
    },
    {
     "name": "stdout",
     "output_type": "stream",
     "text": [
      " Neural network successfully converged after 46 epochs."
     ]
    },
    {
     "data": {
      "application/vnd.jupyter.widget-view+json": {
       "model_id": "fa0cd7f4d7bd4a969d2dba1ec5005f02",
       "version_major": 2,
       "version_minor": 0
      },
      "text/plain": [
       "Drawing 1000 posterior samples:   0%|          | 0/1000 [00:00<?, ?it/s]"
      ]
     },
     "metadata": {},
     "output_type": "display_data"
    },
    {
     "name": "stdout",
     "output_type": "stream",
     "text": [
      " Neural network successfully converged after 55 epochs."
     ]
    },
    {
     "data": {
      "application/vnd.jupyter.widget-view+json": {
       "model_id": "7a906c58901f451aaf130fb3eadead4f",
       "version_major": 2,
       "version_minor": 0
      },
      "text/plain": [
       "Drawing 1000 posterior samples:   0%|          | 0/1000 [00:00<?, ?it/s]"
      ]
     },
     "metadata": {},
     "output_type": "display_data"
    },
    {
     "name": "stdout",
     "output_type": "stream",
     "text": [
      " Neural network successfully converged after 40 epochs."
     ]
    },
    {
     "data": {
      "application/vnd.jupyter.widget-view+json": {
       "model_id": "1e3a0de68fbf4bba8458e0bc5c1a7cf9",
       "version_major": 2,
       "version_minor": 0
      },
      "text/plain": [
       "Drawing 1000 posterior samples:   0%|          | 0/1000 [00:00<?, ?it/s]"
      ]
     },
     "metadata": {},
     "output_type": "display_data"
    },
    {
     "name": "stdout",
     "output_type": "stream",
     "text": [
      "1\n",
      " Neural network successfully converged after 44 epochs."
     ]
    },
    {
     "data": {
      "application/vnd.jupyter.widget-view+json": {
       "model_id": "5d093e88b02b47deab6b1228e808c3d6",
       "version_major": 2,
       "version_minor": 0
      },
      "text/plain": [
       "Drawing 1000 posterior samples:   0%|          | 0/1000 [00:00<?, ?it/s]"
      ]
     },
     "metadata": {},
     "output_type": "display_data"
    },
    {
     "name": "stdout",
     "output_type": "stream",
     "text": [
      " Neural network successfully converged after 100 epochs."
     ]
    },
    {
     "data": {
      "application/vnd.jupyter.widget-view+json": {
       "model_id": "a030b54e7a2d4352ab7e227f6c1f91f2",
       "version_major": 2,
       "version_minor": 0
      },
      "text/plain": [
       "Drawing 1000 posterior samples:   0%|          | 0/1000 [00:00<?, ?it/s]"
      ]
     },
     "metadata": {},
     "output_type": "display_data"
    },
    {
     "name": "stdout",
     "output_type": "stream",
     "text": [
      " Neural network successfully converged after 53 epochs."
     ]
    },
    {
     "data": {
      "application/vnd.jupyter.widget-view+json": {
       "model_id": "3dc699423b734f9a92a8fb0774dc9a02",
       "version_major": 2,
       "version_minor": 0
      },
      "text/plain": [
       "Drawing 1000 posterior samples:   0%|          | 0/1000 [00:00<?, ?it/s]"
      ]
     },
     "metadata": {},
     "output_type": "display_data"
    },
    {
     "name": "stdout",
     "output_type": "stream",
     "text": [
      " Neural network successfully converged after 40 epochs."
     ]
    },
    {
     "data": {
      "application/vnd.jupyter.widget-view+json": {
       "model_id": "1fcdd634240f4224a3c7bfe1b060dac7",
       "version_major": 2,
       "version_minor": 0
      },
      "text/plain": [
       "Drawing 1000 posterior samples:   0%|          | 0/1000 [00:00<?, ?it/s]"
      ]
     },
     "metadata": {},
     "output_type": "display_data"
    },
    {
     "name": "stdout",
     "output_type": "stream",
     "text": [
      " Neural network successfully converged after 59 epochs."
     ]
    },
    {
     "data": {
      "application/vnd.jupyter.widget-view+json": {
       "model_id": "211c1e48950e40d28167bd53f391e857",
       "version_major": 2,
       "version_minor": 0
      },
      "text/plain": [
       "Drawing 1000 posterior samples:   0%|          | 0/1000 [00:00<?, ?it/s]"
      ]
     },
     "metadata": {},
     "output_type": "display_data"
    },
    {
     "name": "stdout",
     "output_type": "stream",
     "text": [
      "2\n",
      " Neural network successfully converged after 60 epochs."
     ]
    },
    {
     "data": {
      "application/vnd.jupyter.widget-view+json": {
       "model_id": "af629d1f8d3b42d8bd8135c2f815f5b3",
       "version_major": 2,
       "version_minor": 0
      },
      "text/plain": [
       "Drawing 1000 posterior samples:   0%|          | 0/1000 [00:00<?, ?it/s]"
      ]
     },
     "metadata": {},
     "output_type": "display_data"
    },
    {
     "name": "stdout",
     "output_type": "stream",
     "text": [
      " Neural network successfully converged after 85 epochs."
     ]
    },
    {
     "data": {
      "application/vnd.jupyter.widget-view+json": {
       "model_id": "f9d226dc15bc4a9996c8ac44262eff25",
       "version_major": 2,
       "version_minor": 0
      },
      "text/plain": [
       "Drawing 1000 posterior samples:   0%|          | 0/1000 [00:00<?, ?it/s]"
      ]
     },
     "metadata": {},
     "output_type": "display_data"
    },
    {
     "name": "stdout",
     "output_type": "stream",
     "text": [
      " Neural network successfully converged after 52 epochs."
     ]
    },
    {
     "data": {
      "application/vnd.jupyter.widget-view+json": {
       "model_id": "b6a671ff96b8402793eee7ddda2a9e85",
       "version_major": 2,
       "version_minor": 0
      },
      "text/plain": [
       "Drawing 1000 posterior samples:   0%|          | 0/1000 [00:00<?, ?it/s]"
      ]
     },
     "metadata": {},
     "output_type": "display_data"
    },
    {
     "name": "stdout",
     "output_type": "stream",
     "text": [
      " Neural network successfully converged after 96 epochs."
     ]
    },
    {
     "data": {
      "application/vnd.jupyter.widget-view+json": {
       "model_id": "3444af8ef08443a8934906aa05c2340d",
       "version_major": 2,
       "version_minor": 0
      },
      "text/plain": [
       "Drawing 1000 posterior samples:   0%|          | 0/1000 [00:00<?, ?it/s]"
      ]
     },
     "metadata": {},
     "output_type": "display_data"
    },
    {
     "name": "stdout",
     "output_type": "stream",
     "text": [
      " Neural network successfully converged after 57 epochs."
     ]
    },
    {
     "data": {
      "application/vnd.jupyter.widget-view+json": {
       "model_id": "da287cb19153469896744641d54ab1cc",
       "version_major": 2,
       "version_minor": 0
      },
      "text/plain": [
       "Drawing 1000 posterior samples:   0%|          | 0/1000 [00:00<?, ?it/s]"
      ]
     },
     "metadata": {},
     "output_type": "display_data"
    },
    {
     "name": "stdout",
     "output_type": "stream",
     "text": [
      "3\n"
     ]
    }
   ],
   "source": [
    "num_sim = 5000\n",
    "num_repeats = 5\n",
    "k = np.array([1,2,3,4]) # Exponent of the penaly function g(z) = z^k\n",
    "\n",
    "cost_ca_sbi_gamma = np.zeros(shape = (k.size, num_repeats))\n",
    "posterior_ca_sbi_gamma = np.zeros(shape = (k.size, num_repeats, n_samples_posterior))\n",
    "MMDvals_cost_aware = np.zeros(shape = (k.size, num_repeats))\n",
    "\n",
    "for ind in range(k.size):\n",
    "    for j in range(num_repeats):\n",
    "\n",
    "        # Sampling from cost-modified prior\n",
    "        theta_tilde = torch.zeros(num_sim, num_dim)\n",
    "        count = 0\n",
    "\n",
    "        st = time.time() # Start time\n",
    "        while count < num_sim:\n",
    "            param_value = prior.sample()\n",
    "            if u.A_theta_Gamma(param_value, k[ind], alpha = alpha, beta=beta, prior_start=prior_start) > torch.rand(1):\n",
    "                theta_tilde[count] = param_value\n",
    "                count += 1\n",
    "\n",
    "        # Simulate from the Gamma distribution\n",
    "        x_tilde = torch.zeros(num_sim, 2)\n",
    "        for l in range(num_sim):\n",
    "            x_tilde[l,:] = u.gamma_sampler(theta_tilde[l])\n",
    "\n",
    "        et = time.time() # End time\n",
    "        cost_ca_sbi_gamma[ind, j] = et-st\n",
    "            \n",
    "        w_u = u.cost_linear(theta_tilde, alpha, beta)**k[ind]    #self-normalised importance weights\n",
    "        \n",
    "        posterior_ca_sbi_gamma[ind,j,:] = run_ca_npe(theta_tilde=theta_tilde, x_tilde=x_tilde, x_obs=x_obs, weights=w_u)[:,0]\n",
    "        \n",
    "        MMDvals_cost_aware[ind, j] = u.MMD_unweighted(posterior_ca_sbi_gamma[ind, j, :], true_pos_samples[:,0], lengthscale)\n",
    "    print(ind)\n",
    "    \n",
    "np.save(\"cost_ca_sbi_gamma_\"+str(num_sim)+\"_\"+str(theta_true), cost_ca_sbi_gamma)\n",
    "np.save(\"posterior_ca_sbi_gamma_\"+str(num_sim)+\"_\"+str(theta_true), posterior_ca_sbi_gamma)\n",
    "np.save(\"MMDvals_cost_aware_\"+str(num_sim)+\"_\"+str(theta_true), MMDvals_cost_aware)"
   ]
  },
  {
   "cell_type": "markdown",
   "id": "95545400",
   "metadata": {},
   "source": [
    "## 3.3 Multiple importance sampling "
   ]
  },
  {
   "cell_type": "code",
   "execution_count": 17,
   "id": "7ec82890",
   "metadata": {},
   "outputs": [
    {
     "name": "stdout",
     "output_type": "stream",
     "text": [
      "The autoreload extension is already loaded. To reload it, use:\n",
      "  %reload_ext autoreload\n"
     ]
    }
   ],
   "source": [
    "from sbi import utils as utils\n",
    "from sbi import analysis as analysis\n",
    "from cost_aware_snpe_c import CostAwareSNPE_C\n",
    "from sbi.inference.snpe.snpe_c import SNPE_C\n",
    "\n",
    "import seaborn as sns\n",
    "%load_ext autoreload\n",
    "%autoreload 2\n",
    "\n",
    "n_samples_posterior = 1000 # Number of samples of NPE posterior\n",
    "\n",
    "theta_true = 750\n",
    "\n",
    "if theta_true == 500:\n",
    "    x_obs = np.load(\"x_obs_gamma_500.npy\") # Loading observed data\n",
    "    true_pos_samples = np.load(\"true_posterior_gamma_500.npy\") # Loading true posterior samples\n",
    "elif theta_true == 250:\n",
    "    x_obs = np.load(\"x_obs_gamma_250.npy\") # Loading observed data\n",
    "    true_pos_samples = np.load(\"true_posterior_gamma_250.npy\") # Loading true posterior samples\n",
    "elif theta_true == 750:\n",
    "    x_obs = np.load(\"x_obs_gamma_750.npy\") # Loading observed data\n",
    "    true_pos_samples = np.load(\"true_posterior_gamma_750.npy\") # Loading true posterior samples\n",
    "\n",
    "lengthscale = u.median_heuristic(true_pos_samples)"
   ]
  },
  {
   "cell_type": "code",
   "execution_count": 18,
   "id": "1df1818a",
   "metadata": {},
   "outputs": [
    {
     "name": "stdout",
     "output_type": "stream",
     "text": [
      "25.362380981445312\n"
     ]
    },
    {
     "name": "stderr",
     "output_type": "stream",
     "text": [
      "C:\\Users\\bhartia1\\OneDrive - Aalto University\\Software\\cost-aware LFI\\venv\\lib\\site-packages\\sbi\\neural_nets\\flow.py:142: UserWarning: In one-dimensional output space, this flow is limited to Gaussians\n",
      "  warn(\"In one-dimensional output space, this flow is limited to Gaussians\")\n"
     ]
    },
    {
     "name": "stdout",
     "output_type": "stream",
     "text": [
      " Neural network successfully converged after 32 epochs."
     ]
    },
    {
     "data": {
      "application/vnd.jupyter.widget-view+json": {
       "model_id": "645ba6fe6fd5470e80f0b493407d6ed6",
       "version_major": 2,
       "version_minor": 0
      },
      "text/plain": [
       "Drawing 1000 posterior samples:   0%|          | 0/1000 [00:00<?, ?it/s]"
      ]
     },
     "metadata": {},
     "output_type": "display_data"
    },
    {
     "name": "stdout",
     "output_type": "stream",
     "text": [
      "25.246176719665527\n",
      " Neural network successfully converged after 55 epochs."
     ]
    },
    {
     "data": {
      "application/vnd.jupyter.widget-view+json": {
       "model_id": "d5bd801dd7084228b8810cf1c1c8a536",
       "version_major": 2,
       "version_minor": 0
      },
      "text/plain": [
       "Drawing 1000 posterior samples:   0%|          | 0/1000 [00:00<?, ?it/s]"
      ]
     },
     "metadata": {},
     "output_type": "display_data"
    },
    {
     "name": "stdout",
     "output_type": "stream",
     "text": [
      "25.196783542633057\n",
      " Neural network successfully converged after 37 epochs."
     ]
    },
    {
     "data": {
      "application/vnd.jupyter.widget-view+json": {
       "model_id": "0ac47d92b49841efb5645fff3f3d8bf2",
       "version_major": 2,
       "version_minor": 0
      },
      "text/plain": [
       "Drawing 1000 posterior samples:   0%|          | 0/1000 [00:00<?, ?it/s]"
      ]
     },
     "metadata": {},
     "output_type": "display_data"
    },
    {
     "name": "stdout",
     "output_type": "stream",
     "text": [
      "25.171828508377075\n",
      " Neural network successfully converged after 45 epochs."
     ]
    },
    {
     "data": {
      "application/vnd.jupyter.widget-view+json": {
       "model_id": "ac80390ebf9d4f1c9a8a2cf931b1fde9",
       "version_major": 2,
       "version_minor": 0
      },
      "text/plain": [
       "Drawing 1000 posterior samples:   0%|          | 0/1000 [00:00<?, ?it/s]"
      ]
     },
     "metadata": {},
     "output_type": "display_data"
    },
    {
     "name": "stdout",
     "output_type": "stream",
     "text": [
      "25.676637411117554\n",
      " Neural network successfully converged after 30 epochs."
     ]
    },
    {
     "data": {
      "application/vnd.jupyter.widget-view+json": {
       "model_id": "567160193fcc4ee396570b591efd6642",
       "version_major": 2,
       "version_minor": 0
      },
      "text/plain": [
       "Drawing 1000 posterior samples:   0%|          | 0/1000 [00:00<?, ?it/s]"
      ]
     },
     "metadata": {},
     "output_type": "display_data"
    }
   ],
   "source": [
    "num_sim = 5000\n",
    "num_repeats = 5\n",
    "\n",
    "k = np.array([0, 1, 2, 3]) # Exponent of the penaly function g(z) = z^k\n",
    "\n",
    "num_mixtures = k.size\n",
    "num_per_mixture = int(round(num_sim / num_mixtures))\n",
    "\n",
    "k_indicator_canpe = torch.cat((torch.zeros(num_per_mixture), torch.ones(num_per_mixture), 2*torch.ones(num_per_mixture), \n",
    "                       3*torch.ones(num_per_mixture)), 0)\n",
    "k_indicator_canpe = k_indicator_canpe.to(torch.int)\n",
    "\n",
    "cost_multiple_gamma = np.zeros(shape = (num_repeats,))\n",
    "posterior_multiple_gamma = np.zeros(shape = (num_repeats, n_samples_posterior))\n",
    "MMDvals_cost_aware_multiple = np.zeros(shape = (num_repeats,))\n",
    "\n",
    "for j in range(num_repeats):\n",
    "\n",
    "    # Sampling from cost-modified prior\n",
    "    theta_tilde = torch.zeros(num_sim, num_dim)\n",
    "    w_u = torch.zeros(num_sim,)\n",
    "    count = 0\n",
    "\n",
    "    st = time.time() # Start time\n",
    "    for ind in range(k.size):\n",
    "        while count < ((ind + 1)*num_per_mixture):\n",
    "            param_value = prior.sample()\n",
    "            if u.A_theta_Gamma(param_value, k[ind], alpha = alpha, beta=beta, prior_start=prior_start) > torch.rand(1):\n",
    "                theta_tilde[count] = param_value\n",
    "                w_u[count] = u.cost_linear(theta_tilde[count], alpha, beta)**k[ind]    #self-normalised importance weights\n",
    "                count += 1\n",
    "    \n",
    "        # Simulate from the Gamma distribution\n",
    "    x_tilde = torch.zeros(num_sim, 2)\n",
    "    for l in range(num_sim):\n",
    "        x_tilde[l,:] = u.gamma_sampler(theta_tilde[l])\n",
    "\n",
    "    et = time.time() # End time\n",
    "    cost_multiple_gamma[j] = et-st\n",
    "    print(et-st)\n",
    "    posterior_multiple_gamma[j,:] = run_ca_npe(theta_tilde=theta_tilde, x_tilde=x_tilde, x_obs=x_obs, weights=w_u)[:,0]\n",
    "\n",
    "    MMDvals_cost_aware_multiple[j] = u.MMD_unweighted(posterior_multiple_gamma[j, :], true_pos_samples[:,0], lengthscale)\n",
    "    \n",
    "np.save(\"MMDvals_cost_aware_multiple\"+str(num_sim)+\"_\"+str(theta_true), MMDvals_cost_aware_multiple)\n",
    "np.save(\"cost_multiple_gamma\"+str(num_sim)+\"_\"+str(theta_true), cost_multiple_gamma)\n",
    "np.save(\"posterior_multiple_gamma\"+str(num_sim)+\"_\"+str(theta_true), posterior_multiple_gamma)"
   ]
  },
  {
   "cell_type": "markdown",
   "id": "cd925a1d",
   "metadata": {},
   "source": [
    "## Plotting"
   ]
  },
  {
   "cell_type": "code",
   "execution_count": 20,
   "id": "1b39291f",
   "metadata": {},
   "outputs": [
    {
     "data": {
      "image/png": "[encoded data removed]",
      "text/plain": [
       "<Figure size 300x300 with 1 Axes>"
      ]
     },
     "metadata": {},
     "output_type": "display_data"
    }
   ],
   "source": [
    "theta_true = 750\n",
    "\n",
    "cost_ca_sbi_gamma = np.load(\"cost_ca_sbi_gamma_5000_\"+str(theta_true)+\".npy\")\n",
    "cost_standard_sbi_gamma = np.load(\"cost_standard_sbi_gamma_5000_\"+str(theta_true)+\".npy\")\n",
    "MMDvals_standard = np.load(\"MMDvals_standard_5000_\"+str(theta_true)+\".npy\")\n",
    "MMDvals_cost_aware = np.load(\"MMDvals_cost_aware_5000_\"+str(theta_true)+\".npy\")\n",
    "cost_multiple_gamma = np.load(\"cost_multiple_gamma5000_\"+str(theta_true)+\".npy\")\n",
    "MMDvals_cost_aware_multiple = np.load(\"MMDvals_cost_aware_multiple5000_\"+str(theta_true)+\".npy\")\n",
    "\n",
    "point_marker = np.array([\"o\", '*', \"^\", \"D\", \"X\"]) \n",
    "\n",
    "plt.figure(figsize=(3, 3))\n",
    "\n",
    "plt.scatter(cost_standard_sbi_gamma, MMDvals_standard, marker = point_marker[0], color = \"red\", s = 60, \n",
    "            alpha = 0.8, label = \"NPE\")\n",
    "plt.scatter(cost_ca_sbi_gamma[0,:], MMDvals_cost_aware[0,:], marker = point_marker[1], color = \"C1\", s = 65, \n",
    "            alpha = 0.8, label = \"Ca-NPE: $g(z) = z$\")\n",
    "plt.scatter(cost_ca_sbi_gamma[1,:], MMDvals_cost_aware[1,:], marker = point_marker[3], color = \"C0\", s = 60, \n",
    "            alpha = 0.8, label = \"Ca-NPE: $g(z) = z^2$\")\n",
    "plt.scatter(cost_ca_sbi_gamma[2,:], MMDvals_cost_aware[2,:], marker = point_marker[2], color = \"C4\", s = 60, \n",
    "            alpha = 0.8, label = \"Ca-NPE: $g(z) = z^3$\")\n",
    "# plt.scatter(cost_ca_sbi_gamma[3,:], MMDvals_cost_aware[3,:], marker = point_marker[4], color = \"C4\", s = 60, \n",
    "#             alpha = 0.8, label = \"Ca-NPE: $g(z) = z^4$\")\n",
    "plt.scatter(cost_multiple_gamma, MMDvals_cost_aware_multiple, marker = point_marker[4], color = \"C2\", s = 60, \n",
    "            alpha = 0.8, label = \"Ca-NPE: multiple\")\n",
    "\n",
    "# plt.legend(fontsize = 11)\n",
    "plt.title(\"$\\\\theta_{\\mathrm{true}} = $ \"+str(theta_true))\n",
    "plt.xlabel('Cost [seconds]', fontsize = 16)\n",
    "plt.ylim(-0.015, 0.38)\n",
    "#plt.ylabel('$\\widehat{\\mathrm{MMD}}^2$', fontsize=15)\n",
    "plt.savefig('figures/plot_gamma_accuracy_vs_cost_'+str(theta_true)+'.pdf', format='pdf', dpi = 300, bbox_inches='tight')\n",
    "plt.show()"
   ]
  },
  {
   "cell_type": "markdown",
   "id": "1231f1f2",
   "metadata": {},
   "source": [
    "## Plotting cost-aware NPE posteriors"
   ]
  },
  {
   "cell_type": "code",
   "execution_count": 51,
   "id": "a1ef8d8b",
   "metadata": {},
   "outputs": [
    {
     "data": {
      "image/png": "[encoded data removed]",
      "text/plain": [
       "<Figure size 300x300 with 1 Axes>"
      ]
     },
     "metadata": {},
     "output_type": "display_data"
    }
   ],
   "source": [
    "posterior_standard_sbi_gamma = np.load(\"posterior_ca_sbi_gamma_5000_750.npy\")\n",
    "index = 1\n",
    "# Plotting\n",
    "fig, axes = plt.subplots(1, figsize=(3, 3))\n",
    "\n",
    "sns.kdeplot(posterior_standard_sbi_gamma[index,0,:], color = \"C0\", linewidth = 2, linestyle = \"solid\", label = \"Ca-NPE\", alpha = 0.6)\n",
    "sns.kdeplot(posterior_standard_sbi_gamma[index, 1,:], color = \"C0\", linewidth = 2, linestyle = \"solid\", alpha = 0.5)\n",
    "sns.kdeplot(posterior_standard_sbi_gamma[index,2,:], color = \"C0\", linewidth = 2, linestyle = \"solid\", alpha = 0.3)\n",
    "sns.kdeplot(posterior_standard_sbi_gamma[index,3,:], color = \"C0\", linewidth = 2, linestyle = \"solid\", alpha = 0.2)\n",
    "sns.kdeplot(posterior_standard_sbi_gamma[index,4,:], color = \"C0\", linewidth = 2, linestyle = \"solid\", alpha = 0.7)\n",
    "sns.kdeplot(true_pos_samples[:,0], color = \"black\", linewidth = 2, linestyle = \"solid\", label = \"True pos.\")\n",
    "axes.set_xlabel(\"$\\\\theta$\", fontsize = 16)\n",
    "axes.axvline(theta_true, color = \"darkgreen\", linestyle = \"dashed\")\n",
    "plt.title(\"Ca-NPE: $g(z) = z^2$\")\n",
    "plt.xlim(735,765)\n",
    "plt.ylim(0, 0.6)\n",
    "# plt.legend()\n",
    "plt.savefig('figures/plot_gamma_posteriors_ca_npe_k2_'+str(theta_true)+'.pdf', format='pdf', dpi = 300, bbox_inches='tight')\n",
    "plt.show()"
   ]
  },
  {
   "cell_type": "code",
   "execution_count": 20,
   "id": "8175e6e0",
   "metadata": {},
   "outputs": [
    {
     "data": {
      "image/png": "[encoded data removed]",
      "text/plain": [
       "<Figure size 300x300 with 1 Axes>"
      ]
     },
     "metadata": {},
     "output_type": "display_data"
    }
   ],
   "source": [
    "posterior_multiple_gamma = np.load(\"posterior_multiple_gamma5000_750.npy\")\n",
    "# Plotting\n",
    "fig, axes = plt.subplots(1, figsize=(3, 3))\n",
    "\n",
    "sns.kdeplot(posterior_multiple_gamma[0,:], color = \"C2\", linewidth = 2, linestyle = \"solid\", label = \"Ca-NPE\", alpha = 0.6)\n",
    "sns.kdeplot(posterior_multiple_gamma[1,:], color = \"C2\", linewidth = 2, linestyle = \"solid\", alpha = 0.5)\n",
    "sns.kdeplot(posterior_multiple_gamma[2,:], color = \"C2\", linewidth = 2, linestyle = \"solid\", alpha = 0.3)\n",
    "sns.kdeplot(posterior_multiple_gamma[3,:], color = \"C2\", linewidth = 2, linestyle = \"solid\", alpha = 0.2)\n",
    "sns.kdeplot(posterior_multiple_gamma[4,:], color = \"C2\", linewidth = 2, linestyle = \"solid\", alpha = 0.7)\n",
    "sns.kdeplot(true_pos_samples[:,0], color = \"black\", linewidth = 2, linestyle = \"solid\", label = \"True pos.\")\n",
    "axes.set_xlabel(\"$\\\\theta$\", fontsize = 16)\n",
    "axes.axvline(theta_true, color = \"darkgreen\", linestyle = \"dashed\")\n",
    "plt.title(\"Ca-NPE: multiple\")\n",
    "# plt.xlim(240,260)\n",
    "# plt.xlim(490,510)\n",
    "plt.xlim(735,765)\n",
    "plt.ylim(0, 0.6)\n",
    "# plt.legend()\n",
    "plt.savefig('figures/plot_gamma_posteriors_ca_npe_mixture_'+str(theta_true)+'.pdf', format='pdf', dpi = 300, bbox_inches='tight')\n",
    "plt.show()"
   ]
  },
  {
   "cell_type": "code",
   "execution_count": 52,
   "id": "8b508487",
   "metadata": {},
   "outputs": [
    {
     "data": {
      "image/png": "[encoded data removed]",
      "text/plain": [
       "<Figure size 300x300 with 1 Axes>"
      ]
     },
     "metadata": {},
     "output_type": "display_data"
    }
   ],
   "source": [
    "posterior_standard_sbi_gamma = np.load(\"posterior_ca_sbi_gamma_5000_750.npy\")\n",
    "index = 0\n",
    "# Plotting\n",
    "fig, axes = plt.subplots(1, figsize=(3, 3))\n",
    "\n",
    "sns.kdeplot(posterior_standard_sbi_gamma[index,0,:], color = \"C1\", linewidth = 2, linestyle = \"solid\", alpha = 0.6)\n",
    "sns.kdeplot(posterior_standard_sbi_gamma[index, 1,:], color = \"C1\", linewidth = 2, linestyle = \"solid\", alpha = 0.5)\n",
    "sns.kdeplot(posterior_standard_sbi_gamma[index,2,:], color = \"C1\", linewidth = 2, linestyle = \"solid\", alpha = 0.3)\n",
    "sns.kdeplot(posterior_standard_sbi_gamma[index,3,:], color = \"C1\", linewidth = 2, linestyle = \"solid\", alpha = 0.2)\n",
    "sns.kdeplot(posterior_standard_sbi_gamma[index,4,:], color = \"C1\", linewidth = 2, linestyle = \"solid\", alpha = 0.7)\n",
    "sns.kdeplot(true_pos_samples[:,0], color = \"black\", linewidth = 2, linestyle = \"solid\", label = \"True pos.\")\n",
    "axes.set_xlabel(\"$\\\\theta$\", fontsize = 16)\n",
    "axes.axvline(theta_true, color = \"darkgreen\", linestyle = \"dashed\")\n",
    "plt.title(\"Ca-NPE: $g(z) = z$\")\n",
    "plt.xlim(735,765)\n",
    "plt.ylim(0, 0.6)\n",
    "# plt.legend()\n",
    "plt.savefig('figures/plot_gamma_posteriors_ca_npe_k1_'+str(theta_true)+'.pdf', format='pdf', dpi = 300, bbox_inches='tight')\n",
    "plt.show()"
   ]
  },
  {
   "cell_type": "markdown",
   "id": "c06722f1",
   "metadata": {},
   "source": [
    "## 3.3 Standard ABC"
   ]
  },
  {
   "cell_type": "code",
   "execution_count": 4,
   "id": "9450d430",
   "metadata": {},
   "outputs": [],
   "source": [
    "theta_true = 250\n",
    "\n",
    "if theta_true == 500:\n",
    "    x_obs = np.load(\"x_obs_gamma_500.npy\") # Loading observed data\n",
    "    true_pos_samples = np.load(\"true_posterior_gamma_500.npy\") # Loading true posterior samples\n",
    "elif theta_true == 250:\n",
    "    x_obs = np.load(\"x_obs_gamma_250.npy\") # Loading observed data\n",
    "    true_pos_samples = np.load(\"true_posterior_gamma_250.npy\") # Loading true posterior samples\n",
    "elif theta_true == 750:\n",
    "    x_obs = np.load(\"x_obs_gamma_750.npy\") # Loading observed data\n",
    "    true_pos_samples = np.load(\"true_posterior_gamma_750.npy\") # Loading true posterior samples\n",
    "\n",
    "lengthscale = u.median_heuristic(true_pos_samples)"
   ]
  },
  {
   "cell_type": "code",
   "execution_count": 89,
   "id": "a8f6fb58",
   "metadata": {},
   "outputs": [
    {
     "data": {
      "application/vnd.jupyter.widget-view+json": {
       "model_id": "c5366d313c31496990a7eba41796114f",
       "version_major": 2,
       "version_minor": 0
      },
      "text/plain": [
       "Running 50000 simulations.:   0%|          | 0/50000 [00:00<?, ?it/s]"
      ]
     },
     "metadata": {},
     "output_type": "display_data"
    },
    {
     "name": "stdout",
     "output_type": "stream",
     "text": [
      "torch.Size([207, 1])\n"
     ]
    },
    {
     "data": {
      "application/vnd.jupyter.widget-view+json": {
       "model_id": "375c91fa358843f1909d9fdf3679e4b5",
       "version_major": 2,
       "version_minor": 0
      },
      "text/plain": [
       "Running 50000 simulations.:   0%|          | 0/50000 [00:00<?, ?it/s]"
      ]
     },
     "metadata": {},
     "output_type": "display_data"
    },
    {
     "name": "stdout",
     "output_type": "stream",
     "text": [
      "torch.Size([178, 1])\n"
     ]
    },
    {
     "data": {
      "application/vnd.jupyter.widget-view+json": {
       "model_id": "71ad538bcd034c4391c665a3d4c9e3df",
       "version_major": 2,
       "version_minor": 0
      },
      "text/plain": [
       "Running 50000 simulations.:   0%|          | 0/50000 [00:00<?, ?it/s]"
      ]
     },
     "metadata": {},
     "output_type": "display_data"
    },
    {
     "name": "stdout",
     "output_type": "stream",
     "text": [
      "torch.Size([205, 1])\n"
     ]
    },
    {
     "data": {
      "application/vnd.jupyter.widget-view+json": {
       "model_id": "7504805384af404e972e19096620258e",
       "version_major": 2,
       "version_minor": 0
      },
      "text/plain": [
       "Running 50000 simulations.:   0%|          | 0/50000 [00:00<?, ?it/s]"
      ]
     },
     "metadata": {},
     "output_type": "display_data"
    },
    {
     "name": "stdout",
     "output_type": "stream",
     "text": [
      "torch.Size([182, 1])\n"
     ]
    },
    {
     "data": {
      "application/vnd.jupyter.widget-view+json": {
       "model_id": "69e042ec9ef244cfaec3da35b1cddf87",
       "version_major": 2,
       "version_minor": 0
      },
      "text/plain": [
       "Running 50000 simulations.:   0%|          | 0/50000 [00:00<?, ?it/s]"
      ]
     },
     "metadata": {},
     "output_type": "display_data"
    },
    {
     "name": "stdout",
     "output_type": "stream",
     "text": [
      "torch.Size([198, 1])\n"
     ]
    }
   ],
   "source": [
    "num_sim = 50000\n",
    "num_repeats = 5\n",
    "epsilon_distance = 0.05\n",
    "\n",
    "cost_standard_abc_gamma = np.zeros(shape = (num_repeats,))\n",
    "MMDvals_standard_abc = np.zeros(shape = (num_repeats,))\n",
    "\n",
    "for j in range(num_repeats):\n",
    "\n",
    "    st = time.time()\n",
    "    theta, x = simulate_for_sbi(simulator, prior, num_simulations=num_sim)\n",
    "    et = time.time()\n",
    "    cost_standard_abc_gamma[j] = et-st\n",
    "    \n",
    "    samples, _ = u.rejection_ABC(x_obs, theta, x, epsilon_distance)\n",
    "    np.save(\"posterior_abc_gamma_\"+str(theta_true)+\"_\"+str(j), samples)\n",
    "    print(samples.shape)\n",
    "    \n",
    "    MMDvals_standard_abc[j] = u.MMD_unweighted(samples[:,0], true_pos_samples[:,0], lengthscale)\n",
    "        \n",
    "np.save(\"cost_standard_abc_gamma_\"+str(num_sim)+\"_\"+str(theta_true), cost_standard_abc_gamma)\n",
    "np.save(\"MMDvals_standard_abc_\"+str(num_sim)+\"_\"+str(theta_true), MMDvals_standard_abc)"
   ]
  },
  {
   "cell_type": "code",
   "execution_count": 133,
   "id": "647d0eff",
   "metadata": {},
   "outputs": [
    {
     "data": {
      "image/png": "[encoded data removed]",
      "text/plain": [
       "<Figure size 300x300 with 1 Axes>"
      ]
     },
     "metadata": {},
     "output_type": "display_data"
    }
   ],
   "source": [
    "theta_true = 750\n",
    "\n",
    "if theta_true == 500:\n",
    "    x_obs = np.load(\"x_obs_gamma_500.npy\") # Loading observed data\n",
    "    true_pos_samples = np.load(\"true_posterior_gamma_500.npy\") # Loading true posterior samples\n",
    "elif theta_true == 250:\n",
    "    x_obs = np.load(\"x_obs_gamma_250.npy\") # Loading observed data\n",
    "    true_pos_samples = np.load(\"true_posterior_gamma_250.npy\") # Loading true posterior samples\n",
    "elif theta_true == 750:\n",
    "    x_obs = np.load(\"x_obs_gamma_750.npy\") # Loading observed data\n",
    "    true_pos_samples = np.load(\"true_posterior_gamma_750.npy\") # Loading true posterior samples\n",
    "\n",
    "samples0 = np.load(\"posterior_abc_gamma_\"+str(theta_true)+\"_0.npy\")\n",
    "samples1 = np.load(\"posterior_abc_gamma_\"+str(theta_true)+\"_1.npy\")\n",
    "samples2 = np.load(\"posterior_abc_gamma_\"+str(theta_true)+\"_2.npy\")\n",
    "samples3 = np.load(\"posterior_abc_gamma_\"+str(theta_true)+\"_3.npy\")\n",
    "samples4 = np.load(\"posterior_abc_gamma_\"+str(theta_true)+\"_4.npy\")\n",
    "\n",
    "# samples0 = np.load(\"posterior_abc_gamma_250_0.npy\")\n",
    "# samples1 = np.load(\"posterior_abc_gamma_250_1.npy\")\n",
    "# samples2 = np.load(\"posterior_abc_gamma_250_2.npy\")\n",
    "# samples3 = np.load(\"posterior_abc_gamma_250_3.npy\")\n",
    "# samples4 = np.load(\"posterior_abc_gamma_250_4.npy\")\n",
    "\n",
    "# samples0 = np.load(\"posterior_abc_gamma_750_0.npy\")\n",
    "# samples1 = np.load(\"posterior_abc_gamma_750_1.npy\")\n",
    "# samples2 = np.load(\"posterior_abc_gamma_750_2.npy\")\n",
    "# samples3 = np.load(\"posterior_abc_gamma_750_3.npy\")\n",
    "# samples4 = np.load(\"posterior_abc_gamma_750_4.npy\")\n",
    "\n",
    "# Plotting\n",
    "fig, axes = plt.subplots(1, figsize=(3, 3))\n",
    "\n",
    "sns.kdeplot(samples0[:,0], color = \"red\", linewidth = 2, linestyle = \"solid\", label = \"ABC\", alpha = 0.6)\n",
    "sns.kdeplot(samples1[:,0], color = \"red\", linewidth = 2, linestyle = \"solid\", alpha = 0.5)\n",
    "sns.kdeplot(samples2[:,0], color = \"red\", linewidth = 2, linestyle = \"solid\", alpha = 0.3)\n",
    "sns.kdeplot(samples3[:,0], color = \"red\", linewidth = 2, linestyle = \"solid\", alpha = 0.2)\n",
    "sns.kdeplot(samples4[:,0], color = \"red\", linewidth = 2, linestyle = \"solid\", alpha = 0.7)\n",
    "sns.kdeplot(true_pos_samples[:,0], color = \"black\", linewidth = 2, linestyle = \"solid\", label = \"True pos.\")\n",
    "axes.set_xlabel(\"$\\\\theta$\", fontsize = 16)\n",
    "axes.axvline(theta_true, color = \"darkgreen\", linestyle = \"dashed\")\n",
    "\n",
    "#For theta_true = 250\n",
    "# plt.ylim(0, 0.575)\n",
    "# plt.xlim(230, 270)\n",
    "\n",
    "#For theta_true = 500\n",
    "# plt.ylim(0, 0.375)\n",
    "# plt.xlim(480, 520)\n",
    "\n",
    "#For theta_true = 750\n",
    "# plt.ylim(0, 0.35)\n",
    "# plt.xlim(730, 770)\n",
    "\n",
    "plt.title(\"ABC\")\n",
    "plt.savefig('figures/plot_gamma_posteriors_abc_'+str(theta_true)+'.pdf', format='pdf', dpi = 300, bbox_inches='tight')\n",
    "plt.show()"
   ]
  },
  {
   "cell_type": "markdown",
   "id": "3ad19110",
   "metadata": {},
   "source": [
    "## 3.4 Cost-aware ABC"
   ]
  },
  {
   "cell_type": "code",
   "execution_count": 6,
   "id": "6abd2457",
   "metadata": {},
   "outputs": [
    {
     "name": "stdout",
     "output_type": "stream",
     "text": [
      "0\n",
      "1\n",
      "2\n",
      "3\n"
     ]
    }
   ],
   "source": [
    "num_sim = 50000\n",
    "num_repeats = 5\n",
    "epsilon_distance = 0.05\n",
    "k = np.array([1,2,3,4]) # Exponent of the penaly function g(z) = z^k\n",
    "\n",
    "cost_ca_abc_gamma = np.zeros(shape = (k.size, num_repeats))\n",
    "MMDvals_cost_aware_abc = np.zeros(shape = (k.size, num_repeats))\n",
    "\n",
    "for ind in range(k.size):\n",
    "    for j in range(num_repeats):\n",
    "\n",
    "        # Sampling from cost-modified prior\n",
    "        theta_tilde = torch.zeros(num_sim, num_dim)\n",
    "        count = 0\n",
    "\n",
    "        st = time.time() # Start time\n",
    "        while count < num_sim:\n",
    "            param_value = prior.sample()\n",
    "            if u.A_theta_Gamma(param_value, k[ind], alpha = alpha, beta=beta, prior_start=prior_start) > torch.rand(1):\n",
    "                theta_tilde[count] = param_value\n",
    "                count += 1\n",
    "\n",
    "        # Simulate from the Gamma distribution\n",
    "        x_tilde = torch.zeros(num_sim, 2)\n",
    "        for l in range(num_sim):\n",
    "            x_tilde[l,:] = u.gamma_sampler(theta_tilde[l])\n",
    "\n",
    "        et = time.time() # End time\n",
    "        cost_ca_abc_gamma[ind, j] = et-st\n",
    "        \n",
    "        samples, _ = u.rejection_ABC(x_obs, theta_tilde, x_tilde, epsilon_distance)\n",
    "        w_u = u.cost_linear(samples, alpha, beta)**k[ind]    #self-normalised importance weights\n",
    "        \n",
    "        if ind == 0:\n",
    "            np.save(\"posterior_ca_abc_gamma_k1_\"+str(theta_true)+\"_\"+str(j), samples)\n",
    "            np.save(\"weights_ca_abc_gamma_k1_\"+str(theta_true)+\"_\"+str(j), w_u/w_u.sum())\n",
    "        elif ind == 1:\n",
    "            np.save(\"posterior_ca_abc_gamma_k2_\"+str(theta_true)+\"_\"+str(j), samples)\n",
    "            np.save(\"weights_ca_abc_gamma_k2_\"+str(theta_true)+\"_\"+str(j), w_u/w_u.sum())\n",
    "        \n",
    "        MMDvals_cost_aware_abc[ind, j] = u.MMD_weighted(samples[:,0], true_pos_samples[:,0], (w_u/w_u.sum())[:,0], lengthscale)\n",
    "    print(ind)\n",
    "    \n",
    "np.save(\"cost_ca_abc_gamma\"+str(num_sim)+\"_\"+str(theta_true), cost_ca_abc_gamma)\n",
    "np.save(\"MMDvals_cost_aware_abc\"+str(num_sim)+\"_\"+str(theta_true), MMDvals_cost_aware_abc)"
   ]
  },
  {
   "cell_type": "code",
   "execution_count": 27,
   "id": "5c9f2f74",
   "metadata": {},
   "outputs": [],
   "source": [
    "theta_true = 500\n",
    "\n",
    "if theta_true == 500:\n",
    "    x_obs = np.load(\"x_obs_gamma_500.npy\") # Loading observed data\n",
    "    true_pos_samples = np.load(\"true_posterior_gamma_500.npy\") # Loading true posterior samples\n",
    "elif theta_true == 250:\n",
    "    x_obs = np.load(\"x_obs_gamma_250.npy\") # Loading observed data\n",
    "    true_pos_samples = np.load(\"true_posterior_gamma_250.npy\") # Loading true posterior samples\n",
    "elif theta_true == 750:\n",
    "    x_obs = np.load(\"x_obs_gamma_750.npy\") # Loading observed data\n",
    "    true_pos_samples = np.load(\"true_posterior_gamma_750.npy\") # Loading true posterior samples\n",
    "\n",
    "lengthscale = u.median_heuristic(true_pos_samples)"
   ]
  },
  {
   "cell_type": "code",
   "execution_count": null,
   "id": "f8f9824b",
   "metadata": {},
   "outputs": [],
   "source": [
    "num_sim = 50000\n",
    "num_repeats = 5\n",
    "k = np.array([1,2,3]) # Exponent of the penaly function g(z) = z^k\n",
    "\n",
    "cost_ca_abc_gamma = np.zeros(shape = (k.size, num_repeats))\n",
    "MMDvals_cost_aware_abc = np.zeros(shape = (k.size, num_repeats))\n",
    "\n",
    "for ind in range(k.size):\n",
    "    for j in range(num_repeats):\n",
    "\n",
    "        # Sampling from cost-modified prior\n",
    "        theta_tilde = torch.zeros(num_sim, num_dim)\n",
    "        count = 0\n",
    "\n",
    "        st = time.time() # Start time\n",
    "        while count < num_sim:\n",
    "            param_value = prior.sample()\n",
    "            if u.A_theta_Gamma(param_value, k[ind], alpha = alpha, beta=beta, prior_start=prior_start) > torch.rand(1):\n",
    "                theta_tilde[count] = param_value\n",
    "                count += 1\n",
    "\n",
    "        # Simulate from the Gamma distribution\n",
    "        x_tilde = torch.zeros(num_sim, 2)\n",
    "        for l in range(num_sim):\n",
    "            x_tilde[l,:] = u.gamma_sampler(theta_tilde[l])\n",
    "\n",
    "        et = time.time() # End time\n",
    "        cost_ca_abc_gamma[ind, j] = et-st\n",
    "        \n",
    "        samples, _ = u.rejection_ABC(x_obs, theta_tilde, x_tilde, epsilon_distance)\n",
    "        w_u = u.cost_linear(samples, alpha, beta)**k[ind]    #self-normalised importance weights\n",
    "        \n",
    "        if ind == 0:\n",
    "            np.save(\"posterior_ca_abc_gamma_k1_\"+str(theta_true)+\"_\"+str(j), samples)\n",
    "            np.save(\"weights_ca_abc_gamma_k1_\"+str(theta_true)+\"_\"+str(j), w_u/w_u.sum())\n",
    "        elif ind == 1:\n",
    "            np.save(\"posterior_ca_abc_gamma_k2_\"+str(theta_true)+\"_\"+str(j), samples)\n",
    "            np.save(\"weights_ca_abc_gamma_k2_\"+str(theta_true)+\"_\"+str(j), w_u/w_u.sum())\n",
    "        \n",
    "        MMDvals_cost_aware_abc[ind, j] = u.MMD_weighted(samples[:,0], true_pos_samples[:,0], (w_u/w_u.sum())[:,0], lengthscale)\n",
    "    print(ind)\n",
    "    \n",
    "np.save(\"cost_ca_abc_gamma\"+str(num_sim)+\"_\"+str(theta_true), cost_ca_abc_gamma)\n",
    "np.save(\"MMDvals_cost_aware_abc\"+str(num_sim)+\"_\"+str(theta_true), MMDvals_cost_aware_abc)"
   ]
  },
  {
   "cell_type": "code",
   "execution_count": 53,
   "id": "f16a7d50",
   "metadata": {},
   "outputs": [],
   "source": [
    "theta_true = 750\n",
    "\n",
    "if theta_true == 500:\n",
    "    x_obs = np.load(\"x_obs_gamma_500.npy\") # Loading observed data\n",
    "    true_pos_samples = np.load(\"true_posterior_gamma_500.npy\") # Loading true posterior samples\n",
    "elif theta_true == 250:\n",
    "    x_obs = np.load(\"x_obs_gamma_250.npy\") # Loading observed data\n",
    "    true_pos_samples = np.load(\"true_posterior_gamma_250.npy\") # Loading true posterior samples\n",
    "elif theta_true == 750:\n",
    "    x_obs = np.load(\"x_obs_gamma_750.npy\") # Loading observed data\n",
    "    true_pos_samples = np.load(\"true_posterior_gamma_750.npy\") # Loading true posterior samples\n",
    "\n",
    "lengthscale = u.median_heuristic(true_pos_samples)"
   ]
  },
  {
   "cell_type": "code",
   "execution_count": 55,
   "id": "d39ced13",
   "metadata": {},
   "outputs": [
    {
     "name": "stdout",
     "output_type": "stream",
     "text": [
      "0\n",
      "1\n"
     ]
    }
   ],
   "source": [
    "num_sim = 50000\n",
    "num_repeats = 5\n",
    "k = np.array([1,2,3]) # Exponent of the penaly function g(z) = z^k\n",
    "\n",
    "cost_ca_abc_gamma = np.zeros(shape = (k.size, num_repeats))\n",
    "MMDvals_cost_aware_abc = np.zeros(shape = (k.size, num_repeats))\n",
    "\n",
    "for ind in range(k.size):\n",
    "    for j in range(num_repeats):\n",
    "\n",
    "        # Sampling from cost-modified prior\n",
    "        theta_tilde = torch.zeros(num_sim, num_dim)\n",
    "        count = 0\n",
    "\n",
    "        st = time.time() # Start time\n",
    "        while count < num_sim:\n",
    "            param_value = prior.sample()\n",
    "            if u.A_theta_Gamma(param_value, k[ind], alpha = alpha, beta=beta, prior_start=prior_start) > torch.rand(1):\n",
    "                theta_tilde[count] = param_value\n",
    "                count += 1\n",
    "\n",
    "        # Simulate from the Gamma distribution\n",
    "        x_tilde = torch.zeros(num_sim, 2)\n",
    "        for l in range(num_sim):\n",
    "            x_tilde[l,:] = u.gamma_sampler(theta_tilde[l])\n",
    "\n",
    "        et = time.time() # End time\n",
    "        cost_ca_abc_gamma[ind, j] = et-st\n",
    "        \n",
    "        samples, _ = u.rejection_ABC(x_obs, theta_tilde, x_tilde, epsilon_distance)\n",
    "        w_u = u.cost_linear(samples, alpha, beta)**k[ind]    #self-normalised importance weights\n",
    "        \n",
    "        if ind == 0:\n",
    "            np.save(\"posterior_ca_abc_gamma_k1_\"+str(theta_true)+\"_\"+str(j), samples)\n",
    "            np.save(\"weights_ca_abc_gamma_k1_\"+str(theta_true)+\"_\"+str(j), w_u/w_u.sum())\n",
    "        elif ind == 1:\n",
    "            np.save(\"posterior_ca_abc_gamma_k2_\"+str(theta_true)+\"_\"+str(j), samples)\n",
    "            np.save(\"weights_ca_abc_gamma_k2_\"+str(theta_true)+\"_\"+str(j), w_u/w_u.sum())\n",
    "\n",
    "        w_u = u.cost_linear(samples, alpha, beta)**k[ind]    #self-normalised importance weights\n",
    "        \n",
    "        MMDvals_cost_aware_abc[ind, j] = u.MMD_weighted(samples[:,0], true_pos_samples[:,0], (w_u/w_u.sum())[:,0], lengthscale)\n",
    "    print(ind)\n",
    "    \n",
    "np.save(\"cost_ca_abc_gamma\"+str(num_sim)+\"_\"+str(theta_true), cost_ca_abc_gamma)\n",
    "np.save(\"MMDvals_cost_aware_abc\"+str(num_sim)+\"_\"+str(theta_true), MMDvals_cost_aware_abc)"
   ]
  },
  {
   "cell_type": "code",
   "execution_count": 57,
   "id": "292d7d0b",
   "metadata": {},
   "outputs": [
    {
     "data": {
      "image/png": "[encoded data removed]",
      "text/plain": [
       "<Figure size 300x300 with 1 Axes>"
      ]
     },
     "metadata": {},
     "output_type": "display_data"
    }
   ],
   "source": [
    "theta_true = 750\n",
    "ind = 1 \n",
    "\n",
    "if theta_true == 500:\n",
    "    x_obs = np.load(\"x_obs_gamma_500.npy\") # Loading observed data\n",
    "    true_pos_samples = np.load(\"true_posterior_gamma_500.npy\") # Loading true posterior samples\n",
    "        \n",
    "    xlim_start = 480\n",
    "    xlim_end = 520\n",
    "    ylim_end = 0.375\n",
    "    \n",
    "elif theta_true == 250:\n",
    "    x_obs = np.load(\"x_obs_gamma_250.npy\") # Loading observed data\n",
    "    true_pos_samples = np.load(\"true_posterior_gamma_250.npy\") # Loading true posterior samples\n",
    "    \n",
    "    xlim_start = 230 \n",
    "    xlim_end = 270\n",
    "    ylim_end = 0.575\n",
    "    \n",
    "elif theta_true == 750:\n",
    "    x_obs = np.load(\"x_obs_gamma_750.npy\") # Loading observed data\n",
    "    true_pos_samples = np.load(\"true_posterior_gamma_750.npy\") # Loading true posterior samples\n",
    "        \n",
    "    xlim_start = 730\n",
    "    xlim_end = 770\n",
    "    ylim_end = 0.35\n",
    "    \n",
    "samples0 = np.load(\"posterior_ca_abc_gamma_k\"+str(ind)+\"_\"+str(theta_true)+\"_0.npy\")\n",
    "samples1 = np.load(\"posterior_ca_abc_gamma_k\"+str(ind)+\"_\"+str(theta_true)+\"_1.npy\")\n",
    "samples2 = np.load(\"posterior_ca_abc_gamma_k\"+str(ind)+\"_\"+str(theta_true)+\"_2.npy\")\n",
    "samples3 = np.load(\"posterior_ca_abc_gamma_k\"+str(ind)+\"_\"+str(theta_true)+\"_3.npy\")\n",
    "samples4 = np.load(\"posterior_ca_abc_gamma_k\"+str(ind)+\"_\"+str(theta_true)+\"_4.npy\")\n",
    "\n",
    "w0 = np.load(\"weights_ca_abc_gamma_k\"+str(ind)+\"_\"+str(theta_true)+\"_0.npy\")\n",
    "w1 = np.load(\"weights_ca_abc_gamma_k\"+str(ind)+\"_\"+str(theta_true)+\"_1.npy\")\n",
    "w2 = np.load(\"weights_ca_abc_gamma_k\"+str(ind)+\"_\"+str(theta_true)+\"_2.npy\")\n",
    "w3 = np.load(\"weights_ca_abc_gamma_k\"+str(ind)+\"_\"+str(theta_true)+\"_3.npy\")\n",
    "w4 = np.load(\"weights_ca_abc_gamma_k\"+str(ind)+\"_\"+str(theta_true)+\"_4.npy\")\n",
    "\n",
    "from scipy.stats import gaussian_kde\n",
    "\n",
    "kernel0 = gaussian_kde(samples0[:,0], weights=w0[:,0])\n",
    "kernel1 = gaussian_kde(samples1[:,0], weights=w1[:,0])\n",
    "kernel2 = gaussian_kde(samples2[:,0], weights=w2[:,0])\n",
    "kernel3 = gaussian_kde(samples3[:,0], weights=w3[:,0])\n",
    "kernel4 = gaussian_kde(samples4[:,0], weights=w4[:,0])\n",
    "\n",
    "# Plotting\n",
    "fig, axes = plt.subplots(1, figsize=(3, 3))\n",
    "\n",
    "plt.plot(torch.linspace(xlim_start, xlim_end, 200), kernel0(torch.linspace(xlim_start, xlim_end, 200)) ,color = \"C1\",\n",
    "         linewidth = 2,  linestyle = \"solid\", alpha = 0.6)\n",
    "plt.plot(torch.linspace(xlim_start, xlim_end, 200), kernel1(torch.linspace(xlim_start, xlim_end, 200)) ,color = \"C1\",\n",
    "         linewidth = 2,  linestyle = \"solid\", alpha = 0.6)\n",
    "plt.plot(torch.linspace(xlim_start, xlim_end, 200), kernel2(torch.linspace(xlim_start, xlim_end, 200)) ,color = \"C1\",\n",
    "         linewidth = 2,  linestyle = \"solid\", alpha = 0.6)\n",
    "plt.plot(torch.linspace(xlim_start, xlim_end, 200), kernel3(torch.linspace(xlim_start, xlim_end, 200)) ,color = \"C1\",\n",
    "         linewidth = 2,  linestyle = \"solid\", alpha = 0.6)\n",
    "plt.plot(torch.linspace(xlim_start, xlim_end, 200), kernel4(torch.linspace(xlim_start, xlim_end, 200)) ,color = \"C1\",\n",
    "         linewidth = 2,  linestyle = \"solid\", alpha = 0.6)\n",
    "\n",
    "# sns.kdeplot(samples0[:,0], color = \"C1\", linewidth = 2, linestyle = \"solid\", label = \"Ca-ABC\", alpha = 0.6)\n",
    "# sns.kdeplot(samples1[:,0], color = \"C1\", linewidth = 2, linestyle = \"solid\", alpha = 0.6)\n",
    "# sns.kdeplot(samples2[:,0], color = \"C1\", linewidth = 2, linestyle = \"solid\", alpha = 0.6)\n",
    "# sns.kdeplot(samples3[:,0], color = \"C1\", linewidth = 2, linestyle = \"solid\", alpha = 0.6)\n",
    "# sns.kdeplot(samples4[:,0], color = \"C1\", linewidth = 2, linestyle = \"solid\", alpha = 0.6)\n",
    "sns.kdeplot(true_pos_samples[:,0], color = \"black\", linewidth = 2, linestyle = \"solid\", label = \"True pos.\")\n",
    "axes.set_xlabel(\"$\\\\theta$\", fontsize = 16)\n",
    "axes.axvline(theta_true, color = \"darkgreen\", linestyle = \"dashed\")\n",
    "plt.title(\"Ca-ABC: $g(z) = z$\")\n",
    "# plt.ylim(0, 0.575)\n",
    "plt.ylim(0, ylim_end)\n",
    "plt.xlim(xlim_start, xlim_end)\n",
    "\n",
    "plt.savefig('figures/plot_gamma_posteriors_ca_abc_k'+str(ind)+'_'+str(theta_true)+'.pdf', format='pdf', dpi = 300, bbox_inches='tight')\n",
    "plt.show()"
   ]
  },
  {
   "cell_type": "markdown",
   "id": "0f1cd931",
   "metadata": {},
   "source": [
    "## Plotting"
   ]
  },
  {
   "cell_type": "code",
   "execution_count": 26,
   "id": "6da79502",
   "metadata": {},
   "outputs": [
    {
     "data": {
      "image/png": "[encoded data removed]",
      "text/plain": [
       "<Figure size 300x300 with 1 Axes>"
      ]
     },
     "metadata": {},
     "output_type": "display_data"
    }
   ],
   "source": [
    "theta_true = 250\n",
    "\n",
    "cost_standard_abc_gamma = np.load(\"cost_standard_abc_gamma_50000_\"+str(theta_true)+\".npy\")\n",
    "MMDvals_standard_abc = np.load(\"MMDvals_standard_abc_50000_\"+str(theta_true)+\".npy\")\n",
    "\n",
    "cost_ca_abc_gamma = np.load(\"cost_ca_abc_gamma50000_\"+str(theta_true)+\".npy\")\n",
    "MMDvals_cost_aware_abc = np.load(\"MMDvals_cost_aware_abc50000_\"+str(theta_true)+\".npy\")\n",
    "\n",
    "point_marker = np.array([\"o\", '*', \"^\", \"D\", \"X\"]) \n",
    "\n",
    "plt.figure(figsize=(3, 3))\n",
    "\n",
    "plt.scatter(cost_standard_abc_gamma, MMDvals_standard_abc, marker = point_marker[0], color = \"red\", s = 60, \n",
    "            alpha = 0.8, label = \"ABC\")\n",
    "plt.scatter(cost_ca_abc_gamma[0,:], MMDvals_cost_aware_abc[0,:], marker = point_marker[1], color = \"C1\", s = 65, \n",
    "            alpha = 0.8, label = \"Ca-ABC: $g(z) = z$\")\n",
    "plt.scatter(cost_ca_abc_gamma[1,:], MMDvals_cost_aware_abc[1,:], marker = point_marker[3], color = \"C0\", s = 60, \n",
    "            alpha = 0.8, label = \"Ca-ABC: $g(z) = z^2$\")\n",
    "plt.scatter(cost_ca_abc_gamma[2,:], MMDvals_cost_aware_abc[2,:], marker = point_marker[2], color = \"C3\", s = 60, \n",
    "            alpha = 0.8, label = \"Ca-ABC: $g(z) = z^3$\")\n",
    "plt.scatter(cost_ca_abc_gamma[3,:], MMDvals_cost_aware_abc[3,:], marker = point_marker[4], color = \"C4\", s = 60, \n",
    "            alpha = 0.8, label = \"Ca-ABC: $g(z) = z^4$\")\n",
    "# plt.legend(fontsize = 11)\n",
    "plt.title(\"$\\\\theta_{\\mathrm{true}} = $ \"+str(theta_true))\n",
    "plt.xlabel('Cost [seconds]', fontsize = 16)\n",
    "# plt.ylabel('$\\widehat{\\mathrm{MMD}}^2$', fontsize=15)\n",
    "plt.savefig('figures/plot_gamma_abc_accuracy_vs_cost_'+str(theta_true)+'.pdf', format='pdf', dpi = 300, bbox_inches='tight')\n",
    "plt.show()"
   ]
  },
  {
   "cell_type": "markdown",
   "id": "811ee37f",
   "metadata": {},
   "source": [
    "## Multiple ABC"
   ]
  },
  {
   "cell_type": "code",
   "execution_count": 4,
   "id": "be01caf0",
   "metadata": {},
   "outputs": [],
   "source": [
    "from sbi import utils as utils\n",
    "from sbi import analysis as analysis\n",
    "from cost_aware_snpe_c import CostAwareSNPE_C\n",
    "from sbi.inference.snpe.snpe_c import SNPE_C\n",
    "\n",
    "import seaborn as sns\n",
    "%load_ext autoreload\n",
    "%autoreload 2\n",
    "\n",
    "n_samples_posterior = 1000 # Number of samples of NPE posterior\n",
    "\n",
    "theta_true = 750\n",
    "\n",
    "if theta_true == 500:\n",
    "    x_obs = np.load(\"x_obs_gamma_500.npy\") # Loading observed data\n",
    "    true_pos_samples = np.load(\"true_posterior_gamma_500.npy\") # Loading true posterior samples\n",
    "elif theta_true == 250:\n",
    "    x_obs = np.load(\"x_obs_gamma_250.npy\") # Loading observed data\n",
    "    true_pos_samples = np.load(\"true_posterior_gamma_250.npy\") # Loading true posterior samples\n",
    "elif theta_true == 750:\n",
    "    x_obs = np.load(\"x_obs_gamma_750.npy\") # Loading observed data\n",
    "    true_pos_samples = np.load(\"true_posterior_gamma_750.npy\") # Loading true posterior samples\n",
    "\n",
    "lengthscale = u.median_heuristic(true_pos_samples)"
   ]
  },
  {
   "cell_type": "markdown",
   "id": "619fd8ad-7a4b-4c4e-a111-be5cc29d2ece",
   "metadata": {},
   "source": [
    "## Multiple ABC"
   ]
  },
  {
   "cell_type": "code",
   "execution_count": 8,
   "id": "56fac85d-b56b-44c3-bd9b-761023300c23",
   "metadata": {},
   "outputs": [
    {
     "name": "stdout",
     "output_type": "stream",
     "text": [
      "CA-ABC cost: 275.270783662796\n",
      "MMD CA-ABC: 0.24035248138251797\n",
      "CA-ABC cost: 276.2461779117584\n",
      "MMD CA-ABC: 0.2674563135224674\n",
      "CA-ABC cost: 269.4190676212311\n",
      "MMD CA-ABC: 0.24948709200728938\n",
      "CA-ABC cost: 268.7143931388855\n",
      "MMD CA-ABC: 0.22365483914532858\n",
      "CA-ABC cost: 272.1899905204773\n",
      "MMD CA-ABC: 0.20009316553939538\n"
     ]
    }
   ],
   "source": [
    "num_sim = 50000\n",
    "num_repeats = 5\n",
    "epsilon_distance = 0.05\n",
    "\n",
    "k = np.array([0, 1, 2, 3]) # Exponent of the penaly function g(z) = z^k\n",
    "\n",
    "num_mixtures = k.size\n",
    "num_per_mixture = int(round(num_sim / num_mixtures))\n",
    "\n",
    "cost_mixture_gamma = torch.zeros(size = (num_repeats,))\n",
    "posterior_mixture_gamma = torch.zeros(size = (num_repeats, n_samples_posterior))\n",
    "MMDvals_multiple_abc = np.zeros(shape = (num_repeats,))\n",
    "\n",
    "for j in range(num_repeats):\n",
    "    \n",
    "    thetas_ca = torch.empty([num_mixtures, num_per_mixture, 1])\n",
    "    xs_ca = torch.empty([num_mixtures, num_per_mixture, 2])\n",
    "    weights_ca = torch.empty([num_mixtures, num_per_mixture])\n",
    "    posterior_samples_caabc = None\n",
    "    weights = None\n",
    "    \n",
    "    # Sampling from cost-modified prior\n",
    "    theta_tilde = torch.zeros(num_sim, num_dim)\n",
    "    w_u = torch.zeros(num_sim,)\n",
    "    end_time = 0\n",
    "    for ind in range(num_mixtures):\n",
    "        count = 0\n",
    "        weights_for_k = []\n",
    "        start_time = time.time()\n",
    "        while count < num_per_mixture:\n",
    "            theta_ = prior.sample()\n",
    "            # print(calc_acc_prob(cost_linear, alpha, beta, theta_, theta_low, k_mixture[ind]))\n",
    "            if u.A_theta_Gamma(theta_, k[ind], alpha = alpha, beta=beta, prior_start=prior_start) > torch.rand(1):\n",
    "                thetas_ca[ind, count] = theta_.reshape(-1)\n",
    "                weights_for_k.append(u.cost_linear(theta_, alpha, beta)**k[ind]) \n",
    "                count += 1\n",
    "        weights_ca[ind] = torch.tensor(weights_for_k).reshape(-1)\n",
    "\n",
    "        xs_ca[ind] = torch.vstack([u.gamma_sampler(theta) for theta in thetas_ca[ind]])\n",
    "        end_time += time.time() - start_time\n",
    "\n",
    "        posterior_samples_caabc_per_mixture, indices = u.rejection_ABC(x_obs, thetas_ca[ind], xs_ca[ind], epsilon_distance)\n",
    "        #print(indices)\n",
    "        #print(weights_ca[ind], [indices[0]])\n",
    "        \n",
    "        weights_per_mixture = weights_ca[ind, indices[0]] / (weights_ca[ind, indices[0]].sum()*num_mixtures)\n",
    "\n",
    "        if posterior_samples_caabc is None:\n",
    "            posterior_samples_caabc = posterior_samples_caabc_per_mixture\n",
    "            weights = weights_per_mixture\n",
    "        else:\n",
    "            posterior_samples_caabc = torch.cat([posterior_samples_caabc,posterior_samples_caabc_per_mixture], axis=0)\n",
    "            weights = torch.cat([weights, weights_per_mixture], axis=0)\n",
    "    print(f\"CA-ABC cost: {end_time}\")\n",
    "    cost_mixture_gamma[j] = end_time\n",
    "    \n",
    "    np.save(\"posterior_ca_abc_gamma_multiple_\"+str(theta_true)+\"_\"+str(j), posterior_samples_caabc)\n",
    "    np.save(\"weights_ca_abc_gamma_multiple_\"+str(theta_true)+\"_\"+str(j), weights)\n",
    "    \n",
    "    \n",
    "    MMDvals_multiple_abc[j] = u.MMD_weighted(posterior_samples_caabc.reshape(-1), true_pos_samples[:,0], weights.reshape(-1),\n",
    "                                          lengthscale=lengthscale)\n",
    "    \n",
    "    print(\"MMD CA-ABC:\", MMDvals_multiple_abc[j])\n",
    "    \n",
    "np.save(\"MMDvals_cost_aware_multiple\"+str(num_sim)+\"_\"+str(theta_true), MMDvals_multiple_abc)\n",
    "np.save(\"cost_multiple_gamma\"+str(num_sim)+\"_\"+str(theta_true), cost_mixture_gamma)"
   ]
  },
  {
   "cell_type": "code",
   "execution_count": 9,
   "id": "900aa843",
   "metadata": {},
   "outputs": [
    {
     "data": {
      "image/png": "[encoded data removed]",
      "text/plain": [
       "<Figure size 300x300 with 1 Axes>"
      ]
     },
     "metadata": {},
     "output_type": "display_data"
    }
   ],
   "source": [
    "theta_true = 750\n",
    "ind = 1 \n",
    "\n",
    "if theta_true == 500:\n",
    "    x_obs = np.load(\"x_obs_gamma_500.npy\") # Loading observed data\n",
    "    true_pos_samples = np.load(\"true_posterior_gamma_500.npy\") # Loading true posterior samples\n",
    "        \n",
    "    xlim_start = 480\n",
    "    xlim_end = 520\n",
    "    ylim_end = 0.375\n",
    "    \n",
    "elif theta_true == 250:\n",
    "    x_obs = np.load(\"x_obs_gamma_250.npy\") # Loading observed data\n",
    "    true_pos_samples = np.load(\"true_posterior_gamma_250.npy\") # Loading true posterior samples\n",
    "    \n",
    "    xlim_start = 230 \n",
    "    xlim_end = 270\n",
    "    ylim_end = 0.575\n",
    "    \n",
    "elif theta_true == 750:\n",
    "    x_obs = np.load(\"x_obs_gamma_750.npy\") # Loading observed data\n",
    "    true_pos_samples = np.load(\"true_posterior_gamma_750.npy\") # Loading true posterior samples\n",
    "        \n",
    "    xlim_start = 730\n",
    "    xlim_end = 770\n",
    "    ylim_end = 0.35\n",
    "    \n",
    "samples0 = np.load(\"posterior_ca_abc_gamma_multiple_\"+str(theta_true)+\"_0.npy\")\n",
    "samples1 = np.load(\"posterior_ca_abc_gamma_multiple_\"+str(theta_true)+\"_1.npy\")\n",
    "samples2 = np.load(\"posterior_ca_abc_gamma_multiple_\"+str(theta_true)+\"_2.npy\")\n",
    "samples3 = np.load(\"posterior_ca_abc_gamma_multiple_\"+str(theta_true)+\"_3.npy\")\n",
    "samples4 = np.load(\"posterior_ca_abc_gamma_multiple_\"+str(theta_true)+\"_4.npy\")\n",
    "\n",
    "w0 = np.load(\"weights_ca_abc_gamma_multiple_\"+str(theta_true)+\"_0.npy\")\n",
    "w1 = np.load(\"weights_ca_abc_gamma_multiple_\"+str(theta_true)+\"_1.npy\")\n",
    "w2 = np.load(\"weights_ca_abc_gamma_multiple_\"+str(theta_true)+\"_2.npy\")\n",
    "w3 = np.load(\"weights_ca_abc_gamma_multiple_\"+str(theta_true)+\"_3.npy\")\n",
    "w4 = np.load(\"weights_ca_abc_gamma_multiple_\"+str(theta_true)+\"_4.npy\")\n",
    "\n",
    "from scipy.stats import gaussian_kde\n",
    "\n",
    "kernel0 = gaussian_kde(samples0[:,0], weights=w0)\n",
    "kernel1 = gaussian_kde(samples1[:,0], weights=w1)\n",
    "kernel2 = gaussian_kde(samples2[:,0], weights=w2)\n",
    "kernel3 = gaussian_kde(samples3[:,0], weights=w3)\n",
    "kernel4 = gaussian_kde(samples4[:,0], weights=w4)\n",
    "\n",
    "# Plotting\n",
    "fig, axes = plt.subplots(1, figsize=(3, 3))\n",
    "\n",
    "plt.plot(torch.linspace(xlim_start, xlim_end, 200), kernel0(torch.linspace(xlim_start, xlim_end, 200)) ,color = \"C2\",\n",
    "         linewidth = 2,  linestyle = \"solid\", alpha = 0.6)\n",
    "plt.plot(torch.linspace(xlim_start, xlim_end, 200), kernel1(torch.linspace(xlim_start, xlim_end, 200)) ,color = \"C2\",\n",
    "         linewidth = 2,  linestyle = \"solid\", alpha = 0.6)\n",
    "plt.plot(torch.linspace(xlim_start, xlim_end, 200), kernel2(torch.linspace(xlim_start, xlim_end, 200)) ,color = \"C2\",\n",
    "         linewidth = 2,  linestyle = \"solid\", alpha = 0.6)\n",
    "plt.plot(torch.linspace(xlim_start, xlim_end, 200), kernel3(torch.linspace(xlim_start, xlim_end, 200)) ,color = \"C2\",\n",
    "         linewidth = 2,  linestyle = \"solid\", alpha = 0.6)\n",
    "plt.plot(torch.linspace(xlim_start, xlim_end, 200), kernel4(torch.linspace(xlim_start, xlim_end, 200)) ,color = \"C2\",\n",
    "         linewidth = 2,  linestyle = \"solid\", alpha = 0.6)\n",
    "\n",
    "# sns.kdeplot(samples0[:,0], color = \"C1\", linewidth = 2, linestyle = \"solid\", label = \"Ca-ABC\", alpha = 0.6)\n",
    "# sns.kdeplot(samples1[:,0], color = \"C1\", linewidth = 2, linestyle = \"solid\", alpha = 0.6)\n",
    "# sns.kdeplot(samples2[:,0], color = \"C1\", linewidth = 2, linestyle = \"solid\", alpha = 0.6)\n",
    "# sns.kdeplot(samples3[:,0], color = \"C1\", linewidth = 2, linestyle = \"solid\", alpha = 0.6)\n",
    "# sns.kdeplot(samples4[:,0], color = \"C1\", linewidth = 2, linestyle = \"solid\", alpha = 0.6)\n",
    "sns.kdeplot(true_pos_samples[:,0], color = \"black\", linewidth = 2, linestyle = \"solid\", label = \"True pos.\")\n",
    "axes.set_xlabel(\"$\\\\theta$\", fontsize = 16)\n",
    "axes.axvline(theta_true, color = \"darkgreen\", linestyle = \"dashed\")\n",
    "plt.title(\"Ca-ABC: multiple\")\n",
    "# plt.ylim(0, 0.575)\n",
    "plt.ylim(0, ylim_end)\n",
    "plt.xlim(xlim_start, xlim_end)\n",
    "\n",
    "plt.savefig('figures/plot_gamma_posteriors_ca_abc_mixture'+str(ind)+'_'+str(theta_true)+'.pdf', format='pdf', dpi = 300, bbox_inches='tight')\n",
    "plt.show()"
   ]
  },
  {
   "cell_type": "code",
   "execution_count": 11,
   "id": "53d1af61",
   "metadata": {},
   "outputs": [
    {
     "data": {
      "image/png": "[encoded data removed]",
      "text/plain": [
       "<Figure size 300x300 with 1 Axes>"
      ]
     },
     "metadata": {},
     "output_type": "display_data"
    }
   ],
   "source": [
    "theta_true = 250\n",
    "\n",
    "cost_standard_abc_gamma = np.load(\"cost_standard_abc_gamma_50000_\"+str(theta_true)+\".npy\")\n",
    "MMDvals_standard_abc = np.load(\"MMDvals_standard_abc_50000_\"+str(theta_true)+\".npy\")\n",
    "\n",
    "cost_ca_abc_gamma = np.load(\"cost_ca_abc_gamma50000_\"+str(theta_true)+\".npy\")\n",
    "MMDvals_cost_aware_abc = np.load(\"MMDvals_cost_aware_abc50000_\"+str(theta_true)+\".npy\")\n",
    "\n",
    "#cost_ca_abc_gamma_k3 = np.load(\"cost_ca_abc_gamma_k350000_\"+str(theta_true)+\".npy\")\n",
    "#MMDvals_cost_aware_abc_k3 = np.load(\"MMDvals_cost_aware_abc_k350000_\"+str(theta_true)+\".npy\")\n",
    "\n",
    "MMDvals_multiple_abc = np.load(\"MMDvals_cost_aware_multiple50000_\"+str(theta_true)+\".npy\")\n",
    "cost_multiple_gamma = np.load(\"cost_multiple_gamma50000_\"+str(theta_true)+\".npy\")\n",
    "\n",
    "point_marker = np.array([\"o\", '*', \"^\", \"D\", \"X\"]) \n",
    "\n",
    "plt.figure(figsize=(3, 3))\n",
    "\n",
    "plt.scatter(cost_standard_abc_gamma, MMDvals_standard_abc, marker = point_marker[0], color = \"red\", s = 60, \n",
    "            alpha = 0.8, label = \"$p$\")\n",
    "plt.scatter(cost_ca_abc_gamma[0,:], MMDvals_cost_aware_abc[0,:], marker = point_marker[1], color = \"C1\", s = 65, \n",
    "            alpha = 0.8, label = \"$\\\\tilde{p}_g: g(z) = z$\")\n",
    "plt.scatter(cost_ca_abc_gamma[1,:], MMDvals_cost_aware_abc[1,:], marker = point_marker[3], color = \"C0\", s = 60, \n",
    "            alpha = 0.8, label = \"$\\\\tilde{p}_g: g(z) = z^2$\")\n",
    "#plt.scatter(cost_ca_abc_gamma_k3, MMDvals_cost_aware_abc_k3, marker = point_marker[2], color = \"C4\", s = 60, \n",
    " #           alpha = 0.8, label = \"$\\\\tilde{p}_g: g(z) = z^3$\")\n",
    "plt.scatter(cost_ca_abc_gamma[2,:], MMDvals_cost_aware_abc[2,:], marker = point_marker[2], color = \"C4\", s = 60, \n",
    "             alpha = 0.8, label = \"Ca-ABC: $g(z) = z^4$\")\n",
    "plt.scatter(cost_multiple_gamma, MMDvals_multiple_abc, marker = point_marker[4], color = \"C2\", s = 60, \n",
    "            alpha = 0.8, label = \"$\\\\tilde{p}_g:$ multiple\")\n",
    "# plt.legend(fontsize = 11.5)\n",
    "plt.title(\"$\\\\theta_{\\mathrm{true}} = $ \"+str(theta_true))\n",
    "plt.xlabel('Cost [seconds]', fontsize = 16)\n",
    "plt.ylim(0.13, 0.56)\n",
    "plt.ylabel('$\\widehat{\\mathrm{MMD}}^2$', fontsize=15)\n",
    "plt.savefig('figures/plot_gamma_abc_accuracy_vs_cost_'+str(theta_true)+'.pdf', format='pdf', dpi = 300, bbox_inches='tight')\n",
    "plt.show()"
   ]
  }
 ],
 "metadata": {
  "kernelspec": {
   "display_name": "Python 3 (ipykernel)",
   "language": "python",
   "name": "python3"
  },
  "language_info": {
   "codemirror_mode": {
    "name": "ipython",
    "version": 3
   },
   "file_extension": ".py",
   "mimetype": "text/x-python",
   "name": "python",
   "nbconvert_exporter": "python",
   "pygments_lexer": "ipython3",
   "version": "3.9.12"
  }
 },
 "nbformat": 4,
 "nbformat_minor": 5
}
