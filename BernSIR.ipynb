{
 "cells": [
  {
   "cell_type": "code",
   "execution_count": 1,
   "id": "ed06cb3d",
   "metadata": {},
   "outputs": [],
   "source": [
    "import time\n",
    "import numpy as np\n",
    "import torch\n",
    "\n",
    "from sbi import utils as utils\n",
    "from cost_aware_snpe_c import CostAwareSNPE_C\n",
    "from sbi.inference.snpe.snpe_c import SNPE_C\n",
    "from sbi.utils.torchutils import *\n",
    "from sbi.utils import process_prior\n",
    "from sbi.utils.user_input_checks import *\n",
    "from simulators import bernoulli_sir\n",
    "\n",
    "from hydra import compose, initialize\n",
    "import hydra\n",
    "\n",
    "import gpytorch\n",
    "from gpytorch.models import ExactGP\n",
    "from gpytorch.kernels import ScaleKernel, RBFKernel\n",
    "from gpytorch.means import ConstantMean\n",
    "from gpytorch.distributions import MultivariateNormal\n",
    "from gpytorch.mlls import ExactMarginalLogLikelihood\n",
    "\n",
    "from sklearn.model_selection import KFold, cross_val_score\n",
    "from sklearn.neural_network import MLPClassifier\n",
    "\n",
    "import matplotlib\n",
    "import matplotlib.pyplot as plt\n",
    "import seaborn as sns\n",
    "from scipy import stats\n",
    "\n",
    "hydra.core.global_hydra.GlobalHydra.instance().clear()\n",
    "initialize(config_path=\"configs\", version_base=None)\n",
    "cfg = compose(config_name=\"train\")\n",
    "\n",
    "%load_ext autoreload\n",
    "%autoreload 2\n",
    "    \n",
    "import warnings\n",
    "warnings.filterwarnings('ignore')"
   ]
  },
  {
   "cell_type": "code",
   "execution_count": 2,
   "id": "5b9f2164",
   "metadata": {},
   "outputs": [],
   "source": [
    "def MMD_unweighted(x, y, lengthscale):\n",
    "    \"\"\" Approximates the squared MMD between samples x_i ~ P and y_i ~ Q\n",
    "    \"\"\"\n",
    "\n",
    "    m = x.shape[0]\n",
    "    n = y.shape[0]\n",
    "\n",
    "    z = torch.cat((x, y), dim=0)\n",
    "\n",
    "    K = kernel_matrix(z, z, lengthscale)\n",
    "\n",
    "    kxx = K[0:m, 0:m]\n",
    "    kyy = K[m:(m + n), m:(m + n)]\n",
    "    kxy = K[0:m, m:(m + n)]\n",
    "\n",
    "    return (1 / m ** 2) * torch.sum(kxx) - (2 / (m * n)) * torch.sum(kxy) + (1 / n ** 2) * torch.sum(kyy)\n",
    "\n",
    "\n",
    "def median_heuristic(y):\n",
    "    a = torch.cdist(y, y)**2\n",
    "    return torch.sqrt(torch.median(a / 2))\n",
    "\n",
    "\n",
    "def kernel_matrix(x, y, l):\n",
    "    d = torch.cdist(x, y)**2\n",
    "\n",
    "    kernel = torch.exp(-(1 / (2 * l ** 2)) * d)\n",
    "\n",
    "    return kernel"
   ]
  },
  {
   "cell_type": "code",
   "execution_count": 3,
   "id": "f456b12e",
   "metadata": {},
   "outputs": [],
   "source": [
    "def calc_acc_prob(gp, likelihood, theta, prior_start, k):\n",
    "\n",
    "    with torch.no_grad(), gpytorch.settings.fast_pred_var():\n",
    "        cost = likelihood(model(theta)).mean\n",
    "\n",
    "        lower_cost = likelihood(model(prior_start)).mean\n",
    "    return (lower_cost ** k) / (cost**k)\n",
    "\n",
    "class GP(ExactGP):\n",
    "    def __init__(self, train_x, train_y, likelihood):\n",
    "        super(GP, self).__init__(train_x, train_y, likelihood)\n",
    "        self.mean_module = ConstantMean()\n",
    "        self.covar_module = ScaleKernel(RBFKernel())\n",
    "\n",
    "    def forward(self, x):\n",
    "        mean_x = self.mean_module(x)\n",
    "        covar_x = self.covar_module(x)\n",
    "        return MultivariateNormal(mean_x, covar_x)"
   ]
  },
  {
   "cell_type": "code",
   "execution_count": 14,
   "id": "0b0613eb-6e2c-49c8-b74f-2bd0691e3273",
   "metadata": {},
   "outputs": [],
   "source": [
    "def c2st(\n",
    "    X: torch.Tensor,\n",
    "    Y: torch.Tensor,\n",
    "    seed: int = 1,\n",
    "    n_folds: int = 5,\n",
    "    scoring: str = \"accuracy\",\n",
    "    z_score: bool = True,\n",
    "    noise_scale: Optional[float] = None,\n",
    ") -> torch.Tensor:\n",
    "    \"\"\"Classifier-based 2-sample test returning accuracy\n",
    "\n",
    "    Trains classifiers with N-fold cross-validation [1]. Scikit learn MLPClassifier are\n",
    "    used, with 2 hidden layers of 10x dim each, where dim is the dimensionality of the\n",
    "    samples X and Y.\n",
    "\n",
    "    Args:\n",
    "        X: Sample 1\n",
    "        Y: Sample 2\n",
    "        seed: Seed for sklearn\n",
    "        n_folds: Number of folds\n",
    "        z_score: Z-scoring using X\n",
    "        noise_scale: If passed, will add Gaussian noise with std noise_scale to samples\n",
    "\n",
    "    References:\n",
    "        [1]: https://scikit-learn.org/stable/modules/cross_validation.html\n",
    "    \"\"\"\n",
    "    if z_score:\n",
    "        X_mean = torch.mean(X, dim=0)\n",
    "        X_std = torch.std(X, dim=0)\n",
    "        X = (X - X_mean) / X_std\n",
    "        Y = (Y - X_mean) / X_std\n",
    "\n",
    "    if noise_scale is not None:\n",
    "        X += noise_scale * torch.randn(X.shape)\n",
    "        Y += noise_scale * torch.randn(Y.shape)\n",
    "\n",
    "    X = X.cpu().numpy()\n",
    "    Y = Y.cpu().numpy()\n",
    "\n",
    "    ndim = X.shape[1]\n",
    "\n",
    "    clf = MLPClassifier(\n",
    "        activation=\"relu\",\n",
    "        hidden_layer_sizes=(10 * ndim, 10 * ndim),\n",
    "        max_iter=10000,\n",
    "        solver=\"adam\",\n",
    "        random_state=seed,\n",
    "    )\n",
    "\n",
    "    data = np.concatenate((X, Y))\n",
    "    target = np.concatenate(\n",
    "        (\n",
    "            np.zeros((X.shape[0],)),\n",
    "            np.ones((Y.shape[0],)),\n",
    "        )\n",
    "    )\n",
    "\n",
    "    shuffle = KFold(n_splits=n_folds, shuffle=True, random_state=seed)\n",
    "    scores = cross_val_score(clf, data, target, cv=shuffle, scoring=scoring)\n",
    "\n",
    "    scores = np.asarray(np.mean(scores)).astype(np.float32)\n",
    "    return torch.from_numpy(np.atleast_1d(scores))"
   ]
  },
  {
   "cell_type": "code",
   "execution_count": 20,
   "id": "e9845c67-b401-4c2a-bd8a-1c52bfb9a818",
   "metadata": {},
   "outputs": [],
   "source": [
    "def compute_ks_scores(true_samples, estimated_samples):\n",
    "    \"\"\"\n",
    "    Compute KS test scores between true and estimated posterior samples.\n",
    "    \n",
    "    Parameters:\n",
    "    -----------\n",
    "    true_samples : numpy.ndarray\n",
    "        Samples from the true posterior, shape [n_samples, n_dim]\n",
    "    estimated_samples : numpy.ndarray\n",
    "        Samples from the estimated posterior, shape [n_samples, n_dim]\n",
    "        \n",
    "    Returns:\n",
    "    --------\n",
    "    list of floats\n",
    "        KS test statistic for each dimension\n",
    "    list of floats\n",
    "        p-values for each KS test (optional, can be ignored for SBI evaluation)\n",
    "    \"\"\"\n",
    "    \n",
    "    n_dims = true_samples.shape[1]\n",
    "    ks_stats = []\n",
    "    \n",
    "    # Compute KS test for each dimension\n",
    "    for dim in range(n_dims):\n",
    "        ks_stat, p_value = stats.ks_2samp(\n",
    "            true_samples[:, dim],\n",
    "            estimated_samples[:, dim]\n",
    "        )\n",
    "        ks_stats.append(ks_stat)\n",
    "\n",
    "    return torch.tensor(ks_stats)"
   ]
  },
  {
   "cell_type": "markdown",
   "id": "55625add",
   "metadata": {},
   "source": [
    "# Bernoulli SIR"
   ]
  },
  {
   "cell_type": "code",
   "execution_count": 4,
   "id": "83bc1dbe",
   "metadata": {},
   "outputs": [],
   "source": [
    "bern_sir = bernoulli_sir.BernSIR()"
   ]
  },
  {
   "cell_type": "markdown",
   "id": "55006939",
   "metadata": {},
   "source": [
    "## Data generation"
   ]
  },
  {
   "cell_type": "code",
   "execution_count": null,
   "id": "35938d6f",
   "metadata": {},
   "outputs": [],
   "source": [
    "# DON'T NEED TO RUN AGAIN IF YOU ALREADY GENERATED THE REFERENCE DATA\n",
    "N = 50000\n",
    "\n",
    "bern_sir_theta_npe_large = bern_sir.sample_theta([N]).reshape(-1, bern_sir.theta_dim)\n",
    "bern_sir_x_npe_large = torch.empty([N, bern_sir.x_dim])\n",
    "for i in range(N):\n",
    "    bern_sir_x_npe_large[i, :] = bern_sir(bern_sir_theta_npe_large[i])\n",
    "\n",
    "# Observed data generation\n",
    "bern_sir_obs_theta = torch.tensor([0.5, 0.5, 0.5])\n",
    "bern_sir_obs_x = bern_sir(bern_sir_obs_theta)\n",
    "\n",
    "torch.save(bern_sir_x_npe_large, \"data/bern_sir_x_npe_large.pt\")\n",
    "torch.save(bern_sir_theta_npe_large, \"data/bern_sir_theta_npe_large.pt\")\n",
    "torch.save(bern_sir_obs_x, \"data/bern_sir_obs_x.pt\")\n",
    "torch.save(bern_sir_obs_theta, \"data/bern_sir_obs_theta.pt\")"
   ]
  },
  {
   "cell_type": "markdown",
   "id": "d156fb7e",
   "metadata": {},
   "source": [
    "## Data loading"
   ]
  },
  {
   "cell_type": "code",
   "execution_count": 7,
   "id": "e004e1ca",
   "metadata": {},
   "outputs": [],
   "source": [
    "bern_sir_x_npe_large = torch.load(\"data_/bern_sir_x_npe_large.pt\")\n",
    "bern_sir_theta_npe_large = torch.load(\"data_/bern_sir_theta_npe_large.pt\")\n",
    "\n",
    "bern_sir_obs_x = torch.load(\"data_/bern_sir_obs_x.pt\")\n",
    "bern_sir_obs_theta = torch.load(\"data_/bern_sir_obs_theta.pt\")"
   ]
  },
  {
   "cell_type": "markdown",
   "id": "1bd4256d",
   "metadata": {},
   "source": [
    "## Fit GP"
   ]
  },
  {
   "cell_type": "code",
   "execution_count": 8,
   "id": "3b7567f2-f251-414b-a7a4-f5c5709ac53d",
   "metadata": {},
   "outputs": [],
   "source": [
    "n_train_pair = 500 # number of pairs used to fit GP\n",
    "n_rep = 20 # number of repeats to get the average cost"
   ]
  },
  {
   "cell_type": "code",
   "execution_count": 16,
   "id": "c08fe7f1",
   "metadata": {},
   "outputs": [],
   "source": [
    "# simulate the cost\n",
    "X = bern_sir_theta_npe_large[:n_train_pair]\n",
    "\n",
    "times_train = torch.zeros(n_train_pair)\n",
    "\n",
    "for i in range(n_train_pair):\n",
    "    st = time.time()\n",
    "    for _ in range(n_rep):\n",
    "        result = bern_sir(bern_sir_theta_npe_large[i])\n",
    "    et = time.time()\n",
    "    times_train[i] = (et - st) / n_rep\n",
    "\n",
    "# save GP training samples\n",
    "torch.save(X, \"data/bern_sir_gp_x.pt\")\n",
    "torch.save(times_train, \"data/bern_sir_gp_y.pt\")"
   ]
  },
  {
   "cell_type": "code",
   "execution_count": 79,
   "id": "887def4a",
   "metadata": {
    "scrolled": true
   },
   "outputs": [],
   "source": [
    "likelihood = gpytorch.likelihoods.GaussianLikelihood()\n",
    "model = GP(X, times_train, likelihood)\n",
    "model.float()\n",
    "model.train()\n",
    "likelihood.train()\n",
    "\n",
    "optimizer = torch.optim.Adam(model.parameters(), lr=0.1)\n",
    "\n",
    "mll = ExactMarginalLogLikelihood(likelihood, model)\n",
    "\n",
    "training_iterations = 200\n",
    "for i in range(training_iterations):\n",
    "    optimizer.zero_grad()\n",
    "    output = model(X.float())\n",
    "    loss = -mll(output, times_train)\n",
    "    loss.backward()\n",
    "    optimizer.step()\n",
    "    print(f'Iter {i + 1}/{training_iterations} - Loss: {loss.item()}')\n",
    "\n",
    "\n",
    "torch.save({'model_state_dict': model.state_dict(), 'likelihood_state_dict': likelihood.state_dict()}, 'data/bern_sir_gp.pth')"
   ]
  },
  {
   "cell_type": "code",
   "execution_count": 9,
   "id": "d9ac4bc7-7a8c-49a1-bfe1-40e8cb04204d",
   "metadata": {},
   "outputs": [
    {
     "data": {
      "text/plain": [
       "GaussianLikelihood(\n",
       "  (noise_covar): HomoskedasticNoise(\n",
       "    (raw_noise_constraint): GreaterThan(1.000E-04)\n",
       "  )\n",
       ")"
      ]
     },
     "execution_count": 9,
     "metadata": {},
     "output_type": "execute_result"
    }
   ],
   "source": [
    "state_dicts = torch.load('data/bern_sir_gp.pth')  # Load GP params\n",
    "\n",
    "# Load GP data\n",
    "X = torch.load(\"data/bern_sir_gp_x.pt\")\n",
    "times_train = torch.load(\"data/bern_sir_gp_y.pt\")\n",
    "\n",
    "likelihood = gpytorch.likelihoods.GaussianLikelihood()\n",
    "model = GP(X, times_train, likelihood)\n",
    "\n",
    "model.load_state_dict(state_dicts['model_state_dict'])\n",
    "likelihood.load_state_dict(state_dicts['likelihood_state_dict'])\n",
    "\n",
    "model.eval()\n",
    "likelihood.eval()"
   ]
  },
  {
   "cell_type": "code",
   "execution_count": 8,
   "id": "c685910e",
   "metadata": {},
   "outputs": [],
   "source": [
    "N = 50\n",
    "n_rep = 20\n",
    "\n",
    "beta = torch.linspace(0.1, 1, N)\n",
    "beta_fixed = 0.5\n",
    "\n",
    "gamma_fixed = 0.5\n",
    "gamma = torch.linspace(0.1, 1, N)\n",
    "\n",
    "p = torch.linspace(0.1, 1, N)\n",
    "p_fixed = 0.5\n",
    "\n",
    "beta_combined = beta_fixed * torch.ones_like(beta)\n",
    "gamma_combined = gamma_fixed * torch.ones_like(gamma)\n",
    "p_combined = p_fixed * torch.ones_like(p)\n",
    "\n",
    "combination_beta = torch.stack((beta, gamma_combined, p_combined), dim=1)\n",
    "combination_gamma = torch.stack((beta_combined, gamma, p_combined), dim=1)\n",
    "combination_p = torch.stack((beta_combined, gamma_combined, p), dim=1)"
   ]
  },
  {
   "cell_type": "code",
   "execution_count": 59,
   "id": "aa28d4e4-520f-4971-8e5d-317ed8be051e",
   "metadata": {},
   "outputs": [],
   "source": [
    "times_vs_beta = torch.zeros(N)\n",
    "for i in range(N):\n",
    "    st = time.time()\n",
    "    for _ in range(n_rep):\n",
    "        result = bern_sir(combination_beta[i])\n",
    "    et = time.time()\n",
    "    times_vs_beta[i] = (et - st) / n_rep\n",
    "\n",
    "times_vs_gamma = torch.zeros(N)\n",
    "for i in range(N):\n",
    "    st = time.time()\n",
    "    for _ in range(n_rep):\n",
    "        result = bern_sir(combination_gamma[i])\n",
    "    et = time.time()\n",
    "    times_vs_gamma[i] = (et - st) / n_rep\n",
    "\n",
    "times_vs_p = torch.zeros(N)\n",
    "for i in range(N):\n",
    "    st = time.time()\n",
    "    for _ in range(n_rep):\n",
    "        result = bern_sir(combination_p[i])\n",
    "    et = time.time()\n",
    "    times_vs_p[i] = (et - st) / n_rep\n",
    "\n",
    "with torch.no_grad(), gpytorch.settings.fast_pred_var():\n",
    "    observed_pred_beta = likelihood(model(combination_beta)).mean\n",
    "    observed_pred_gamma = likelihood(model(combination_gamma)).mean\n",
    "    observed_pred_p = likelihood(model(combination_p)).mean    "
   ]
  },
  {
   "cell_type": "code",
   "execution_count": 62,
   "id": "d0670805-00d3-49d3-8690-439f510989e1",
   "metadata": {},
   "outputs": [],
   "source": [
    "torch.save(times_vs_beta, \"data/bern_cost_beta.pt\")\n",
    "torch.save(times_vs_gamma, \"data/bern_cost_gamma.pt\")\n",
    "torch.save(times_vs_p, \"data/bern_cost_p.pt\")"
   ]
  },
  {
   "cell_type": "code",
   "execution_count": 63,
   "id": "97ec5b46",
   "metadata": {},
   "outputs": [
    {
     "data": {
      "image/png": "[encoded data removed]",
      "text/plain": [
       "<Figure size 1224x360 with 3 Axes>"
      ]
     },
     "metadata": {},
     "output_type": "display_data"
    }
   ],
   "source": [
    "times_vs_beta = torch.load(\"data/bern_cost_beta.pt\")\n",
    "times_vs_gamma = torch.load(\"data/bern_cost_gamma.pt\")\n",
    "times_vs_p = torch.load(\"data/bern_cost_p.pt\")\n",
    "\n",
    "plt.figure(figsize=[17,5])\n",
    "\n",
    "plt.subplot(1, 3, 1)\n",
    "plt.scatter(beta, times_vs_beta, label=\"Measured cost\")\n",
    "plt.plot(gamma, observed_pred_beta, color=\"C1\", linewidth=4, zorder=0, label=\"Estimated cost using GP\")\n",
    "plt.xlabel(\"$\\\\beta$: infection rate\", fontsize=20)\n",
    "plt.ylabel(\"Cost [seconds]\", fontsize=20)\n",
    "plt.legend(fontsize=13)\n",
    "\n",
    "plt.subplot(1, 3, 2)\n",
    "plt.scatter(gamma, times_vs_gamma)\n",
    "plt.plot(gamma, observed_pred_gamma, color=\"C1\", linewidth=4, zorder=0, label=\"Estimated cost using GP\")\n",
    "plt.xlabel(\"$\\\\gamma$: removal rate\", fontsize=20)\n",
    "\n",
    "plt.subplot(1, 3, 3)\n",
    "plt.scatter(p, times_vs_p)\n",
    "plt.plot(gamma, observed_pred_p, color=\"C1\", linewidth=4, zorder=0, label=\"Estimated cost using GP\")\n",
    "plt.xlabel(\"$p$: edge probability\", fontsize=20)\n",
    "\n",
    "plt.savefig(\"figures/plot_cost_bern_sir.pdf\")\n",
    "plt.show()"
   ]
  },
  {
   "cell_type": "code",
   "execution_count": 64,
   "id": "d5b87043-7f17-42a9-9bd0-3ef29f84df49",
   "metadata": {},
   "outputs": [
    {
     "name": "stdout",
     "output_type": "stream",
     "text": [
      "g_min with k=0.5:  0.11970391869544983\n",
      "g_min with k=1:  0.014329028315842152\n",
      "g_min with k=2:  0.00020532104826997966\n",
      "g_max with k=0.5:  0.9190499782562256\n",
      "g_max with k=1:  0.8446528315544128\n",
      "g_max with k=2:  0.7134383916854858\n"
     ]
    }
   ],
   "source": [
    "prior_start = torch.tensor([0.1, 1.0, 0.1]).reshape(-1, 3)\n",
    "prior_end = torch.tensor([1., 0.1, 1.0]).reshape(-1, 3)\n",
    "\n",
    "g_min = likelihood(model(prior_start)).mean / 10\n",
    "g_max = likelihood(model(prior_end)).mean / 10\n",
    "\n",
    "print(\"g_min with k=0.5: \", (g_min ** 0.5).item())\n",
    "print(\"g_min with k=1: \", (g_min ** 1).item())\n",
    "print(\"g_min with k=2: \", (g_min ** 2).item())\n",
    "\n",
    "print(\"g_max with k=0.5: \", (g_max ** 0.5).item())\n",
    "print(\"g_max with k=1: \", (g_max ** 1).item())\n",
    "print(\"g_max with k=2: \", (g_max ** 2).item())"
   ]
  },
  {
   "cell_type": "code",
   "execution_count": 68,
   "id": "96419964-c1e2-4519-9976-527929f131e6",
   "metadata": {},
   "outputs": [],
   "source": [
    "k = 2\n",
    "\n",
    "num_sim = 1000\n",
    "theta_tilde = torch.zeros([num_sim, 3])\n",
    "count = 0\n",
    "while count < num_sim:\n",
    "    theta = bern_sir.sample_theta([1]).reshape(-1, 3)\n",
    "    if calc_acc_prob(model, likelihood, theta, prior_start, k) > torch.rand(1):\n",
    "        theta_tilde[count] = theta.reshape(-1)\n",
    "        count += 1\n",
    "\n",
    "w = likelihood(model(theta_tilde)).mean.detach() ** k\n",
    "\n",
    "theta_prior = bern_sir.sample_theta([1000]).reshape(-1, 3)"
   ]
  },
  {
   "cell_type": "code",
   "execution_count": 69,
   "id": "bf760676",
   "metadata": {},
   "outputs": [
    {
     "data": {
      "image/png": "[encoded data removed]",
      "text/plain": [
       "<Figure size 180x180 with 1 Axes>"
      ]
     },
     "metadata": {},
     "output_type": "display_data"
    }
   ],
   "source": [
    "plt.hist(theta_prior.detach().numpy()[:, 0], bins=10)\n",
    "plt.hist(theta_tilde.detach().numpy()[:, 0], bins=10)\n",
    "plt.show()"
   ]
  },
  {
   "cell_type": "markdown",
   "id": "7426368b",
   "metadata": {},
   "source": [
    "## CEG ESS"
   ]
  },
  {
   "cell_type": "code",
   "execution_count": 22,
   "id": "24c93bd0",
   "metadata": {},
   "outputs": [],
   "source": [
    "num_sim = 10000\n",
    "num_repeats = 2\n",
    "k = np.array([0, 0.1, 0.2, 0.3, 0.4, 0.5, 0.6, 0.7, 0.8]) # Exponent of the penaly function g(z) = z^k\n",
    "\n",
    "prior_start = torch.tensor([0.1, 1.0, 0.1]).reshape(-1, 3)\n",
    "\n",
    "ess_cost_aware = np.zeros([k.size, num_repeats])\n",
    "ceg = np.zeros([k.size, num_repeats])\n",
    "\n",
    "for ind in range(k.size):\n",
    "    for j in range(num_repeats):\n",
    "        \n",
    "        if ind == 0:\n",
    "            theta = bern_sir.sample_theta([num_sim])\n",
    "            ess_cost_aware[ind, j] = 1\n",
    "            ceg[ind, j] = 1\n",
    "        else:\n",
    "            # Sampling from cost-modified prior\n",
    "            theta_tilde = torch.zeros([num_sim, 3])\n",
    "            count = 0\n",
    "            while count < num_sim:\n",
    "                param_value = bern_sir.sample_theta([1]).reshape(-1, 3)\n",
    "                if calc_acc_prob(model, likelihood, param_value, prior_start, k[ind]) > torch.rand(1):\n",
    "                    theta_tilde[count] = param_value.reshape(-1)\n",
    "                    count += 1\n",
    "\n",
    "            w_u = likelihood(model(theta_tilde)).mean.detach() ** k[ind]   #self-normalised importance weights\n",
    "            \n",
    "            # Compute CEG\n",
    "            ceg[ind, j] = torch.mean(likelihood(model(theta)).mean.detach()) / torch.mean(likelihood(model(theta_tilde)).mean.detach())\n",
    "            # Compute ESS\n",
    "            ess_cost_aware[ind, j] = ((w_u.sum())**2 / torch.square(w_u).sum()) / num_sim\n",
    "            \n",
    "print(ess_cost_aware * ceg)"
   ]
  },
  {
   "cell_type": "markdown",
   "id": "e01a5d48",
   "metadata": {},
   "source": [
    "## Train reference NPE"
   ]
  },
  {
   "cell_type": "code",
   "execution_count": 41,
   "id": "818064a6",
   "metadata": {},
   "outputs": [],
   "source": [
    "# DON'T NEED TO RUN\n",
    "bern_sir_inference_npe_large = SNPE_C()\n",
    "bern_sir_nn_npe_large = bern_sir_inference_npe_large.append_simulations(\n",
    "    bern_sir_theta_npe_large, bern_sir_x_npe_large).train()\n",
    "\n",
    "prior, *_ = process_prior(bern_sir.prior)\n",
    "bern_sir_post_npe_large = bern_sir_inference_npe_large.build_posterior(bern_sir_nn_npe_large, prior=prior)\n",
    "bern_sir_samples_npe_large = bern_sir_post_npe_large.sample((1000,), x=bern_sir_obs_x)\n",
    "\n",
    "torch.save(bern_sir_samples_npe_large, \"data/bern_sir_post_reference.pt\")"
   ]
  },
  {
   "cell_type": "code",
   "execution_count": 11,
   "id": "48c2a51e",
   "metadata": {},
   "outputs": [],
   "source": [
    "bern_sir_post_reference = torch.load(\"data_/bern_sir_post_reference.pt\")"
   ]
  },
  {
   "cell_type": "markdown",
   "id": "efc3ae23-3370-419f-94c8-d016b3605099",
   "metadata": {},
   "source": [
    "# Statistics over multiple runs"
   ]
  },
  {
   "cell_type": "code",
   "execution_count": 15,
   "id": "824eb859-b8e4-459f-8bd6-31eb5c387005",
   "metadata": {},
   "outputs": [
    {
     "name": "stdout",
     "output_type": "stream",
     "text": [
      "NPE c2st mean 0.93 (std 0.01)\n"
     ]
    }
   ],
   "source": [
    "# C2ST - NPE\n",
    "n_run = 50\n",
    "c2st_npe = torch.zeros([n_run])\n",
    "posterior_samples_npe = torch.zeros([n_run, 1000, 3])\n",
    "\n",
    "for i in range(n_run):\n",
    "    checkpoint_path = f\"sims/bern_sir/1.0/{i+1}/ckpt.tar\"\n",
    "    checkpoint = torch.load(checkpoint_path, map_location='cpu', weights_only=False)\n",
    "\n",
    "    posterior_npe = checkpoint[\"posterior_npe\"]\n",
    "    posterior_samples_npe[i] = posterior_npe.sample((1000,), x=bern_sir_obs_x, show_progress_bars=False)\n",
    "\n",
    "    c2st_npe[i] = c2st(bern_sir_post_reference, posterior_samples_npe[i])\n",
    "\n",
    "c2st_npe = c2st_npe.detach().numpy() \n",
    "c2st_npe_mean = np.mean(c2st_npe)\n",
    "c2st_npe_std = np.std(c2st_npe)\n",
    "\n",
    "print(f\"NPE c2st mean {c2st_npe_mean:.2f} (std {c2st_npe_std:.2f})\")"
   ]
  },
  {
   "cell_type": "code",
   "execution_count": 16,
   "id": "751b70b2-18ea-439d-8b60-674ce020f6ea",
   "metadata": {},
   "outputs": [],
   "source": [
    "# C2ST\n",
    "def get_c2st_results(k, n_run):\n",
    "    n_run = 50\n",
    "    c2st_canpe = torch.zeros([n_run])\n",
    "    posterior_samples_canpe = torch.zeros([n_run, 1000, 3])\n",
    "    \n",
    "    for i in range(n_run):\n",
    "        checkpoint_path = f\"sims/bern_sir/{k}/{i+1}/ckpt.tar\"\n",
    "        checkpoint = torch.load(checkpoint_path, map_location='cpu', weights_only=False)\n",
    "    \n",
    "        posterior_canpe = checkpoint[\"posterior_canpe\"]\n",
    "        posterior_samples_canpe[i] = posterior_canpe.sample((1000,), x=bern_sir_obs_x, show_progress_bars=False)\n",
    "    \n",
    "        c2st_canpe[i] = c2st(bern_sir_post_reference, posterior_samples_canpe[i])\n",
    "    \n",
    "    c2st_canpe = c2st_canpe.detach().numpy() \n",
    "    c2st_canpe_mean = np.mean(c2st_canpe)\n",
    "    c2st_canpe_std = np.std(c2st_canpe)\n",
    "    \n",
    "    print(f\"CA-NPE c2st mean {c2st_canpe_mean:.2f} (std {c2st_canpe_std:.2f})\")"
   ]
  },
  {
   "cell_type": "code",
   "execution_count": 17,
   "id": "1fed4196-0aa3-4706-b94e-a246c769d2bc",
   "metadata": {},
   "outputs": [
    {
     "name": "stdout",
     "output_type": "stream",
     "text": [
      "CA-NPE c2st mean 0.93 (std 0.01)\n",
      "CA-NPE c2st mean 0.93 (std 0.01)\n",
      "CA-NPE c2st mean 0.92 (std 0.02)\n",
      "CA-NPE c2st mean 0.92 (std 0.02)\n"
     ]
    }
   ],
   "source": [
    "get_c2st_results(\"0.5\", 50)\n",
    "get_c2st_results(\"1.0\", 50)\n",
    "get_c2st_results(\"2.0\", 50)\n",
    "get_c2st_results(\"mixture\", 50)"
   ]
  },
  {
   "cell_type": "markdown",
   "id": "10a5e6cd-eb4d-487e-8fb7-8dd571fc7a86",
   "metadata": {},
   "source": [
    "### ks test"
   ]
  },
  {
   "cell_type": "code",
   "execution_count": 21,
   "id": "f55d5c1b-300b-4fb1-939d-d8547b714e28",
   "metadata": {},
   "outputs": [
    {
     "name": "stdout",
     "output_type": "stream",
     "text": [
      "NPE ks score mean [0.11816001 0.06188    0.08400001] (std [0.03075345 0.02591034 0.02869913])\n"
     ]
    }
   ],
   "source": [
    "# KS - NPE\n",
    "n_run = 50\n",
    "ks_npe = torch.zeros([n_run, 3])\n",
    "posterior_samples_npe = torch.zeros([n_run, 1000, 3])\n",
    "\n",
    "for i in range(n_run):\n",
    "    checkpoint_path = f\"sims/bern_sir/1.0/{i+1}/ckpt.tar\"\n",
    "    checkpoint = torch.load(checkpoint_path, map_location='cpu', weights_only=False)\n",
    "\n",
    "    posterior_npe = checkpoint[\"posterior_npe\"]\n",
    "    posterior_samples_npe[i] = posterior_npe.sample((1000,), x=bern_sir_obs_x, show_progress_bars=False)\n",
    "\n",
    "    ks_npe[i] = compute_ks_scores(bern_sir_post_reference, posterior_samples_npe[i])\n",
    "\n",
    "ks_npe = ks_npe.detach().numpy() \n",
    "ks_npe_mean = np.mean(ks_npe, axis=0)\n",
    "ks_npe_std = np.std(ks_npe, axis=0)\n",
    "\n",
    "print(f\"NPE ks score mean {ks_npe_mean} (std {ks_npe_std})\")"
   ]
  },
  {
   "cell_type": "code",
   "execution_count": 22,
   "id": "bc7a9837-f3a6-49fd-a14a-1ebec4660420",
   "metadata": {},
   "outputs": [],
   "source": [
    "def get_ks_results(k, n_run):\n",
    "    n_run = 50\n",
    "    ks_canpe = torch.zeros([n_run, 3])\n",
    "    posterior_samples_canpe = torch.zeros([n_run, 1000, 3])\n",
    "    \n",
    "    for i in range(n_run):\n",
    "        checkpoint_path = f\"sims/bern_sir/{k}/{i+1}/ckpt.tar\"\n",
    "        checkpoint = torch.load(checkpoint_path, map_location='cpu', weights_only=False)\n",
    "    \n",
    "        posterior_canpe = checkpoint[\"posterior_canpe\"]\n",
    "        posterior_samples_canpe[i] = posterior_canpe.sample((1000,), x=bern_sir_obs_x, show_progress_bars=False)\n",
    "\n",
    "        ks_canpe[i] = compute_ks_scores(bern_sir_post_reference, posterior_samples_canpe[i])\n",
    "    \n",
    "    ks_canpe = ks_canpe.detach().numpy() \n",
    "    ks_canpe_mean = np.mean(ks_canpe, axis=0)\n",
    "    ks_canpe_std = np.std(ks_canpe, axis=0)\n",
    "    \n",
    "    print(f\"CA-NPE ks mean {ks_canpe_mean} (std {ks_canpe_std})\")"
   ]
  },
  {
   "cell_type": "code",
   "execution_count": 23,
   "id": "ad2a38c8-38b0-45b2-b2bc-ec57c89e63ac",
   "metadata": {},
   "outputs": [
    {
     "name": "stdout",
     "output_type": "stream",
     "text": [
      "CA-NPE ks mean [0.12770002 0.048      0.09043999] (std [0.02566418 0.0157886  0.02483881])\n",
      "CA-NPE ks mean [0.14102    0.06744001 0.09206   ] (std [0.02897067 0.02584118 0.02835166])\n",
      "CA-NPE ks mean [0.15186    0.12976003 0.11748   ] (std [0.03002    0.03458009 0.03562709])\n",
      "CA-NPE ks mean [0.11929999 0.04876    0.0961    ] (std [0.03400367 0.01693229 0.0360118 ])\n"
     ]
    }
   ],
   "source": [
    "get_ks_results(\"0.5\", 50)\n",
    "get_ks_results(\"1.0\", 50)\n",
    "get_ks_results(\"2.0\", 50)\n",
    "get_ks_results(\"mixture\", 50)"
   ]
  },
  {
   "cell_type": "code",
   "execution_count": 12,
   "id": "9cce5e28-cf31-4fee-a9ca-d739b15be201",
   "metadata": {},
   "outputs": [
    {
     "name": "stdout",
     "output_type": "stream",
     "text": [
      "NPE MMD mean 0.02 (std 0.00)\n"
     ]
    }
   ],
   "source": [
    "# NPE results\n",
    "\n",
    "n_run = 50\n",
    "mmd_npe = torch.zeros([n_run])\n",
    "posterior_samples_npe = torch.zeros([n_run, 1000, 3])\n",
    "cost_npe = torch.zeros([n_run])\n",
    "\n",
    "for i in range(n_run):\n",
    "    checkpoint_path = f\"sims/bern_sir/1.0/{i+1}/ckpt.tar\"\n",
    "    checkpoint = torch.load(checkpoint_path, map_location='cpu', weights_only=False)\n",
    "\n",
    "    posterior_npe = checkpoint[\"posterior_npe\"]\n",
    "    posterior_samples_npe[i] = posterior_npe.sample((1000,), x=bern_sir_obs_x, show_progress_bars=False)\n",
    "    \n",
    "    mmd_npe[i] = MMD_unweighted(posterior_samples_npe[i], bern_sir_post_reference, lengthscale=median_heuristic(bern_sir_post_reference))\n",
    "\n",
    "mmd_npe = mmd_npe.detach().numpy() \n",
    "mmd_npe_mean = np.mean(mmd_npe)\n",
    "mmd_npe_std = np.std(mmd_npe)\n",
    "\n",
    "print(f\"NPE MMD mean {mmd_npe_mean:.2f} (std {mmd_npe_std:.2f})\")"
   ]
  },
  {
   "cell_type": "code",
   "execution_count": 12,
   "id": "233df166-676c-4f46-bc99-754733491002",
   "metadata": {},
   "outputs": [
    {
     "data": {
      "text/plain": [
       "tensor(0.3235)"
      ]
     },
     "execution_count": 12,
     "metadata": {},
     "output_type": "execute_result"
    }
   ],
   "source": [
    "median_heuristic(bern_sir_post_reference)"
   ]
  },
  {
   "cell_type": "code",
   "execution_count": 9,
   "id": "c99f55af-3d01-47c2-88ae-1814b98f7d59",
   "metadata": {},
   "outputs": [],
   "source": [
    "def get_results(k, n_run):\n",
    "\n",
    "    mmd_canpe = torch.zeros([n_run])\n",
    "    posterior_samples_canpe = torch.zeros([n_run, 1000, 3])\n",
    "    cost_canpe = torch.zeros([n_run])\n",
    "    cost_saved = torch.zeros([n_run])\n",
    "    \n",
    "    for i in range(n_run):\n",
    "        checkpoint_path = f\"sims/bern_sir/{k}/{i+1}/ckpt.tar\"\n",
    "        checkpoint = torch.load(checkpoint_path, map_location='cpu')\n",
    "        \n",
    "        posterior_canpe = checkpoint[\"posterior_canpe\"]\n",
    "        \n",
    "        posterior_samples_canpe[i] = posterior_canpe.sample((1000,), x=bern_sir_obs_x, show_progress_bars=False)\n",
    "        \n",
    "        mmd_canpe[i] = MMD_unweighted(posterior_samples_canpe[i], bern_sir_post_reference, lengthscale=median_heuristic(bern_sir_post_reference))\n",
    "        cost_npe[i] = torch.tensor(checkpoint[\"cost_npe\"])\n",
    "        cost_canpe[i] = torch.tensor(checkpoint[\"cost_canpe\"])\n",
    "        cost_saved[i] = 1 - cost_canpe[i] / cost_npe[i]\n",
    "    \n",
    "    mmd_canpe = mmd_canpe.detach().numpy() \n",
    "    mmd_canpe_mean = np.mean(mmd_canpe)\n",
    "    mmd_canpe_std = np.std(mmd_canpe)\n",
    "    \n",
    "    cost_canpe = cost_canpe.detach().numpy() \n",
    "    cost_canpe_mean = np.mean(cost_canpe)\n",
    "    cost_canpe_std = np.std(cost_canpe)\n",
    "\n",
    "    cost_saved = cost_saved.detach().numpy()\n",
    "    cost_saved_mean = np.mean(cost_saved)\n",
    "    cost_saved_std = np.std(cost_saved)\n",
    "    \n",
    "    print(f\"CA-NPE MMD mean {mmd_canpe_mean:.2f} (std {mmd_canpe_std:.2f})\")\n",
    "    # print(f\"CA-NPE cost mean {cost_canpe_mean:.2f} (std {cost_canpe_std:.2f})\")\n",
    "    print(f\"Cost saved: {cost_saved_mean:.2f}(std {cost_saved_std:.2f})\")"
   ]
  },
  {
   "cell_type": "code",
   "execution_count": 13,
   "id": "b9f09f71",
   "metadata": {},
   "outputs": [
    {
     "name": "stdout",
     "output_type": "stream",
     "text": [
      "CA-NPE MMD mean 0.02 (std 0.00)\n",
      "Cost saved: 0.24(std 0.05)\n"
     ]
    }
   ],
   "source": [
    "get_results('0.5', 50)"
   ]
  },
  {
   "cell_type": "code",
   "execution_count": 14,
   "id": "1010e45e-4007-43d0-a664-c8acceb5059b",
   "metadata": {},
   "outputs": [
    {
     "name": "stdout",
     "output_type": "stream",
     "text": [
      "CA-NPE MMD mean 0.02 (std 0.01)\n",
      "Cost saved: 0.37(std 0.04)\n"
     ]
    }
   ],
   "source": [
    "get_results('1.0', 50)"
   ]
  },
  {
   "cell_type": "code",
   "execution_count": 15,
   "id": "c3843efa-1b50-44b7-9551-c5c7cc27fca9",
   "metadata": {},
   "outputs": [
    {
     "name": "stdout",
     "output_type": "stream",
     "text": [
      "CA-NPE MMD mean 0.04 (std 0.01)\n",
      "Cost saved: 0.47(std 0.03)\n"
     ]
    }
   ],
   "source": [
    "get_results('2.0', 50)"
   ]
  },
  {
   "cell_type": "code",
   "execution_count": null,
   "id": "d783be24-29cb-411c-8df3-02fd7c544a87",
   "metadata": {},
   "outputs": [],
   "source": [
    "get_results('mixture', 50)"
   ]
  },
  {
   "cell_type": "code",
   "execution_count": 17,
   "id": "5c2f6ead",
   "metadata": {},
   "outputs": [
    {
     "data": {
      "image/png": "[encoded data removed]",
      "text/plain": [
       "<Figure size 1224x360 with 3 Axes>"
      ]
     },
     "metadata": {},
     "output_type": "display_data"
    }
   ],
   "source": [
    "seed = 1\n",
    "plt.figure(figsize=[17,5])\n",
    "plt.subplot(1, 3, 1)\n",
    "plt.xlim(0, 1)\n",
    "sns.kdeplot(bern_sir_post_reference[:,0], color = \"C1\", linewidth = 2, linestyle = \"solid\", label = \"NPE (reference)\")\n",
    "sns.kdeplot(posterior_samples_canpe[seed,:,0], color = \"C2\", linewidth = 2, linestyle = \"solid\", label = \"CA-NPE\")\n",
    "sns.kdeplot(posterior_samples_npe[seed,:,0], color = \"C4\", linewidth = 2, linestyle = \"solid\", label = \"NPE\")\n",
    "plt.axvline(x=bern_sir_obs_theta.detach().numpy()[0], color='r', linestyle='--', linewidth=2, label='$\\\\theta_{true}$')\n",
    "\n",
    "plt.xlabel(\"$\\\\beta$\", fontsize = 20)\n",
    "plt.ylabel(\"Density\", fontsize=20)\n",
    "\n",
    "plt.subplot(1, 3, 2)\n",
    "plt.xlim(0, 1)\n",
    "sns.kdeplot(bern_sir_post_reference[:,1], color = \"C1\", linewidth = 2, linestyle = \"solid\", label = \"NPE (reference)\")\n",
    "sns.kdeplot(posterior_samples_canpe[seed,:,1], color = \"C2\", linewidth = 2, linestyle = \"solid\", label = \"CA-NPE\")\n",
    "sns.kdeplot(posterior_samples_npe[seed,:,1], color = \"C4\", linewidth = 2, linestyle = \"solid\", label = \"NPE\")\n",
    "plt.axvline(x=bern_sir_obs_theta.detach().numpy()[1], color='r', linestyle='--', linewidth=2, label='$\\\\theta_{true}$')\n",
    "plt.xlabel(\"$\\\\gamma$\", fontsize = 20)\n",
    "plt.ylabel(\"Density\", fontsize=20)\n",
    "\n",
    "plt.subplot(1, 3, 3)\n",
    "plt.xlim(0, 1)\n",
    "sns.kdeplot(bern_sir_post_reference[:,2], color = \"C1\", linewidth = 2, linestyle = \"solid\", label = \"NPE (reference)\")\n",
    "sns.kdeplot(posterior_samples_canpe[seed,:,2], color = \"C2\", linewidth = 2, linestyle = \"solid\", label = \"CA-NPE\")\n",
    "sns.kdeplot(posterior_samples_npe[seed,:,2], color = \"C4\", linewidth = 2, linestyle = \"solid\", label = \"NPE\")\n",
    "plt.axvline(x=bern_sir_obs_theta.detach().numpy()[2], color='r', linestyle='--', linewidth=2, label='$\\\\theta_{true}$')\n",
    "plt.legend(fontsize=20, loc=1)\n",
    "plt.xlabel(\"$p$\", fontsize = 20)\n",
    "plt.ylabel(\"Density\", fontsize=20)\n",
    "\n",
    "plt.show()"
   ]
  }
 ],
 "metadata": {
  "kernelspec": {
   "display_name": "casbi",
   "language": "python",
   "name": "python3"
  },
  "language_info": {
   "codemirror_mode": {
    "name": "ipython",
    "version": 3
   },
   "file_extension": ".py",
   "mimetype": "text/x-python",
   "name": "python",
   "nbconvert_exporter": "python",
   "pygments_lexer": "ipython3",
   "version": "3.9.19"
  }
 },
 "nbformat": 4,
 "nbformat_minor": 5
}
