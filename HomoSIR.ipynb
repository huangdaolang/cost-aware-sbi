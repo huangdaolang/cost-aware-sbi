{
 "cells": [
  {
   "cell_type": "code",
   "execution_count": 1,
   "id": "ed06cb3d",
   "metadata": {},
   "outputs": [],
   "source": [
    "import time\n",
    "import numpy as np\n",
    "import torch\n",
    "\n",
    "from sbi import utils as utils\n",
    "from cost_aware_snpe_c import CostAwareSNPE_C\n",
    "from sbi.inference.snpe.snpe_c import SNPE_C\n",
    "from sbi.utils.torchutils import *\n",
    "from sbi.utils import process_prior\n",
    "from sbi.utils.user_input_checks import *\n",
    "from simulators import homogeneous_sir\n",
    "\n",
    "from hydra import compose, initialize\n",
    "import hydra\n",
    "\n",
    "import gpytorch\n",
    "from gpytorch.models import ExactGP\n",
    "from gpytorch.kernels import ScaleKernel, RBFKernel\n",
    "from gpytorch.means import ConstantMean\n",
    "from gpytorch.distributions import MultivariateNormal\n",
    "from gpytorch.mlls import ExactMarginalLogLikelihood\n",
    "\n",
    "import matplotlib\n",
    "import matplotlib.pyplot as plt\n",
    "import seaborn as sns\n",
    "\n",
    "hydra.core.global_hydra.GlobalHydra.instance().clear()\n",
    "initialize(config_path=\"configs\", version_base=None)\n",
    "cfg = compose(config_name=\"train\")\n",
    "\n",
    "%load_ext autoreload\n",
    "%autoreload 2\n",
    "\n",
    "import warnings\n",
    "warnings.filterwarnings('ignore')"
   ]
  },
  {
   "cell_type": "code",
   "execution_count": 2,
   "id": "5b9f2164",
   "metadata": {},
   "outputs": [],
   "source": [
    "def MMD_unweighted(x, y, lengthscale):\n",
    "    \"\"\" Approximates the squared MMD between samples x_i ~ P and y_i ~ Q\n",
    "    \"\"\"\n",
    "\n",
    "    m = x.shape[0]\n",
    "    n = y.shape[0]\n",
    "\n",
    "    z = torch.cat((x, y), dim=0)\n",
    "\n",
    "    K = kernel_matrix(z, z, lengthscale)\n",
    "\n",
    "    kxx = K[0:m, 0:m]\n",
    "    kyy = K[m:(m + n), m:(m + n)]\n",
    "    kxy = K[0:m, m:(m + n)]\n",
    "\n",
    "    return (1 / m ** 2) * torch.sum(kxx) - (2 / (m * n)) * torch.sum(kxy) + (1 / n ** 2) * torch.sum(kyy)\n",
    "\n",
    "\n",
    "def median_heuristic(y):\n",
    "    a = torch.cdist(y, y)**2\n",
    "    return torch.sqrt(torch.median(a / 2))\n",
    "\n",
    "\n",
    "def kernel_matrix(x, y, l):\n",
    "    d = torch.cdist(x, y)**2\n",
    "    kernel = torch.exp(-(1 / (2 * l ** 2)) * d)\n",
    "\n",
    "    return kernel"
   ]
  },
  {
   "cell_type": "code",
   "execution_count": 3,
   "id": "f456b12e",
   "metadata": {},
   "outputs": [],
   "source": [
    "def calc_acc_prob(gp, likelihood, theta, prior_start, k):\n",
    "\n",
    "    with torch.no_grad(), gpytorch.settings.fast_pred_var():\n",
    "        cost = likelihood(model(theta)).mean\n",
    "\n",
    "        lower_cost = likelihood(model(prior_start)).mean\n",
    "    return (lower_cost ** k) / (cost**k)\n",
    "\n",
    "class GP(ExactGP):\n",
    "    def __init__(self, train_x, train_y, likelihood):\n",
    "        super(GP, self).__init__(train_x, train_y, likelihood)\n",
    "        self.mean_module = ConstantMean()\n",
    "        self.covar_module = ScaleKernel(RBFKernel())\n",
    "\n",
    "    def forward(self, x):\n",
    "        mean_x = self.mean_module(x)\n",
    "        covar_x = self.covar_module(x)\n",
    "        return MultivariateNormal(mean_x, covar_x)"
   ]
  },
  {
   "cell_type": "markdown",
   "id": "5328cdea",
   "metadata": {},
   "source": [
    "# Homo SIR"
   ]
  },
  {
   "cell_type": "code",
   "execution_count": 4,
   "id": "79b79715",
   "metadata": {},
   "outputs": [],
   "source": [
    "homo_sir = homogeneous_sir.HomoSIR()"
   ]
  },
  {
   "cell_type": "markdown",
   "id": "c5d50e97",
   "metadata": {},
   "source": [
    "## Data generation"
   ]
  },
  {
   "cell_type": "code",
   "execution_count": 196,
   "id": "18d9ab59",
   "metadata": {
    "scrolled": true
   },
   "outputs": [],
   "source": [
    "# DON'T NEED TO RUN AGAIN IF YOU ALREADY GENERATED THE REFERENCE DATA\n",
    "N = 50000\n",
    "\n",
    "homo_sir_theta_npe_large = homo_sir.sample_theta([N]).reshape(-1, 1)\n",
    "homo_sir_x_npe_large = torch.empty([N, 1])\n",
    "for i in range(N):\n",
    "    homo_sir_x_npe_large[i, :] = homo_sir(homo_sir_theta_npe_large[i])\n",
    "\n",
    "# Observed data generation\n",
    "homo_sir_obs_theta = torch.tensor([5])\n",
    "homo_sir_obs_x = homo_sir(homo_sir_obs_theta)\n",
    "\n",
    "torch.save(homo_sir_x_npe_large, \"data/homo_sir_x_npe_large.pt\")\n",
    "torch.save(homo_sir_theta_npe_large, \"data/homo_sir_theta_npe_large.pt\")\n",
    "torch.save(homo_sir_obs_x, \"data/homo_sir_obs_x.pt\")\n",
    "torch.save(homo_sir_obs_theta, \"data/homo_sir_obs_theta.pt\")"
   ]
  },
  {
   "cell_type": "markdown",
   "id": "76a2b989",
   "metadata": {},
   "source": [
    "## Data loading"
   ]
  },
  {
   "cell_type": "code",
   "execution_count": 5,
   "id": "44965348",
   "metadata": {},
   "outputs": [],
   "source": [
    "homo_sir_x_npe_large = torch.load(\"data/homo_sir_x_npe_large.pt\", weights_only=True)\n",
    "homo_sir_theta_npe_large = torch.load(\"data/homo_sir_theta_npe_large.pt\", weights_only=True)\n",
    "\n",
    "homo_sir_obs_x = torch.load(\"data/homo_sir_obs_x.pt\", weights_only=True)\n",
    "homo_sir_obs_theta = torch.load(\"data/homo_sir_obs_theta.pt\", weights_only=True)"
   ]
  },
  {
   "cell_type": "markdown",
   "id": "9933f1a2",
   "metadata": {},
   "source": [
    "## Fit GP"
   ]
  },
  {
   "cell_type": "code",
   "execution_count": 6,
   "id": "c072cae2-3dd2-4d48-aa0c-b9d8db8bd5bb",
   "metadata": {},
   "outputs": [],
   "source": [
    "n_train_pair = 100 # number of pairs used to fit GP\n",
    "n_rep = 10 # number of repeats to get the average cost"
   ]
  },
  {
   "cell_type": "code",
   "execution_count": null,
   "id": "3eea1fac",
   "metadata": {
    "scrolled": true
   },
   "outputs": [],
   "source": [
    "# Simulate the cost\n",
    "X = homo_sir_theta_npe_large[:n_train_pair]\n",
    "times_train = torch.zeros(n_train_pair)\n",
    "\n",
    "for i in range(n_train_pair):\n",
    "    st = time.time()\n",
    "    for _ in range(n_rep):\n",
    "        result = homo_sir(homo_sir_theta_npe_large[i])\n",
    "    et = time.time()\n",
    "    times_train[i] = (et - st) / n_rep\n",
    "\n",
    "# save GP training samples\n",
    "torch.save(X, \"data/homo_sir_gp_x.pt\")\n",
    "torch.save(times_train, \"data/homo_sir_gp_y.pt\")"
   ]
  },
  {
   "cell_type": "code",
   "execution_count": 53,
   "id": "e6eec359",
   "metadata": {
    "scrolled": true
   },
   "outputs": [
    {
     "name": "stdout",
     "output_type": "stream",
     "text": [
      "Iter 1/50 - Loss: 0.8623600006103516\n",
      "Iter 2/50 - Loss: 0.8193010091781616\n",
      "Iter 3/50 - Loss: 0.7764698266983032\n",
      "Iter 4/50 - Loss: 0.7338752746582031\n",
      "Iter 5/50 - Loss: 0.6914833188056946\n",
      "Iter 6/50 - Loss: 0.6491745114326477\n",
      "Iter 7/50 - Loss: 0.6067185997962952\n",
      "Iter 8/50 - Loss: 0.5638237595558167\n",
      "Iter 9/50 - Loss: 0.5202581286430359\n",
      "Iter 10/50 - Loss: 0.4759351313114166\n",
      "Iter 11/50 - Loss: 0.43090149760246277\n",
      "Iter 12/50 - Loss: 0.38528403639793396\n",
      "Iter 13/50 - Loss: 0.33924034237861633\n",
      "Iter 14/50 - Loss: 0.29292720556259155\n",
      "Iter 15/50 - Loss: 0.2464725524187088\n",
      "Iter 16/50 - Loss: 0.19994987547397614\n",
      "Iter 17/50 - Loss: 0.1533590704202652\n",
      "Iter 18/50 - Loss: 0.10663307458162308\n",
      "Iter 19/50 - Loss: 0.059685975313186646\n",
      "Iter 20/50 - Loss: 0.012482071295380592\n",
      "Iter 21/50 - Loss: -0.03492317348718643\n",
      "Iter 22/50 - Loss: -0.0823875442147255\n",
      "Iter 23/50 - Loss: -0.1297263354063034\n",
      "Iter 24/50 - Loss: -0.17677658796310425\n",
      "Iter 25/50 - Loss: -0.223459392786026\n",
      "Iter 26/50 - Loss: -0.2698022425174713\n",
      "Iter 27/50 - Loss: -0.31587883830070496\n",
      "Iter 28/50 - Loss: -0.3616960942745209\n",
      "Iter 29/50 - Loss: -0.4071282148361206\n",
      "Iter 30/50 - Loss: -0.4519568681716919\n",
      "Iter 31/50 - Loss: -0.49598228931427\n",
      "Iter 32/50 - Loss: -0.5391327738761902\n",
      "Iter 33/50 - Loss: -0.5814585089683533\n",
      "Iter 34/50 - Loss: -0.6229875683784485\n",
      "Iter 35/50 - Loss: -0.6635892391204834\n",
      "Iter 36/50 - Loss: -0.7030194997787476\n",
      "Iter 37/50 - Loss: -0.7410916686058044\n",
      "Iter 38/50 - Loss: -0.7777848243713379\n",
      "Iter 39/50 - Loss: -0.8131377696990967\n",
      "Iter 40/50 - Loss: -0.8470624685287476\n",
      "Iter 41/50 - Loss: -0.8793399930000305\n",
      "Iter 42/50 - Loss: -0.9097898006439209\n",
      "Iter 43/50 - Loss: -0.9383770227432251\n",
      "Iter 44/50 - Loss: -0.965107798576355\n",
      "Iter 45/50 - Loss: -0.9898831844329834\n",
      "Iter 46/50 - Loss: -1.0125319957733154\n",
      "Iter 47/50 - Loss: -1.032950520515442\n",
      "Iter 48/50 - Loss: -1.0511369705200195\n",
      "Iter 49/50 - Loss: -1.0671002864837646\n",
      "Iter 50/50 - Loss: -1.0807957649230957\n"
     ]
    }
   ],
   "source": [
    "# Train a GP\n",
    "likelihood = gpytorch.likelihoods.GaussianLikelihood()\n",
    "model = GP(X, times_train, likelihood)\n",
    "model.float()\n",
    "model.train()\n",
    "likelihood.train()\n",
    "\n",
    "optimizer = torch.optim.Adam(model.parameters(), lr=0.1)\n",
    "\n",
    "mll = ExactMarginalLogLikelihood(likelihood, model)\n",
    "\n",
    "training_iterations = 50\n",
    "for i in range(training_iterations):\n",
    "    optimizer.zero_grad()\n",
    "    output = model(X.float())\n",
    "    loss = -mll(output, times_train)\n",
    "    loss.backward()\n",
    "    optimizer.step()\n",
    "    print(f'Iter {i + 1}/{training_iterations} - Loss: {loss.item()}')\n",
    "\n",
    "torch.save({'model_state_dict': model.state_dict(), 'likelihood_state_dict': likelihood.state_dict()}, 'data/homo_sir_gp.pth')"
   ]
  },
  {
   "cell_type": "code",
   "execution_count": 8,
   "id": "80bbb1c8",
   "metadata": {},
   "outputs": [
    {
     "data": {
      "text/plain": [
       "GaussianLikelihood(\n",
       "  (noise_covar): HomoskedasticNoise(\n",
       "    (raw_noise_constraint): GreaterThan(1.000E-04)\n",
       "  )\n",
       ")"
      ]
     },
     "execution_count": 8,
     "metadata": {},
     "output_type": "execute_result"
    }
   ],
   "source": [
    "state_dicts = torch.load('data/homo_sir_gp.pth', weights_only=True) # Load GP params\n",
    "\n",
    "# Load GP data\n",
    "X = torch.load(\"data/homo_sir_gp_x.pt\", weights_only=True)\n",
    "times_train = torch.load(\"data/homo_sir_gp_y.pt\", weights_only=True)\n",
    "\n",
    "likelihood = gpytorch.likelihoods.GaussianLikelihood()\n",
    "model = GP(X, times_train, likelihood)\n",
    "model.float()\n",
    "\n",
    "model.load_state_dict(state_dicts['model_state_dict'])\n",
    "likelihood.load_state_dict(state_dicts['likelihood_state_dict'])\n",
    "\n",
    "model.eval()\n",
    "likelihood.eval()"
   ]
  },
  {
   "cell_type": "code",
   "execution_count": 9,
   "id": "e890d902",
   "metadata": {},
   "outputs": [
    {
     "data": {
      "image/png": "[encoded data removed]",
      "text/plain": [
       "<Figure size 360x360 with 1 Axes>"
      ]
     },
     "metadata": {
      "needs_background": "light"
     },
     "output_type": "display_data"
    }
   ],
   "source": [
    "x_test = torch.linspace(1, 10, 100).reshape(-1, 1)\n",
    "\n",
    "with torch.no_grad(), gpytorch.settings.fast_pred_var():\n",
    "    observed_pred = likelihood(model(x_test)).mean\n",
    "\n",
    "plt.figure(figsize=[5,5])\n",
    "plt.scatter(x_test, observed_pred, label=\"Fitted GP\")\n",
    "plt.scatter(X, times_train, label=\"Measured cost\")\n",
    "plt.legend()\n",
    "plt.show()"
   ]
  },
  {
   "cell_type": "code",
   "execution_count": 69,
   "id": "e5fea6cb-84fd-4d73-a8b3-fe1f05e154be",
   "metadata": {},
   "outputs": [
    {
     "name": "stdout",
     "output_type": "stream",
     "text": [
      "g_min with k=0.5:  0.14984974265098572\n",
      "g_min with k=1:  0.022454947233200073\n",
      "g_min with k=2:  0.0005042246775701642\n",
      "g_max with k=0.5:  0.7929415106773376\n",
      "g_max with k=1:  0.6287562847137451\n",
      "g_max with k=2:  0.3953344523906708\n"
     ]
    }
   ],
   "source": [
    "prior_start = torch.tensor([1.]).reshape(-1, 1)\n",
    "prior_end = torch.tensor([10.]).reshape(-1, 1)\n",
    "\n",
    "g_min = likelihood(model(prior_start)).mean\n",
    "g_max = likelihood(model(prior_end)).mean\n",
    "\n",
    "print(\"g_min with k=0.5: \", (g_min ** 0.5).item())\n",
    "print(\"g_min with k=1: \", (g_min ** 1).item())\n",
    "print(\"g_min with k=2: \", (g_min ** 2).item())\n",
    "\n",
    "print(\"g_max with k=0.5: \", (g_max ** 0.5).item())\n",
    "print(\"g_max with k=1: \", (g_max ** 1).item())\n",
    "print(\"g_max with k=2: \", (g_max ** 2).item())"
   ]
  },
  {
   "cell_type": "code",
   "execution_count": 11,
   "id": "e63e3a63",
   "metadata": {},
   "outputs": [
    {
     "data": {
      "image/png": "[encoded data removed]",
      "text/plain": [
       "<Figure size 180x180 with 1 Axes>"
      ]
     },
     "metadata": {},
     "output_type": "display_data"
    }
   ],
   "source": [
    "k = 1\n",
    "\n",
    "num_sim = 5000\n",
    "theta_tilde = torch.zeros([num_sim, 1])\n",
    "count = 0\n",
    "while count < num_sim:\n",
    "    theta = homo_sir.sample_theta([1]).reshape(-1, 1)\n",
    "    if calc_acc_prob(model, likelihood, theta, prior_start, k) > torch.rand(1):\n",
    "        theta_tilde[count] = theta.reshape(-1)\n",
    "        count += 1\n",
    "\n",
    "w = likelihood(model(theta_tilde)).mean.detach() ** k\n",
    "\n",
    "plt.hist(theta_tilde.detach().numpy(), bins=10)\n",
    "plt.show()"
   ]
  },
  {
   "cell_type": "markdown",
   "id": "d4fce1a9",
   "metadata": {},
   "source": [
    "## CEG ESS"
   ]
  },
  {
   "cell_type": "code",
   "execution_count": 15,
   "id": "c8e15f96",
   "metadata": {},
   "outputs": [],
   "source": [
    "num_sim = 2000\n",
    "num_repeats = 1\n",
    "k = np.array([0, 0.2, 0.4, 0.5, 1.0, 2.0]) # Exponent of the penaly function g(z) = z^k\n",
    "\n",
    "ess_cost_aware = np.zeros([k.size, num_repeats])\n",
    "ceg = np.zeros([k.size, num_repeats])\n",
    "\n",
    "for ind in range(k.size):\n",
    "    for j in range(num_repeats):\n",
    "        \n",
    "        if ind == 0:\n",
    "            theta = homo_sir.sample_theta([num_sim])\n",
    "            ess_cost_aware[ind, j] = 1\n",
    "            ceg[ind, j] = 1\n",
    "        else:\n",
    "            # Sampling from cost-modified prior\n",
    "            theta_tilde = torch.zeros([num_sim, 1])\n",
    "            count = 0\n",
    "            while count < num_sim:\n",
    "                param_value = homo_sir.sample_theta([1]).reshape(-1, 1)\n",
    "                if calc_acc_prob(model, likelihood, param_value, prior_start, k[ind]) > torch.rand(1):\n",
    "                    theta_tilde[count] = param_value.reshape(-1)\n",
    "                    count += 1\n",
    "\n",
    "            w_u = likelihood(model(theta_tilde)).mean.detach() ** k[ind]   # self-normalised importance weights\n",
    "            \n",
    "            # Compute CEG\n",
    "            ceg[ind, j] = torch.mean(likelihood(model(theta)).mean.detach()) / torch.mean(likelihood(model(theta_tilde)).mean.detach())\n",
    "            # Compute ESS\n",
    "            ess_cost_aware[ind, j] = ((w_u.sum())**2 / torch.square(w_u).sum()) / num_sim\n",
    "\n",
    "print(ess_cost_aware * ceg)"
   ]
  },
  {
   "cell_type": "markdown",
   "id": "6c5c47b4",
   "metadata": {},
   "source": [
    "## Train reference NPE"
   ]
  },
  {
   "cell_type": "code",
   "execution_count": 109,
   "id": "36986438",
   "metadata": {},
   "outputs": [],
   "source": [
    "# DON'T NEED TO RUN\n",
    "homo_sir_inference_npe_large = SNPE_C()\n",
    "homo_sir_nn_npe_large = homo_sir_inference_npe_large.append_simulations(\n",
    "    homo_sir_theta_npe_large, homo_sir_x_npe_large).train()\n",
    "\n",
    "homo_sir_post_npe_large = homo_sir_inference_npe_large.build_posterior(homo_sir_nn_npe_large, prior=homo_sir.prior)\n",
    "homo_sir_samples_npe_large = homo_sir_post_npe_large.sample((1000,), x=homo_sir_obs_x)\n",
    "\n",
    "torch.save(homo_sir_samples_npe_large, \"data/homo_sir_post_reference.pt\")"
   ]
  },
  {
   "cell_type": "code",
   "execution_count": 10,
   "id": "f705ecb4",
   "metadata": {},
   "outputs": [],
   "source": [
    "# Load the reference NPE\n",
    "homo_sir_post_reference = torch.load(\"data/homo_sir_post_reference.pt\", weights_only=True)"
   ]
  },
  {
   "cell_type": "markdown",
   "id": "612d6161",
   "metadata": {},
   "source": [
    "## Statistics over multiple runs"
   ]
  },
  {
   "cell_type": "code",
   "execution_count": 11,
   "id": "f5ec10bb-c09e-4202-879c-541656de6135",
   "metadata": {},
   "outputs": [
    {
     "name": "stdout",
     "output_type": "stream",
     "text": [
      "NPE MMD mean 0.02 (std 0.02)\n"
     ]
    }
   ],
   "source": [
    "# NPE results\n",
    "\n",
    "n_run = 50\n",
    "mmd_npe = torch.zeros([n_run])\n",
    "posterior_samples_npe = torch.zeros([n_run, 1000, 1])\n",
    "cost_npe = torch.zeros([n_run])\n",
    "\n",
    "for i in range(n_run):\n",
    "    checkpoint_path = f\"sims/homo_sir/1.0/{i+1}/ckpt.tar\"\n",
    "    checkpoint = torch.load(checkpoint_path, map_location='cpu', weights_only=False)\n",
    "\n",
    "    posterior_npe = checkpoint[\"posterior_npe\"]\n",
    "    posterior_samples_npe[i] = posterior_npe.sample((1000,), x=homo_sir_obs_x, show_progress_bars=False)\n",
    "    \n",
    "    mmd_npe[i] = MMD_unweighted(posterior_samples_npe[i], homo_sir_post_reference, lengthscale=median_heuristic(homo_sir_post_reference))\n",
    "\n",
    "mmd_npe = mmd_npe.detach().numpy() \n",
    "mmd_npe_mean = np.mean(mmd_npe)\n",
    "mmd_npe_std = np.std(mmd_npe)\n",
    "\n",
    "print(f\"NPE MMD mean {mmd_npe_mean:.2f} (std {mmd_npe_std:.2f})\")"
   ]
  },
  {
   "cell_type": "code",
   "execution_count": 14,
   "id": "cfcb2656-8571-4419-bfd6-33b36ec426ca",
   "metadata": {},
   "outputs": [],
   "source": [
    "def get_results(k, n_run):\n",
    "\n",
    "    mmd_canpe = torch.zeros([n_run])\n",
    "    posterior_samples_canpe = torch.zeros([n_run, 1000, 1])\n",
    "    cost_canpe = torch.zeros([n_run])\n",
    "    cost_saved = torch.zeros([n_run])\n",
    "    \n",
    "    for i in range(n_run):\n",
    "        checkpoint_path = f\"sims/homo_sir/{k}/{i+1}/ckpt.tar\"\n",
    "        checkpoint = torch.load(checkpoint_path, map_location='cpu', weights_only=False)\n",
    "\n",
    "        posterior_canpe = checkpoint[\"posterior_canpe\"]\n",
    "        \n",
    "        posterior_samples_canpe[i] = posterior_canpe.sample((1000,), x=homo_sir_obs_x, show_progress_bars=False)\n",
    "        \n",
    "        mmd_canpe[i] = MMD_unweighted(posterior_samples_canpe[i], homo_sir_post_reference, lengthscale=median_heuristic(homo_sir_post_reference))\n",
    "        cost_npe[i] = torch.tensor(checkpoint[\"cost_npe\"])\n",
    "        cost_canpe[i] = torch.tensor(checkpoint[\"cost_canpe\"])\n",
    "        \n",
    "        cost_saved[i] = 1 - cost_canpe[i] / cost_npe[i]\n",
    "\n",
    "    mmd_canpe = mmd_canpe.detach().numpy() \n",
    "    mmd_canpe_mean = np.mean(mmd_canpe)\n",
    "    mmd_canpe_std = np.std(mmd_canpe)\n",
    "    \n",
    "    cost_canpe = cost_canpe.detach().numpy() \n",
    "    cost_canpe_mean = np.mean(cost_canpe)\n",
    "    cost_canpe_std = np.std(cost_canpe)\n",
    "    \n",
    "    cost_saved = cost_saved.detach().numpy()\n",
    "    cost_saved_mean = np.mean(cost_saved)\n",
    "    cost_saved_std = np.std(cost_saved)\n",
    "    \n",
    "    print(f\"CA-NPE MMD mean {mmd_canpe_mean:.2f} (std {mmd_canpe_std:.2f})\")\n",
    "    # print(f\"CA-NPE cost mean {cost_canpe_mean:.2f} (std {cost_canpe_std:.2f})\")\n",
    "    print(f\"Cost saved: {cost_saved_mean:.2f}(std {cost_saved_std:.2f})\")"
   ]
  },
  {
   "cell_type": "code",
   "execution_count": 15,
   "id": "90b3d702",
   "metadata": {},
   "outputs": [
    {
     "name": "stdout",
     "output_type": "stream",
     "text": [
      "CA-NPE MMD mean 0.01 (std 0.01)\n",
      "Cost saved: 0.17(std 0.01)\n"
     ]
    }
   ],
   "source": [
    "get_results('0.5', 50)"
   ]
  },
  {
   "cell_type": "code",
   "execution_count": 16,
   "id": "7d298a29",
   "metadata": {},
   "outputs": [
    {
     "name": "stdout",
     "output_type": "stream",
     "text": [
      "CA-NPE MMD mean 0.02 (std 0.02)\n",
      "Cost saved: 0.39(std 0.02)\n"
     ]
    }
   ],
   "source": [
    "get_results('1.0', 50)"
   ]
  },
  {
   "cell_type": "code",
   "execution_count": 17,
   "id": "a8bcd572",
   "metadata": {},
   "outputs": [
    {
     "name": "stdout",
     "output_type": "stream",
     "text": [
      "CA-NPE MMD mean 0.23 (std 0.08)\n",
      "Cost saved: 0.70(std 0.02)\n"
     ]
    }
   ],
   "source": [
    "get_results('2.0', 50)"
   ]
  },
  {
   "cell_type": "code",
   "execution_count": 18,
   "id": "d3657ad7-9e6b-471d-af2c-f33779f3df75",
   "metadata": {},
   "outputs": [
    {
     "name": "stdout",
     "output_type": "stream",
     "text": [
      "CA-NPE MMD mean 0.04 (std 0.03)\n",
      "Cost saved: 0.30(std 0.02)\n"
     ]
    }
   ],
   "source": [
    "get_results('mixture', 50)"
   ]
  },
  {
   "cell_type": "markdown",
   "id": "cbb0127b",
   "metadata": {},
   "source": [
    "# Cost plot"
   ]
  },
  {
   "cell_type": "code",
   "execution_count": 88,
   "id": "97ec5b46",
   "metadata": {},
   "outputs": [],
   "source": [
    "n_rep = 50\n",
    "\n",
    "lamb = torch.arange(1, 10, 0.3)\n",
    "\n",
    "with torch.no_grad(), gpytorch.settings.fast_pred_var():\n",
    "    observed_pred = likelihood(model(lamb)).mean"
   ]
  },
  {
   "cell_type": "code",
   "execution_count": null,
   "id": "7ddf40f1",
   "metadata": {},
   "outputs": [],
   "source": [
    "N = lamb.shape[0]\n",
    "homo_lamb = torch.zeros(N)\n",
    "for i in range(N):\n",
    "    st = time.time()\n",
    "    for _ in range(n_rep):\n",
    "        result = homo_sir(lamb[i].reshape(-1))\n",
    "    et = time.time()\n",
    "    homo_lamb[i] = (et - st) / n_rep\n",
    "\n",
    "print(homo_lamb)\n",
    "\n",
    "torch.save(homo_lamb, \"data/homo_cost.pt\")"
   ]
  },
  {
   "cell_type": "code",
   "execution_count": 90,
   "id": "f21e12e4",
   "metadata": {},
   "outputs": [
    {
     "data": {
      "image/png": "[encoded data removed]",
      "text/plain": [
       "<Figure size 288x288 with 1 Axes>"
      ]
     },
     "metadata": {},
     "output_type": "display_data"
    }
   ],
   "source": [
    "homo_lamb = torch.load(\"data/homo_cost.pt\")\n",
    "# Plotting figure\n",
    "plt.figure(figsize=(4, 4))\n",
    "plt.scatter(lamb, homo_lamb, s=50, label=\"Measured cost\")\n",
    "plt.plot(lamb, observed_pred, color=\"C1\", linewidth=4, zorder=0, label=\"Estimated cost using GP\")\n",
    "# plt.suptitle(\"        Homogeneous SIR\", fontsize=20)\n",
    "plt.xlabel(\"$\\\\lambda$: infection rate\", fontsize=20)\n",
    "plt.ylabel(\"Cost [seconds]\", fontsize=20)\n",
    "plt.legend(fontsize=13)\n",
    "plt.xticks([1, 3, 5, 7, 9])\n",
    "\n",
    "# plt.grid()\n",
    "plt.tight_layout()\n",
    "plt.savefig(\"figures/plot_cost_homo_sir.pdf\")\n",
    "plt.show()"
   ]
  }
 ],
 "metadata": {
  "kernelspec": {
   "display_name": "Python 3 (ipykernel)",
   "language": "python",
   "name": "python3"
  },
  "language_info": {
   "codemirror_mode": {
    "name": "ipython",
    "version": 3
   },
   "file_extension": ".py",
   "mimetype": "text/x-python",
   "name": "python",
   "nbconvert_exporter": "python",
   "pygments_lexer": "ipython3",
   "version": "3.9.12"
  }
 },
 "nbformat": 4,
 "nbformat_minor": 5
}
