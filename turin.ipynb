{
 "cells": [
  {
   "cell_type": "code",
   "execution_count": 4,
   "id": "15a36cab-a780-4ea0-81c5-1b9b953f5cce",
   "metadata": {},
   "outputs": [],
   "source": [
    "import torch\n",
    "import numpy as np\n",
    "from sbi import utils as utils\n",
    "from sbi import analysis as analysis\n",
    "from sbi.inference.base import infer\n",
    "from sbi.inference.base import prepare_for_sbi, simulate_for_sbi\n",
    "from sbi.inference.snpe.snpe_c import SNPE_C as SNPE\n",
    "from sbi.inference.snle.snle_a import SNLE_A as SNLE\n",
    "from sbi.inference.snre.snre_b import SNRE_B as SNRE\n",
    "from cost_aware_snle_a import CostAwareSNLE_A\n",
    "from sbi.inference.abc.smcabc import SMCABC\n",
    "from sbi.utils.get_nn_models import posterior_nn\n",
    "from sbi.utils import BoxUniform\n",
    "from sbi.utils import process_prior\n",
    "\n",
    "from simulators.turin import Turin\n",
    "\n",
    "\n",
    "import utils as u\n",
    "\n",
    "import seaborn as sns\n",
    "import warnings\n",
    "warnings.filterwarnings(\"ignore\")\n",
    "\n",
    "import time\n",
    "\n",
    "import matplotlib\n",
    "import matplotlib.pyplot as plt\n",
    "\n",
    "device = torch.device(\"cuda:0\" if torch.cuda.is_available() else \"cpu\")"
   ]
  },
  {
   "cell_type": "code",
   "execution_count": 2,
   "id": "fd14df21",
   "metadata": {},
   "outputs": [],
   "source": [
    "def TurinModel(theta, B = 4e9, Ns = 801, N = 50, tau0 = 0, output = \"moments\"):\n",
    "\n",
    "    G0 = theta[0].to(device)\n",
    "    T = theta[1].to(device)\n",
    "    lambda_0 = theta[2].to(device)\n",
    "    sigma2_N = theta[3].to(device)\n",
    "    \n",
    "    nRx = N\n",
    "\n",
    "    delta_f = B / (Ns - 1)  # Frequency step size\n",
    "    t_max = 1 / delta_f\n",
    "\n",
    "    tau = torch.linspace(0, t_max, Ns)\n",
    "\n",
    "    H = torch.zeros((nRx, Ns), dtype=torch.cfloat)\n",
    "    mu_poisson = lambda_0 * t_max  # Mean of Poisson process\n",
    "\n",
    "    for jR in range(nRx):\n",
    "\n",
    "        n_points = int(torch.poisson(mu_poisson))  # Number of delay points sampled from Poisson process\n",
    "\n",
    "        delays = (torch.rand(n_points) * t_max).to(device)  # Delays sampled from a 1-dimensional Poisson point process\n",
    "\n",
    "        delays = torch.sort(delays)[0]\n",
    "\n",
    "        alpha = torch.zeros(n_points,\n",
    "                            dtype=torch.cfloat).to(device)  # Initialising vector of gains of length equal to the number of delay points\n",
    "\n",
    "        sigma2 = G0 * torch.exp(-delays / T) / lambda_0 * B\n",
    "\n",
    "        for l in range(n_points):\n",
    "            if delays[l] < tau0:\n",
    "                alpha[l] = 0\n",
    "            else:\n",
    "                std = torch.sqrt(sigma2[l] / 2)\n",
    "                alpha[l] = torch.normal(0, std) + torch.normal(0, std) * 1j\n",
    "\n",
    "        H[jR, :] = torch.matmul(torch.exp(-1j * 2 * torch.pi * delta_f * (torch.ger(torch.arange(Ns), delays))), alpha)\n",
    "\n",
    "    # Noise power by setting SNR\n",
    "    Noise = torch.zeros((nRx, Ns), dtype=torch.cfloat).to(device)\n",
    "\n",
    "    for j in range(nRx):\n",
    "        normal = torch.distributions.normal.Normal(0, torch.sqrt(sigma2_N / 2))\n",
    "        Noise[j, :] = normal.sample([Ns]) + normal.sample([Ns]) * 1j\n",
    "\n",
    "    # Received signal in frequency domain\n",
    "\n",
    "    Y = H + Noise\n",
    "    \n",
    "    if output==\"moments\":\n",
    "        temporal_moments = temporalMomentsGeneral(Y)\n",
    "        return temporal_moments\n",
    "    elif output == \"data\":    \n",
    "        y = torch.zeros(Y.shape, dtype=torch.cfloat).to(device)\n",
    "        p = torch.zeros(Y.shape).to(device).to(device)\n",
    "        lens = len(Y[:, 0])\n",
    "\n",
    "        for i in range(lens):\n",
    "            y[i, :] = torch.fft.ifft(Y[i, :])\n",
    "\n",
    "            p[i, :] = torch.abs(y[i, :]) ** 2\n",
    "\n",
    "        return 10 * torch.log10(p)\n",
    "\n",
    "def temporalMomentsGeneral(Y, K=3, B=4e9):\n",
    "    N, Ns = Y.shape\n",
    "    \n",
    "    delta_f = B / (Ns-1)\n",
    "    t_max = 1 / delta_f\n",
    "\n",
    "    tau = torch.linspace(0, t_max, Ns)\n",
    "    out = torch.zeros((N, K), dtype=torch.float64)\n",
    "        \n",
    "    for k in range(K):\n",
    "        for i in range(N):\n",
    "            y = torch.fft.ifft(Y[i, :])\n",
    "            out[i, k] = torch.trapz(tau**(k) * (torch.abs(y)**2), tau)\n",
    "    \n",
    "    x_stat = torch.zeros((6,))\n",
    "    x_stat[0:3] = torch.mean(torch.log(out), axis = 0)\n",
    "    x_stat[3:6] = torch.std(torch.log(out), axis = 0)\n",
    "    \n",
    "    return x_stat"
   ]
  },
  {
   "cell_type": "markdown",
   "id": "dc7c3caf",
   "metadata": {},
   "source": [
    "## 1. Computational cost vs arrival rate"
   ]
  },
  {
   "cell_type": "code",
   "execution_count": 12,
   "id": "e5882ee2",
   "metadata": {},
   "outputs": [],
   "source": [
    "n_rep = 5\n",
    "num_dim = 4\n",
    "n_steps = 6\n",
    "\n",
    "theta = torch.ones(n_steps, num_dim)\n",
    "\n",
    "theta[:,0] = theta[:,0] * 5e-8\n",
    "theta[:,1] = theta[:,1] * 5e-8\n",
    "theta[:,3] = theta[:,3] * 5e-9\n",
    "theta[:,2] = torch.tensor([1e9, 2e9, 4e9, 6e9, 8e9, 1e10])\n",
    "\n",
    "elapsed_time = torch.zeros(n_steps)\n",
    "\n",
    "for i in range(n_steps):\n",
    "    st = time.time()\n",
    "    \n",
    "    for j in range(n_rep):\n",
    "        y = TurinModel(theta[i, :])\n",
    "        \n",
    "    et = time.time()\n",
    "    elapsed_time[i] = (et - st)/n_rep"
   ]
  },
  {
   "cell_type": "code",
   "execution_count": 13,
   "id": "62f52975",
   "metadata": {},
   "outputs": [],
   "source": [
    "alpha = (elapsed_time[n_steps-1] - elapsed_time[0]) / (theta[n_steps-1, 2] - theta[0, 2]) \n",
    "beta = -alpha * theta[0, 2] + elapsed_time[0]\n",
    "\n",
    "np.save(\"turin_cost_alpha\", alpha)\n",
    "np.save(\"turin_cost_beta\", beta)"
   ]
  },
  {
   "cell_type": "code",
   "execution_count": 3,
   "id": "1f2d9231",
   "metadata": {},
   "outputs": [],
   "source": [
    "def cost_linear(theta, alpha, beta):\n",
    "    return alpha * theta + beta"
   ]
  },
  {
   "cell_type": "code",
   "execution_count": null,
   "id": "82ff078b",
   "metadata": {
    "scrolled": true
   },
   "outputs": [],
   "source": [
    "plt.figure(figsize=(3, 3))\n",
    "\n",
    "plt.scatter(theta[:,2], elapsed_time, marker = \"o\", color = \"C0\", s = 60, alpha = 0.8)\n",
    "plt.ylabel('Cost [seconds]', fontsize = 16)\n",
    "plt.xlabel('$\\\\theta_3$: Arrival rate', fontsize = 16)\n",
    "#plt.savefig(\"figures/plot_cost_turin.pdf\", bbox_inches='tight', dpi = 300, format=\"pdf\")\n",
    "plt.show()"
   ]
  },
  {
   "cell_type": "code",
   "execution_count": 4,
   "id": "655bdd02",
   "metadata": {},
   "outputs": [
    {
     "name": "stdout",
     "output_type": "stream",
     "text": [
      "1.7279028898602176\n",
      "139.18434621286718\n"
     ]
    }
   ],
   "source": [
    "alpha = np.load(\"turin_cost_alpha.npy\")\n",
    "beta = np.load(\"turin_cost_beta.npy\")\n",
    "\n",
    "print((alpha * 1e9 + beta)**2)\n",
    "print((alpha * 1e10 + beta)**2)"
   ]
  },
  {
   "cell_type": "markdown",
   "id": "685c31aa",
   "metadata": {},
   "source": [
    "# 2. Generating data for NLE"
   ]
  },
  {
   "cell_type": "code",
   "execution_count": 19,
   "id": "62ac1d50",
   "metadata": {},
   "outputs": [],
   "source": [
    "num_dim = 4\n",
    "prior_start = torch.tensor([1e-9, 1e-9, 1e9, 1e-10])\n",
    "prior_end = torch.tensor([1e-8, 1e-8, 1e10, 1e-9])\n",
    "\n",
    "prior = utils.BoxUniform(low=prior_start * torch.ones(num_dim), high=prior_end * torch.ones(num_dim))"
   ]
  },
  {
   "cell_type": "code",
   "execution_count": 4,
   "id": "3d7eb1c9",
   "metadata": {},
   "outputs": [
    {
     "name": "stdout",
     "output_type": "stream",
     "text": [
      "0\n",
      "1000\n",
      "2000\n",
      "3000\n",
      "4000\n",
      "5000\n",
      "6000\n",
      "7000\n",
      "8000\n",
      "9000\n"
     ]
    }
   ],
   "source": [
    "num_sim = 10000\n",
    "\n",
    "x_turin_npe = torch.zeros(size = (num_sim, 6))\n",
    "\n",
    "st = time.time()\n",
    "\n",
    "prior_samples = prior.sample((num_sim,))\n",
    "\n",
    "for i in range(num_sim):\n",
    "    x_turin_npe[i,:] = TurinModel(prior_samples[i,:])\n",
    "    \n",
    "    if i%1000==0:\n",
    "        print(i)\n",
    "        \n",
    "et = time.time()\n",
    "\n",
    "np.save(\"turin_time_nle\", et-st)\n",
    "np.save(\"turin_theta_nle\", prior_samples)\n",
    "np.save(\"turin_x_nle\", x_turin_npe)"
   ]
  },
  {
   "cell_type": "code",
   "execution_count": 36,
   "id": "d856ee3e",
   "metadata": {},
   "outputs": [],
   "source": [
    "# generating observed data\n",
    "\n",
    "theta_true = torch.tensor([4e-9, 7e-9, 5e9, 3e-10])\n",
    "x_obs = TurinModel(theta_true, N = 500)"
   ]
  },
  {
   "cell_type": "code",
   "execution_count": 69,
   "id": "cec0309e",
   "metadata": {},
   "outputs": [],
   "source": [
    "np.save(\"turin_x_obs\", x_obs)"
   ]
  },
  {
   "cell_type": "markdown",
   "id": "73657276",
   "metadata": {},
   "source": [
    "# Generating data using cost-aware proposal"
   ]
  },
  {
   "cell_type": "code",
   "execution_count": 66,
   "id": "2bebadfc",
   "metadata": {},
   "outputs": [
    {
     "name": "stdout",
     "output_type": "stream",
     "text": [
      "0\n",
      "1000\n",
      "2000\n",
      "3000\n",
      "4000\n",
      "5000\n",
      "6000\n",
      "7000\n",
      "8000\n",
      "9000\n"
     ]
    }
   ],
   "source": [
    "num_sim = 10000\n",
    "k = 2\n",
    "\n",
    "x_turin_ca = torch.zeros(size = (num_sim, 6))\n",
    "theta_tilde = torch.zeros(num_sim, num_dim)\n",
    "\n",
    "count = 0\n",
    "\n",
    "st = time.time()\n",
    "\n",
    "while count < num_sim:\n",
    "    param_value = prior.sample()\n",
    "    if u.A_theta_Gamma(param_value[2], k, alpha = alpha, beta=beta, prior_start=prior_start[2]) > torch.rand(1):\n",
    "        theta_tilde[count, :] = param_value\n",
    "        count += 1\n",
    "        \n",
    "for i in range(num_sim):\n",
    "    x_turin_ca[i,:] = TurinModel(theta_tilde[i,:])\n",
    "    \n",
    "    if i%1000==0:\n",
    "        print(i)\n",
    "        \n",
    "et = time.time()\n",
    "\n",
    "np.save(\"turin_time_ca_nle_k2\", et-st)\n",
    "np.save(\"turin_theta_ca_nle_k2\", theta_tilde)\n",
    "np.save(\"turin_x_ca_nle_k2\", x_turin_ca)"
   ]
  },
  {
   "cell_type": "markdown",
   "id": "1375ac2b",
   "metadata": {},
   "source": [
    "## Mixture proposal"
   ]
  },
  {
   "cell_type": "code",
   "execution_count": 78,
   "id": "f9a6725f",
   "metadata": {},
   "outputs": [
    {
     "name": "stdout",
     "output_type": "stream",
     "text": [
      "0\n",
      "1000\n",
      "2000\n",
      "3000\n",
      "4000\n",
      "5000\n",
      "6000\n",
      "7000\n",
      "8000\n",
      "9000\n"
     ]
    }
   ],
   "source": [
    "num_sim = 10000\n",
    "k = np.array([0, 1, 2, 3]) # Exponent of the penaly function g(z) = z^k\n",
    "\n",
    "num_mixtures = k.size\n",
    "num_per_mixture = int(round(num_sim / num_mixtures))\n",
    "\n",
    "x_turin_ca = torch.zeros(size = (num_sim, 6))\n",
    "theta_tilde = torch.zeros(num_sim, num_dim)\n",
    "w_u = torch.zeros(num_sim,)\n",
    "\n",
    "count = 0\n",
    "\n",
    "st = time.time()\n",
    "\n",
    "for ind in range(k.size):\n",
    "\n",
    "    while count < ((ind + 1)*num_per_mixture):\n",
    "        param_value = prior.sample()\n",
    "        if u.A_theta_Gamma(param_value[2], k[ind], alpha = alpha, beta=beta, prior_start=prior_start[2]) > torch.rand(1):\n",
    "            theta_tilde[count, :] = param_value\n",
    "            w_u[count] = u.cost_linear(theta_tilde[count,2], alpha, beta)**k[ind]    #self-normalised importance weights\n",
    "            count += 1\n",
    "        \n",
    "for i in range(num_sim):\n",
    "    x_turin_ca[i,:] = TurinModel(theta_tilde[i,:])\n",
    "    \n",
    "    if i%1000==0:\n",
    "        print(i)\n",
    "        \n",
    "et = time.time()\n",
    "\n",
    "np.save(\"turin_time_ca_nle_mixture\", et-st)\n",
    "np.save(\"turin_theta_ca_nle_mixture\", theta_tilde)\n",
    "np.save(\"turin_x_ca_nle_mixture\", x_turin_ca)\n",
    "np.save(\"turin_weights_mixture\", w_u)"
   ]
  },
  {
   "cell_type": "markdown",
   "id": "bd5558ae",
   "metadata": {},
   "source": [
    "## CG $\\times$ ESS"
   ]
  },
  {
   "cell_type": "code",
   "execution_count": 68,
   "id": "1402906d",
   "metadata": {},
   "outputs": [
    {
     "name": "stdout",
     "output_type": "stream",
     "text": [
      "0\n",
      "1\n",
      "2\n",
      "3\n",
      "4\n"
     ]
    }
   ],
   "source": [
    "num_sim = 20000\n",
    "num_repeats = 1\n",
    "k = np.array([0, 0.5, 1, 2, 3]) # Exponent of the penaly function g(z) = z^k\n",
    "\n",
    "ess_cost_aware = np.zeros(shape = (k.size, num_repeats))\n",
    "ceg = np.zeros(shape = (k.size, num_repeats))\n",
    "\n",
    "for ind in range(k.size):\n",
    "    for j in range(num_repeats):\n",
    "        \n",
    "        if ind == 0:\n",
    "\n",
    "            theta = prior.sample((num_sim,))\n",
    "\n",
    "            ess_cost_aware[ind, j] = 1\n",
    "            ceg[ind, j] = 1\n",
    "        else:\n",
    "            # Sampling from cost-modified prior\n",
    "            theta_tilde = torch.zeros(num_sim, num_dim)\n",
    "            count = 0\n",
    "\n",
    "            while count < num_sim:\n",
    "                param_value = prior.sample()\n",
    "                if u.A_theta_Gamma(param_value[2], k[ind], alpha = alpha, beta=beta, prior_start=prior_start[2]) > torch.rand(1):\n",
    "                    theta_tilde[count,:] = param_value\n",
    "                    count += 1\n",
    "\n",
    "            w_u = u.cost_linear(theta_tilde[:,2], alpha, beta)**k[ind]   #self-normalised importance weights\n",
    "            \n",
    "            # Compute CEG\n",
    "            ceg[ind, j] = torch.mean(u.cost_linear(theta[:,2], alpha, beta)) / torch.mean(u.cost_linear(theta_tilde[:,2], alpha, beta))\n",
    "            # Compute ESS\n",
    "            ess_cost_aware[ind, j] = ((w_u.sum())**2 / torch.square(w_u).sum()) / num_sim\n",
    "    print(ind)"
   ]
  },
  {
   "cell_type": "code",
   "execution_count": 64,
   "id": "1ff33ae1",
   "metadata": {},
   "outputs": [],
   "source": [
    "# Define the prior\n",
    "num_dims = 1\n",
    "num_sims = 1000\n",
    "num_rounds = 2\n",
    "prior = BoxUniform(low=torch.zeros(num_dims), high=torch.ones(num_dims))\n",
    "# simulator = lambda theta: theta + torch.randn_like(theta) * 0.1\n",
    "x_o = torch.tensor([0.5, 0.5])"
   ]
  },
  {
   "cell_type": "code",
   "execution_count": 65,
   "id": "cd88b005",
   "metadata": {},
   "outputs": [
    {
     "name": "stdout",
     "output_type": "stream",
     "text": [
      " Neural network successfully converged after 83 epochs."
     ]
    }
   ],
   "source": [
    "from sbi.inference import SNLE\n",
    "\n",
    "inference = SNLE(prior)\n",
    "proposal = prior\n",
    "for _ in range(num_rounds):\n",
    "    theta = proposal.sample((num_sims,))\n",
    "    x = simulator(theta)\n",
    "    _ = inference.append_simulations(theta, x).train()\n",
    "#     posterior = inference.build_posterior(mcmc_method=\"slice_np_vectorized\",\n",
    "#                                           mcmc_parameters={\"num_chains\": 20,\n",
    "#                                                            \"thin\": 5})\n",
    "#     proposal = posterior.set_default_x(x_o)"
   ]
  },
  {
   "cell_type": "code",
   "execution_count": 111,
   "id": "f6d09035",
   "metadata": {},
   "outputs": [],
   "source": [
    "simulator, prior = prepare_for_sbi(TurinModel, prior)\n",
    "\n",
    "# Instantiate the inference object\n",
    "inference = SNPE(prior=prior, density_estimator=\"maf\")"
   ]
  },
  {
   "cell_type": "code",
   "execution_count": 112,
   "id": "320e8abf",
   "metadata": {
    "scrolled": true
   },
   "outputs": [
    {
     "data": {
      "application/vnd.jupyter.widget-view+json": {
       "model_id": "",
       "version_major": 2,
       "version_minor": 0
      },
      "text/plain": [
       "Running 1000 simulations.:   0%|          | 0/1000 [00:00<?, ?it/s]"
      ]
     },
     "metadata": {},
     "output_type": "display_data"
    },
    {
     "name": "stdout",
     "output_type": "stream",
     "text": [
      " Neural network successfully converged after 195 epochs.Execution time: 10320.359754800797 seconds\n",
      "None\n"
     ]
    }
   ],
   "source": [
    "num_rounds = 1 # Number of rounds of SNPE\n",
    "num_sim = 1000  # Number of simulations in each round\n",
    "\n",
    "posteriors = []\n",
    "proposal = prior\n",
    "\n",
    "st = time.time()\n",
    "\n",
    "for _ in range(num_rounds):\n",
    "    theta, x = simulate_for_sbi(simulator, proposal, num_simulations=num_sim)\n",
    "    density_estimator = inference.append_simulations(\n",
    "        theta, x, proposal=proposal\n",
    "    ).train()\n",
    "    posterior = inference.build_posterior(density_estimator)\n",
    "    posteriors.append(posterior)\n",
    "    proposal = posterior.set_default_x(obs_data)\n",
    "    \n",
    "et = time.time()\n",
    "print(print('Execution time:', et - st, 'seconds'))"
   ]
  },
  {
   "cell_type": "code",
   "execution_count": 114,
   "id": "5c891a19",
   "metadata": {},
   "outputs": [
    {
     "data": {
      "application/vnd.jupyter.widget-view+json": {
       "model_id": "",
       "version_major": 2,
       "version_minor": 0
      },
      "text/plain": [
       "Drawing 10000 posterior samples:   0%|          | 0/10000 [00:00<?, ?it/s]"
      ]
     },
     "metadata": {},
     "output_type": "display_data"
    },
    {
     "data": {
      "text/plain": [
       "(1.000000013351432e-10, 9.999999717180685e-10)"
      ]
     },
     "execution_count": 114,
     "metadata": {},
     "output_type": "execute_result"
    },
    {
     "data": {
      "image/png": "[encoded data removed]",
      "text/plain": [
       "<Figure size 2000x200 with 4 Axes>"
      ]
     },
     "metadata": {},
     "output_type": "display_data"
    }
   ],
   "source": [
    "# Drawing samples from the posterior given the observed data\n",
    "samples = posterior.sample((10000,), x=obs_data)\n",
    "\n",
    "# Plotting posteriors\n",
    "fig, axes = plt.subplots(1, num_dim, figsize=(20, 2))\n",
    "fig.suptitle('Turin posteriors')\n",
    "\n",
    "sns.kdeplot(samples[:,0], color = \"C0\", linewidth = 2, linestyle = \"solid\", label = \"dim1\", ax = axes[0])\n",
    "axes[0].set_xlabel(\"$\\\\theta_1$\", fontsize = 15)\n",
    "axes[0].axvline(theta_true[0], color = \"darkgreen\", linestyle = \"dashed\", label = \"$\\\\theta_0$\")\n",
    "axes[0].set_ylabel(\"\")\n",
    "axes[0].set_xlim(prior_start[0], prior_end[0])\n",
    "\n",
    "sns.kdeplot(samples[:,1], color = \"C0\", linewidth = 2, linestyle = \"solid\", label = \"dim1\", ax = axes[1])\n",
    "axes[1].set_xlabel(\"$\\\\theta_2$\", fontsize = 15)\n",
    "axes[1].axvline(theta_true[1], color = \"darkgreen\", linestyle = \"dashed\", label = \"$\\\\theta_0$\")\n",
    "axes[1].set_ylabel(\"\")\n",
    "axes[1].set_xlim(prior_start[1], prior_end[1])\n",
    "\n",
    "sns.kdeplot(samples[:,2], color = \"C0\", linewidth = 2, linestyle = \"solid\", label = \"dim1\", ax = axes[2])\n",
    "axes[2].set_xlabel(\"$\\\\theta_3$\", fontsize = 15)\n",
    "axes[2].axvline(theta_true[2], color = \"darkgreen\", linestyle = \"dashed\", label = \"$\\\\theta_0$\")\n",
    "axes[2].set_ylabel(\"\")\n",
    "axes[2].set_xlim(prior_start[2], prior_end[2])\n",
    "\n",
    "sns.kdeplot(samples[:,3], color = \"C0\", linewidth = 2, linestyle = \"solid\", label = \"dim1\", ax = axes[3])\n",
    "axes[3].set_xlabel(\"$\\\\theta_4$\", fontsize = 15)\n",
    "axes[3].axvline(theta_true[3], color = \"darkgreen\", linestyle = \"dashed\", label = \"$\\\\theta_0$\")\n",
    "axes[3].set_ylabel(\"\")\n",
    "axes[3].set_xlim(prior_start[3], prior_end[3])"
   ]
  },
  {
   "cell_type": "markdown",
   "id": "61d10680-29c7-4126-8f3e-2b5deddafd41",
   "metadata": {},
   "source": [
    "# NPE & NLE"
   ]
  },
  {
   "cell_type": "code",
   "execution_count": 5,
   "id": "00efa9b4-ecab-4200-9008-959ea9341bcb",
   "metadata": {},
   "outputs": [],
   "source": [
    "turin = Turin()\n",
    "prior = [[1e-9, 1e-8], [1e-9, 1e-8], [1e9, 1e10], [1e-10, 1e-9]]"
   ]
  },
  {
   "cell_type": "code",
   "execution_count": 6,
   "id": "6868c706-e74d-4398-ae39-cc4781f3f4cb",
   "metadata": {},
   "outputs": [],
   "source": [
    "i=4\n",
    "checkpoint_path = f\"sims/turin/2.0/npe/{i+1}/ckpt.tar\"\n",
    "checkpoint = torch.load(checkpoint_path, map_location='cpu')\n",
    "\n",
    "posterior_npe = checkpoint[\"posterior_npe\"]\n",
    "posterior_canpe = checkpoint[\"posterior_canpe\"]\n",
    "\n",
    "posterior_samples_npe = checkpoint[\"posterior_samples_npe\"]\n",
    "posterior_samples_canpe = checkpoint[\"posterior_samples_canpe\"]\n",
    "i=0\n",
    "checkpoint_path = f\"sims/turin/mixture/npe/{i+1}/ckpt.tar\"\n",
    "checkpoint = torch.load(checkpoint_path, map_location='cpu')\n",
    "\n",
    "posterior_samples_canpe_mix = checkpoint[\"posterior_samples_canpe\"]"
   ]
  },
  {
   "cell_type": "code",
   "execution_count": 9,
   "id": "2a6a9e9d-21e9-48ab-9d63-c71ffae0eb44",
   "metadata": {},
   "outputs": [
    {
     "data": {
      "image/png": "[encoded data removed]",
      "text/plain": [
       "<Figure size 1080x180 with 4 Axes>"
      ]
     },
     "metadata": {},
     "output_type": "display_data"
    }
   ],
   "source": [
    "fig, axes = plt.subplots(1, 4, figsize=[15, 2.5])\n",
    "\n",
    "for i, ax in enumerate(axes):\n",
    "    ax.axvline(x=turin.theta_true[i], ls=\"--\", c=\"black\", label=\"True $\\\\theta$\")\n",
    "    sns.kdeplot(posterior_samples_npe[:, i], color=\"red\", linewidth=2, linestyle=\"solid\", label=\"NPE\", ax=ax)\n",
    "    sns.kdeplot(posterior_samples_canpe[:, i], color=\"C0\", linewidth=2, linestyle=\"solid\", label=\"Ca-NPE: $g(z)=z^2$\", ax=ax)\n",
    "    sns.kdeplot(posterior_samples_canpe_mix[:, i], color=\"C2\", linewidth=2, linestyle=\"solid\", label=\"Ca-NPE: multiple\", ax=ax)\n",
    "    \n",
    "    ax.set_xlim(prior[i][0], prior[i][1])\n",
    "    ax.set_xlabel(f\"$\\\\theta_{i+1}$\", size=16)\n",
    "\n",
    "    if i == 0:\n",
    "        ax.set_ylabel(\"Density\", size=16)\n",
    "    else:\n",
    "        ax.set_ylabel(\"\")\n",
    "\n",
    "fig.subplots_adjust(top=0.85, hspace=0.3, wspace=0.3)\n",
    "\n",
    "handles, labels = ax.get_legend_handles_labels()\n",
    "fig.legend(handles, labels, loc='upper center', bbox_to_anchor=(0.99, 0.8), ncol=1, fontsize=14, fancybox=True, shadow=True)\n",
    "\n",
    "plt.savefig(\"figures/plot_turin_npe.pdf\", dpi=300, bbox_inches='tight')\n",
    "plt.show()"
   ]
  },
  {
   "cell_type": "code",
   "execution_count": 10,
   "id": "9295af36-9c45-41a1-bc1c-71739dde6e51",
   "metadata": {},
   "outputs": [],
   "source": [
    "i=4\n",
    "checkpoint_path = f\"sims/turin/2.0/nle/{i+1}/ckpt.tar\"\n",
    "checkpoint = torch.load(checkpoint_path, map_location='cpu')\n",
    "\n",
    "posterior_samples_nle = checkpoint[\"posterior_samples_npe\"]\n",
    "posterior_samples_canle = checkpoint[\"posterior_samples_canpe\"]\n",
    "\n",
    "checkpoint_path = f\"sims/turin/mixture/npe/{i+1}/ckpt.tar\"\n",
    "checkpoint = torch.load(checkpoint_path, map_location='cpu')\n",
    "\n",
    "posterior_samples_canle_mix = checkpoint[\"posterior_samples_canpe\"]"
   ]
  },
  {
   "cell_type": "code",
   "execution_count": 11,
   "id": "e6ddc0b0-cc8f-4284-9157-c8981d5f6abb",
   "metadata": {},
   "outputs": [
    {
     "data": {
      "image/png": "[encoded data removed]",
      "text/plain": [
       "<Figure size 1080x180 with 4 Axes>"
      ]
     },
     "metadata": {},
     "output_type": "display_data"
    }
   ],
   "source": [
    "fig, axes = plt.subplots(1, 4, figsize=[15, 2.5])\n",
    "\n",
    "for i, ax in enumerate(axes):\n",
    "    ax.axvline(x=turin.theta_true[i], ls=\"--\", c=\"black\", label=\"True $\\\\theta$\")\n",
    "    sns.kdeplot(posterior_samples_nle[:, i], color=\"red\", linewidth=2, linestyle=\"solid\", label=\"NLE\", ax=ax)\n",
    "    sns.kdeplot(posterior_samples_canle[:, i], color=\"C0\", linewidth=2, linestyle=\"solid\", label=\"Ca-NLE: $g(z)=z^2$\", ax=ax)\n",
    "    sns.kdeplot(posterior_samples_canle_mix[:, i], color=\"C2\", linewidth=2, linestyle=\"solid\", label=\"Ca-NLE: multiple\", ax=ax)\n",
    "    \n",
    "    ax.set_xlim(prior[i][0], prior[i][1])\n",
    "    ax.set_xlabel(f\"$\\\\theta_{i+1}$\", size=16)\n",
    "\n",
    "    if i == 0:\n",
    "        ax.set_ylabel(\"Density\", size=16)\n",
    "    else:\n",
    "        ax.set_ylabel(\"\")\n",
    "\n",
    "fig.subplots_adjust(top=0.85, hspace=0.3, wspace=0.3)\n",
    "\n",
    "handles, labels = ax.get_legend_handles_labels()\n",
    "fig.legend(handles, labels, loc='upper center', bbox_to_anchor=(0.99, 0.8), ncol=1, fontsize=14, fancybox=True, shadow=True)\n",
    "plt.savefig(\"figures/plot_turin_nle.pdf\", dpi=300, bbox_inches='tight')\n",
    "plt.show()"
   ]
  },
  {
   "cell_type": "code",
   "execution_count": null,
   "id": "7e9c1992-e587-4486-b54f-40dfde727339",
   "metadata": {},
   "outputs": [],
   "source": []
  }
 ],
 "metadata": {
  "kernelspec": {
   "display_name": "Python 3 (ipykernel)",
   "language": "python",
   "name": "python3"
  },
  "language_info": {
   "codemirror_mode": {
    "name": "ipython",
    "version": 3
   },
   "file_extension": ".py",
   "mimetype": "text/x-python",
   "name": "python",
   "nbconvert_exporter": "python",
   "pygments_lexer": "ipython3",
   "version": "3.9.12"
  }
 },
 "nbformat": 4,
 "nbformat_minor": 5
}
