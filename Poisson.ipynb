{
 "cells": [
  {
   "cell_type": "code",
   "execution_count": 2,
   "id": "c5de31ea-8c27-4e47-8ca6-dab5c9f4128d",
   "metadata": {},
   "outputs": [],
   "source": [
    "import numpy as np\n",
    "from scipy.special import gammaln\n",
    "import torch\n",
    "import time\n",
    "import matplotlib.pyplot as plt\n",
    "import seaborn as sns\n",
    "import os\n",
    "import scipy.spatial.distance as distance\n",
    "\n",
    "data_dir = \"data/\""
   ]
  },
  {
   "cell_type": "code",
   "execution_count": 3,
   "id": "d0bbfcb8-eff7-4ad8-a41e-7e7385f69972",
   "metadata": {},
   "outputs": [
    {
     "name": "stdout",
     "output_type": "stream",
     "text": [
      "Our Poisson sampler: 0.223588228225708\n",
      "Numpy Poisson sampler: 0.00232696533203125\n"
     ]
    }
   ],
   "source": [
    "def poisson_sample(lam, n):\n",
    "    \"\"\"\n",
    "    Manually implemented Poisson sampler\n",
    "    \"\"\"\n",
    "    d = len(lam)\n",
    "    samples = np.zeros((n, d), dtype=int)\n",
    "    \n",
    "    for i in range(n):\n",
    "        for j in range(d):\n",
    "            L = np.exp(-lam[j])\n",
    "            k = 0\n",
    "            p = 1.0\n",
    "            while p > L:\n",
    "                k += 1\n",
    "                u = np.random.uniform(0, 1)\n",
    "                p *= u\n",
    "            samples[i, j] = k - 1\n",
    "    return samples\n",
    "\n",
    "theta_values = np.array([2.5, 3.0, 1.2, 4.1, 0.5])\n",
    "\n",
    "start_time = time.time()\n",
    "proposal_samples = poisson_sample(theta_values, n=10000)\n",
    "end_time = time.time() - start_time\n",
    "print(\"Our Poisson sampler:\", end_time)\n",
    "\n",
    "start_time = time.time()\n",
    "proposal_samples = np.random.poisson(theta_values, size=(10000, 5))\n",
    "end_time = time.time() - start_time\n",
    "print(\"Numpy Poisson sampler:\", end_time)"
   ]
  },
  {
   "cell_type": "markdown",
   "id": "00a7a2ac-7df2-490f-a63f-a1c2531bbf14",
   "metadata": {},
   "source": [
    "# MMD"
   ]
  },
  {
   "cell_type": "code",
   "execution_count": 4,
   "id": "d3b25546-c5ab-412e-af67-9cd300d0d236",
   "metadata": {},
   "outputs": [],
   "source": [
    "def MMD_weighted(x, y, w, lengthscale):\n",
    "    #     \"\"\" Optimally weighted squared MMD estimate between samples x_i ~ P and y_i ~ Q\n",
    "    #     \"\"\"\n",
    "\n",
    "    if len(x.shape) == 1:\n",
    "        x = np.array(x, ndmin=2).transpose()\n",
    "        y = np.array(y, ndmin=2).transpose()\n",
    "        w = np.array(w, ndmin=2).transpose()\n",
    "\n",
    "    m = x.shape[0]\n",
    "    n = y.shape[0]\n",
    "\n",
    "    xy = np.concatenate((x, y), axis=0)\n",
    "\n",
    "    K = kernel_matrix(xy, xy, lengthscale)\n",
    "\n",
    "    kxx = K[0:m, 0:m]\n",
    "    kyy = K[m:(m + n), m:(m + n)]\n",
    "    kxy = K[0:m, m:(m + n)]\n",
    "\n",
    "    # first sum\n",
    "    sum1 = np.matmul(np.matmul(w.transpose(), kxx), w)\n",
    "\n",
    "    # second sum\n",
    "    sum2 = np.sum(np.matmul(w.transpose(), kxy))\n",
    "\n",
    "    # third sum\n",
    "    sum3 = (1 / n ** 2) * np.sum(kyy)\n",
    "\n",
    "    return sum1 - (2 / (n)) * sum2 + sum3\n",
    "\n",
    "\n",
    "def MMD_unweighted(x, y, lengthscale):\n",
    "    \"\"\" Approximates the squared MMD between samples x_i ~ P and y_i ~ Q\n",
    "    \"\"\"\n",
    "\n",
    "    if len(x.shape) == 1:\n",
    "        x = np.array(x, ndmin=2).transpose()\n",
    "        y = np.array(y, ndmin=2).transpose()\n",
    "\n",
    "    m = x.shape[0]\n",
    "    n = y.shape[0]\n",
    "\n",
    "    z = np.concatenate((x, y), axis=0)\n",
    "\n",
    "    K = kernel_matrix(z, z, lengthscale)\n",
    "\n",
    "    kxx = K[0:m, 0:m]\n",
    "    kyy = K[m:(m + n), m:(m + n)]\n",
    "    kxy = K[0:m, m:(m + n)]\n",
    "\n",
    "    return (1 / m ** 2) * np.sum(kxx) - (2 / (m * n)) * np.sum(kxy) + (1 / n ** 2) * np.sum(kyy)\n",
    "\n",
    "\n",
    "def median_heuristic(y):\n",
    "    a = distance.cdist(y, y, 'sqeuclidean')\n",
    "    return np.sqrt(np.median(a / 2))\n",
    "\n",
    "\n",
    "def kernel_matrix(x, y, l):\n",
    "    if len(x.shape) == 1:\n",
    "        x = np.array(x, ndmin=2).transpose()\n",
    "        y = np.array(y, ndmin=2).transpose()\n",
    "\n",
    "    return np.exp(-(1 / (2 * l ** 2)) * distance.cdist(x, y, 'sqeuclidean'))"
   ]
  },
  {
   "cell_type": "markdown",
   "id": "f9e2d9ed-96c6-4ec7-bbb9-4a8d98a13527",
   "metadata": {},
   "source": [
    "# ABC"
   ]
  },
  {
   "cell_type": "code",
   "execution_count": 5,
   "id": "866488cf-0c5c-44fa-8f41-e0bcc11cc3af",
   "metadata": {},
   "outputs": [],
   "source": [
    "def mad(data, axis=None):\n",
    "    return np.mean(np.abs(data - np.mean(data, axis)), axis)\n",
    "\n",
    "def rejection_ABC(s_obs, param, sumStats, epsilon_distance):\n",
    "    M = param.shape[0]\n",
    "\n",
    "    norm_factor = mad(sumStats, axis=0)\n",
    "\n",
    "    norm_sumStats = sumStats / norm_factor\n",
    "    norm_s_obs = s_obs / norm_factor\n",
    "\n",
    "    distance = np.linalg.norm(norm_sumStats - norm_s_obs, axis=1)\n",
    "\n",
    "    d_ = np.sort(distance)\n",
    "\n",
    "    indices = np.where(distance < epsilon_distance)[0]\n",
    "\n",
    "    posterior_samples = param[indices, :]\n",
    "\n",
    "    return posterior_samples, indices"
   ]
  },
  {
   "cell_type": "markdown",
   "id": "1709b6ab-e55d-4282-9cae-889658c645ac",
   "metadata": {},
   "source": [
    "# Model"
   ]
  },
  {
   "cell_type": "code",
   "execution_count": 6,
   "id": "bcc20b01-6adb-4d80-8ee8-dc330ac51532",
   "metadata": {},
   "outputs": [],
   "source": [
    "class CMPGM:\n",
    "    \"\"\"\n",
    "    Conway-Maxwell-Poisson graphical model\n",
    "    \"\"\"\n",
    "    def __init__(self, dim, theta_ij=0.1, theta_0j=0.99):\n",
    "        self.dim = dim\n",
    "        self.tri = np.triu_indices(dim)\n",
    "        self.dim_total = dim + int(dim*(dim-1)/2) + dim\n",
    "        \n",
    "        self.diag_idx = (np.eye(dim, dtype=bool))[self.tri[0], self.tri[1]]\n",
    "        self.offd_idx = (~np.eye(dim, dtype=bool))[self.tri[0], self.tri[1]]\n",
    "        \n",
    "        # Fix the interaction parameters (theta_ij) and dispersion parameters (theta_0j)\n",
    "        self.theta_ij = theta_ij\n",
    "        self.theta_0j = theta_0j\n",
    "\n",
    "    def _uloglikelihood(self, param, x):\n",
    "        xa = np.abs(x)\n",
    "        xx = np.outer(xa, xa)\n",
    "        np.fill_diagonal(xx, xa)\n",
    "        t0 = xx[self.tri[0], self.tri[1]]\n",
    "\n",
    "        t1 = np.dot(t0[self.diag_idx], param)\n",
    "\n",
    "        t2 = np.dot(t0[self.offd_idx], np.ones_like(t0[self.offd_idx])*self.theta_ij) \n",
    "\n",
    "        t3 = np.dot(gammaln(xa + 1), np.ones_like(gammaln(xa + 1))*self.theta_0j)\n",
    "\n",
    "        return t1 - t2 - t3\n",
    "\n",
    "    def sample(self, param, num_samples):\n",
    "        start_time = time.time()\n",
    "        # proposal_samples = np.random.poisson(param, size=(num_samples, self.dim))  # numpy implementation\n",
    "        proposal_samples = poisson_sample(param, n=num_samples)  # hand-crafted implementation\n",
    "        end_time = time.time() - start_time\n",
    "        \n",
    "        weights = np.zeros(num_samples)\n",
    "        \n",
    "        for i in range(num_samples):\n",
    "            # Calculate the log-likelihood for the target distribution\n",
    "            logl_target = self._uloglikelihood(param, proposal_samples[i])\n",
    "            \n",
    "            # Calculate the log-likelihood for the proposal distribution\n",
    "            logl_proposal = np.sum(proposal_samples[i] * np.log(param) - param - gammaln(proposal_samples[i] + 1))\n",
    "            \n",
    "            # Weight is the exponent of the difference between the target and proposal log-likelihoods\n",
    "            weights[i] = np.exp(logl_target - logl_proposal)\n",
    "        \n",
    "        total_weight = np.sum(weights)\n",
    "        weights /= total_weight\n",
    "        \n",
    "        # Resample according to the normalized weights\n",
    "        resampled_indices = np.random.choice(num_samples, size=num_samples, replace=True, p=weights)\n",
    "        resampled_samples = proposal_samples[resampled_indices]\n",
    "\n",
    "        marginal_means = np.mean(resampled_samples, axis=0)\n",
    "        \n",
    "        # Calculate marginal variances for each dimension\n",
    "        marginal_variances = np.var(resampled_samples, axis=0)\n",
    "    \n",
    "        return np.concatenate([marginal_means, marginal_variances], axis=0)"
   ]
  },
  {
   "cell_type": "markdown",
   "id": "8ace2375-9bc6-49e4-8d89-4d967e930aa2",
   "metadata": {},
   "source": [
    "# Generate reference data"
   ]
  },
  {
   "cell_type": "code",
   "execution_count": null,
   "id": "ebc84bda-8de5-4cd0-ae1e-0e954182639e",
   "metadata": {},
   "outputs": [],
   "source": [
    "# generate data for ABC, don't need to run again\n",
    "for d in dims:\n",
    "    model = CMPGM(d)\n",
    "    \n",
    "    theta_obs = np.ones(d) * 5.\n",
    "    x_obs = model.sample(theta_obs, m)\n",
    "    \n",
    "    start_time = time.time()\n",
    "    thetas = np.random.rand(n, d) * 10\n",
    "    xs = np.vstack([model.sample(theta, m) for theta in thetas])\n",
    "    \n",
    "    \n",
    "    thetas_ref = np.random.rand(n_ref, d) * 10\n",
    "    xs_ref = np.vstack([model.sample(theta, m) for theta in thetas_ref])\n",
    "\n",
    "    np.save(os.path.join(data_dir, f'cmpgm_cost_dim{d}.npy'), theta_obs)\n",
    "    np.save(os.path.join(data_dir, f'cmpgm_theta_obs_dim{d}.npy'), theta_obs)\n",
    "    np.save(os.path.join(data_dir, f'cmpgm_x_obs_dim{d}.npy'), x_obs)\n",
    "    np.save(os.path.join(data_dir, f'cmpgm_thetas_dim{d}.npy'), thetas)\n",
    "    np.save(os.path.join(data_dir, f'cmpgm_xs_dim{d}.npy'), xs)\n",
    "    np.save(os.path.join(data_dir, f'cmpgm_thetas_ref_dim{d}.npy'), thetas_ref)\n",
    "    np.save(os.path.join(data_dir, f'cmpgm_xs_ref_dim{d}.npy'), xs_ref)"
   ]
  },
  {
   "cell_type": "markdown",
   "id": "13fad88c-64c5-42ea-97ab-24efc33215ea",
   "metadata": {},
   "source": [
    "# Run ABC"
   ]
  },
  {
   "cell_type": "code",
   "execution_count": 7,
   "id": "073a6388-c6f6-4404-ae0a-b28ff8e26509",
   "metadata": {},
   "outputs": [],
   "source": [
    "dims = [4, 6, 8, 10]\n",
    "eps = [5, 11, 14, 13]\n",
    "m = 500  # num_samples per theta_o\n",
    "n = 10000  # num_simulations\n",
    "n_ref = 100000  # reference num_simulations"
   ]
  },
  {
   "cell_type": "code",
   "execution_count": null,
   "id": "7b1ba649-2e0a-4713-8636-105fb4b7aea9",
   "metadata": {},
   "outputs": [],
   "source": [
    "cost_abc = []\n",
    "mmd_abc = []\n",
    "\n",
    "k = 5\n",
    "\n",
    "for i, d in enumerate(dims):\n",
    "    model = CMPGM(d)\n",
    "\n",
    "    # load reference data and obs\n",
    "    theta_obs = np.load(os.path.join(data_dir, f'cmpgm_theta_obs_dim{d}.npy'))\n",
    "    x_obs = np.load(os.path.join(data_dir, f'cmpgm_x_obs_dim{d}.npy'))\n",
    "    thetas_ref = np.load(os.path.join(data_dir, f'cmpgm_thetas_ref_dim{d}.npy'))\n",
    "    xs_ref = np.load(os.path.join(data_dir, f'cmpgm_xs_ref_dim{d}.npy'))\n",
    "\n",
    "    # get reference posterior samples\n",
    "    posterior_samples_ref, _ = rejection_ABC(x_obs, thetas_ref, xs_ref, eps[i])\n",
    "    \n",
    "    start_time = time.time()\n",
    "    thetas = np.random.rand(n, d) * 10\n",
    "    xs = np.vstack([model.sample(theta, m) for theta in thetas])\n",
    "    end_time = time.time() - start_time\n",
    "    cost_abc.append(end_time)\n",
    "    print(f\"dim {d} ABC cost: {end_time}\")\n",
    "\n",
    "    posterior_samples, indices = rejection_ABC(x_obs, thetas, xs, eps[i])\n",
    "    print(indices.shape)\n",
    "    mmd_abc_ = MMD_unweighted(posterior_samples, posterior_samples_ref, lengthscale=median_heuristic(posterior_samples_ref))\n",
    "\n",
    "    mmd_abc.append(mmd_abc_)\n",
    "    print(\"MMD ABC: \", mmd_abc_)"
   ]
  },
  {
   "cell_type": "markdown",
   "id": "5a1470fa-5d8e-413c-b9d2-9e42dc1015e8",
   "metadata": {},
   "source": [
    "# CA-ABC"
   ]
  },
  {
   "cell_type": "code",
   "execution_count": 9,
   "id": "3b38d9b4-be2d-4c52-b6fb-918b9df6d2ae",
   "metadata": {},
   "outputs": [],
   "source": [
    "def cost_linear(theta, alpha, beta):\n",
    "    value = alpha * np.sum(theta, axis=1) + beta\n",
    "    return value\n",
    "\n",
    "def calc_acc_prob(cost_linear, alpha, beta, theta, theta_low, k):\n",
    "    cost = cost_linear(theta, alpha, beta)\n",
    "    lower_cost = cost_linear(theta_low, alpha, beta)\n",
    "    return (lower_cost ** k) / (cost ** k)"
   ]
  },
  {
   "cell_type": "code",
   "execution_count": 10,
   "id": "19bc42af-be82-4bc9-a3fa-fab233824771",
   "metadata": {},
   "outputs": [
    {
     "name": "stdout",
     "output_type": "stream",
     "text": [
      "[0.4992868900299072, 0.563978910446167, 0.67519211769104, 0.7777209281921387, 0.8745620250701904, 0.9693708419799805, 1.0896790027618408, 1.175140142440796, 1.2926511764526367, 1.3745179176330566]\n"
     ]
    }
   ],
   "source": [
    "d = 10\n",
    "n_step = 10\n",
    "model = CMPGM(d)\n",
    "\n",
    "# Range of theta values to test\n",
    "theta_values = np.linspace(1, 10, n_step)\n",
    "# theta_values = np.array([9, 10])\n",
    "theta_values = np.repeat(theta_values[:, np.newaxis], d, axis=1)\n",
    "\n",
    "sample_times = []\n",
    "\n",
    "for step in range(n_step):\n",
    "    start_time = time.time()\n",
    "    samples = model.sample(theta_values[step], num_samples=10000)\n",
    "    elapsed_time = time.time() - start_time\n",
    "    sample_times.append(elapsed_time)\n",
    "\n",
    "print(sample_times)"
   ]
  },
  {
   "cell_type": "code",
   "execution_count": 11,
   "id": "baddc8af-02b3-41fa-87b7-94c540e21164",
   "metadata": {},
   "outputs": [
    {
     "name": "stdout",
     "output_type": "stream",
     "text": [
      "0.009724789195590548 0.40203899807400173\n"
     ]
    }
   ],
   "source": [
    "# Cost function\n",
    "alpha = (sample_times[-1] - sample_times[0]) / (np.sum(theta_values[-1]) - np.sum(theta_values[0])) \n",
    "beta = -alpha * np.sum(theta_values[0]) + sample_times[0]\n",
    "print(alpha, beta)"
   ]
  },
  {
   "cell_type": "code",
   "execution_count": 12,
   "id": "de344775-c6f3-4d69-ae96-ffcfe9b0664a",
   "metadata": {},
   "outputs": [
    {
     "data": {
      "image/png": "[encoded data removed]",
      "text/plain": [
       "<Figure size 720x432 with 1 Axes>"
      ]
     },
     "metadata": {
      "needs_background": "light"
     },
     "output_type": "display_data"
    }
   ],
   "source": [
    "# Plotting the results\n",
    "plt.figure(figsize=(10, 6))\n",
    "plt.plot(theta_values[:, 0], sample_times, marker='o', label=\"Total time\")\n",
    "plt.plot(theta_values[:, 0], cost_linear(theta_values, alpha, beta), color = \"C1\", label = \"$c(\\\\theta)$\")\n",
    "plt.xlabel('Theta Value',fontsize=20)\n",
    "plt.ylabel('Sampling Time (seconds)',fontsize=20)\n",
    "plt.title('Time vs Theta Value', fontsize=20)\n",
    "plt.grid(True)\n",
    "plt.legend(fontsize=20)\n",
    "plt.show()"
   ]
  },
  {
   "cell_type": "code",
   "execution_count": 162,
   "id": "438cad24-8a13-493f-b8ef-48da2607c569",
   "metadata": {},
   "outputs": [
    {
     "name": "stdout",
     "output_type": "stream",
     "text": [
      "20.54515504837036\n"
     ]
    }
   ],
   "source": [
    "k = 9\n",
    "d = 10\n",
    "thetas_ca = np.empty([n, d])\n",
    "theta_low = np.ones([1, d]) * 1\n",
    "count = 0\n",
    "\n",
    "sum_theta = []\n",
    "prob_list = []\n",
    "\n",
    "start_time = time.time()\n",
    "while count < n:\n",
    "    theta_ = np.random.rand(1, d) * 10\n",
    "    \n",
    "    prob = calc_acc_prob(cost_linear, alpha, beta, theta_, theta_low, k)\n",
    "    \n",
    "    if calc_acc_prob(cost_linear, alpha, beta, theta_, theta_low, k) > np.random.rand(1):\n",
    "        thetas_ca[count] = theta_.reshape(-1)\n",
    "        count += 1\n",
    "        prob_list.append(prob)\n",
    "        sum_theta.append(theta_.sum())\n",
    "\n",
    "# xs = np.vstack([model.sample(theta, m) for theta in thetas_ca])\n",
    "\n",
    "end_time = time.time() - start_time\n",
    "print(end_time)"
   ]
  },
  {
   "cell_type": "code",
   "execution_count": 164,
   "id": "4ab60d07-cef0-48e1-a491-6ff7eba36aa3",
   "metadata": {},
   "outputs": [
    {
     "data": {
      "text/plain": [
       "412467.39313781844"
      ]
     },
     "execution_count": 164,
     "metadata": {},
     "output_type": "execute_result"
    }
   ],
   "source": [
    "thetas_ca.sum()"
   ]
  },
  {
   "cell_type": "code",
   "execution_count": 166,
   "id": "83475213-5340-42f0-94cc-44c4773a5e78",
   "metadata": {},
   "outputs": [
    {
     "name": "stdout",
     "output_type": "stream",
     "text": [
      "0.0007128715515136719\n"
     ]
    }
   ],
   "source": [
    "start_time = time.time()\n",
    "thetas = np.random.rand(n, d) * 10\n",
    "end_time = time.time() - start_time\n",
    "print(end_time)"
   ]
  },
  {
   "cell_type": "code",
   "execution_count": 167,
   "id": "1bdf55d9-109c-4974-b8d5-7c679287d1a8",
   "metadata": {},
   "outputs": [
    {
     "data": {
      "text/plain": [
       "499723.3574658224"
      ]
     },
     "execution_count": 167,
     "metadata": {},
     "output_type": "execute_result"
    }
   ],
   "source": [
    "thetas.sum()"
   ]
  },
  {
   "cell_type": "code",
   "execution_count": 169,
   "id": "49000430-4cf5-49fb-a957-0e03ae984b1c",
   "metadata": {},
   "outputs": [
    {
     "data": {
      "image/png": "[encoded data removed]",
      "text/plain": [
       "<Figure size 432x288 with 1 Axes>"
      ]
     },
     "metadata": {
      "needs_background": "light"
     },
     "output_type": "display_data"
    }
   ],
   "source": [
    "i = 1\n",
    "sns.kdeplot(thetas_ca.sum(axis=1), color=\"red\", linewidth=2, linestyle=\"solid\", label=\"ABC\")\n",
    "sns.kdeplot(thetas.sum(axis=1), color=\"green\", linewidth=2, linestyle=\"solid\", label=\"ABC-REF\")\n",
    "plt.show()"
   ]
  },
  {
   "cell_type": "code",
   "execution_count": 82,
   "id": "67512b69-a7a0-4aec-b179-196d2403a0a7",
   "metadata": {},
   "outputs": [],
   "source": [
    "posterior_samples_ca, _ = rejection_ABC(x_obs, thetas_ca, xs, 1.0)"
   ]
  },
  {
   "cell_type": "code",
   "execution_count": 83,
   "id": "7d0325c7-296a-4640-bf33-ddd8cfcc46fd",
   "metadata": {},
   "outputs": [
    {
     "data": {
      "image/png": "[encoded data removed]",
      "text/plain": [
       "<Figure size 432x288 with 1 Axes>"
      ]
     },
     "metadata": {
      "needs_background": "light"
     },
     "output_type": "display_data"
    }
   ],
   "source": [
    "i = 1\n",
    "plt.axvline(x=theta_obs[i], ls=\"--\", c=\"black\", label=\"True $\\\\theta$\")\n",
    "# sns.kdeplot(posterior_samples[:, i], color=\"red\", linewidth=2, linestyle=\"solid\", label=\"ABC\")\n",
    "sns.kdeplot(posterior_samples[:, i], color=\"blue\", linewidth=2, linestyle=\"solid\", label=\"CA-ABC\")\n",
    "sns.kdeplot(posterior_samples_ref[:, i], color=\"green\", linewidth=2, linestyle=\"solid\", label=\"ABC-REF\")\n",
    "\n",
    "plt.legend()\n",
    "plt.show()"
   ]
  },
  {
   "cell_type": "code",
   "execution_count": 294,
   "id": "dbdccdae-7c63-4211-b4df-5e60d9578de9",
   "metadata": {},
   "outputs": [
    {
     "name": "stdout",
     "output_type": "stream",
     "text": [
      "dim 4 ABC cost: 463.9423921108246\n",
      "dim 6 ABC cost: 621.0342619419098\n",
      "dim 8 ABC cost: 757.3184809684753\n",
      "dim 10 ABC cost: 902.4258871078491\n"
     ]
    }
   ],
   "source": [
    "dims = [4, 6, 8, 10]\n",
    "eps = [4, 10, 12, 12]\n",
    "cost_caabc = []\n",
    "mmd_caabc = []\n",
    "k = 5\n",
    "\n",
    "for i, d in enumerate(dims):\n",
    "    model = CMPGM(d)\n",
    "\n",
    "    # load reference data and obs\n",
    "    theta_obs = np.load(os.path.join(data_dir, f'cmpgm_theta_obs_dim{d}.npy'))\n",
    "    x_obs = np.load(os.path.join(data_dir, f'cmpgm_x_obs_dim{d}.npy'))\n",
    "    thetas_ref = np.load(os.path.join(data_dir, f'cmpgm_thetas_ref_dim{d}.npy'))\n",
    "    xs_ref = np.load(os.path.join(data_dir, f'cmpgm_xs_ref_dim{d}.npy'))\n",
    "\n",
    "    # get reference posterior samples\n",
    "    posterior_samples_ref, _ = rejection_ABC(x_obs, thetas_ref, xs_ref, eps[i])\n",
    "\n",
    "    \n",
    "    # # CA-ABC\n",
    "    # thetas_ca = np.empty([n, d])\n",
    "    # theta_low = np.ones([1, d]) * 0.01\n",
    "    # count = 0\n",
    "    \n",
    "    # start_time = time.time()\n",
    "    # while count < n:\n",
    "    #     theta_ = np.random.rand(1, d) * 10\n",
    "    #     if calc_acc_prob(cost_linear, alpha, beta, theta_, theta_low, k) > np.random.rand(1):\n",
    "    #         thetas_ca[count] = theta_.reshape(-1)\n",
    "    #         count += 1\n",
    "    # xs_ca = np.vstack([model.sample(theta, m) for theta in thetas_ca])\n",
    "    # np.save(os.path.join(data_dir, f'cmpgm_thetas_ca_dim{d}.npy'), thetas_ca)\n",
    "    # np.save(os.path.join(data_dir, f'cmpgm_xs_ca_dim{d}.npy'), xs_ca)\n",
    "    \n",
    "    # end_time = time.time() - start_time\n",
    "    # cost_caabc.append(end_time)\n",
    "    # print(f\"dim {d} CA-ABC cost: {end_time}\")"
   ]
  },
  {
   "cell_type": "code",
   "execution_count": 324,
   "id": "6fc88331-67e7-43eb-a95d-0860b5c15be7",
   "metadata": {},
   "outputs": [
    {
     "data": {
      "image/png": "[encoded data removed]",
      "text/plain": [
       "<Figure size 432x288 with 1 Axes>"
      ]
     },
     "metadata": {
      "needs_background": "light"
     },
     "output_type": "display_data"
    }
   ],
   "source": [
    "i = 1\n",
    "plt.axvline(x=theta_obs[i], ls=\"--\", c=\"black\", label=\"True $\\\\theta$\")\n",
    "sns.kdeplot(posterior_samples[:, i], color=\"red\", linewidth=2, linestyle=\"solid\", label=\"ABC\")\n",
    "# sns.kdeplot(posterior_samples[:, i], color=\"blue\", linewidth=2, linestyle=\"solid\", label=\"CA-ABC\")\n",
    "sns.kdeplot(posterior_samples_ref[:, i], color=\"green\", linewidth=2, linestyle=\"solid\", label=\"ABC-REF\")\n",
    "\n",
    "plt.legend()\n",
    "plt.show()"
   ]
  },
  {
   "cell_type": "code",
   "execution_count": 16,
   "id": "20fc0bf2-06fb-4523-a3af-5afb3d6d9077",
   "metadata": {},
   "outputs": [
    {
     "data": {
      "text/plain": [
       "[5, 11, 14, 13]"
      ]
     },
     "execution_count": 16,
     "metadata": {},
     "output_type": "execute_result"
    }
   ],
   "source": [
    "eps"
   ]
  },
  {
   "cell_type": "code",
   "execution_count": 23,
   "id": "47955709-624e-4607-b83c-795a47ba367d",
   "metadata": {},
   "outputs": [
    {
     "name": "stdout",
     "output_type": "stream",
     "text": [
      "(120,)\n",
      "(87,)\n",
      "(74,)\n",
      "(68,)\n",
      "dim 4 ABC cost: 220.17337322235107\n",
      "MMD CA-ABC: 0.0037545933355985772\n",
      "(29,)\n",
      "(44,)\n",
      "(15,)\n",
      "(2,)\n",
      "dim 6 ABC cost: 291.5324990749359\n",
      "MMD CA-ABC: 0.014470160259588416\n",
      "(16,)\n",
      "(12,)\n",
      "(6,)\n",
      "(2,)\n",
      "dim 8 ABC cost: 362.7801320552826\n",
      "MMD CA-ABC: 0.03193741993914567\n",
      "(20,)\n",
      "(8,)\n",
      "(3,)\n",
      "(5,)\n",
      "dim 10 ABC cost: 431.6849548816681\n",
      "MMD CA-ABC: 0.05006722167291611\n"
     ]
    }
   ],
   "source": [
    "# dims = [4, 6, 8, 10]\n",
    "k_mixture = [0., 2., 4., 6.]\n",
    "\n",
    "num_mixtures = len(k_mixture)\n",
    "num_per_mixture = int(round(n / num_mixtures))\n",
    "\n",
    "\n",
    "for i, d in enumerate(dims):\n",
    "\n",
    "    theta_obs = np.load(os.path.join(data_dir, f'cmpgm_theta_obs_dim{d}.npy'))\n",
    "    x_obs = np.load(os.path.join(data_dir, f'cmpgm_x_obs_dim{d}.npy'))\n",
    "    thetas_ref = np.load(os.path.join(data_dir, f'cmpgm_thetas_ref_dim{d}.npy'))\n",
    "    xs_ref = np.load(os.path.join(data_dir, f'cmpgm_xs_ref_dim{d}.npy'))\n",
    "\n",
    "    # get reference posterior samples\n",
    "    posterior_samples_ref, _ = rejection_ABC(x_obs, thetas_ref, xs_ref, eps[i])\n",
    "\n",
    "    model = CMPGM(d)\n",
    "    thetas_ca = np.empty([num_mixtures, num_per_mixture, d])\n",
    "    xs_ca = np.empty([num_mixtures, num_per_mixture, d * 2])\n",
    "    weights_ca = np.empty([num_mixtures, num_per_mixture])\n",
    "    posterior_samples_caabc = None\n",
    "    weights = None\n",
    "    \n",
    "\n",
    "    theta_values = np.array([0.1, 10])\n",
    "    theta_values = np.repeat(theta_values[:, np.newaxis], d, axis=1)    \n",
    "    \n",
    "    sample_times = []\n",
    "    \n",
    "    for step in range(2):\n",
    "        start_time = time.time()\n",
    "        samples = model.sample(theta_values[step], num_samples=10000)\n",
    "        elapsed_time = time.time() - start_time\n",
    "        sample_times.append(elapsed_time)\n",
    "\n",
    "    # determine the cost function\n",
    "    alpha = (sample_times[-1] - sample_times[0]) / (np.sum(theta_values[-1]) - np.sum(theta_values[0])) \n",
    "    beta = -alpha * np.sum(theta_values[0]) + sample_times[0]\n",
    "    # print(alpha, beta)\n",
    "\n",
    "    theta_low = np.ones([1, d]) * 0.1\n",
    "    \n",
    "    end_time = 0\n",
    "    for ind in range(num_mixtures):\n",
    "        count = 0\n",
    "        weights_for_k = []\n",
    "        start_time = time.time()\n",
    "        while count < num_per_mixture:\n",
    "            theta_ = np.random.rand(1, d) * 10\n",
    "            # print(calc_acc_prob(cost_linear, alpha, beta, theta_, theta_low, k_mixture[ind]))\n",
    "            if calc_acc_prob(cost_linear, alpha, beta, theta_, theta_low, k_mixture[ind]) > np.random.rand(1):\n",
    "                thetas_ca[ind, count] = theta_.reshape(-1)\n",
    "                weights_for_k.append(cost_linear(theta_, alpha, beta)**k_mixture[ind]) \n",
    "                count += 1\n",
    "        weights_ca[ind] = np.array(weights_for_k).reshape(-1)\n",
    "\n",
    "        xs_ca[ind] = np.vstack([model.sample(theta, m) for theta in thetas_ca[ind]])\n",
    "        end_time += time.time() - start_time\n",
    "\n",
    "        posterior_samples_caabc_per_mixture, indices = rejection_ABC(x_obs, thetas_ca[ind], xs_ca[ind], eps[i])\n",
    "        \n",
    "        print(indices.shape)\n",
    "        weights_per_mixture = weights_ca[ind, indices] / (weights_ca[ind, indices].sum()*num_mixtures)\n",
    "\n",
    "        if posterior_samples_caabc is None:\n",
    "            posterior_samples_caabc = posterior_samples_caabc_per_mixture\n",
    "            weights = weights_per_mixture\n",
    "        else:\n",
    "            posterior_samples_caabc = np.concatenate([posterior_samples_caabc,posterior_samples_caabc_per_mixture], axis=0)\n",
    "            weights = np.concatenate([weights, weights_per_mixture], axis=0)\n",
    "    print(f\"dim {d} ABC cost: {end_time}\")\n",
    "    mmd_caabc_ = MMD_weighted(posterior_samples_caabc, posterior_samples_ref, weights,\n",
    "                                          lengthscale=median_heuristic(posterior_samples_ref))\n",
    "    \n",
    "    print(\"MMD CA-ABC:\", mmd_caabc_)\n",
    "        "
   ]
  },
  {
   "cell_type": "code",
   "execution_count": 137,
   "id": "5c09500a-4b51-4c51-915c-3fd4c3bc59db",
   "metadata": {},
   "outputs": [
    {
     "name": "stdout",
     "output_type": "stream",
     "text": [
      "419.7090780735016\n"
     ]
    }
   ],
   "source": [
    "start_time = time.time()\n",
    "xs_ca = np.vstack([model.sample(theta, m) for theta in thetas_ca])\n",
    "print(time.time()-start_time)"
   ]
  },
  {
   "cell_type": "code",
   "execution_count": 142,
   "id": "9f7b45d4-88da-47c3-bde4-6ebfa4d35034",
   "metadata": {},
   "outputs": [],
   "source": [
    "posterior_samples_caabc, indices = rejection_ABC(x_obs, thetas_ca, xs_ca, 4.0)\n",
    "posterior_samples_ref, _ = rejection_ABC(x_obs, thetas_ref, xs_ref, 4.0)\n",
    "mmd_caabc_ = MMD_weighted(posterior_samples_caabc, posterior_samples_ref, weights_ca[indices] / weights_ca[indices].sum(),\n",
    "                                          lengthscale=median_heuristic(posterior_samples_ref))"
   ]
  },
  {
   "cell_type": "code",
   "execution_count": 143,
   "id": "4ef9652b-6268-4a38-abb4-38dad477be55",
   "metadata": {},
   "outputs": [
    {
     "data": {
      "text/plain": [
       "0.008452184874395696"
      ]
     },
     "execution_count": 143,
     "metadata": {},
     "output_type": "execute_result"
    }
   ],
   "source": [
    "mmd_caabc_"
   ]
  },
  {
   "cell_type": "code",
   "execution_count": 145,
   "id": "b7fd4387-1194-43d1-9a72-889d240d314f",
   "metadata": {},
   "outputs": [
    {
     "data": {
      "image/png": "[encoded data removed]",
      "text/plain": [
       "<Figure size 432x288 with 1 Axes>"
      ]
     },
     "metadata": {
      "needs_background": "light"
     },
     "output_type": "display_data"
    }
   ],
   "source": [
    "i = 1\n",
    "plt.axvline(x=theta_obs[i], ls=\"--\", c=\"black\", label=\"True $\\\\theta$\")\n",
    "# sns.kdeplot(posterior_samples[:, i], color=\"red\", linewidth=2, linestyle=\"solid\", label=\"ABC\")\n",
    "sns.kdeplot(posterior_samples_caabc[:, i], color=\"blue\", linewidth=2, linestyle=\"solid\", label=\"CA-ABC\")\n",
    "sns.kdeplot(posterior_samples_ref[:, i], color=\"green\", linewidth=2, linestyle=\"solid\", label=\"ABC-REF\")\n",
    "\n",
    "plt.legend()\n",
    "plt.show()"
   ]
  },
  {
   "cell_type": "code",
   "execution_count": 34,
   "id": "8452ffa1-152d-4468-8c48-29a5ba79b047",
   "metadata": {},
   "outputs": [
    {
     "name": "stdout",
     "output_type": "stream",
     "text": [
      "3.600120544433594e-05\n"
     ]
    }
   ],
   "source": [
    "thetas = np.load(os.path.join(data_dir, f'cmpgm_thetas_dim10.npy'))\n",
    "start_time = time.time()\n",
    "# xs = np.vstack([model.sample(theta, m) for theta in thetas])\n",
    "print(time.time()-start_time)"
   ]
  },
  {
   "cell_type": "code",
   "execution_count": 35,
   "id": "56363c38-3d4f-4417-92f9-60f6daccebd3",
   "metadata": {},
   "outputs": [
    {
     "name": "stdout",
     "output_type": "stream",
     "text": [
      "0.012276789938521396\n"
     ]
    }
   ],
   "source": [
    "print(calc_acc_prob(cost_linear, alpha, beta, thetas_ca, theta_low, k_mixture[ind]).mean())"
   ]
  },
  {
   "cell_type": "code",
   "execution_count": 36,
   "id": "3c3cb6fb-a6b1-42a8-80bf-fe4cf9ebfbe8",
   "metadata": {},
   "outputs": [
    {
     "data": {
      "text/plain": [
       "905335.0662462141"
      ]
     },
     "execution_count": 36,
     "metadata": {},
     "output_type": "execute_result"
    }
   ],
   "source": [
    "thetas_ca.sum()"
   ]
  },
  {
   "cell_type": "code",
   "execution_count": 37,
   "id": "141b25b7-42d5-45f2-abb2-465e1c0ce993",
   "metadata": {},
   "outputs": [
    {
     "data": {
      "text/plain": [
       "999535.8991225484"
      ]
     },
     "execution_count": 37,
     "metadata": {},
     "output_type": "execute_result"
    }
   ],
   "source": [
    "thetas.sum()"
   ]
  },
  {
   "cell_type": "code",
   "execution_count": 269,
   "id": "801d59c6-5d3f-484a-b02b-7bd6fdfd4ca8",
   "metadata": {},
   "outputs": [
    {
     "name": "stdout",
     "output_type": "stream",
     "text": [
      "8.377501010894775\n"
     ]
    }
   ],
   "source": [
    "start_time = time.time()\n",
    "samples = model.sample(thetas_ca[1], num_samples=100000)\n",
    "elapsed_time = time.time() - start_time\n",
    "print(elapsed_time)"
   ]
  },
  {
   "cell_type": "code",
   "execution_count": 276,
   "id": "da38c3b3-c061-4092-9b56-3c0b5445d0c9",
   "metadata": {},
   "outputs": [
    {
     "name": "stdout",
     "output_type": "stream",
     "text": [
      "[0.00239308]\n"
     ]
    }
   ],
   "source": [
    "theta_values = np.array([5])\n",
    "theta_values = np.repeat(theta_values[:, np.newaxis], d, axis=1)\n",
    "\n",
    "print(calc_acc_prob(cost_linear, alpha, beta, theta_values, theta_low, k_mixture[ind]))"
   ]
  },
  {
   "cell_type": "code",
   "execution_count": 16,
   "id": "0c3060e1-2322-4a0d-b1fa-b4691bc3fefb",
   "metadata": {},
   "outputs": [
    {
     "name": "stderr",
     "output_type": "stream",
     "text": [
      "/var/folders/h_/4nmj4c_s4z3g9k27jvr24shm0000gp/T/ipykernel_12424/3482645943.py:9: FutureWarning: You are using `torch.load` with `weights_only=False` (the current default value), which uses the default pickle module implicitly. It is possible to construct malicious pickle data which will execute arbitrary code during unpickling (See https://github.com/pytorch/pytorch/blob/main/SECURITY.md#untrusted-models for more details). In a future release, the default value for `weights_only` will be flipped to `True`. This limits the functions that could be executed during unpickling. Arbitrary objects will no longer be allowed to be loaded via this mode unless they are explicitly allowlisted by the user via `torch.serialization.add_safe_globals`. We recommend you start setting `weights_only=True` for any use case where you don't have full control of the loaded file. Please open an issue on GitHub for any issues related to this experimental feature.\n",
      "  checkpoint = torch.load(checkpoint_path, map_location='cpu')\n"
     ]
    }
   ],
   "source": [
    "n_run = 10\n",
    "cost_abc = np.empty([n_run, 4])\n",
    "cost_caabc = np.empty([n_run, 4])\n",
    "mmd_abc = np.empty([n_run, 4])\n",
    "mmd_caabc = np.empty([n_run, 4])\n",
    "\n",
    "for i in range(n_run):\n",
    "    checkpoint_path = f\"sims/cmpgm/mixture/{i+1}/ckpt.tar\"\n",
    "    checkpoint = torch.load(checkpoint_path, map_location='cpu')\n",
    "\n",
    "    cost_abc[i] = checkpoint['cost_abc']\n",
    "    # cost_caabc[i] = checkpoint['cost_caabc']\n",
    "    \n",
    "    mmd_abc[i] = checkpoint['mmd_abc']\n",
    "    mmd_caabc[i] = checkpoint['mmd_caabc']\n",
    "\n",
    "cost_abc_mean = cost_abc.mean(axis=0)\n",
    "cost_abc_std = cost_abc.std(axis=0)\n",
    "\n",
    "cost_caabc_mean = cost_caabc.mean(axis=0)\n",
    "cost_caabc_std = cost_caabc.std(axis=0)\n",
    "\n",
    "mmd_abc_mean = mmd_abc.mean(axis=0)\n",
    "mmd_abc_std = mmd_abc.std(axis=0)\n",
    "\n",
    "mmd_caabc_mean = mmd_caabc.mean(axis=0)\n",
    "mmd_caabc_std = mmd_caabc.std(axis=0)\n",
    "    "
   ]
  },
  {
   "cell_type": "code",
   "execution_count": 29,
   "id": "b0cfb2fe-e7e9-452e-9efc-6f147830d8a4",
   "metadata": {},
   "outputs": [
    {
     "data": {
      "image/png": "[encoded data removed]",
      "text/plain": [
       "<Figure size 432x288 with 1 Axes>"
      ]
     },
     "metadata": {
      "needs_background": "light"
     },
     "output_type": "display_data"
    }
   ],
   "source": [
    "\n",
    "plt.plot(dims, mmd_abc_mean, label=\"ABC\")\n",
    "plt.plot(dims, mmd_caabc_mean, label=\"CA-ABC\")\n",
    "plt.fill_between(dims, mmd_abc_mean - mmd_abc_std, mmd_abc_mean + mmd_abc_std, alpha=0.2)\n",
    "plt.fill_between(dims, mmd_caabc_mean - mmd_caabc_std, mmd_caabc_mean + mmd_caabc_std, alpha=0.2)\n",
    "\n",
    "plt.ylim(0, 0.1)\n",
    "plt.xticks([4, 6, 8, 10])\n",
    "plt.xlabel(\"Dimension\")\n",
    "plt.ylabel(\"MMD\")\n",
    "plt.legend()\n",
    "plt.show()"
   ]
  }
 ],
 "metadata": {
  "kernelspec": {
   "display_name": "Python 3 (ipykernel)",
   "language": "python",
   "name": "python3"
  },
  "language_info": {
   "codemirror_mode": {
    "name": "ipython",
    "version": 3
   },
   "file_extension": ".py",
   "mimetype": "text/x-python",
   "name": "python",
   "nbconvert_exporter": "python",
   "pygments_lexer": "ipython3",
   "version": "3.9.12"
  }
 },
 "nbformat": 4,
 "nbformat_minor": 5
}
